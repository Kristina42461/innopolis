{
  "nbformat": 4,
  "nbformat_minor": 0,
  "metadata": {
    "colab": {
      "provenance": []
    },
    "kernelspec": {
      "name": "python3",
      "display_name": "Python 3"
    },
    "language_info": {
      "name": "python"
    },
    "widgets": {
      "application/vnd.jupyter.widget-state+json": {
        "1494072425a54aa1938b0e7562e53f8c": {
          "model_module": "catboost-widget",
          "model_name": "CatboostWidgetModel",
          "model_module_version": "^1.0.0",
          "state": {
            "_dom_classes": [],
            "_model_module": "catboost-widget",
            "_model_module_version": "^1.0.0",
            "_model_name": "CatboostWidgetModel",
            "_view_count": null,
            "_view_module": "catboost-widget",
            "_view_module_version": "^1.0.0",
            "_view_name": "CatboostWidgetView",
            "data": {
              "catboost_info": {
                "path": "catboost_info",
                "name": "catboost_info",
                "content": {
                  "passed_iterations": 999,
                  "total_iterations": 1000,
                  "data": {
                    "iterations": [
                      {
                        "learn": [
                          1.749206515
                        ],
                        "iteration": 0,
                        "passed_time": 0.2675001374,
                        "remaining_time": 267.2326373
                      },
                      {
                        "learn": [
                          1.594924272
                        ],
                        "iteration": 1,
                        "passed_time": 0.4554287081,
                        "remaining_time": 227.2589253
                      },
                      {
                        "learn": [
                          1.483833531
                        ],
                        "iteration": 2,
                        "passed_time": 0.6479810926,
                        "remaining_time": 215.3457164
                      },
                      {
                        "learn": [
                          1.394995045
                        ],
                        "iteration": 3,
                        "passed_time": 0.8475933983,
                        "remaining_time": 211.0507562
                      },
                      {
                        "learn": [
                          1.319529629
                        ],
                        "iteration": 4,
                        "passed_time": 1.044061367,
                        "remaining_time": 207.7682121
                      },
                      {
                        "learn": [
                          1.261928684
                        ],
                        "iteration": 5,
                        "passed_time": 1.169147298,
                        "remaining_time": 193.6887356
                      },
                      {
                        "learn": [
                          1.199408794
                        ],
                        "iteration": 6,
                        "passed_time": 1.269532118,
                        "remaining_time": 180.092199
                      },
                      {
                        "learn": [
                          1.138196085
                        ],
                        "iteration": 7,
                        "passed_time": 1.37309912,
                        "remaining_time": 170.2642909
                      },
                      {
                        "learn": [
                          1.091918911
                        ],
                        "iteration": 8,
                        "passed_time": 1.470720498,
                        "remaining_time": 161.9426682
                      },
                      {
                        "learn": [
                          1.044311391
                        ],
                        "iteration": 9,
                        "passed_time": 1.576710635,
                        "remaining_time": 156.0943529
                      },
                      {
                        "learn": [
                          1.001187186
                        ],
                        "iteration": 10,
                        "passed_time": 1.67569455,
                        "remaining_time": 150.6601736
                      },
                      {
                        "learn": [
                          0.9586400983
                        ],
                        "iteration": 11,
                        "passed_time": 1.775814802,
                        "remaining_time": 146.2087521
                      },
                      {
                        "learn": [
                          0.9184674426
                        ],
                        "iteration": 12,
                        "passed_time": 1.876971428,
                        "remaining_time": 142.5054461
                      },
                      {
                        "learn": [
                          0.8846588337
                        ],
                        "iteration": 13,
                        "passed_time": 1.990351828,
                        "remaining_time": 140.1776359
                      },
                      {
                        "learn": [
                          0.8548341133
                        ],
                        "iteration": 14,
                        "passed_time": 2.088845729,
                        "remaining_time": 137.1675362
                      },
                      {
                        "learn": [
                          0.8273224599
                        ],
                        "iteration": 15,
                        "passed_time": 2.188066533,
                        "remaining_time": 134.5660918
                      },
                      {
                        "learn": [
                          0.7988185079
                        ],
                        "iteration": 16,
                        "passed_time": 2.284258941,
                        "remaining_time": 132.083914
                      },
                      {
                        "learn": [
                          0.77053786
                        ],
                        "iteration": 17,
                        "passed_time": 2.385343847,
                        "remaining_time": 130.1337588
                      },
                      {
                        "learn": [
                          0.7442927619
                        ],
                        "iteration": 18,
                        "passed_time": 2.487081016,
                        "remaining_time": 128.4119198
                      },
                      {
                        "learn": [
                          0.723714463
                        ],
                        "iteration": 19,
                        "passed_time": 2.594350955,
                        "remaining_time": 127.1231968
                      },
                      {
                        "learn": [
                          0.7007417711
                        ],
                        "iteration": 20,
                        "passed_time": 2.697572438,
                        "remaining_time": 125.758258
                      },
                      {
                        "learn": [
                          0.6776374598
                        ],
                        "iteration": 21,
                        "passed_time": 2.794246598,
                        "remaining_time": 124.2169624
                      },
                      {
                        "learn": [
                          0.658863675
                        ],
                        "iteration": 22,
                        "passed_time": 2.891564249,
                        "remaining_time": 122.8286205
                      },
                      {
                        "learn": [
                          0.6421207047
                        ],
                        "iteration": 23,
                        "passed_time": 2.998050077,
                        "remaining_time": 121.9207031
                      },
                      {
                        "learn": [
                          0.6247945655
                        ],
                        "iteration": 24,
                        "passed_time": 3.09209306,
                        "remaining_time": 120.5916294
                      },
                      {
                        "learn": [
                          0.607486579
                        ],
                        "iteration": 25,
                        "passed_time": 3.193398795,
                        "remaining_time": 119.6296318
                      },
                      {
                        "learn": [
                          0.5927279546
                        ],
                        "iteration": 26,
                        "passed_time": 3.292047292,
                        "remaining_time": 118.6356302
                      },
                      {
                        "learn": [
                          0.5770304334
                        ],
                        "iteration": 27,
                        "passed_time": 3.392885789,
                        "remaining_time": 117.7816067
                      },
                      {
                        "learn": [
                          0.5630472799
                        ],
                        "iteration": 28,
                        "passed_time": 3.491883735,
                        "remaining_time": 116.9179002
                      },
                      {
                        "learn": [
                          0.550555629
                        ],
                        "iteration": 29,
                        "passed_time": 3.60079842,
                        "remaining_time": 116.4258156
                      },
                      {
                        "learn": [
                          0.5386039224
                        ],
                        "iteration": 30,
                        "passed_time": 3.698846476,
                        "remaining_time": 115.6187818
                      },
                      {
                        "learn": [
                          0.5255104458
                        ],
                        "iteration": 31,
                        "passed_time": 3.798509155,
                        "remaining_time": 114.9049019
                      },
                      {
                        "learn": [
                          0.5149145654
                        ],
                        "iteration": 32,
                        "passed_time": 3.896961794,
                        "remaining_time": 114.1927895
                      },
                      {
                        "learn": [
                          0.5041931158
                        ],
                        "iteration": 33,
                        "passed_time": 3.999545842,
                        "remaining_time": 113.6341554
                      },
                      {
                        "learn": [
                          0.4929831797
                        ],
                        "iteration": 34,
                        "passed_time": 4.096659593,
                        "remaining_time": 112.9507573
                      },
                      {
                        "learn": [
                          0.4829211002
                        ],
                        "iteration": 35,
                        "passed_time": 4.195850683,
                        "remaining_time": 112.3555572
                      },
                      {
                        "learn": [
                          0.4719839862
                        ],
                        "iteration": 36,
                        "passed_time": 4.294005734,
                        "remaining_time": 111.7602033
                      },
                      {
                        "learn": [
                          0.4639405177
                        ],
                        "iteration": 37,
                        "passed_time": 4.391028672,
                        "remaining_time": 111.1623574
                      },
                      {
                        "learn": [
                          0.4545519451
                        ],
                        "iteration": 38,
                        "passed_time": 4.490297312,
                        "remaining_time": 110.6455312
                      },
                      {
                        "learn": [
                          0.4464619911
                        ],
                        "iteration": 39,
                        "passed_time": 4.598422955,
                        "remaining_time": 110.3621509
                      },
                      {
                        "learn": [
                          0.4387954818
                        ],
                        "iteration": 40,
                        "passed_time": 4.699119281,
                        "remaining_time": 109.9135461
                      },
                      {
                        "learn": [
                          0.4308821949
                        ],
                        "iteration": 41,
                        "passed_time": 4.801267782,
                        "remaining_time": 109.5146318
                      },
                      {
                        "learn": [
                          0.4236096336
                        ],
                        "iteration": 42,
                        "passed_time": 4.89841288,
                        "remaining_time": 109.0181657
                      },
                      {
                        "learn": [
                          0.4162186588
                        ],
                        "iteration": 43,
                        "passed_time": 5.003651805,
                        "remaining_time": 108.7157074
                      },
                      {
                        "learn": [
                          0.4095127729
                        ],
                        "iteration": 44,
                        "passed_time": 5.105339945,
                        "remaining_time": 108.3466588
                      },
                      {
                        "learn": [
                          0.4042250223
                        ],
                        "iteration": 45,
                        "passed_time": 5.205230595,
                        "remaining_time": 107.9519563
                      },
                      {
                        "learn": [
                          0.3979250185
                        ],
                        "iteration": 46,
                        "passed_time": 5.305363362,
                        "remaining_time": 107.5747082
                      },
                      {
                        "learn": [
                          0.3921815239
                        ],
                        "iteration": 47,
                        "passed_time": 5.404406953,
                        "remaining_time": 107.1874046
                      },
                      {
                        "learn": [
                          0.3863650125
                        ],
                        "iteration": 48,
                        "passed_time": 5.503653686,
                        "remaining_time": 106.8158093
                      },
                      {
                        "learn": [
                          0.3816397176
                        ],
                        "iteration": 49,
                        "passed_time": 5.60641277,
                        "remaining_time": 106.5218426
                      },
                      {
                        "learn": [
                          0.3763653283
                        ],
                        "iteration": 50,
                        "passed_time": 5.712337326,
                        "remaining_time": 106.2942769
                      },
                      {
                        "learn": [
                          0.3708768851
                        ],
                        "iteration": 51,
                        "passed_time": 5.807579571,
                        "remaining_time": 105.876643
                      },
                      {
                        "learn": [
                          0.3662537338
                        ],
                        "iteration": 52,
                        "passed_time": 5.906056147,
                        "remaining_time": 105.5289655
                      },
                      {
                        "learn": [
                          0.3607779604
                        ],
                        "iteration": 53,
                        "passed_time": 6.013424296,
                        "remaining_time": 105.3462849
                      },
                      {
                        "learn": [
                          0.3567580356
                        ],
                        "iteration": 54,
                        "passed_time": 6.113306507,
                        "remaining_time": 105.0377209
                      },
                      {
                        "learn": [
                          0.3514406776
                        ],
                        "iteration": 55,
                        "passed_time": 6.221741127,
                        "remaining_time": 104.880779
                      },
                      {
                        "learn": [
                          0.3471898512
                        ],
                        "iteration": 56,
                        "passed_time": 6.321158526,
                        "remaining_time": 104.5763595
                      },
                      {
                        "learn": [
                          0.342132495
                        ],
                        "iteration": 57,
                        "passed_time": 6.420034901,
                        "remaining_time": 104.270222
                      },
                      {
                        "learn": [
                          0.3372445389
                        ],
                        "iteration": 58,
                        "passed_time": 6.519202456,
                        "remaining_time": 103.9757544
                      },
                      {
                        "learn": [
                          0.3323559228
                        ],
                        "iteration": 59,
                        "passed_time": 6.622541348,
                        "remaining_time": 103.7531478
                      },
                      {
                        "learn": [
                          0.3293910144
                        ],
                        "iteration": 60,
                        "passed_time": 6.726939484,
                        "remaining_time": 103.550757
                      },
                      {
                        "learn": [
                          0.3266653978
                        ],
                        "iteration": 61,
                        "passed_time": 6.825127498,
                        "remaining_time": 103.2575741
                      },
                      {
                        "learn": [
                          0.3220806947
                        ],
                        "iteration": 62,
                        "passed_time": 6.921251253,
                        "remaining_time": 102.9398797
                      },
                      {
                        "learn": [
                          0.3179559359
                        ],
                        "iteration": 63,
                        "passed_time": 7.025398444,
                        "remaining_time": 102.7464522
                      },
                      {
                        "learn": [
                          0.3142526597
                        ],
                        "iteration": 64,
                        "passed_time": 7.123740407,
                        "remaining_time": 102.4722659
                      },
                      {
                        "learn": [
                          0.3112620618
                        ],
                        "iteration": 65,
                        "passed_time": 7.222013386,
                        "remaining_time": 102.2024319
                      },
                      {
                        "learn": [
                          0.3072835878
                        ],
                        "iteration": 66,
                        "passed_time": 7.324140394,
                        "remaining_time": 101.9913879
                      },
                      {
                        "learn": [
                          0.3036141078
                        ],
                        "iteration": 67,
                        "passed_time": 7.427063592,
                        "remaining_time": 101.7944598
                      },
                      {
                        "learn": [
                          0.2995040439
                        ],
                        "iteration": 68,
                        "passed_time": 7.524144757,
                        "remaining_time": 101.5214314
                      },
                      {
                        "learn": [
                          0.296658645
                        ],
                        "iteration": 69,
                        "passed_time": 7.62183337,
                        "remaining_time": 101.2615005
                      },
                      {
                        "learn": [
                          0.2942868826
                        ],
                        "iteration": 70,
                        "passed_time": 7.732125029,
                        "remaining_time": 101.1710444
                      },
                      {
                        "learn": [
                          0.2905184987
                        ],
                        "iteration": 71,
                        "passed_time": 7.827249001,
                        "remaining_time": 100.8845427
                      },
                      {
                        "learn": [
                          0.2879587431
                        ],
                        "iteration": 72,
                        "passed_time": 7.922920432,
                        "remaining_time": 100.6102362
                      },
                      {
                        "learn": [
                          0.2855722628
                        ],
                        "iteration": 73,
                        "passed_time": 8.028585237,
                        "remaining_time": 100.4658099
                      },
                      {
                        "learn": [
                          0.28323756
                        ],
                        "iteration": 74,
                        "passed_time": 8.12430976,
                        "remaining_time": 100.1998204
                      },
                      {
                        "learn": [
                          0.2812285195
                        ],
                        "iteration": 75,
                        "passed_time": 8.225307209,
                        "remaining_time": 100.0024192
                      },
                      {
                        "learn": [
                          0.2786029503
                        ],
                        "iteration": 76,
                        "passed_time": 8.323805396,
                        "remaining_time": 99.77756338
                      },
                      {
                        "learn": [
                          0.2753582273
                        ],
                        "iteration": 77,
                        "passed_time": 8.422182537,
                        "remaining_time": 99.55451665
                      },
                      {
                        "learn": [
                          0.2722271461
                        ],
                        "iteration": 78,
                        "passed_time": 8.52058171,
                        "remaining_time": 99.33488297
                      },
                      {
                        "learn": [
                          0.269340801
                        ],
                        "iteration": 79,
                        "passed_time": 8.617881465,
                        "remaining_time": 99.10563685
                      },
                      {
                        "learn": [
                          0.2671311488
                        ],
                        "iteration": 80,
                        "passed_time": 8.727794452,
                        "remaining_time": 99.02275434
                      },
                      {
                        "learn": [
                          0.2647837929
                        ],
                        "iteration": 81,
                        "passed_time": 8.822691559,
                        "remaining_time": 98.77110794
                      },
                      {
                        "learn": [
                          0.2616448684
                        ],
                        "iteration": 82,
                        "passed_time": 8.919546643,
                        "remaining_time": 98.54487074
                      },
                      {
                        "learn": [
                          0.2590678513
                        ],
                        "iteration": 83,
                        "passed_time": 9.028457625,
                        "remaining_time": 98.45318077
                      },
                      {
                        "learn": [
                          0.2570333907
                        ],
                        "iteration": 84,
                        "passed_time": 9.128157178,
                        "remaining_time": 98.26192727
                      },
                      {
                        "learn": [
                          0.2547562079
                        ],
                        "iteration": 85,
                        "passed_time": 9.232158379,
                        "remaining_time": 98.11852044
                      },
                      {
                        "learn": [
                          0.2516348256
                        ],
                        "iteration": 86,
                        "passed_time": 9.333641366,
                        "remaining_time": 97.94959272
                      },
                      {
                        "learn": [
                          0.2492165762
                        ],
                        "iteration": 87,
                        "passed_time": 9.432996531,
                        "remaining_time": 97.76014587
                      },
                      {
                        "learn": [
                          0.2468367052
                        ],
                        "iteration": 88,
                        "passed_time": 9.528272816,
                        "remaining_time": 97.53097231
                      },
                      {
                        "learn": [
                          0.2448289052
                        ],
                        "iteration": 89,
                        "passed_time": 9.627065762,
                        "remaining_time": 97.34033159
                      },
                      {
                        "learn": [
                          0.24258028
                        ],
                        "iteration": 90,
                        "passed_time": 9.738193031,
                        "remaining_time": 97.2749172
                      },
                      {
                        "learn": [
                          0.2400310502
                        ],
                        "iteration": 91,
                        "passed_time": 9.837037266,
                        "remaining_time": 97.08728084
                      },
                      {
                        "learn": [
                          0.2374209267
                        ],
                        "iteration": 92,
                        "passed_time": 9.934247966,
                        "remaining_time": 96.88562264
                      },
                      {
                        "learn": [
                          0.236037226
                        ],
                        "iteration": 93,
                        "passed_time": 10.04458587,
                        "remaining_time": 96.81271057
                      },
                      {
                        "learn": [
                          0.234485775
                        ],
                        "iteration": 94,
                        "passed_time": 10.14498754,
                        "remaining_time": 96.64435494
                      },
                      {
                        "learn": [
                          0.2331514686
                        ],
                        "iteration": 95,
                        "passed_time": 10.24824851,
                        "remaining_time": 96.50434018
                      },
                      {
                        "learn": [
                          0.2315695354
                        ],
                        "iteration": 96,
                        "passed_time": 10.34638286,
                        "remaining_time": 96.31735794
                      },
                      {
                        "learn": [
                          0.2295559966
                        ],
                        "iteration": 97,
                        "passed_time": 10.45130829,
                        "remaining_time": 96.1946947
                      },
                      {
                        "learn": [
                          0.2279650688
                        ],
                        "iteration": 98,
                        "passed_time": 10.54917058,
                        "remaining_time": 96.00810803
                      },
                      {
                        "learn": [
                          0.2261986838
                        ],
                        "iteration": 99,
                        "passed_time": 10.65079218,
                        "remaining_time": 95.85712964
                      },
                      {
                        "learn": [
                          0.2240068498
                        ],
                        "iteration": 100,
                        "passed_time": 10.76061618,
                        "remaining_time": 95.78013808
                      },
                      {
                        "learn": [
                          0.2227204542
                        ],
                        "iteration": 101,
                        "passed_time": 10.85660003,
                        "remaining_time": 95.58065516
                      },
                      {
                        "learn": [
                          0.2217544881
                        ],
                        "iteration": 102,
                        "passed_time": 10.95365257,
                        "remaining_time": 95.39248891
                      },
                      {
                        "learn": [
                          0.219567106
                        ],
                        "iteration": 103,
                        "passed_time": 11.0658526,
                        "remaining_time": 95.33657628
                      },
                      {
                        "learn": [
                          0.2178726802
                        ],
                        "iteration": 104,
                        "passed_time": 11.15981248,
                        "remaining_time": 95.1241159
                      },
                      {
                        "learn": [
                          0.215909129
                        ],
                        "iteration": 105,
                        "passed_time": 11.26124506,
                        "remaining_time": 94.97691589
                      },
                      {
                        "learn": [
                          0.2138213966
                        ],
                        "iteration": 106,
                        "passed_time": 11.36417678,
                        "remaining_time": 94.84308287
                      },
                      {
                        "learn": [
                          0.2119765237
                        ],
                        "iteration": 107,
                        "passed_time": 11.46789087,
                        "remaining_time": 94.71628387
                      },
                      {
                        "learn": [
                          0.2111198757
                        ],
                        "iteration": 108,
                        "passed_time": 11.56342149,
                        "remaining_time": 94.52301423
                      },
                      {
                        "learn": [
                          0.2096811078
                        ],
                        "iteration": 109,
                        "passed_time": 11.66203459,
                        "remaining_time": 94.35646171
                      },
                      {
                        "learn": [
                          0.2084556063
                        ],
                        "iteration": 110,
                        "passed_time": 11.76207868,
                        "remaining_time": 94.20259415
                      },
                      {
                        "learn": [
                          0.2065258509
                        ],
                        "iteration": 111,
                        "passed_time": 11.86620575,
                        "remaining_time": 94.08205984
                      },
                      {
                        "learn": [
                          0.2053199699
                        ],
                        "iteration": 112,
                        "passed_time": 11.96197414,
                        "remaining_time": 93.8962041
                      },
                      {
                        "learn": [
                          0.2040801706
                        ],
                        "iteration": 113,
                        "passed_time": 12.07120433,
                        "remaining_time": 93.81655294
                      },
                      {
                        "learn": [
                          0.2026718191
                        ],
                        "iteration": 114,
                        "passed_time": 12.16683988,
                        "remaining_time": 93.63176781
                      },
                      {
                        "learn": [
                          0.2018053443
                        ],
                        "iteration": 115,
                        "passed_time": 12.26779706,
                        "remaining_time": 93.48907416
                      },
                      {
                        "learn": [
                          0.200507381
                        ],
                        "iteration": 116,
                        "passed_time": 12.3656409,
                        "remaining_time": 93.32359758
                      },
                      {
                        "learn": [
                          0.1988551718
                        ],
                        "iteration": 117,
                        "passed_time": 12.46384873,
                        "remaining_time": 93.16198793
                      },
                      {
                        "learn": [
                          0.1980200016
                        ],
                        "iteration": 118,
                        "passed_time": 12.55754789,
                        "remaining_time": 92.96806464
                      },
                      {
                        "learn": [
                          0.1961618827
                        ],
                        "iteration": 119,
                        "passed_time": 12.65825563,
                        "remaining_time": 92.82720792
                      },
                      {
                        "learn": [
                          0.194750336
                        ],
                        "iteration": 120,
                        "passed_time": 12.75631018,
                        "remaining_time": 92.66774087
                      },
                      {
                        "learn": [
                          0.1931351615
                        ],
                        "iteration": 121,
                        "passed_time": 12.86848791,
                        "remaining_time": 92.61092119
                      },
                      {
                        "learn": [
                          0.1922672111
                        ],
                        "iteration": 122,
                        "passed_time": 12.96426827,
                        "remaining_time": 92.4362868
                      },
                      {
                        "learn": [
                          0.1911503067
                        ],
                        "iteration": 123,
                        "passed_time": 13.07194246,
                        "remaining_time": 92.34694835
                      },
                      {
                        "learn": [
                          0.1897015645
                        ],
                        "iteration": 124,
                        "passed_time": 13.17478395,
                        "remaining_time": 92.22348762
                      },
                      {
                        "learn": [
                          0.1886678785
                        ],
                        "iteration": 125,
                        "passed_time": 13.27484982,
                        "remaining_time": 92.08110111
                      },
                      {
                        "learn": [
                          0.1879046302
                        ],
                        "iteration": 126,
                        "passed_time": 13.37153728,
                        "remaining_time": 91.91615784
                      },
                      {
                        "learn": [
                          0.186576729
                        ],
                        "iteration": 127,
                        "passed_time": 13.47157453,
                        "remaining_time": 91.77510148
                      },
                      {
                        "learn": [
                          0.1851587908
                        ],
                        "iteration": 128,
                        "passed_time": 13.57208567,
                        "remaining_time": 91.63788073
                      },
                      {
                        "learn": [
                          0.1836397711
                        ],
                        "iteration": 129,
                        "passed_time": 13.69562113,
                        "remaining_time": 91.65531061
                      },
                      {
                        "learn": [
                          0.1826597966
                        ],
                        "iteration": 130,
                        "passed_time": 13.79296928,
                        "remaining_time": 91.49687255
                      },
                      {
                        "learn": [
                          0.1819885749
                        ],
                        "iteration": 131,
                        "passed_time": 14.04083617,
                        "remaining_time": 92.3291348
                      },
                      {
                        "learn": [
                          0.1806756635
                        ],
                        "iteration": 132,
                        "passed_time": 14.33157406,
                        "remaining_time": 93.42462186
                      },
                      {
                        "learn": [
                          0.1790216995
                        ],
                        "iteration": 133,
                        "passed_time": 14.50902759,
                        "remaining_time": 93.76729773
                      },
                      {
                        "learn": [
                          0.177864958
                        ],
                        "iteration": 134,
                        "passed_time": 14.60707875,
                        "remaining_time": 93.59350459
                      },
                      {
                        "learn": [
                          0.1771293839
                        ],
                        "iteration": 135,
                        "passed_time": 14.70436772,
                        "remaining_time": 93.41598315
                      },
                      {
                        "learn": [
                          0.175957808
                        ],
                        "iteration": 136,
                        "passed_time": 14.80392192,
                        "remaining_time": 93.25390228
                      },
                      {
                        "learn": [
                          0.1749013212
                        ],
                        "iteration": 137,
                        "passed_time": 14.91507026,
                        "remaining_time": 93.16514902
                      },
                      {
                        "learn": [
                          0.1740213774
                        ],
                        "iteration": 138,
                        "passed_time": 15.01241625,
                        "remaining_time": 92.99057835
                      },
                      {
                        "learn": [
                          0.1733194106
                        ],
                        "iteration": 139,
                        "passed_time": 15.12070758,
                        "remaining_time": 92.88434658
                      },
                      {
                        "learn": [
                          0.1729605655
                        ],
                        "iteration": 140,
                        "passed_time": 15.21816735,
                        "remaining_time": 92.71209752
                      },
                      {
                        "learn": [
                          0.1723067061
                        ],
                        "iteration": 141,
                        "passed_time": 15.31794739,
                        "remaining_time": 92.55492153
                      },
                      {
                        "learn": [
                          0.1716513982
                        ],
                        "iteration": 142,
                        "passed_time": 15.41792506,
                        "remaining_time": 92.3997327
                      },
                      {
                        "learn": [
                          0.171296594
                        ],
                        "iteration": 143,
                        "passed_time": 15.51591966,
                        "remaining_time": 92.23352241
                      },
                      {
                        "learn": [
                          0.1703537539
                        ],
                        "iteration": 144,
                        "passed_time": 15.61304208,
                        "remaining_time": 92.06311018
                      },
                      {
                        "learn": [
                          0.1692447772
                        ],
                        "iteration": 145,
                        "passed_time": 15.71445438,
                        "remaining_time": 91.91879481
                      },
                      {
                        "learn": [
                          0.1681509218
                        ],
                        "iteration": 146,
                        "passed_time": 15.81534031,
                        "remaining_time": 91.77200876
                      },
                      {
                        "learn": [
                          0.1673542841
                        ],
                        "iteration": 147,
                        "passed_time": 15.92763437,
                        "remaining_time": 91.69151676
                      },
                      {
                        "learn": [
                          0.1670731549
                        ],
                        "iteration": 148,
                        "passed_time": 16.02166642,
                        "remaining_time": 91.50629611
                      },
                      {
                        "learn": [
                          0.1660680818
                        ],
                        "iteration": 149,
                        "passed_time": 16.12990868,
                        "remaining_time": 91.40281586
                      },
                      {
                        "learn": [
                          0.1657722696
                        ],
                        "iteration": 150,
                        "passed_time": 16.22600129,
                        "remaining_time": 91.23096087
                      },
                      {
                        "learn": [
                          0.165255939
                        ],
                        "iteration": 151,
                        "passed_time": 16.32157356,
                        "remaining_time": 91.05719988
                      },
                      {
                        "learn": [
                          0.1644833707
                        ],
                        "iteration": 152,
                        "passed_time": 16.42147537,
                        "remaining_time": 90.908429
                      },
                      {
                        "learn": [
                          0.1638452784
                        ],
                        "iteration": 153,
                        "passed_time": 16.51961288,
                        "remaining_time": 90.75060061
                      },
                      {
                        "learn": [
                          0.1631028854
                        ],
                        "iteration": 154,
                        "passed_time": 16.61613389,
                        "remaining_time": 90.58472993
                      },
                      {
                        "learn": [
                          0.1624849289
                        ],
                        "iteration": 155,
                        "passed_time": 16.71179502,
                        "remaining_time": 90.41509615
                      },
                      {
                        "learn": [
                          0.1618698734
                        ],
                        "iteration": 156,
                        "passed_time": 16.80788441,
                        "remaining_time": 90.24870419
                      },
                      {
                        "learn": [
                          0.1614004778
                        ],
                        "iteration": 157,
                        "passed_time": 16.91346953,
                        "remaining_time": 90.13380598
                      },
                      {
                        "learn": [
                          0.1605731081
                        ],
                        "iteration": 158,
                        "passed_time": 17.0129786,
                        "remaining_time": 89.98688682
                      },
                      {
                        "learn": [
                          0.1601680746
                        ],
                        "iteration": 159,
                        "passed_time": 17.12117582,
                        "remaining_time": 89.88617306
                      },
                      {
                        "learn": [
                          0.1597036576
                        ],
                        "iteration": 160,
                        "passed_time": 17.21983101,
                        "remaining_time": 89.7356411
                      },
                      {
                        "learn": [
                          0.1595470261
                        ],
                        "iteration": 161,
                        "passed_time": 17.32243189,
                        "remaining_time": 89.60616001
                      },
                      {
                        "learn": [
                          0.1591118682
                        ],
                        "iteration": 162,
                        "passed_time": 17.42240477,
                        "remaining_time": 89.46351406
                      },
                      {
                        "learn": [
                          0.1586213048
                        ],
                        "iteration": 163,
                        "passed_time": 17.51865675,
                        "remaining_time": 89.302421
                      },
                      {
                        "learn": [
                          0.1584432016
                        ],
                        "iteration": 164,
                        "passed_time": 17.61590432,
                        "remaining_time": 89.14715218
                      },
                      {
                        "learn": [
                          0.1576546887
                        ],
                        "iteration": 165,
                        "passed_time": 17.71431256,
                        "remaining_time": 88.9984137
                      },
                      {
                        "learn": [
                          0.1566545289
                        ],
                        "iteration": 166,
                        "passed_time": 17.81353784,
                        "remaining_time": 88.85435341
                      },
                      {
                        "learn": [
                          0.1559294189
                        ],
                        "iteration": 167,
                        "passed_time": 17.92074315,
                        "remaining_time": 88.75034701
                      },
                      {
                        "learn": [
                          0.1554962251
                        ],
                        "iteration": 168,
                        "passed_time": 18.02269631,
                        "remaining_time": 88.62047714
                      },
                      {
                        "learn": [
                          0.1548469043
                        ],
                        "iteration": 169,
                        "passed_time": 18.1326299,
                        "remaining_time": 88.52989893
                      },
                      {
                        "learn": [
                          0.1542796784
                        ],
                        "iteration": 170,
                        "passed_time": 18.23160509,
                        "remaining_time": 88.38596854
                      },
                      {
                        "learn": [
                          0.153934757
                        ],
                        "iteration": 171,
                        "passed_time": 18.33086838,
                        "remaining_time": 88.24394777
                      },
                      {
                        "learn": [
                          0.1533161281
                        ],
                        "iteration": 172,
                        "passed_time": 18.43476606,
                        "remaining_time": 88.12457535
                      },
                      {
                        "learn": [
                          0.1528063878
                        ],
                        "iteration": 173,
                        "passed_time": 18.5339143,
                        "remaining_time": 87.98283453
                      },
                      {
                        "learn": [
                          0.1520864962
                        ],
                        "iteration": 174,
                        "passed_time": 18.63623137,
                        "remaining_time": 87.85651932
                      },
                      {
                        "learn": [
                          0.1512532232
                        ],
                        "iteration": 175,
                        "passed_time": 18.73143576,
                        "remaining_time": 87.6971765
                      },
                      {
                        "learn": [
                          0.1507816966
                        ],
                        "iteration": 176,
                        "passed_time": 18.82922783,
                        "remaining_time": 87.55059041
                      },
                      {
                        "learn": [
                          0.1501132564
                        ],
                        "iteration": 177,
                        "passed_time": 18.92644146,
                        "remaining_time": 87.40188133
                      },
                      {
                        "learn": [
                          0.1497168
                        ],
                        "iteration": 178,
                        "passed_time": 19.0341967,
                        "remaining_time": 87.3020977
                      },
                      {
                        "learn": [
                          0.1495344908
                        ],
                        "iteration": 179,
                        "passed_time": 19.14526349,
                        "remaining_time": 87.21731146
                      },
                      {
                        "learn": [
                          0.1491924799
                        ],
                        "iteration": 180,
                        "passed_time": 19.23869785,
                        "remaining_time": 87.05245049
                      },
                      {
                        "learn": [
                          0.1485587023
                        ],
                        "iteration": 181,
                        "passed_time": 19.3346882,
                        "remaining_time": 86.89986235
                      },
                      {
                        "learn": [
                          0.148147392
                        ],
                        "iteration": 182,
                        "passed_time": 19.43438324,
                        "remaining_time": 86.7644323
                      },
                      {
                        "learn": [
                          0.1479105141
                        ],
                        "iteration": 183,
                        "passed_time": 19.53111253,
                        "remaining_time": 86.61623816
                      },
                      {
                        "learn": [
                          0.1472101919
                        ],
                        "iteration": 184,
                        "passed_time": 19.62593176,
                        "remaining_time": 86.46018587
                      },
                      {
                        "learn": [
                          0.1468965658
                        ],
                        "iteration": 185,
                        "passed_time": 19.72076606,
                        "remaining_time": 86.30485793
                      },
                      {
                        "learn": [
                          0.1456486342
                        ],
                        "iteration": 186,
                        "passed_time": 19.81796704,
                        "remaining_time": 86.16046635
                      },
                      {
                        "learn": [
                          0.1452301273
                        ],
                        "iteration": 187,
                        "passed_time": 19.91291576,
                        "remaining_time": 86.00684891
                      },
                      {
                        "learn": [
                          0.1450108369
                        ],
                        "iteration": 188,
                        "passed_time": 20.01934093,
                        "remaining_time": 85.90309785
                      },
                      {
                        "learn": [
                          0.1444080863
                        ],
                        "iteration": 189,
                        "passed_time": 20.11764004,
                        "remaining_time": 85.76467596
                      },
                      {
                        "learn": [
                          0.1438521389
                        ],
                        "iteration": 190,
                        "passed_time": 20.23256777,
                        "remaining_time": 85.69710643
                      },
                      {
                        "learn": [
                          0.1433756515
                        ],
                        "iteration": 191,
                        "passed_time": 20.3280159,
                        "remaining_time": 85.54706692
                      },
                      {
                        "learn": [
                          0.1431477281
                        ],
                        "iteration": 192,
                        "passed_time": 20.43123248,
                        "remaining_time": 85.43007571
                      },
                      {
                        "learn": [
                          0.1430199314
                        ],
                        "iteration": 193,
                        "passed_time": 20.52600154,
                        "remaining_time": 85.27813009
                      },
                      {
                        "learn": [
                          0.1427228114
                        ],
                        "iteration": 194,
                        "passed_time": 20.63096671,
                        "remaining_time": 85.16886257
                      },
                      {
                        "learn": [
                          0.1422970742
                        ],
                        "iteration": 195,
                        "passed_time": 20.72631858,
                        "remaining_time": 85.02020478
                      },
                      {
                        "learn": [
                          0.1417867981
                        ],
                        "iteration": 196,
                        "passed_time": 20.82070775,
                        "remaining_time": 84.86816409
                      },
                      {
                        "learn": [
                          0.1407353734
                        ],
                        "iteration": 197,
                        "passed_time": 20.92125777,
                        "remaining_time": 84.74166024
                      },
                      {
                        "learn": [
                          0.1402330062
                        ],
                        "iteration": 198,
                        "passed_time": 21.02875179,
                        "remaining_time": 84.64336776
                      },
                      {
                        "learn": [
                          0.1399821149
                        ],
                        "iteration": 199,
                        "passed_time": 21.12663695,
                        "remaining_time": 84.50654779
                      },
                      {
                        "learn": [
                          0.139519863
                        ],
                        "iteration": 200,
                        "passed_time": 21.24068332,
                        "remaining_time": 84.43435808
                      },
                      {
                        "learn": [
                          0.1392090688
                        ],
                        "iteration": 201,
                        "passed_time": 21.36574807,
                        "remaining_time": 84.40528196
                      },
                      {
                        "learn": [
                          0.1388733944
                        ],
                        "iteration": 202,
                        "passed_time": 21.50130229,
                        "remaining_time": 84.41644296
                      },
                      {
                        "learn": [
                          0.1381314016
                        ],
                        "iteration": 203,
                        "passed_time": 21.62114507,
                        "remaining_time": 84.36486018
                      },
                      {
                        "learn": [
                          0.1376405629
                        ],
                        "iteration": 204,
                        "passed_time": 21.74706688,
                        "remaining_time": 84.33618619
                      },
                      {
                        "learn": [
                          0.1374802444
                        ],
                        "iteration": 205,
                        "passed_time": 21.86229073,
                        "remaining_time": 84.26533419
                      },
                      {
                        "learn": [
                          0.1370446631
                        ],
                        "iteration": 206,
                        "passed_time": 21.97738145,
                        "remaining_time": 84.19354341
                      },
                      {
                        "learn": [
                          0.136779772
                        ],
                        "iteration": 207,
                        "passed_time": 22.10989657,
                        "remaining_time": 84.1876831
                      },
                      {
                        "learn": [
                          0.1364377332
                        ],
                        "iteration": 208,
                        "passed_time": 22.25516454,
                        "remaining_time": 84.22887634
                      },
                      {
                        "learn": [
                          0.136141576
                        ],
                        "iteration": 209,
                        "passed_time": 22.3703288,
                        "remaining_time": 84.15504644
                      },
                      {
                        "learn": [
                          0.1358026566
                        ],
                        "iteration": 210,
                        "passed_time": 22.49513627,
                        "remaining_time": 84.11688396
                      },
                      {
                        "learn": [
                          0.1355445132
                        ],
                        "iteration": 211,
                        "passed_time": 22.60986578,
                        "remaining_time": 84.04044452
                      },
                      {
                        "learn": [
                          0.1349244028
                        ],
                        "iteration": 212,
                        "passed_time": 22.72727577,
                        "remaining_time": 83.97354943
                      },
                      {
                        "learn": [
                          0.1342636376
                        ],
                        "iteration": 213,
                        "passed_time": 22.84518622,
                        "remaining_time": 83.90802042
                      },
                      {
                        "learn": [
                          0.1339845063
                        ],
                        "iteration": 214,
                        "passed_time": 22.95981657,
                        "remaining_time": 83.83002795
                      },
                      {
                        "learn": [
                          0.133673968
                        ],
                        "iteration": 215,
                        "passed_time": 23.08529786,
                        "remaining_time": 83.79108112
                      },
                      {
                        "learn": [
                          0.1327325921
                        ],
                        "iteration": 216,
                        "passed_time": 23.21896236,
                        "remaining_time": 83.78086417
                      },
                      {
                        "learn": [
                          0.1325278161
                        ],
                        "iteration": 217,
                        "passed_time": 23.33925503,
                        "remaining_time": 83.72154785
                      },
                      {
                        "learn": [
                          0.1318315201
                        ],
                        "iteration": 218,
                        "passed_time": 23.46130615,
                        "remaining_time": 83.66794567
                      },
                      {
                        "learn": [
                          0.1315864044
                        ],
                        "iteration": 219,
                        "passed_time": 23.58220397,
                        "remaining_time": 83.60963226
                      },
                      {
                        "learn": [
                          0.1310988404
                        ],
                        "iteration": 220,
                        "passed_time": 23.71102118,
                        "remaining_time": 83.57866742
                      },
                      {
                        "learn": [
                          0.1308876764
                        ],
                        "iteration": 221,
                        "passed_time": 23.83335701,
                        "remaining_time": 83.52410699
                      },
                      {
                        "learn": [
                          0.1304066887
                        ],
                        "iteration": 222,
                        "passed_time": 23.95239917,
                        "remaining_time": 83.45746259
                      },
                      {
                        "learn": [
                          0.1302194019
                        ],
                        "iteration": 223,
                        "passed_time": 24.07779414,
                        "remaining_time": 83.41235826
                      },
                      {
                        "learn": [
                          0.1299797613
                        ],
                        "iteration": 224,
                        "passed_time": 24.21387229,
                        "remaining_time": 83.40333788
                      },
                      {
                        "learn": [
                          0.1297862336
                        ],
                        "iteration": 225,
                        "passed_time": 24.35149689,
                        "remaining_time": 83.39848935
                      },
                      {
                        "learn": [
                          0.1293076429
                        ],
                        "iteration": 226,
                        "passed_time": 24.47017347,
                        "remaining_time": 83.32794754
                      },
                      {
                        "learn": [
                          0.1290628393
                        ],
                        "iteration": 227,
                        "passed_time": 24.58691408,
                        "remaining_time": 83.25042837
                      },
                      {
                        "learn": [
                          0.128881623
                        ],
                        "iteration": 228,
                        "passed_time": 24.70712336,
                        "remaining_time": 83.18424502
                      },
                      {
                        "learn": [
                          0.1285955156
                        ],
                        "iteration": 229,
                        "passed_time": 24.82279267,
                        "remaining_time": 83.10239285
                      },
                      {
                        "learn": [
                          0.1282259913
                        ],
                        "iteration": 230,
                        "passed_time": 24.93528057,
                        "remaining_time": 83.00965697
                      },
                      {
                        "learn": [
                          0.1280133518
                        ],
                        "iteration": 231,
                        "passed_time": 25.04448904,
                        "remaining_time": 82.90589476
                      },
                      {
                        "learn": [
                          0.1275964934
                        ],
                        "iteration": 232,
                        "passed_time": 25.21707786,
                        "remaining_time": 83.01072413
                      },
                      {
                        "learn": [
                          0.1271986756
                        ],
                        "iteration": 233,
                        "passed_time": 25.41519579,
                        "remaining_time": 83.19675204
                      },
                      {
                        "learn": [
                          0.1268777603
                        ],
                        "iteration": 234,
                        "passed_time": 25.55723632,
                        "remaining_time": 83.19696079
                      },
                      {
                        "learn": [
                          0.126490429
                        ],
                        "iteration": 235,
                        "passed_time": 25.70730324,
                        "remaining_time": 83.22194778
                      },
                      {
                        "learn": [
                          0.1261881667
                        ],
                        "iteration": 236,
                        "passed_time": 25.83974702,
                        "remaining_time": 83.18872143
                      },
                      {
                        "learn": [
                          0.1257821326
                        ],
                        "iteration": 237,
                        "passed_time": 25.97903078,
                        "remaining_time": 83.17656072
                      },
                      {
                        "learn": [
                          0.1254902875
                        ],
                        "iteration": 238,
                        "passed_time": 26.16193293,
                        "remaining_time": 83.30222159
                      },
                      {
                        "learn": [
                          0.1250799762
                        ],
                        "iteration": 239,
                        "passed_time": 26.3602372,
                        "remaining_time": 83.47408448
                      },
                      {
                        "learn": [
                          0.1247692447
                        ],
                        "iteration": 240,
                        "passed_time": 26.51713499,
                        "remaining_time": 83.51247077
                      },
                      {
                        "learn": [
                          0.1245128393
                        ],
                        "iteration": 241,
                        "passed_time": 26.6778709,
                        "remaining_time": 83.56126506
                      },
                      {
                        "learn": [
                          0.1243607471
                        ],
                        "iteration": 242,
                        "passed_time": 26.8416074,
                        "remaining_time": 83.61768231
                      },
                      {
                        "learn": [
                          0.1239166066
                        ],
                        "iteration": 243,
                        "passed_time": 27.02194197,
                        "remaining_time": 83.72372184
                      },
                      {
                        "learn": [
                          0.1236028034
                        ],
                        "iteration": 244,
                        "passed_time": 27.17480055,
                        "remaining_time": 83.74275273
                      },
                      {
                        "learn": [
                          0.123470736
                        ],
                        "iteration": 245,
                        "passed_time": 27.38969942,
                        "remaining_time": 83.95054213
                      },
                      {
                        "learn": [
                          0.1230338172
                        ],
                        "iteration": 246,
                        "passed_time": 27.49088258,
                        "remaining_time": 83.80823717
                      },
                      {
                        "learn": [
                          0.1226120237
                        ],
                        "iteration": 247,
                        "passed_time": 27.58943732,
                        "remaining_time": 83.65829381
                      },
                      {
                        "learn": [
                          0.1224759328
                        ],
                        "iteration": 248,
                        "passed_time": 27.68898005,
                        "remaining_time": 83.51174305
                      },
                      {
                        "learn": [
                          0.12215717
                        ],
                        "iteration": 249,
                        "passed_time": 27.78557273,
                        "remaining_time": 83.3567182
                      },
                      {
                        "learn": [
                          0.1219870012
                        ],
                        "iteration": 250,
                        "passed_time": 27.88750478,
                        "remaining_time": 83.21809196
                      },
                      {
                        "learn": [
                          0.1217806855
                        ],
                        "iteration": 251,
                        "passed_time": 27.985468,
                        "remaining_time": 83.06797645
                      },
                      {
                        "learn": [
                          0.1216915508
                        ],
                        "iteration": 252,
                        "passed_time": 28.08414401,
                        "remaining_time": 82.92037778
                      },
                      {
                        "learn": [
                          0.1215372388
                        ],
                        "iteration": 253,
                        "passed_time": 28.18254594,
                        "remaining_time": 82.77235934
                      },
                      {
                        "learn": [
                          0.1211848928
                        ],
                        "iteration": 254,
                        "passed_time": 28.27756128,
                        "remaining_time": 82.61483591
                      },
                      {
                        "learn": [
                          0.1208410597
                        ],
                        "iteration": 255,
                        "passed_time": 28.40384738,
                        "remaining_time": 82.54868145
                      },
                      {
                        "learn": [
                          0.1205991695
                        ],
                        "iteration": 256,
                        "passed_time": 28.5025269,
                        "remaining_time": 82.40224702
                      },
                      {
                        "learn": [
                          0.1199672977
                        ],
                        "iteration": 257,
                        "passed_time": 28.60589232,
                        "remaining_time": 82.2696593
                      },
                      {
                        "learn": [
                          0.1196526864
                        ],
                        "iteration": 258,
                        "passed_time": 28.70740008,
                        "remaining_time": 82.13198247
                      },
                      {
                        "learn": [
                          0.1194201237
                        ],
                        "iteration": 259,
                        "passed_time": 28.80695465,
                        "remaining_time": 81.98902477
                      },
                      {
                        "learn": [
                          0.1187988821
                        ],
                        "iteration": 260,
                        "passed_time": 28.90507905,
                        "remaining_time": 81.84235027
                      },
                      {
                        "learn": [
                          0.1185576941
                        ],
                        "iteration": 261,
                        "passed_time": 29.0012193,
                        "remaining_time": 81.69045742
                      },
                      {
                        "learn": [
                          0.1179684782
                        ],
                        "iteration": 262,
                        "passed_time": 29.10068619,
                        "remaining_time": 81.54831072
                      },
                      {
                        "learn": [
                          0.1177369028
                        ],
                        "iteration": 263,
                        "passed_time": 29.19919259,
                        "remaining_time": 81.40380964
                      },
                      {
                        "learn": [
                          0.1173599703
                        ],
                        "iteration": 264,
                        "passed_time": 29.29311291,
                        "remaining_time": 81.2469358
                      },
                      {
                        "learn": [
                          0.1169637196
                        ],
                        "iteration": 265,
                        "passed_time": 29.43646762,
                        "remaining_time": 81.22694449
                      },
                      {
                        "learn": [
                          0.116294811
                        ],
                        "iteration": 266,
                        "passed_time": 29.53977131,
                        "remaining_time": 81.09607628
                      },
                      {
                        "learn": [
                          0.1157684927
                        ],
                        "iteration": 267,
                        "passed_time": 29.64508814,
                        "remaining_time": 80.97091238
                      },
                      {
                        "learn": [
                          0.1156364552
                        ],
                        "iteration": 268,
                        "passed_time": 29.74157589,
                        "remaining_time": 80.82190326
                      },
                      {
                        "learn": [
                          0.1154421818
                        ],
                        "iteration": 269,
                        "passed_time": 29.83998867,
                        "remaining_time": 80.6784879
                      },
                      {
                        "learn": [
                          0.1152489405
                        ],
                        "iteration": 270,
                        "passed_time": 29.93725292,
                        "remaining_time": 80.53231504
                      },
                      {
                        "learn": [
                          0.1151584613
                        ],
                        "iteration": 271,
                        "passed_time": 30.03478329,
                        "remaining_time": 80.38721409
                      },
                      {
                        "learn": [
                          0.1150409897
                        ],
                        "iteration": 272,
                        "passed_time": 30.12877882,
                        "remaining_time": 80.23304836
                      },
                      {
                        "learn": [
                          0.114476154
                        ],
                        "iteration": 273,
                        "passed_time": 30.22301595,
                        "remaining_time": 80.07996197
                      },
                      {
                        "learn": [
                          0.1143176586
                        ],
                        "iteration": 274,
                        "passed_time": 30.32058283,
                        "remaining_time": 79.93608202
                      },
                      {
                        "learn": [
                          0.1142045686
                        ],
                        "iteration": 275,
                        "passed_time": 30.4352777,
                        "remaining_time": 79.8374676
                      },
                      {
                        "learn": [
                          0.1138182554
                        ],
                        "iteration": 276,
                        "passed_time": 30.54697533,
                        "remaining_time": 79.73091394
                      },
                      {
                        "learn": [
                          0.1135519958
                        ],
                        "iteration": 277,
                        "passed_time": 30.64582954,
                        "remaining_time": 79.59096737
                      },
                      {
                        "learn": [
                          0.113157639
                        ],
                        "iteration": 278,
                        "passed_time": 30.74049336,
                        "remaining_time": 79.44048643
                      },
                      {
                        "learn": [
                          0.1128758796
                        ],
                        "iteration": 279,
                        "passed_time": 30.83896176,
                        "remaining_time": 79.30018738
                      },
                      {
                        "learn": [
                          0.1126729023
                        ],
                        "iteration": 280,
                        "passed_time": 30.93490186,
                        "remaining_time": 79.15371685
                      },
                      {
                        "learn": [
                          0.1123847767
                        ],
                        "iteration": 281,
                        "passed_time": 31.03121892,
                        "remaining_time": 79.00856447
                      },
                      {
                        "learn": [
                          0.1120764581
                        ],
                        "iteration": 282,
                        "passed_time": 31.12688278,
                        "remaining_time": 78.8621023
                      },
                      {
                        "learn": [
                          0.1118216253
                        ],
                        "iteration": 283,
                        "passed_time": 31.22294164,
                        "remaining_time": 78.71699372
                      },
                      {
                        "learn": [
                          0.1116702986
                        ],
                        "iteration": 284,
                        "passed_time": 31.3151359,
                        "remaining_time": 78.56253393
                      },
                      {
                        "learn": [
                          0.1111412406
                        ],
                        "iteration": 285,
                        "passed_time": 31.43476826,
                        "remaining_time": 78.47700888
                      },
                      {
                        "learn": [
                          0.1106654939
                        ],
                        "iteration": 286,
                        "passed_time": 31.54437487,
                        "remaining_time": 78.36633896
                      },
                      {
                        "learn": [
                          0.1105297303
                        ],
                        "iteration": 287,
                        "passed_time": 31.64272869,
                        "remaining_time": 78.22785704
                      },
                      {
                        "learn": [
                          0.1102532655
                        ],
                        "iteration": 288,
                        "passed_time": 31.74251966,
                        "remaining_time": 78.09318851
                      },
                      {
                        "learn": [
                          0.1099787913
                        ],
                        "iteration": 289,
                        "passed_time": 31.84345493,
                        "remaining_time": 77.96156208
                      },
                      {
                        "learn": [
                          0.1098031273
                        ],
                        "iteration": 290,
                        "passed_time": 31.93887544,
                        "remaining_time": 77.81671027
                      },
                      {
                        "learn": [
                          0.1096474667
                        ],
                        "iteration": 291,
                        "passed_time": 32.04035665,
                        "remaining_time": 77.68689215
                      },
                      {
                        "learn": [
                          0.1094433104
                        ],
                        "iteration": 292,
                        "passed_time": 32.13523526,
                        "remaining_time": 77.54133558
                      },
                      {
                        "learn": [
                          0.1091620832
                        ],
                        "iteration": 293,
                        "passed_time": 32.2310132,
                        "remaining_time": 77.3982834
                      },
                      {
                        "learn": [
                          0.1089396814
                        ],
                        "iteration": 294,
                        "passed_time": 32.32717643,
                        "remaining_time": 77.25647248
                      },
                      {
                        "learn": [
                          0.1088087534
                        ],
                        "iteration": 295,
                        "passed_time": 32.44974583,
                        "remaining_time": 77.17777387
                      },
                      {
                        "learn": [
                          0.1084254242
                        ],
                        "iteration": 296,
                        "passed_time": 32.55795868,
                        "remaining_time": 77.06479783
                      },
                      {
                        "learn": [
                          0.1081130362
                        ],
                        "iteration": 297,
                        "passed_time": 32.66071464,
                        "remaining_time": 76.93899893
                      },
                      {
                        "learn": [
                          0.1073895552
                        ],
                        "iteration": 298,
                        "passed_time": 32.76395349,
                        "remaining_time": 76.81448629
                      },
                      {
                        "learn": [
                          0.1073223611
                        ],
                        "iteration": 299,
                        "passed_time": 32.86157788,
                        "remaining_time": 76.67701504
                      },
                      {
                        "learn": [
                          0.1070725712
                        ],
                        "iteration": 300,
                        "passed_time": 32.96231348,
                        "remaining_time": 76.54703363
                      },
                      {
                        "learn": [
                          0.1068939618
                        ],
                        "iteration": 301,
                        "passed_time": 33.06127799,
                        "remaining_time": 76.41315245
                      },
                      {
                        "learn": [
                          0.1064276767
                        ],
                        "iteration": 302,
                        "passed_time": 33.16105147,
                        "remaining_time": 76.28136261
                      },
                      {
                        "learn": [
                          0.1062719908
                        ],
                        "iteration": 303,
                        "passed_time": 33.25386344,
                        "remaining_time": 76.13384525
                      },
                      {
                        "learn": [
                          0.1060998815
                        ],
                        "iteration": 304,
                        "passed_time": 33.38681884,
                        "remaining_time": 76.07816097
                      },
                      {
                        "learn": [
                          0.1059785576
                        ],
                        "iteration": 305,
                        "passed_time": 33.5007051,
                        "remaining_time": 75.97872333
                      },
                      {
                        "learn": [
                          0.1057521606
                        ],
                        "iteration": 306,
                        "passed_time": 33.60517958,
                        "remaining_time": 75.85794608
                      },
                      {
                        "learn": [
                          0.1054192713
                        ],
                        "iteration": 307,
                        "passed_time": 33.70824522,
                        "remaining_time": 75.73410939
                      },
                      {
                        "learn": [
                          0.1051021113
                        ],
                        "iteration": 308,
                        "passed_time": 33.80493389,
                        "remaining_time": 75.59614667
                      },
                      {
                        "learn": [
                          0.1049905898
                        ],
                        "iteration": 309,
                        "passed_time": 33.90437774,
                        "remaining_time": 75.46458271
                      },
                      {
                        "learn": [
                          0.1048100683
                        ],
                        "iteration": 310,
                        "passed_time": 34.00133121,
                        "remaining_time": 75.32770806
                      },
                      {
                        "learn": [
                          0.1044937218
                        ],
                        "iteration": 311,
                        "passed_time": 34.09504247,
                        "remaining_time": 75.18393981
                      },
                      {
                        "learn": [
                          0.1042628862
                        ],
                        "iteration": 312,
                        "passed_time": 34.19135261,
                        "remaining_time": 75.04619567
                      },
                      {
                        "learn": [
                          0.104075391
                        ],
                        "iteration": 313,
                        "passed_time": 34.28747125,
                        "remaining_time": 74.90829707
                      },
                      {
                        "learn": [
                          0.1037062414
                        ],
                        "iteration": 314,
                        "passed_time": 34.38481532,
                        "remaining_time": 74.77332856
                      },
                      {
                        "learn": [
                          0.1033442799
                        ],
                        "iteration": 315,
                        "passed_time": 34.49415245,
                        "remaining_time": 74.66455783
                      },
                      {
                        "learn": [
                          0.103078288
                        ],
                        "iteration": 316,
                        "passed_time": 34.60247419,
                        "remaining_time": 74.55359582
                      },
                      {
                        "learn": [
                          0.1026922474
                        ],
                        "iteration": 317,
                        "passed_time": 34.70298815,
                        "remaining_time": 74.4259054
                      },
                      {
                        "learn": [
                          0.1025328052
                        ],
                        "iteration": 318,
                        "passed_time": 34.80170079,
                        "remaining_time": 74.29453993
                      },
                      {
                        "learn": [
                          0.1023845914
                        ],
                        "iteration": 319,
                        "passed_time": 34.8993454,
                        "remaining_time": 74.16110898
                      },
                      {
                        "learn": [
                          0.1022503255
                        ],
                        "iteration": 320,
                        "passed_time": 34.99907542,
                        "remaining_time": 74.03231219
                      },
                      {
                        "learn": [
                          0.1021483325
                        ],
                        "iteration": 321,
                        "passed_time": 35.09272744,
                        "remaining_time": 73.89089816
                      },
                      {
                        "learn": [
                          0.10202329
                        ],
                        "iteration": 322,
                        "passed_time": 35.18615774,
                        "remaining_time": 73.74931514
                      },
                      {
                        "learn": [
                          0.1017266001
                        ],
                        "iteration": 323,
                        "passed_time": 35.2824815,
                        "remaining_time": 73.61406634
                      },
                      {
                        "learn": [
                          0.1016354344
                        ],
                        "iteration": 324,
                        "passed_time": 35.37868194,
                        "remaining_time": 73.47880095
                      },
                      {
                        "learn": [
                          0.1014863066
                        ],
                        "iteration": 325,
                        "passed_time": 35.47581051,
                        "remaining_time": 73.34569413
                      },
                      {
                        "learn": [
                          0.1011866798
                        ],
                        "iteration": 326,
                        "passed_time": 35.60632243,
                        "remaining_time": 73.28151375
                      },
                      {
                        "learn": [
                          0.1009561075
                        ],
                        "iteration": 327,
                        "passed_time": 35.70764903,
                        "remaining_time": 73.15713461
                      },
                      {
                        "learn": [
                          0.1006354612
                        ],
                        "iteration": 328,
                        "passed_time": 35.80629777,
                        "remaining_time": 73.02743406
                      },
                      {
                        "learn": [
                          0.1004942879
                        ],
                        "iteration": 329,
                        "passed_time": 35.90496849,
                        "remaining_time": 72.89796632
                      },
                      {
                        "learn": [
                          0.1001217572
                        ],
                        "iteration": 330,
                        "passed_time": 36.00005481,
                        "remaining_time": 72.76144008
                      },
                      {
                        "learn": [
                          0.100044902
                        ],
                        "iteration": 331,
                        "passed_time": 36.09634937,
                        "remaining_time": 72.62759451
                      },
                      {
                        "learn": [
                          0.0998710536
                        ],
                        "iteration": 332,
                        "passed_time": 36.19210075,
                        "remaining_time": 72.49288649
                      },
                      {
                        "learn": [
                          0.0997505003
                        ],
                        "iteration": 333,
                        "passed_time": 36.28855189,
                        "remaining_time": 72.35980707
                      },
                      {
                        "learn": [
                          0.09966396972
                        ],
                        "iteration": 334,
                        "passed_time": 36.38476508,
                        "remaining_time": 72.22647397
                      },
                      {
                        "learn": [
                          0.09945772863
                        ],
                        "iteration": 335,
                        "passed_time": 36.48025392,
                        "remaining_time": 72.09193036
                      },
                      {
                        "learn": [
                          0.09907945311
                        ],
                        "iteration": 336,
                        "passed_time": 36.61207477,
                        "remaining_time": 72.02909665
                      },
                      {
                        "learn": [
                          0.0989466699
                        ],
                        "iteration": 337,
                        "passed_time": 36.70921702,
                        "remaining_time": 71.89793393
                      },
                      {
                        "learn": [
                          0.09885457245
                        ],
                        "iteration": 338,
                        "passed_time": 36.80785754,
                        "remaining_time": 71.76989331
                      },
                      {
                        "learn": [
                          0.09868392385
                        ],
                        "iteration": 339,
                        "passed_time": 36.90851359,
                        "remaining_time": 71.64593815
                      },
                      {
                        "learn": [
                          0.09860185026
                        ],
                        "iteration": 340,
                        "passed_time": 37.00274991,
                        "remaining_time": 71.50971318
                      },
                      {
                        "learn": [
                          0.09848797274
                        ],
                        "iteration": 341,
                        "passed_time": 37.10082983,
                        "remaining_time": 71.38112874
                      },
                      {
                        "learn": [
                          0.09823608126
                        ],
                        "iteration": 342,
                        "passed_time": 37.19870512,
                        "remaining_time": 71.25233021
                      },
                      {
                        "learn": [
                          0.09781596199
                        ],
                        "iteration": 343,
                        "passed_time": 37.29872289,
                        "remaining_time": 71.12779713
                      },
                      {
                        "learn": [
                          0.09763422209
                        ],
                        "iteration": 344,
                        "passed_time": 37.39701115,
                        "remaining_time": 71.00012262
                      },
                      {
                        "learn": [
                          0.09738525542
                        ],
                        "iteration": 345,
                        "passed_time": 37.49393368,
                        "remaining_time": 70.87003649
                      },
                      {
                        "learn": [
                          0.09710005971
                        ],
                        "iteration": 346,
                        "passed_time": 37.61474621,
                        "remaining_time": 70.78509878
                      },
                      {
                        "learn": [
                          0.09684816915
                        ],
                        "iteration": 347,
                        "passed_time": 37.73010967,
                        "remaining_time": 70.6897457
                      },
                      {
                        "learn": [
                          0.09657064695
                        ],
                        "iteration": 348,
                        "passed_time": 37.83321748,
                        "remaining_time": 70.57141712
                      },
                      {
                        "learn": [
                          0.09628537406
                        ],
                        "iteration": 349,
                        "passed_time": 37.93496559,
                        "remaining_time": 70.45065039
                      },
                      {
                        "learn": [
                          0.0961181786
                        ],
                        "iteration": 350,
                        "passed_time": 38.03155454,
                        "remaining_time": 70.3204527
                      },
                      {
                        "learn": [
                          0.0960139835
                        ],
                        "iteration": 351,
                        "passed_time": 38.13019397,
                        "remaining_time": 70.19422071
                      },
                      {
                        "learn": [
                          0.09572066448
                        ],
                        "iteration": 352,
                        "passed_time": 38.22868208,
                        "remaining_time": 70.06786772
                      },
                      {
                        "learn": [
                          0.09560172078
                        ],
                        "iteration": 353,
                        "passed_time": 38.32429868,
                        "remaining_time": 69.93643205
                      },
                      {
                        "learn": [
                          0.09525827494
                        ],
                        "iteration": 354,
                        "passed_time": 38.43004328,
                        "remaining_time": 69.82359976
                      },
                      {
                        "learn": [
                          0.09503228062
                        ],
                        "iteration": 355,
                        "passed_time": 38.52640235,
                        "remaining_time": 69.69382897
                      },
                      {
                        "learn": [
                          0.09495486109
                        ],
                        "iteration": 356,
                        "passed_time": 38.65780818,
                        "remaining_time": 69.62736879
                      },
                      {
                        "learn": [
                          0.09489715317
                        ],
                        "iteration": 357,
                        "passed_time": 38.75695788,
                        "remaining_time": 69.50270099
                      },
                      {
                        "learn": [
                          0.09469214967
                        ],
                        "iteration": 358,
                        "passed_time": 38.85335855,
                        "remaining_time": 69.37326694
                      },
                      {
                        "learn": [
                          0.09462182625
                        ],
                        "iteration": 359,
                        "passed_time": 38.95162075,
                        "remaining_time": 69.24732578
                      },
                      {
                        "learn": [
                          0.09437437056
                        ],
                        "iteration": 360,
                        "passed_time": 39.05715303,
                        "remaining_time": 69.1344066
                      },
                      {
                        "learn": [
                          0.09415288275
                        ],
                        "iteration": 361,
                        "passed_time": 39.15426704,
                        "remaining_time": 69.00669163
                      },
                      {
                        "learn": [
                          0.09389419504
                        ],
                        "iteration": 362,
                        "passed_time": 39.25146449,
                        "remaining_time": 68.87929168
                      },
                      {
                        "learn": [
                          0.09370276881
                        ],
                        "iteration": 363,
                        "passed_time": 39.35579738,
                        "remaining_time": 68.76452509
                      },
                      {
                        "learn": [
                          0.09347910754
                        ],
                        "iteration": 364,
                        "passed_time": 39.45338313,
                        "remaining_time": 68.6380775
                      },
                      {
                        "learn": [
                          0.09331763058
                        ],
                        "iteration": 365,
                        "passed_time": 39.55318573,
                        "remaining_time": 68.51562774
                      },
                      {
                        "learn": [
                          0.09317590739
                        ],
                        "iteration": 366,
                        "passed_time": 39.68052568,
                        "remaining_time": 68.4407977
                      },
                      {
                        "learn": [
                          0.093006589
                        ],
                        "iteration": 367,
                        "passed_time": 39.78146236,
                        "remaining_time": 68.32033753
                      },
                      {
                        "learn": [
                          0.09284122357
                        ],
                        "iteration": 368,
                        "passed_time": 39.88093437,
                        "remaining_time": 68.19747856
                      },
                      {
                        "learn": [
                          0.09247286482
                        ],
                        "iteration": 369,
                        "passed_time": 39.98035385,
                        "remaining_time": 68.07465656
                      },
                      {
                        "learn": [
                          0.09233182541
                        ],
                        "iteration": 370,
                        "passed_time": 40.07573778,
                        "remaining_time": 67.94511877
                      },
                      {
                        "learn": [
                          0.09223497647
                        ],
                        "iteration": 371,
                        "passed_time": 40.17081399,
                        "remaining_time": 67.81524512
                      },
                      {
                        "learn": [
                          0.091975298
                        ],
                        "iteration": 372,
                        "passed_time": 40.26932952,
                        "remaining_time": 67.69133944
                      },
                      {
                        "learn": [
                          0.09177724807
                        ],
                        "iteration": 373,
                        "passed_time": 40.36919084,
                        "remaining_time": 67.5698221
                      },
                      {
                        "learn": [
                          0.09159346671
                        ],
                        "iteration": 374,
                        "passed_time": 40.46663337,
                        "remaining_time": 67.44438894
                      },
                      {
                        "learn": [
                          0.09140708895
                        ],
                        "iteration": 375,
                        "passed_time": 40.56366888,
                        "remaining_time": 67.3184292
                      },
                      {
                        "learn": [
                          0.09116028347
                        ],
                        "iteration": 376,
                        "passed_time": 40.67206459,
                        "remaining_time": 67.21139587
                      },
                      {
                        "learn": [
                          0.09097988429
                        ],
                        "iteration": 377,
                        "passed_time": 40.7926689,
                        "remaining_time": 67.12444459
                      },
                      {
                        "learn": [
                          0.09090845566
                        ],
                        "iteration": 378,
                        "passed_time": 40.88702672,
                        "remaining_time": 66.99431027
                      },
                      {
                        "learn": [
                          0.09078317462
                        ],
                        "iteration": 379,
                        "passed_time": 40.98590615,
                        "remaining_time": 66.87174162
                      },
                      {
                        "learn": [
                          0.0904583887
                        ],
                        "iteration": 380,
                        "passed_time": 41.08001517,
                        "remaining_time": 66.74154695
                      },
                      {
                        "learn": [
                          0.09037507004
                        ],
                        "iteration": 381,
                        "passed_time": 41.17363286,
                        "remaining_time": 66.61074635
                      },
                      {
                        "learn": [
                          0.09030443854
                        ],
                        "iteration": 382,
                        "passed_time": 41.27207336,
                        "remaining_time": 66.4879093
                      },
                      {
                        "learn": [
                          0.090154431
                        ],
                        "iteration": 383,
                        "passed_time": 41.36656243,
                        "remaining_time": 66.35886056
                      },
                      {
                        "learn": [
                          0.09000546744
                        ],
                        "iteration": 384,
                        "passed_time": 41.46720144,
                        "remaining_time": 66.23981529
                      },
                      {
                        "learn": [
                          0.08984346268
                        ],
                        "iteration": 385,
                        "passed_time": 41.56782107,
                        "remaining_time": 66.12083455
                      },
                      {
                        "learn": [
                          0.08960149062
                        ],
                        "iteration": 386,
                        "passed_time": 41.66477629,
                        "remaining_time": 65.99614436
                      },
                      {
                        "learn": [
                          0.08942809507
                        ],
                        "iteration": 387,
                        "passed_time": 41.79508656,
                        "remaining_time": 65.9242087
                      },
                      {
                        "learn": [
                          0.08923572659
                        ],
                        "iteration": 388,
                        "passed_time": 41.89004244,
                        "remaining_time": 65.79644199
                      },
                      {
                        "learn": [
                          0.08901740736
                        ],
                        "iteration": 389,
                        "passed_time": 41.99048822,
                        "remaining_time": 65.67743029
                      },
                      {
                        "learn": [
                          0.08885288999
                        ],
                        "iteration": 390,
                        "passed_time": 42.08612137,
                        "remaining_time": 65.55101769
                      },
                      {
                        "learn": [
                          0.08869229473
                        ],
                        "iteration": 391,
                        "passed_time": 42.18017576,
                        "remaining_time": 65.42231343
                      },
                      {
                        "learn": [
                          0.0885418029
                        ],
                        "iteration": 392,
                        "passed_time": 42.27400395,
                        "remaining_time": 65.29343612
                      },
                      {
                        "learn": [
                          0.08831372021
                        ],
                        "iteration": 393,
                        "passed_time": 42.37269545,
                        "remaining_time": 65.17221686
                      },
                      {
                        "learn": [
                          0.08820984981
                        ],
                        "iteration": 394,
                        "passed_time": 42.47089986,
                        "remaining_time": 65.05036561
                      },
                      {
                        "learn": [
                          0.08807574748
                        ],
                        "iteration": 395,
                        "passed_time": 42.56566239,
                        "remaining_time": 64.92338405
                      },
                      {
                        "learn": [
                          0.08783180496
                        ],
                        "iteration": 396,
                        "passed_time": 42.66254605,
                        "remaining_time": 64.79978657
                      },
                      {
                        "learn": [
                          0.08766375586
                        ],
                        "iteration": 397,
                        "passed_time": 42.79083397,
                        "remaining_time": 64.72382425
                      },
                      {
                        "learn": [
                          0.08746817185
                        ],
                        "iteration": 398,
                        "passed_time": 42.88612082,
                        "remaining_time": 64.59789127
                      },
                      {
                        "learn": [
                          0.08730087926
                        ],
                        "iteration": 399,
                        "passed_time": 42.98579149,
                        "remaining_time": 64.47868723
                      },
                      {
                        "learn": [
                          0.08720833567
                        ],
                        "iteration": 400,
                        "passed_time": 43.08417677,
                        "remaining_time": 64.35766056
                      },
                      {
                        "learn": [
                          0.08701537856
                        ],
                        "iteration": 401,
                        "passed_time": 43.18027096,
                        "remaining_time": 64.23333839
                      },
                      {
                        "learn": [
                          0.08667950029
                        ],
                        "iteration": 402,
                        "passed_time": 43.27942173,
                        "remaining_time": 64.1136843
                      },
                      {
                        "learn": [
                          0.08651210245
                        ],
                        "iteration": 403,
                        "passed_time": 43.3739704,
                        "remaining_time": 63.98734248
                      },
                      {
                        "learn": [
                          0.08638768934
                        ],
                        "iteration": 404,
                        "passed_time": 43.47490427,
                        "remaining_time": 63.87053837
                      },
                      {
                        "learn": [
                          0.08629009027
                        ],
                        "iteration": 405,
                        "passed_time": 43.57413122,
                        "remaining_time": 63.75131513
                      },
                      {
                        "learn": [
                          0.08612560037
                        ],
                        "iteration": 406,
                        "passed_time": 43.67536318,
                        "remaining_time": 63.63511147
                      },
                      {
                        "learn": [
                          0.08596665531
                        ],
                        "iteration": 407,
                        "passed_time": 43.81397168,
                        "remaining_time": 63.57321381
                      },
                      {
                        "learn": [
                          0.08577603923
                        ],
                        "iteration": 408,
                        "passed_time": 43.91003953,
                        "remaining_time": 63.44947033
                      },
                      {
                        "learn": [
                          0.08568353886
                        ],
                        "iteration": 409,
                        "passed_time": 44.01242755,
                        "remaining_time": 63.33495672
                      },
                      {
                        "learn": [
                          0.08547438593
                        ],
                        "iteration": 410,
                        "passed_time": 44.10862232,
                        "remaining_time": 63.21162664
                      },
                      {
                        "learn": [
                          0.08527076253
                        ],
                        "iteration": 411,
                        "passed_time": 44.21099224,
                        "remaining_time": 63.09724136
                      },
                      {
                        "learn": [
                          0.08509963659
                        ],
                        "iteration": 412,
                        "passed_time": 44.3069143,
                        "remaining_time": 62.97374986
                      },
                      {
                        "learn": [
                          0.08503736414
                        ],
                        "iteration": 413,
                        "passed_time": 44.40249479,
                        "remaining_time": 62.84990809
                      },
                      {
                        "learn": [
                          0.08489910775
                        ],
                        "iteration": 414,
                        "passed_time": 44.49721676,
                        "remaining_time": 62.7249923
                      },
                      {
                        "learn": [
                          0.08481898717
                        ],
                        "iteration": 415,
                        "passed_time": 44.59579177,
                        "remaining_time": 62.60563075
                      },
                      {
                        "learn": [
                          0.0845487319
                        ],
                        "iteration": 416,
                        "passed_time": 44.69283951,
                        "remaining_time": 62.48423366
                      },
                      {
                        "learn": [
                          0.0844659985
                        ],
                        "iteration": 417,
                        "passed_time": 44.82346435,
                        "remaining_time": 62.40970395
                      },
                      {
                        "learn": [
                          0.08434682618
                        ],
                        "iteration": 418,
                        "passed_time": 44.92892872,
                        "remaining_time": 62.3000181
                      },
                      {
                        "learn": [
                          0.08399856657
                        ],
                        "iteration": 419,
                        "passed_time": 45.02784342,
                        "remaining_time": 62.18130757
                      },
                      {
                        "learn": [
                          0.0838801738
                        ],
                        "iteration": 420,
                        "passed_time": 45.12789913,
                        "remaining_time": 62.06426032
                      },
                      {
                        "learn": [
                          0.08376774647
                        ],
                        "iteration": 421,
                        "passed_time": 45.22550224,
                        "remaining_time": 61.94393435
                      },
                      {
                        "learn": [
                          0.08363055369
                        ],
                        "iteration": 422,
                        "passed_time": 45.32307266,
                        "remaining_time": 61.82367121
                      },
                      {
                        "learn": [
                          0.08350655762
                        ],
                        "iteration": 423,
                        "passed_time": 45.42292059,
                        "remaining_time": 61.7066091
                      },
                      {
                        "learn": [
                          0.08334598796
                        ],
                        "iteration": 424,
                        "passed_time": 45.51876128,
                        "remaining_time": 61.58420643
                      },
                      {
                        "learn": [
                          0.08308797484
                        ],
                        "iteration": 425,
                        "passed_time": 45.62125053,
                        "remaining_time": 61.47088687
                      },
                      {
                        "learn": [
                          0.08295156786
                        ],
                        "iteration": 426,
                        "passed_time": 45.71894248,
                        "remaining_time": 61.35118042
                      },
                      {
                        "learn": [
                          0.08276443819
                        ],
                        "iteration": 427,
                        "passed_time": 45.99266278,
                        "remaining_time": 61.4668297
                      },
                      {
                        "learn": [
                          0.0825156771
                        ],
                        "iteration": 428,
                        "passed_time": 46.08723227,
                        "remaining_time": 61.34221358
                      },
                      {
                        "learn": [
                          0.08241059393
                        ],
                        "iteration": 429,
                        "passed_time": 46.18102626,
                        "remaining_time": 61.21670923
                      },
                      {
                        "learn": [
                          0.08216460918
                        ],
                        "iteration": 430,
                        "passed_time": 46.2777254,
                        "remaining_time": 61.09518736
                      },
                      {
                        "learn": [
                          0.0820624313
                        ],
                        "iteration": 431,
                        "passed_time": 46.37444391,
                        "remaining_time": 60.97380588
                      },
                      {
                        "learn": [
                          0.08184202426
                        ],
                        "iteration": 432,
                        "passed_time": 46.47685208,
                        "remaining_time": 60.85998876
                      },
                      {
                        "learn": [
                          0.08169884335
                        ],
                        "iteration": 433,
                        "passed_time": 46.58482671,
                        "remaining_time": 60.75348368
                      },
                      {
                        "learn": [
                          0.08150522257
                        ],
                        "iteration": 434,
                        "passed_time": 46.68393601,
                        "remaining_time": 60.63545711
                      },
                      {
                        "learn": [
                          0.08134552323
                        ],
                        "iteration": 435,
                        "passed_time": 46.7812913,
                        "remaining_time": 60.51524838
                      },
                      {
                        "learn": [
                          0.08121830353
                        ],
                        "iteration": 436,
                        "passed_time": 46.8883184,
                        "remaining_time": 60.40760471
                      },
                      {
                        "learn": [
                          0.08100051118
                        ],
                        "iteration": 437,
                        "passed_time": 47.01109925,
                        "remaining_time": 60.32017758
                      },
                      {
                        "learn": [
                          0.08068090104
                        ],
                        "iteration": 438,
                        "passed_time": 47.10700017,
                        "remaining_time": 60.1982394
                      },
                      {
                        "learn": [
                          0.08058802395
                        ],
                        "iteration": 439,
                        "passed_time": 47.20519942,
                        "remaining_time": 60.07934472
                      },
                      {
                        "learn": [
                          0.08051047389
                        ],
                        "iteration": 440,
                        "passed_time": 47.30565718,
                        "remaining_time": 59.96340672
                      },
                      {
                        "learn": [
                          0.08027369849
                        ],
                        "iteration": 441,
                        "passed_time": 47.40516332,
                        "remaining_time": 59.84633741
                      },
                      {
                        "learn": [
                          0.0801133556
                        ],
                        "iteration": 442,
                        "passed_time": 47.50170573,
                        "remaining_time": 59.72562097
                      },
                      {
                        "learn": [
                          0.07998418557
                        ],
                        "iteration": 443,
                        "passed_time": 47.60295817,
                        "remaining_time": 59.61091158
                      },
                      {
                        "learn": [
                          0.07992194782
                        ],
                        "iteration": 444,
                        "passed_time": 47.69931491,
                        "remaining_time": 59.4901568
                      },
                      {
                        "learn": [
                          0.0798288191
                        ],
                        "iteration": 445,
                        "passed_time": 47.79623565,
                        "remaining_time": 59.370212
                      },
                      {
                        "learn": [
                          0.07978486372
                        ],
                        "iteration": 446,
                        "passed_time": 47.90015734,
                        "remaining_time": 59.25903134
                      },
                      {
                        "learn": [
                          0.07966453463
                        ],
                        "iteration": 447,
                        "passed_time": 48.02851442,
                        "remaining_time": 59.17799098
                      },
                      {
                        "learn": [
                          0.07949867666
                        ],
                        "iteration": 448,
                        "passed_time": 48.12415364,
                        "remaining_time": 59.05658943
                      },
                      {
                        "learn": [
                          0.07942944667
                        ],
                        "iteration": 449,
                        "passed_time": 48.21898286,
                        "remaining_time": 58.93431238
                      },
                      {
                        "learn": [
                          0.0792966462
                        ],
                        "iteration": 450,
                        "passed_time": 48.32027785,
                        "remaining_time": 58.82002781
                      },
                      {
                        "learn": [
                          0.07918610848
                        ],
                        "iteration": 451,
                        "passed_time": 48.42106841,
                        "remaining_time": 58.70518914
                      },
                      {
                        "learn": [
                          0.07912080399
                        ],
                        "iteration": 452,
                        "passed_time": 48.51604758,
                        "remaining_time": 58.58339521
                      },
                      {
                        "learn": [
                          0.07895443506
                        ],
                        "iteration": 453,
                        "passed_time": 48.61638609,
                        "remaining_time": 58.46816477
                      },
                      {
                        "learn": [
                          0.07878245211
                        ],
                        "iteration": 454,
                        "passed_time": 48.71044715,
                        "remaining_time": 58.34548065
                      },
                      {
                        "learn": [
                          0.07866869902
                        ],
                        "iteration": 455,
                        "passed_time": 48.81051004,
                        "remaining_time": 58.23008215
                      },
                      {
                        "learn": [
                          0.07863096549
                        ],
                        "iteration": 456,
                        "passed_time": 48.9106875,
                        "remaining_time": 58.11488689
                      },
                      {
                        "learn": [
                          0.0785520308
                        ],
                        "iteration": 457,
                        "passed_time": 49.03088153,
                        "remaining_time": 58.02344496
                      },
                      {
                        "learn": [
                          0.07845250038
                        ],
                        "iteration": 458,
                        "passed_time": 49.13378684,
                        "remaining_time": 57.91150039
                      },
                      {
                        "learn": [
                          0.07834969825
                        ],
                        "iteration": 459,
                        "passed_time": 49.23034196,
                        "remaining_time": 57.79214056
                      },
                      {
                        "learn": [
                          0.07816493589
                        ],
                        "iteration": 460,
                        "passed_time": 49.33188645,
                        "remaining_time": 57.67871322
                      },
                      {
                        "learn": [
                          0.07806017696
                        ],
                        "iteration": 461,
                        "passed_time": 49.43300222,
                        "remaining_time": 57.56483808
                      },
                      {
                        "learn": [
                          0.0780032322
                        ],
                        "iteration": 462,
                        "passed_time": 49.53238863,
                        "remaining_time": 57.4490123
                      },
                      {
                        "learn": [
                          0.07793615865
                        ],
                        "iteration": 463,
                        "passed_time": 49.63281823,
                        "remaining_time": 57.33446243
                      },
                      {
                        "learn": [
                          0.0777555372
                        ],
                        "iteration": 464,
                        "passed_time": 49.73014138,
                        "remaining_time": 57.21639922
                      },
                      {
                        "learn": [
                          0.07768083382
                        ],
                        "iteration": 465,
                        "passed_time": 49.82829228,
                        "remaining_time": 57.09937356
                      },
                      {
                        "learn": [
                          0.07757301587
                        ],
                        "iteration": 466,
                        "passed_time": 49.93057467,
                        "remaining_time": 56.98714411
                      },
                      {
                        "learn": [
                          0.07744811921
                        ],
                        "iteration": 467,
                        "passed_time": 50.04787394,
                        "remaining_time": 56.89202765
                      },
                      {
                        "learn": [
                          0.07732921512
                        ],
                        "iteration": 468,
                        "passed_time": 50.15993115,
                        "remaining_time": 56.79088153
                      },
                      {
                        "learn": [
                          0.07717864706
                        ],
                        "iteration": 469,
                        "passed_time": 50.25795354,
                        "remaining_time": 56.6738625
                      },
                      {
                        "learn": [
                          0.07712684588
                        ],
                        "iteration": 470,
                        "passed_time": 50.35646762,
                        "remaining_time": 56.55747637
                      },
                      {
                        "learn": [
                          0.07695138175
                        ],
                        "iteration": 471,
                        "passed_time": 50.45510148,
                        "remaining_time": 56.44129996
                      },
                      {
                        "learn": [
                          0.07680385015
                        ],
                        "iteration": 472,
                        "passed_time": 50.55440572,
                        "remaining_time": 56.32594464
                      },
                      {
                        "learn": [
                          0.07666482161
                        ],
                        "iteration": 473,
                        "passed_time": 50.6503586,
                        "remaining_time": 56.20693802
                      },
                      {
                        "learn": [
                          0.07658499503
                        ],
                        "iteration": 474,
                        "passed_time": 50.74795736,
                        "remaining_time": 56.0898476
                      },
                      {
                        "learn": [
                          0.07646042444
                        ],
                        "iteration": 475,
                        "passed_time": 50.84231468,
                        "remaining_time": 55.96927078
                      },
                      {
                        "learn": [
                          0.07634641397
                        ],
                        "iteration": 476,
                        "passed_time": 50.94002376,
                        "remaining_time": 55.85247888
                      },
                      {
                        "learn": [
                          0.07625023677
                        ],
                        "iteration": 477,
                        "passed_time": 51.04457232,
                        "remaining_time": 55.74323588
                      },
                      {
                        "learn": [
                          0.07620977463
                        ],
                        "iteration": 478,
                        "passed_time": 51.19106275,
                        "remaining_time": 55.67963192
                      },
                      {
                        "learn": [
                          0.0761182456
                        ],
                        "iteration": 479,
                        "passed_time": 51.28807766,
                        "remaining_time": 55.56208413
                      },
                      {
                        "learn": [
                          0.07600719107
                        ],
                        "iteration": 480,
                        "passed_time": 51.39257743,
                        "remaining_time": 55.45269789
                      },
                      {
                        "learn": [
                          0.07593840364
                        ],
                        "iteration": 481,
                        "passed_time": 51.49549738,
                        "remaining_time": 55.34163411
                      },
                      {
                        "learn": [
                          0.07587292049
                        ],
                        "iteration": 482,
                        "passed_time": 51.59216937,
                        "remaining_time": 55.22391628
                      },
                      {
                        "learn": [
                          0.07569275527
                        ],
                        "iteration": 483,
                        "passed_time": 51.69544222,
                        "remaining_time": 55.11332269
                      },
                      {
                        "learn": [
                          0.07551881657
                        ],
                        "iteration": 484,
                        "passed_time": 51.79359556,
                        "remaining_time": 54.99732313
                      },
                      {
                        "learn": [
                          0.0753343384
                        ],
                        "iteration": 485,
                        "passed_time": 51.8919669,
                        "remaining_time": 54.88162755
                      },
                      {
                        "learn": [
                          0.07527735383
                        ],
                        "iteration": 486,
                        "passed_time": 51.99163211,
                        "remaining_time": 54.76736606
                      },
                      {
                        "learn": [
                          0.07506884659
                        ],
                        "iteration": 487,
                        "passed_time": 52.11104119,
                        "remaining_time": 54.67387928
                      },
                      {
                        "learn": [
                          0.07496511713
                        ],
                        "iteration": 488,
                        "passed_time": 52.22226185,
                        "remaining_time": 54.57172967
                      },
                      {
                        "learn": [
                          0.07481784743
                        ],
                        "iteration": 489,
                        "passed_time": 52.3198058,
                        "remaining_time": 54.45530808
                      },
                      {
                        "learn": [
                          0.07471697197
                        ],
                        "iteration": 490,
                        "passed_time": 52.42338879,
                        "remaining_time": 54.34522381
                      },
                      {
                        "learn": [
                          0.0745016186
                        ],
                        "iteration": 491,
                        "passed_time": 52.52392995,
                        "remaining_time": 54.23202524
                      },
                      {
                        "learn": [
                          0.07443498904
                        ],
                        "iteration": 492,
                        "passed_time": 52.62194043,
                        "remaining_time": 54.11627545
                      },
                      {
                        "learn": [
                          0.07435785083
                        ],
                        "iteration": 493,
                        "passed_time": 52.72005325,
                        "remaining_time": 54.00070231
                      },
                      {
                        "learn": [
                          0.07416235933
                        ],
                        "iteration": 494,
                        "passed_time": 52.81963067,
                        "remaining_time": 53.88669392
                      },
                      {
                        "learn": [
                          0.07403386085
                        ],
                        "iteration": 495,
                        "passed_time": 52.91741,
                        "remaining_time": 53.77091662
                      },
                      {
                        "learn": [
                          0.0737405191
                        ],
                        "iteration": 496,
                        "passed_time": 53.01724348,
                        "remaining_time": 53.65729068
                      },
                      {
                        "learn": [
                          0.0736322972
                        ],
                        "iteration": 497,
                        "passed_time": 53.11713462,
                        "remaining_time": 53.54377828
                      },
                      {
                        "learn": [
                          0.07347801232
                        ],
                        "iteration": 498,
                        "passed_time": 53.24518806,
                        "remaining_time": 53.45859562
                      },
                      {
                        "learn": [
                          0.07334576059
                        ],
                        "iteration": 499,
                        "passed_time": 53.34035575,
                        "remaining_time": 53.34035575
                      },
                      {
                        "learn": [
                          0.07320244789
                        ],
                        "iteration": 500,
                        "passed_time": 53.44431204,
                        "remaining_time": 53.23096149
                      },
                      {
                        "learn": [
                          0.07306976364
                        ],
                        "iteration": 501,
                        "passed_time": 53.54318202,
                        "remaining_time": 53.11654312
                      },
                      {
                        "learn": [
                          0.07301197177
                        ],
                        "iteration": 502,
                        "passed_time": 53.68320362,
                        "remaining_time": 53.04284732
                      },
                      {
                        "learn": [
                          0.07294030254
                        ],
                        "iteration": 503,
                        "passed_time": 53.78369021,
                        "remaining_time": 52.92998084
                      },
                      {
                        "learn": [
                          0.07288438548
                        ],
                        "iteration": 504,
                        "passed_time": 53.87955044,
                        "remaining_time": 52.81262865
                      },
                      {
                        "learn": [
                          0.07275182179
                        ],
                        "iteration": 505,
                        "passed_time": 53.97715546,
                        "remaining_time": 52.69706481
                      },
                      {
                        "learn": [
                          0.07267496754
                        ],
                        "iteration": 506,
                        "passed_time": 54.08315168,
                        "remaining_time": 52.58973132
                      },
                      {
                        "learn": [
                          0.07247240049
                        ],
                        "iteration": 507,
                        "passed_time": 54.20355835,
                        "remaining_time": 52.49635966
                      },
                      {
                        "learn": [
                          0.07242748948
                        ],
                        "iteration": 508,
                        "passed_time": 54.31581478,
                        "remaining_time": 52.39501976
                      },
                      {
                        "learn": [
                          0.07231162723
                        ],
                        "iteration": 509,
                        "passed_time": 54.41467252,
                        "remaining_time": 52.28076379
                      },
                      {
                        "learn": [
                          0.07225081339
                        ],
                        "iteration": 510,
                        "passed_time": 54.51240439,
                        "remaining_time": 52.1654907
                      },
                      {
                        "learn": [
                          0.07208746865
                        ],
                        "iteration": 511,
                        "passed_time": 54.61099995,
                        "remaining_time": 52.05110932
                      },
                      {
                        "learn": [
                          0.07198643099
                        ],
                        "iteration": 512,
                        "passed_time": 54.70863821,
                        "remaining_time": 51.93588072
                      },
                      {
                        "learn": [
                          0.07189599797
                        ],
                        "iteration": 513,
                        "passed_time": 54.8051318,
                        "remaining_time": 51.81963824
                      },
                      {
                        "learn": [
                          0.07186524014
                        ],
                        "iteration": 514,
                        "passed_time": 54.90269055,
                        "remaining_time": 51.70447556
                      },
                      {
                        "learn": [
                          0.07175533917
                        ],
                        "iteration": 515,
                        "passed_time": 55.0005514,
                        "remaining_time": 51.58966449
                      },
                      {
                        "learn": [
                          0.07154816514
                        ],
                        "iteration": 516,
                        "passed_time": 55.10981713,
                        "remaining_time": 51.48557383
                      },
                      {
                        "learn": [
                          0.07143559571
                        ],
                        "iteration": 517,
                        "passed_time": 55.22299327,
                        "remaining_time": 51.38510185
                      },
                      {
                        "learn": [
                          0.07124952092
                        ],
                        "iteration": 518,
                        "passed_time": 55.36704999,
                        "remaining_time": 51.31320048
                      },
                      {
                        "learn": [
                          0.0710649995
                        ],
                        "iteration": 519,
                        "passed_time": 55.47075867,
                        "remaining_time": 51.20377723
                      },
                      {
                        "learn": [
                          0.07101508886
                        ],
                        "iteration": 520,
                        "passed_time": 55.57566038,
                        "remaining_time": 51.09547279
                      },
                      {
                        "learn": [
                          0.07086734537
                        ],
                        "iteration": 521,
                        "passed_time": 55.67635333,
                        "remaining_time": 50.98332738
                      },
                      {
                        "learn": [
                          0.07073451107
                        ],
                        "iteration": 522,
                        "passed_time": 55.77460593,
                        "remaining_time": 50.86900006
                      },
                      {
                        "learn": [
                          0.07068703592
                        ],
                        "iteration": 523,
                        "passed_time": 55.8725711,
                        "remaining_time": 50.75447299
                      },
                      {
                        "learn": [
                          0.07063390568
                        ],
                        "iteration": 524,
                        "passed_time": 55.96773592,
                        "remaining_time": 50.63747536
                      },
                      {
                        "learn": [
                          0.07052865912
                        ],
                        "iteration": 525,
                        "passed_time": 56.06606559,
                        "remaining_time": 50.52341272
                      },
                      {
                        "learn": [
                          0.07039962347
                        ],
                        "iteration": 526,
                        "passed_time": 56.17255171,
                        "remaining_time": 50.41673047
                      },
                      {
                        "learn": [
                          0.06993422754
                        ],
                        "iteration": 527,
                        "passed_time": 56.30477391,
                        "remaining_time": 50.33305546
                      },
                      {
                        "learn": [
                          0.06984638594
                        ],
                        "iteration": 528,
                        "passed_time": 56.40371763,
                        "remaining_time": 50.21956712
                      },
                      {
                        "learn": [
                          0.06972333712
                        ],
                        "iteration": 529,
                        "passed_time": 56.50293287,
                        "remaining_time": 50.10637444
                      },
                      {
                        "learn": [
                          0.06963154445
                        ],
                        "iteration": 530,
                        "passed_time": 56.60344454,
                        "remaining_time": 49.99437946
                      },
                      {
                        "learn": [
                          0.06949205457
                        ],
                        "iteration": 531,
                        "passed_time": 56.69838176,
                        "remaining_time": 49.8775238
                      },
                      {
                        "learn": [
                          0.06940130336
                        ],
                        "iteration": 532,
                        "passed_time": 56.79963351,
                        "remaining_time": 49.76628302
                      },
                      {
                        "learn": [
                          0.06931751694
                        ],
                        "iteration": 533,
                        "passed_time": 56.89818682,
                        "remaining_time": 49.65272483
                      },
                      {
                        "learn": [
                          0.06924020696
                        ],
                        "iteration": 534,
                        "passed_time": 56.99330692,
                        "remaining_time": 49.53623873
                      },
                      {
                        "learn": [
                          0.0691003061
                        ],
                        "iteration": 535,
                        "passed_time": 57.09254406,
                        "remaining_time": 49.42339635
                      },
                      {
                        "learn": [
                          0.06884602892
                        ],
                        "iteration": 536,
                        "passed_time": 57.20369315,
                        "remaining_time": 49.3208751
                      },
                      {
                        "learn": [
                          0.06876016153
                        ],
                        "iteration": 537,
                        "passed_time": 57.31728274,
                        "remaining_time": 49.22041752
                      },
                      {
                        "learn": [
                          0.06864375464
                        ],
                        "iteration": 538,
                        "passed_time": 57.42894855,
                        "remaining_time": 49.11826583
                      },
                      {
                        "learn": [
                          0.06857235009
                        ],
                        "iteration": 539,
                        "passed_time": 57.52737893,
                        "remaining_time": 49.00480427
                      },
                      {
                        "learn": [
                          0.06844114763
                        ],
                        "iteration": 540,
                        "passed_time": 57.62596014,
                        "remaining_time": 48.89152626
                      },
                      {
                        "learn": [
                          0.06831852851
                        ],
                        "iteration": 541,
                        "passed_time": 57.72572278,
                        "remaining_time": 48.7793008
                      },
                      {
                        "learn": [
                          0.06816782121
                        ],
                        "iteration": 542,
                        "passed_time": 57.8203339,
                        "remaining_time": 48.66278562
                      },
                      {
                        "learn": [
                          0.06804466771
                        ],
                        "iteration": 543,
                        "passed_time": 57.92482988,
                        "remaining_time": 48.55463681
                      },
                      {
                        "learn": [
                          0.06788663706
                        ],
                        "iteration": 544,
                        "passed_time": 58.02734395,
                        "remaining_time": 48.44484678
                      },
                      {
                        "learn": [
                          0.06777188474
                        ],
                        "iteration": 545,
                        "passed_time": 58.12905858,
                        "remaining_time": 48.33441867
                      },
                      {
                        "learn": [
                          0.06761670967
                        ],
                        "iteration": 546,
                        "passed_time": 58.24049273,
                        "remaining_time": 48.23207168
                      },
                      {
                        "learn": [
                          0.06744051632
                        ],
                        "iteration": 547,
                        "passed_time": 58.36644645,
                        "remaining_time": 48.14166751
                      },
                      {
                        "learn": [
                          0.0673274551
                        ],
                        "iteration": 548,
                        "passed_time": 58.52290725,
                        "remaining_time": 48.07619521
                      },
                      {
                        "learn": [
                          0.06708202814
                        ],
                        "iteration": 549,
                        "passed_time": 58.6459081,
                        "remaining_time": 47.98301571
                      },
                      {
                        "learn": [
                          0.06701031134
                        ],
                        "iteration": 550,
                        "passed_time": 58.83124755,
                        "remaining_time": 47.94052659
                      },
                      {
                        "learn": [
                          0.06691802473
                        ],
                        "iteration": 551,
                        "passed_time": 59.03283833,
                        "remaining_time": 47.91070937
                      },
                      {
                        "learn": [
                          0.06670596787
                        ],
                        "iteration": 552,
                        "passed_time": 59.21288457,
                        "remaining_time": 47.86285606
                      },
                      {
                        "learn": [
                          0.0666722965
                        ],
                        "iteration": 553,
                        "passed_time": 59.39221858,
                        "remaining_time": 47.81395214
                      },
                      {
                        "learn": [
                          0.06661194878
                        ],
                        "iteration": 554,
                        "passed_time": 59.60464516,
                        "remaining_time": 47.79111188
                      },
                      {
                        "learn": [
                          0.06655011964
                        ],
                        "iteration": 555,
                        "passed_time": 59.78076868,
                        "remaining_time": 47.73859945
                      },
                      {
                        "learn": [
                          0.06648303419
                        ],
                        "iteration": 556,
                        "passed_time": 59.9625884,
                        "remaining_time": 47.69017354
                      },
                      {
                        "learn": [
                          0.0663488996
                        ],
                        "iteration": 557,
                        "passed_time": 60.15007523,
                        "remaining_time": 47.64575851
                      },
                      {
                        "learn": [
                          0.0661814345
                        ],
                        "iteration": 558,
                        "passed_time": 60.34358887,
                        "remaining_time": 47.60558621
                      },
                      {
                        "learn": [
                          0.06596763786
                        ],
                        "iteration": 559,
                        "passed_time": 60.57839621,
                        "remaining_time": 47.59731131
                      },
                      {
                        "learn": [
                          0.06590941792
                        ],
                        "iteration": 560,
                        "passed_time": 60.77154297,
                        "remaining_time": 47.5556281
                      },
                      {
                        "learn": [
                          0.0657987724
                        ],
                        "iteration": 561,
                        "passed_time": 60.96294839,
                        "remaining_time": 47.51204875
                      },
                      {
                        "learn": [
                          0.06569029238
                        ],
                        "iteration": 562,
                        "passed_time": 61.13060257,
                        "remaining_time": 47.44950856
                      },
                      {
                        "learn": [
                          0.06562126521
                        ],
                        "iteration": 563,
                        "passed_time": 61.31905917,
                        "remaining_time": 47.40267695
                      },
                      {
                        "learn": [
                          0.06553210205
                        ],
                        "iteration": 564,
                        "passed_time": 61.49894545,
                        "remaining_time": 47.34874561
                      },
                      {
                        "learn": [
                          0.06542626789
                        ],
                        "iteration": 565,
                        "passed_time": 61.7167908,
                        "remaining_time": 47.32347563
                      },
                      {
                        "learn": [
                          0.06523893925
                        ],
                        "iteration": 566,
                        "passed_time": 61.90070555,
                        "remaining_time": 47.27161464
                      },
                      {
                        "learn": [
                          0.06519326439
                        ],
                        "iteration": 567,
                        "passed_time": 62.08179813,
                        "remaining_time": 47.21714224
                      },
                      {
                        "learn": [
                          0.06507902365
                        ],
                        "iteration": 568,
                        "passed_time": 62.27176099,
                        "remaining_time": 47.16894374
                      },
                      {
                        "learn": [
                          0.0650255676
                        ],
                        "iteration": 569,
                        "passed_time": 62.46034288,
                        "remaining_time": 47.11920603
                      },
                      {
                        "learn": [
                          0.06482955002
                        ],
                        "iteration": 570,
                        "passed_time": 62.68826213,
                        "remaining_time": 47.0985367
                      },
                      {
                        "learn": [
                          0.06474750279
                        ],
                        "iteration": 571,
                        "passed_time": 62.88872359,
                        "remaining_time": 47.05659737
                      },
                      {
                        "learn": [
                          0.06468092876
                        ],
                        "iteration": 572,
                        "passed_time": 63.05709016,
                        "remaining_time": 46.99018761
                      },
                      {
                        "learn": [
                          0.06453644875
                        ],
                        "iteration": 573,
                        "passed_time": 63.16030876,
                        "remaining_time": 46.87507236
                      },
                      {
                        "learn": [
                          0.06446390333
                        ],
                        "iteration": 574,
                        "passed_time": 63.25431921,
                        "remaining_time": 46.75319246
                      },
                      {
                        "learn": [
                          0.06425292911
                        ],
                        "iteration": 575,
                        "passed_time": 63.35376031,
                        "remaining_time": 46.63540689
                      },
                      {
                        "learn": [
                          0.06421575651
                        ],
                        "iteration": 576,
                        "passed_time": 63.46767189,
                        "remaining_time": 46.52829325
                      },
                      {
                        "learn": [
                          0.06414766816
                        ],
                        "iteration": 577,
                        "passed_time": 63.56459786,
                        "remaining_time": 46.40875484
                      },
                      {
                        "learn": [
                          0.06404197028
                        ],
                        "iteration": 578,
                        "passed_time": 63.66421316,
                        "remaining_time": 46.29124998
                      },
                      {
                        "learn": [
                          0.06390884444
                        ],
                        "iteration": 579,
                        "passed_time": 63.79302165,
                        "remaining_time": 46.19494671
                      },
                      {
                        "learn": [
                          0.06379776731
                        ],
                        "iteration": 580,
                        "passed_time": 63.89046672,
                        "remaining_time": 46.07591318
                      },
                      {
                        "learn": [
                          0.06371805204
                        ],
                        "iteration": 581,
                        "passed_time": 64.00523745,
                        "remaining_time": 45.96939734
                      },
                      {
                        "learn": [
                          0.0636788291
                        ],
                        "iteration": 582,
                        "passed_time": 64.10563611,
                        "remaining_time": 45.85257334
                      },
                      {
                        "learn": [
                          0.0635502384
                        ],
                        "iteration": 583,
                        "passed_time": 64.2030666,
                        "remaining_time": 45.73369128
                      },
                      {
                        "learn": [
                          0.06346459028
                        ],
                        "iteration": 584,
                        "passed_time": 64.30425511,
                        "remaining_time": 45.6175485
                      },
                      {
                        "learn": [
                          0.06340055708
                        ],
                        "iteration": 585,
                        "passed_time": 64.40395635,
                        "remaining_time": 45.50040602
                      },
                      {
                        "learn": [
                          0.06327855153
                        ],
                        "iteration": 586,
                        "passed_time": 64.51874005,
                        "remaining_time": 45.39393465
                      },
                      {
                        "learn": [
                          0.06323817094
                        ],
                        "iteration": 587,
                        "passed_time": 64.61754081,
                        "remaining_time": 45.27623608
                      },
                      {
                        "learn": [
                          0.06310674679
                        ],
                        "iteration": 588,
                        "passed_time": 64.71366406,
                        "remaining_time": 45.15673333
                      },
                      {
                        "learn": [
                          0.06303606327
                        ],
                        "iteration": 589,
                        "passed_time": 64.84833875,
                        "remaining_time": 45.06409981
                      },
                      {
                        "learn": [
                          0.06293661459
                        ],
                        "iteration": 590,
                        "passed_time": 64.94466406,
                        "remaining_time": 44.94478443
                      },
                      {
                        "learn": [
                          0.06279948615
                        ],
                        "iteration": 591,
                        "passed_time": 65.04716466,
                        "remaining_time": 44.82980267
                      },
                      {
                        "learn": [
                          0.0626296664
                        ],
                        "iteration": 592,
                        "passed_time": 65.14342678,
                        "remaining_time": 44.71058128
                      },
                      {
                        "learn": [
                          0.06260754623
                        ],
                        "iteration": 593,
                        "passed_time": 65.24193358,
                        "remaining_time": 44.59297144
                      },
                      {
                        "learn": [
                          0.06239755098
                        ],
                        "iteration": 594,
                        "passed_time": 65.33656615,
                        "remaining_time": 44.47278872
                      },
                      {
                        "learn": [
                          0.0623081664
                        ],
                        "iteration": 595,
                        "passed_time": 65.43511915,
                        "remaining_time": 44.35534922
                      },
                      {
                        "learn": [
                          0.06224695317
                        ],
                        "iteration": 596,
                        "passed_time": 65.54438455,
                        "remaining_time": 44.24520431
                      },
                      {
                        "learn": [
                          0.06220015088
                        ],
                        "iteration": 597,
                        "passed_time": 65.64953266,
                        "remaining_time": 44.13229453
                      },
                      {
                        "learn": [
                          0.06212032572
                        ],
                        "iteration": 598,
                        "passed_time": 65.74839747,
                        "remaining_time": 44.01520432
                      },
                      {
                        "learn": [
                          0.06207695774
                        ],
                        "iteration": 599,
                        "passed_time": 65.87682398,
                        "remaining_time": 43.91788265
                      },
                      {
                        "learn": [
                          0.06195820272
                        ],
                        "iteration": 600,
                        "passed_time": 65.97323448,
                        "remaining_time": 43.79920226
                      },
                      {
                        "learn": [
                          0.06182013713
                        ],
                        "iteration": 601,
                        "passed_time": 66.07255425,
                        "remaining_time": 43.68251925
                      },
                      {
                        "learn": [
                          0.06170200493
                        ],
                        "iteration": 602,
                        "passed_time": 66.17314688,
                        "remaining_time": 43.56673186
                      },
                      {
                        "learn": [
                          0.06151247756
                        ],
                        "iteration": 603,
                        "passed_time": 66.26814299,
                        "remaining_time": 43.44732554
                      },
                      {
                        "learn": [
                          0.0613443641
                        ],
                        "iteration": 604,
                        "passed_time": 66.36358399,
                        "remaining_time": 43.32829038
                      },
                      {
                        "learn": [
                          0.06131496286
                        ],
                        "iteration": 605,
                        "passed_time": 66.46392369,
                        "remaining_time": 43.21251804
                      },
                      {
                        "learn": [
                          0.0611818987
                        ],
                        "iteration": 606,
                        "passed_time": 66.57048041,
                        "remaining_time": 43.10082175
                      },
                      {
                        "learn": [
                          0.06106612248
                        ],
                        "iteration": 607,
                        "passed_time": 66.66975546,
                        "remaining_time": 42.9844476
                      },
                      {
                        "learn": [
                          0.06084502277
                        ],
                        "iteration": 608,
                        "passed_time": 66.76781295,
                        "remaining_time": 42.86734789
                      },
                      {
                        "learn": [
                          0.060794393
                        ],
                        "iteration": 609,
                        "passed_time": 66.89611173,
                        "remaining_time": 42.76964521
                      },
                      {
                        "learn": [
                          0.06072508567
                        ],
                        "iteration": 610,
                        "passed_time": 66.99054231,
                        "remaining_time": 42.6502798
                      },
                      {
                        "learn": [
                          0.06052840252
                        ],
                        "iteration": 611,
                        "passed_time": 67.08673647,
                        "remaining_time": 42.53211397
                      },
                      {
                        "learn": [
                          0.06046775974
                        ],
                        "iteration": 612,
                        "passed_time": 67.18635184,
                        "remaining_time": 42.41617971
                      },
                      {
                        "learn": [
                          0.06037708497
                        ],
                        "iteration": 613,
                        "passed_time": 67.28200626,
                        "remaining_time": 42.29780849
                      },
                      {
                        "learn": [
                          0.06022959271
                        ],
                        "iteration": 614,
                        "passed_time": 67.38165935,
                        "remaining_time": 42.18201439
                      },
                      {
                        "learn": [
                          0.06010380524
                        ],
                        "iteration": 615,
                        "passed_time": 67.48192686,
                        "remaining_time": 42.06665571
                      },
                      {
                        "learn": [
                          0.06002867654
                        ],
                        "iteration": 616,
                        "passed_time": 67.59318657,
                        "remaining_time": 41.9581693
                      },
                      {
                        "learn": [
                          0.05993314515
                        ],
                        "iteration": 617,
                        "passed_time": 67.69194913,
                        "remaining_time": 41.84194914
                      },
                      {
                        "learn": [
                          0.05968268659
                        ],
                        "iteration": 618,
                        "passed_time": 67.78889156,
                        "remaining_time": 41.72466508
                      },
                      {
                        "learn": [
                          0.05957275788
                        ],
                        "iteration": 619,
                        "passed_time": 67.92349115,
                        "remaining_time": 41.63052683
                      },
                      {
                        "learn": [
                          0.0595140837
                        ],
                        "iteration": 620,
                        "passed_time": 68.01840899,
                        "remaining_time": 41.51204027
                      },
                      {
                        "learn": [
                          0.05939349908
                        ],
                        "iteration": 621,
                        "passed_time": 68.11871325,
                        "remaining_time": 41.39690291
                      },
                      {
                        "learn": [
                          0.05929079307
                        ],
                        "iteration": 622,
                        "passed_time": 68.22317663,
                        "remaining_time": 41.28433
                      },
                      {
                        "learn": [
                          0.05925365618
                        ],
                        "iteration": 623,
                        "passed_time": 68.32158679,
                        "remaining_time": 41.16813563
                      },
                      {
                        "learn": [
                          0.05917758302
                        ],
                        "iteration": 624,
                        "passed_time": 68.41899026,
                        "remaining_time": 41.05139416
                      },
                      {
                        "learn": [
                          0.05905936794
                        ],
                        "iteration": 625,
                        "passed_time": 68.51719614,
                        "remaining_time": 40.93519386
                      },
                      {
                        "learn": [
                          0.05902218347
                        ],
                        "iteration": 626,
                        "passed_time": 68.62708025,
                        "remaining_time": 40.8259983
                      },
                      {
                        "learn": [
                          0.05897848353
                        ],
                        "iteration": 627,
                        "passed_time": 68.72223178,
                        "remaining_time": 40.7080736
                      },
                      {
                        "learn": [
                          0.05891687679
                        ],
                        "iteration": 628,
                        "passed_time": 68.81764712,
                        "remaining_time": 40.59037692
                      },
                      {
                        "learn": [
                          0.05883970839
                        ],
                        "iteration": 629,
                        "passed_time": 68.9498603,
                        "remaining_time": 40.4943624
                      },
                      {
                        "learn": [
                          0.05876028838
                        ],
                        "iteration": 630,
                        "passed_time": 69.04816094,
                        "remaining_time": 40.37840157
                      },
                      {
                        "learn": [
                          0.05873212127
                        ],
                        "iteration": 631,
                        "passed_time": 69.14766867,
                        "remaining_time": 40.26319948
                      },
                      {
                        "learn": [
                          0.05864271787
                        ],
                        "iteration": 632,
                        "passed_time": 69.2482362,
                        "remaining_time": 40.14866143
                      },
                      {
                        "learn": [
                          0.05851113669
                        ],
                        "iteration": 633,
                        "passed_time": 69.34550938,
                        "remaining_time": 40.03226567
                      },
                      {
                        "learn": [
                          0.0584273586
                        ],
                        "iteration": 634,
                        "passed_time": 69.44301405,
                        "remaining_time": 39.9160632
                      },
                      {
                        "learn": [
                          0.05828198121
                        ],
                        "iteration": 635,
                        "passed_time": 69.54339387,
                        "remaining_time": 39.80156504
                      },
                      {
                        "learn": [
                          0.05818629704
                        ],
                        "iteration": 636,
                        "passed_time": 69.65398114,
                        "remaining_time": 39.69292803
                      },
                      {
                        "learn": [
                          0.05805116566
                        ],
                        "iteration": 637,
                        "passed_time": 69.75165759,
                        "remaining_time": 39.57695932
                      },
                      {
                        "learn": [
                          0.05793250735
                        ],
                        "iteration": 638,
                        "passed_time": 69.85094954,
                        "remaining_time": 39.46196054
                      },
                      {
                        "learn": [
                          0.05787844378
                        ],
                        "iteration": 639,
                        "passed_time": 69.98321252,
                        "remaining_time": 39.36555704
                      },
                      {
                        "learn": [
                          0.05777642411
                        ],
                        "iteration": 640,
                        "passed_time": 70.08176624,
                        "remaining_time": 39.25016237
                      },
                      {
                        "learn": [
                          0.05769130275
                        ],
                        "iteration": 641,
                        "passed_time": 70.18108911,
                        "remaining_time": 39.13524907
                      },
                      {
                        "learn": [
                          0.05759826863
                        ],
                        "iteration": 642,
                        "passed_time": 70.28054408,
                        "remaining_time": 39.0204576
                      },
                      {
                        "learn": [
                          0.05745492494
                        ],
                        "iteration": 643,
                        "passed_time": 70.38273304,
                        "remaining_time": 38.90722509
                      },
                      {
                        "learn": [
                          0.0574282111
                        ],
                        "iteration": 644,
                        "passed_time": 70.48083766,
                        "remaining_time": 38.79177887
                      },
                      {
                        "learn": [
                          0.0573578453
                        ],
                        "iteration": 645,
                        "passed_time": 70.58323744,
                        "remaining_time": 38.67874002
                      },
                      {
                        "learn": [
                          0.05725729851
                        ],
                        "iteration": 646,
                        "passed_time": 70.68952847,
                        "remaining_time": 38.56785711
                      },
                      {
                        "learn": [
                          0.05720524823
                        ],
                        "iteration": 647,
                        "passed_time": 70.78619674,
                        "remaining_time": 38.45176119
                      },
                      {
                        "learn": [
                          0.05708707011
                        ],
                        "iteration": 648,
                        "passed_time": 70.88499209,
                        "remaining_time": 38.33687554
                      },
                      {
                        "learn": [
                          0.05699161804
                        ],
                        "iteration": 649,
                        "passed_time": 71.02401147,
                        "remaining_time": 38.24369848
                      },
                      {
                        "learn": [
                          0.05692467871
                        ],
                        "iteration": 650,
                        "passed_time": 71.12012719,
                        "remaining_time": 38.12738001
                      },
                      {
                        "learn": [
                          0.05672125518
                        ],
                        "iteration": 651,
                        "passed_time": 71.21982296,
                        "remaining_time": 38.01303434
                      },
                      {
                        "learn": [
                          0.05657349028
                        ],
                        "iteration": 652,
                        "passed_time": 71.31999769,
                        "remaining_time": 37.89898805
                      },
                      {
                        "learn": [
                          0.05649191675
                        ],
                        "iteration": 653,
                        "passed_time": 71.41644555,
                        "remaining_time": 37.78301248
                      },
                      {
                        "learn": [
                          0.05645594079
                        ],
                        "iteration": 654,
                        "passed_time": 71.51444778,
                        "remaining_time": 37.66791524
                      },
                      {
                        "learn": [
                          0.05638596332
                        ],
                        "iteration": 655,
                        "passed_time": 71.61326668,
                        "remaining_time": 37.55329838
                      },
                      {
                        "learn": [
                          0.05635415963
                        ],
                        "iteration": 656,
                        "passed_time": 71.71940626,
                        "remaining_time": 37.44255152
                      },
                      {
                        "learn": [
                          0.05627547072
                        ],
                        "iteration": 657,
                        "passed_time": 71.82528816,
                        "remaining_time": 37.33168473
                      },
                      {
                        "learn": [
                          0.05616075199
                        ],
                        "iteration": 658,
                        "passed_time": 71.92409924,
                        "remaining_time": 37.21717427
                      },
                      {
                        "learn": [
                          0.05597520667
                        ],
                        "iteration": 659,
                        "passed_time": 72.06156548,
                        "remaining_time": 37.12262464
                      },
                      {
                        "learn": [
                          0.05584576291
                        ],
                        "iteration": 660,
                        "passed_time": 72.16673786,
                        "remaining_time": 37.01138296
                      },
                      {
                        "learn": [
                          0.05572340547
                        ],
                        "iteration": 661,
                        "passed_time": 72.26359326,
                        "remaining_time": 36.89591318
                      },
                      {
                        "learn": [
                          0.05566852421
                        ],
                        "iteration": 662,
                        "passed_time": 72.36060389,
                        "remaining_time": 36.78057845
                      },
                      {
                        "learn": [
                          0.05561547167
                        ],
                        "iteration": 663,
                        "passed_time": 72.45724835,
                        "remaining_time": 36.66511362
                      },
                      {
                        "learn": [
                          0.05555701792
                        ],
                        "iteration": 664,
                        "passed_time": 72.55510338,
                        "remaining_time": 36.55031524
                      },
                      {
                        "learn": [
                          0.05548878751
                        ],
                        "iteration": 665,
                        "passed_time": 72.65261866,
                        "remaining_time": 36.43539735
                      },
                      {
                        "learn": [
                          0.05539052198
                        ],
                        "iteration": 666,
                        "passed_time": 72.76192664,
                        "remaining_time": 36.32641915
                      },
                      {
                        "learn": [
                          0.05529616439
                        ],
                        "iteration": 667,
                        "passed_time": 72.85991283,
                        "remaining_time": 36.21181296
                      },
                      {
                        "learn": [
                          0.05523475718
                        ],
                        "iteration": 668,
                        "passed_time": 72.9554735,
                        "remaining_time": 36.0960564
                      },
                      {
                        "learn": [
                          0.05510766932
                        ],
                        "iteration": 669,
                        "passed_time": 73.07702205,
                        "remaining_time": 35.99316011
                      },
                      {
                        "learn": [
                          0.05498313655
                        ],
                        "iteration": 670,
                        "passed_time": 73.18876034,
                        "remaining_time": 35.88539814
                      },
                      {
                        "learn": [
                          0.05485230352
                        ],
                        "iteration": 671,
                        "passed_time": 73.28247981,
                        "remaining_time": 35.76882943
                      },
                      {
                        "learn": [
                          0.05474255631
                        ],
                        "iteration": 672,
                        "passed_time": 73.38157013,
                        "remaining_time": 35.65493823
                      },
                      {
                        "learn": [
                          0.05463638534
                        ],
                        "iteration": 673,
                        "passed_time": 73.48068401,
                        "remaining_time": 35.54110235
                      },
                      {
                        "learn": [
                          0.0545938031
                        ],
                        "iteration": 674,
                        "passed_time": 73.58579757,
                        "remaining_time": 35.43019883
                      },
                      {
                        "learn": [
                          0.05453276175
                        ],
                        "iteration": 675,
                        "passed_time": 73.68351753,
                        "remaining_time": 35.31576876
                      },
                      {
                        "learn": [
                          0.05442048603
                        ],
                        "iteration": 676,
                        "passed_time": 73.79373267,
                        "remaining_time": 35.20734956
                      },
                      {
                        "learn": [
                          0.05427700154
                        ],
                        "iteration": 677,
                        "passed_time": 73.90905986,
                        "remaining_time": 35.10135291
                      },
                      {
                        "learn": [
                          0.05425405814
                        ],
                        "iteration": 678,
                        "passed_time": 74.00388794,
                        "remaining_time": 34.98563774
                      },
                      {
                        "learn": [
                          0.05421650177
                        ],
                        "iteration": 679,
                        "passed_time": 74.11915872,
                        "remaining_time": 34.8796041
                      },
                      {
                        "learn": [
                          0.05415318412
                        ],
                        "iteration": 680,
                        "passed_time": 74.25822669,
                        "remaining_time": 34.78469062
                      },
                      {
                        "learn": [
                          0.05407953808
                        ],
                        "iteration": 681,
                        "passed_time": 74.35620444,
                        "remaining_time": 34.67048829
                      },
                      {
                        "learn": [
                          0.05399367863
                        ],
                        "iteration": 682,
                        "passed_time": 74.45493537,
                        "remaining_time": 34.55668304
                      },
                      {
                        "learn": [
                          0.05391966116
                        ],
                        "iteration": 683,
                        "passed_time": 74.55219203,
                        "remaining_time": 34.44224076
                      },
                      {
                        "learn": [
                          0.0538558939
                        ],
                        "iteration": 684,
                        "passed_time": 74.66344768,
                        "remaining_time": 34.33428616
                      },
                      {
                        "learn": [
                          0.05376876766
                        ],
                        "iteration": 685,
                        "passed_time": 74.75834809,
                        "remaining_time": 34.21883571
                      },
                      {
                        "learn": [
                          0.0537051457
                        ],
                        "iteration": 686,
                        "passed_time": 74.86888285,
                        "remaining_time": 34.11056817
                      },
                      {
                        "learn": [
                          0.05350941637
                        ],
                        "iteration": 687,
                        "passed_time": 74.9712883,
                        "remaining_time": 33.99860748
                      },
                      {
                        "learn": [
                          0.05347358723
                        ],
                        "iteration": 688,
                        "passed_time": 75.07009083,
                        "remaining_time": 33.88504826
                      },
                      {
                        "learn": [
                          0.05338927974
                        ],
                        "iteration": 689,
                        "passed_time": 75.20844199,
                        "remaining_time": 33.78930003
                      },
                      {
                        "learn": [
                          0.05315723709
                        ],
                        "iteration": 690,
                        "passed_time": 75.3078295,
                        "remaining_time": 33.6760048
                      },
                      {
                        "learn": [
                          0.05312454997
                        ],
                        "iteration": 691,
                        "passed_time": 75.404113,
                        "remaining_time": 33.56136822
                      },
                      {
                        "learn": [
                          0.05299533725
                        ],
                        "iteration": 692,
                        "passed_time": 75.50996234,
                        "remaining_time": 33.45102228
                      },
                      {
                        "learn": [
                          0.05292790467
                        ],
                        "iteration": 693,
                        "passed_time": 75.61117954,
                        "remaining_time": 33.33864689
                      },
                      {
                        "learn": [
                          0.05280118803
                        ],
                        "iteration": 694,
                        "passed_time": 75.70436461,
                        "remaining_time": 33.22277871
                      },
                      {
                        "learn": [
                          0.05278140653
                        ],
                        "iteration": 695,
                        "passed_time": 75.81102948,
                        "remaining_time": 33.11286345
                      },
                      {
                        "learn": [
                          0.05271981913
                        ],
                        "iteration": 696,
                        "passed_time": 75.90887913,
                        "remaining_time": 32.99912536
                      },
                      {
                        "learn": [
                          0.05260249579
                        ],
                        "iteration": 697,
                        "passed_time": 76.00521885,
                        "remaining_time": 32.8847795
                      },
                      {
                        "learn": [
                          0.05255219592
                        ],
                        "iteration": 698,
                        "passed_time": 76.104089,
                        "remaining_time": 32.7715748
                      },
                      {
                        "learn": [
                          0.05251654207
                        ],
                        "iteration": 699,
                        "passed_time": 76.21975741,
                        "remaining_time": 32.66561032
                      },
                      {
                        "learn": [
                          0.05242994789
                        ],
                        "iteration": 700,
                        "passed_time": 76.33414792,
                        "remaining_time": 32.55907308
                      },
                      {
                        "learn": [
                          0.05237356348
                        ],
                        "iteration": 701,
                        "passed_time": 76.43063391,
                        "remaining_time": 32.44491297
                      },
                      {
                        "learn": [
                          0.05232274808
                        ],
                        "iteration": 702,
                        "passed_time": 76.53405529,
                        "remaining_time": 32.33373317
                      },
                      {
                        "learn": [
                          0.05219841468
                        ],
                        "iteration": 703,
                        "passed_time": 76.6327698,
                        "remaining_time": 32.22059639
                      },
                      {
                        "learn": [
                          0.05206465387
                        ],
                        "iteration": 704,
                        "passed_time": 76.73354177,
                        "remaining_time": 32.10836145
                      },
                      {
                        "learn": [
                          0.05190816212
                        ],
                        "iteration": 705,
                        "passed_time": 76.84025792,
                        "remaining_time": 31.99863432
                      },
                      {
                        "learn": [
                          0.0517943694
                        ],
                        "iteration": 706,
                        "passed_time": 76.94233108,
                        "remaining_time": 31.88699152
                      },
                      {
                        "learn": [
                          0.05171169313
                        ],
                        "iteration": 707,
                        "passed_time": 77.03880157,
                        "remaining_time": 31.77306505
                      },
                      {
                        "learn": [
                          0.05162462895
                        ],
                        "iteration": 708,
                        "passed_time": 77.13799321,
                        "remaining_time": 31.66030469
                      },
                      {
                        "learn": [
                          0.0515809125
                        ],
                        "iteration": 709,
                        "passed_time": 77.25520462,
                        "remaining_time": 31.55494273
                      },
                      {
                        "learn": [
                          0.05152979305
                        ],
                        "iteration": 710,
                        "passed_time": 77.36651517,
                        "remaining_time": 31.44714892
                      },
                      {
                        "learn": [
                          0.05149413305
                        ],
                        "iteration": 711,
                        "passed_time": 77.46356714,
                        "remaining_time": 31.33357772
                      },
                      {
                        "learn": [
                          0.05142988038
                        ],
                        "iteration": 712,
                        "passed_time": 77.56604722,
                        "remaining_time": 31.2222378
                      },
                      {
                        "learn": [
                          0.05134406876
                        ],
                        "iteration": 713,
                        "passed_time": 77.66470776,
                        "remaining_time": 31.10939275
                      },
                      {
                        "learn": [
                          0.05129972899
                        ],
                        "iteration": 714,
                        "passed_time": 77.75912214,
                        "remaining_time": 30.99489484
                      },
                      {
                        "learn": [
                          0.05112434843
                        ],
                        "iteration": 715,
                        "passed_time": 77.86262425,
                        "remaining_time": 30.88405766
                      },
                      {
                        "learn": [
                          0.0510510184
                        ],
                        "iteration": 716,
                        "passed_time": 77.96649641,
                        "remaining_time": 30.77338701
                      },
                      {
                        "learn": [
                          0.05098013581
                        ],
                        "iteration": 717,
                        "passed_time": 78.06121192,
                        "remaining_time": 30.65913894
                      },
                      {
                        "learn": [
                          0.05095256392
                        ],
                        "iteration": 718,
                        "passed_time": 78.16050623,
                        "remaining_time": 30.5467347
                      },
                      {
                        "learn": [
                          0.05080930484
                        ],
                        "iteration": 719,
                        "passed_time": 78.25818294,
                        "remaining_time": 30.43373781
                      },
                      {
                        "learn": [
                          0.05076460661
                        ],
                        "iteration": 720,
                        "passed_time": 78.39787063,
                        "remaining_time": 30.33704009
                      },
                      {
                        "learn": [
                          0.05071926356
                        ],
                        "iteration": 721,
                        "passed_time": 78.49277873,
                        "remaining_time": 30.22298128
                      },
                      {
                        "learn": [
                          0.05064667993
                        ],
                        "iteration": 722,
                        "passed_time": 78.59703496,
                        "remaining_time": 30.11255696
                      },
                      {
                        "learn": [
                          0.05057837934
                        ],
                        "iteration": 723,
                        "passed_time": 78.69635514,
                        "remaining_time": 30.00026798
                      },
                      {
                        "learn": [
                          0.05052557995
                        ],
                        "iteration": 724,
                        "passed_time": 78.79342861,
                        "remaining_time": 29.88716258
                      },
                      {
                        "learn": [
                          0.05049333164
                        ],
                        "iteration": 725,
                        "passed_time": 78.89827866,
                        "remaining_time": 29.7770363
                      },
                      {
                        "learn": [
                          0.05044423253
                        ],
                        "iteration": 726,
                        "passed_time": 78.99584592,
                        "remaining_time": 29.66418973
                      },
                      {
                        "learn": [
                          0.05030554733
                        ],
                        "iteration": 727,
                        "passed_time": 79.09290134,
                        "remaining_time": 29.55119391
                      },
                      {
                        "learn": [
                          0.05027105515
                        ],
                        "iteration": 728,
                        "passed_time": 79.18830526,
                        "remaining_time": 29.43762788
                      },
                      {
                        "learn": [
                          0.05018669879
                        ],
                        "iteration": 729,
                        "passed_time": 79.28578153,
                        "remaining_time": 29.3248781
                      },
                      {
                        "learn": [
                          0.05012660826
                        ],
                        "iteration": 730,
                        "passed_time": 79.420224,
                        "remaining_time": 29.22577327
                      },
                      {
                        "learn": [
                          0.05011337025
                        ],
                        "iteration": 731,
                        "passed_time": 79.51524032,
                        "remaining_time": 29.11213717
                      },
                      {
                        "learn": [
                          0.05007059671
                        ],
                        "iteration": 732,
                        "passed_time": 79.6148321,
                        "remaining_time": 29.00021851
                      },
                      {
                        "learn": [
                          0.04998089183
                        ],
                        "iteration": 733,
                        "passed_time": 79.76122009,
                        "remaining_time": 28.90529229
                      },
                      {
                        "learn": [
                          0.04995475681
                        ],
                        "iteration": 734,
                        "passed_time": 80.08426486,
                        "remaining_time": 28.87391862
                      },
                      {
                        "learn": [
                          0.04993015064
                        ],
                        "iteration": 735,
                        "passed_time": 80.44157397,
                        "remaining_time": 28.85404284
                      },
                      {
                        "learn": [
                          0.04990764707
                        ],
                        "iteration": 736,
                        "passed_time": 80.59465933,
                        "remaining_time": 28.76037368
                      },
                      {
                        "learn": [
                          0.04986506316
                        ],
                        "iteration": 737,
                        "passed_time": 80.68969689,
                        "remaining_time": 28.64593575
                      },
                      {
                        "learn": [
                          0.04983255054
                        ],
                        "iteration": 738,
                        "passed_time": 80.78734639,
                        "remaining_time": 28.53247281
                      },
                      {
                        "learn": [
                          0.04975108496
                        ],
                        "iteration": 739,
                        "passed_time": 80.88788945,
                        "remaining_time": 28.42006927
                      },
                      {
                        "learn": [
                          0.04973236958
                        ],
                        "iteration": 740,
                        "passed_time": 80.9930991,
                        "remaining_time": 28.30932883
                      },
                      {
                        "learn": [
                          0.04965467567
                        ],
                        "iteration": 741,
                        "passed_time": 81.33623721,
                        "remaining_time": 28.28133316
                      },
                      {
                        "learn": [
                          0.04960520748
                        ],
                        "iteration": 742,
                        "passed_time": 81.58688059,
                        "remaining_time": 28.22049571
                      },
                      {
                        "learn": [
                          0.04945840179
                        ],
                        "iteration": 743,
                        "passed_time": 81.6943656,
                        "remaining_time": 28.10988924
                      },
                      {
                        "learn": [
                          0.04940272392
                        ],
                        "iteration": 744,
                        "passed_time": 81.78824761,
                        "remaining_time": 27.99463509
                      },
                      {
                        "learn": [
                          0.04933136201
                        ],
                        "iteration": 745,
                        "passed_time": 81.88459366,
                        "remaining_time": 27.8802772
                      },
                      {
                        "learn": [
                          0.04927498905
                        ],
                        "iteration": 746,
                        "passed_time": 81.99142647,
                        "remaining_time": 27.76951927
                      },
                      {
                        "learn": [
                          0.04919749091
                        ],
                        "iteration": 747,
                        "passed_time": 82.08787004,
                        "remaining_time": 27.65527173
                      },
                      {
                        "learn": [
                          0.04910374912
                        ],
                        "iteration": 748,
                        "passed_time": 82.18492865,
                        "remaining_time": 27.54127782
                      },
                      {
                        "learn": [
                          0.04889551411
                        ],
                        "iteration": 749,
                        "passed_time": 82.28232479,
                        "remaining_time": 27.4274416
                      },
                      {
                        "learn": [
                          0.04881102595
                        ],
                        "iteration": 750,
                        "passed_time": 82.38132808,
                        "remaining_time": 27.31418201
                      },
                      {
                        "learn": [
                          0.04874879652
                        ],
                        "iteration": 751,
                        "passed_time": 82.47880766,
                        "remaining_time": 27.20045784
                      },
                      {
                        "learn": [
                          0.04864519866
                        ],
                        "iteration": 752,
                        "passed_time": 82.67204322,
                        "remaining_time": 27.11818682
                      },
                      {
                        "learn": [
                          0.04859334848
                        ],
                        "iteration": 753,
                        "passed_time": 82.78638913,
                        "remaining_time": 27.00988292
                      },
                      {
                        "learn": [
                          0.04850706021
                        ],
                        "iteration": 754,
                        "passed_time": 82.88402705,
                        "remaining_time": 26.89614123
                      },
                      {
                        "learn": [
                          0.04842798579
                        ],
                        "iteration": 755,
                        "passed_time": 82.98125393,
                        "remaining_time": 26.78230947
                      },
                      {
                        "learn": [
                          0.0483512967
                        ],
                        "iteration": 756,
                        "passed_time": 83.09364075,
                        "remaining_time": 26.67338798
                      },
                      {
                        "learn": [
                          0.04828462661
                        ],
                        "iteration": 757,
                        "passed_time": 83.18988787,
                        "remaining_time": 26.55930457
                      },
                      {
                        "learn": [
                          0.04821342984
                        ],
                        "iteration": 758,
                        "passed_time": 83.28494308,
                        "remaining_time": 26.4448897
                      },
                      {
                        "learn": [
                          0.04812766457
                        ],
                        "iteration": 759,
                        "passed_time": 83.38143133,
                        "remaining_time": 26.33097831
                      },
                      {
                        "learn": [
                          0.04807298626
                        ],
                        "iteration": 760,
                        "passed_time": 83.48132143,
                        "remaining_time": 26.21818111
                      },
                      {
                        "learn": [
                          0.04802942452
                        ],
                        "iteration": 761,
                        "passed_time": 83.58066317,
                        "remaining_time": 26.1052465
                      },
                      {
                        "learn": [
                          0.04793560952
                        ],
                        "iteration": 762,
                        "passed_time": 83.69907721,
                        "remaining_time": 25.99827169
                      },
                      {
                        "learn": [
                          0.04791816466
                        ],
                        "iteration": 763,
                        "passed_time": 83.81213011,
                        "remaining_time": 25.88961087
                      },
                      {
                        "learn": [
                          0.04785486985
                        ],
                        "iteration": 764,
                        "passed_time": 83.90655109,
                        "remaining_time": 25.77521504
                      },
                      {
                        "learn": [
                          0.0477179087
                        ],
                        "iteration": 765,
                        "passed_time": 84.00574531,
                        "remaining_time": 25.66232951
                      },
                      {
                        "learn": [
                          0.04762033082
                        ],
                        "iteration": 766,
                        "passed_time": 84.11600797,
                        "remaining_time": 25.55284206
                      },
                      {
                        "learn": [
                          0.04760064899
                        ],
                        "iteration": 767,
                        "passed_time": 84.21478682,
                        "remaining_time": 25.43988352
                      },
                      {
                        "learn": [
                          0.0475237302
                        ],
                        "iteration": 768,
                        "passed_time": 84.31176313,
                        "remaining_time": 25.32642039
                      },
                      {
                        "learn": [
                          0.04742148143
                        ],
                        "iteration": 769,
                        "passed_time": 84.40988357,
                        "remaining_time": 25.21334185
                      },
                      {
                        "learn": [
                          0.04732215026
                        ],
                        "iteration": 770,
                        "passed_time": 84.53366201,
                        "remaining_time": 25.10792296
                      },
                      {
                        "learn": [
                          0.04717862334
                        ],
                        "iteration": 771,
                        "passed_time": 84.63157854,
                        "remaining_time": 24.99481853
                      },
                      {
                        "learn": [
                          0.04712067903
                        ],
                        "iteration": 772,
                        "passed_time": 84.75261096,
                        "remaining_time": 24.88854164
                      },
                      {
                        "learn": [
                          0.04706662962
                        ],
                        "iteration": 773,
                        "passed_time": 84.8662856,
                        "remaining_time": 24.78007822
                      },
                      {
                        "learn": [
                          0.04700800924
                        ],
                        "iteration": 774,
                        "passed_time": 84.96334537,
                        "remaining_time": 24.66677769
                      },
                      {
                        "learn": [
                          0.04690366968
                        ],
                        "iteration": 775,
                        "passed_time": 85.0753659,
                        "remaining_time": 24.55783758
                      },
                      {
                        "learn": [
                          0.04688066478
                        ],
                        "iteration": 776,
                        "passed_time": 85.17033228,
                        "remaining_time": 24.44399498
                      },
                      {
                        "learn": [
                          0.0467154602
                        ],
                        "iteration": 777,
                        "passed_time": 85.26441188,
                        "remaining_time": 24.32994786
                      },
                      {
                        "learn": [
                          0.0466819817
                        ],
                        "iteration": 778,
                        "passed_time": 85.35902194,
                        "remaining_time": 24.2161025
                      },
                      {
                        "learn": [
                          0.04665964714
                        ],
                        "iteration": 779,
                        "passed_time": 85.45735309,
                        "remaining_time": 24.103356
                      },
                      {
                        "learn": [
                          0.04648886672
                        ],
                        "iteration": 780,
                        "passed_time": 85.55655891,
                        "remaining_time": 23.99089168
                      },
                      {
                        "learn": [
                          0.0464472117
                        ],
                        "iteration": 781,
                        "passed_time": 85.65485861,
                        "remaining_time": 23.87820867
                      },
                      {
                        "learn": [
                          0.04634234433
                        ],
                        "iteration": 782,
                        "passed_time": 85.75034089,
                        "remaining_time": 23.76478158
                      },
                      {
                        "learn": [
                          0.04627431859
                        ],
                        "iteration": 783,
                        "passed_time": 85.8947865,
                        "remaining_time": 23.66489016
                      },
                      {
                        "learn": [
                          0.04620728238
                        ],
                        "iteration": 784,
                        "passed_time": 85.99252893,
                        "remaining_time": 23.55209391
                      },
                      {
                        "learn": [
                          0.04611387007
                        ],
                        "iteration": 785,
                        "passed_time": 86.09982863,
                        "remaining_time": 23.44193808
                      },
                      {
                        "learn": [
                          0.04602611177
                        ],
                        "iteration": 786,
                        "passed_time": 86.19623103,
                        "remaining_time": 23.32884017
                      },
                      {
                        "learn": [
                          0.04586528864
                        ],
                        "iteration": 787,
                        "passed_time": 86.29971375,
                        "remaining_time": 23.21768949
                      },
                      {
                        "learn": [
                          0.04577690521
                        ],
                        "iteration": 788,
                        "passed_time": 86.39812521,
                        "remaining_time": 23.10520205
                      },
                      {
                        "learn": [
                          0.04569644225
                        ],
                        "iteration": 789,
                        "passed_time": 86.49801459,
                        "remaining_time": 22.99314312
                      },
                      {
                        "learn": [
                          0.0456642809
                        ],
                        "iteration": 790,
                        "passed_time": 86.59473941,
                        "remaining_time": 22.88027881
                      },
                      {
                        "learn": [
                          0.04560714
                        ],
                        "iteration": 791,
                        "passed_time": 86.69180273,
                        "remaining_time": 22.76754415
                      },
                      {
                        "learn": [
                          0.04555865169
                        ],
                        "iteration": 792,
                        "passed_time": 86.78837345,
                        "remaining_time": 22.65472043
                      },
                      {
                        "learn": [
                          0.04551021443
                        ],
                        "iteration": 793,
                        "passed_time": 86.93304003,
                        "remaining_time": 22.55441593
                      },
                      {
                        "learn": [
                          0.04539372908
                        ],
                        "iteration": 794,
                        "passed_time": 87.03296813,
                        "remaining_time": 22.44246348
                      },
                      {
                        "learn": [
                          0.04524634384
                        ],
                        "iteration": 795,
                        "passed_time": 87.1452514,
                        "remaining_time": 22.33370764
                      },
                      {
                        "learn": [
                          0.04513845213
                        ],
                        "iteration": 796,
                        "passed_time": 87.24284372,
                        "remaining_time": 22.2212011
                      },
                      {
                        "learn": [
                          0.04510336561
                        ],
                        "iteration": 797,
                        "passed_time": 87.3374806,
                        "remaining_time": 22.10798381
                      },
                      {
                        "learn": [
                          0.04506637652
                        ],
                        "iteration": 798,
                        "passed_time": 87.43585595,
                        "remaining_time": 21.9957535
                      },
                      {
                        "learn": [
                          0.04503108752
                        ],
                        "iteration": 799,
                        "passed_time": 87.53465717,
                        "remaining_time": 21.88366429
                      },
                      {
                        "learn": [
                          0.04497265518
                        ],
                        "iteration": 800,
                        "passed_time": 87.63597612,
                        "remaining_time": 21.77223377
                      },
                      {
                        "learn": [
                          0.0448853025
                        ],
                        "iteration": 801,
                        "passed_time": 87.73302887,
                        "remaining_time": 21.65977521
                      },
                      {
                        "learn": [
                          0.04477834806
                        ],
                        "iteration": 802,
                        "passed_time": 87.85594157,
                        "remaining_time": 21.55369924
                      },
                      {
                        "learn": [
                          0.04470854634
                        ],
                        "iteration": 803,
                        "passed_time": 87.97348941,
                        "remaining_time": 21.44627354
                      },
                      {
                        "learn": [
                          0.044641997
                        ],
                        "iteration": 804,
                        "passed_time": 88.07390185,
                        "remaining_time": 21.33467188
                      },
                      {
                        "learn": [
                          0.04461550528
                        ],
                        "iteration": 805,
                        "passed_time": 88.18425774,
                        "remaining_time": 21.22549132
                      },
                      {
                        "learn": [
                          0.04455859124
                        ],
                        "iteration": 806,
                        "passed_time": 88.27899249,
                        "remaining_time": 21.11257193
                      },
                      {
                        "learn": [
                          0.04451837065
                        ],
                        "iteration": 807,
                        "passed_time": 88.37758013,
                        "remaining_time": 21.0006131
                      },
                      {
                        "learn": [
                          0.04444886566
                        ],
                        "iteration": 808,
                        "passed_time": 88.47272793,
                        "remaining_time": 20.8878752
                      },
                      {
                        "learn": [
                          0.04436012991
                        ],
                        "iteration": 809,
                        "passed_time": 88.57125655,
                        "remaining_time": 20.77597376
                      },
                      {
                        "learn": [
                          0.04429459012
                        ],
                        "iteration": 810,
                        "passed_time": 88.66680873,
                        "remaining_time": 20.66341165
                      },
                      {
                        "learn": [
                          0.04418556205
                        ],
                        "iteration": 811,
                        "passed_time": 88.76815667,
                        "remaining_time": 20.55223332
                      },
                      {
                        "learn": [
                          0.044135503
                        ],
                        "iteration": 812,
                        "passed_time": 88.88605178,
                        "remaining_time": 20.44488522
                      },
                      {
                        "learn": [
                          0.04394439777
                        ],
                        "iteration": 813,
                        "passed_time": 89.01128954,
                        "remaining_time": 20.33918901
                      },
                      {
                        "learn": [
                          0.04390307787
                        ],
                        "iteration": 814,
                        "passed_time": 89.10617226,
                        "remaining_time": 20.22655444
                      },
                      {
                        "learn": [
                          0.04385742855
                        ],
                        "iteration": 815,
                        "passed_time": 89.21325213,
                        "remaining_time": 20.11671372
                      },
                      {
                        "learn": [
                          0.04377021118
                        ],
                        "iteration": 816,
                        "passed_time": 89.31444304,
                        "remaining_time": 20.00556068
                      },
                      {
                        "learn": [
                          0.04370071803
                        ],
                        "iteration": 817,
                        "passed_time": 89.41040099,
                        "remaining_time": 19.8932677
                      },
                      {
                        "learn": [
                          0.04365160746
                        ],
                        "iteration": 818,
                        "passed_time": 89.51374624,
                        "remaining_time": 19.78264722
                      },
                      {
                        "learn": [
                          0.04360202141
                        ],
                        "iteration": 819,
                        "passed_time": 89.6101082,
                        "remaining_time": 19.67051156
                      },
                      {
                        "learn": [
                          0.04358544628
                        ],
                        "iteration": 820,
                        "passed_time": 89.70921588,
                        "remaining_time": 19.55901296
                      },
                      {
                        "learn": [
                          0.04352793095
                        ],
                        "iteration": 821,
                        "passed_time": 89.81208784,
                        "remaining_time": 19.44835965
                      },
                      {
                        "learn": [
                          0.04346806089
                        ],
                        "iteration": 822,
                        "passed_time": 89.93565157,
                        "remaining_time": 19.34217537
                      },
                      {
                        "learn": [
                          0.04342078597
                        ],
                        "iteration": 823,
                        "passed_time": 90.05476744,
                        "remaining_time": 19.23499887
                      },
                      {
                        "learn": [
                          0.0433296616
                        ],
                        "iteration": 824,
                        "passed_time": 90.15361581,
                        "remaining_time": 19.12349426
                      },
                      {
                        "learn": [
                          0.04325605866
                        ],
                        "iteration": 825,
                        "passed_time": 90.26714249,
                        "remaining_time": 19.01511234
                      },
                      {
                        "learn": [
                          0.0431948699
                        ],
                        "iteration": 826,
                        "passed_time": 90.36541678,
                        "remaining_time": 18.90352733
                      },
                      {
                        "learn": [
                          0.04307632701
                        ],
                        "iteration": 827,
                        "passed_time": 90.46523021,
                        "remaining_time": 18.7922942
                      },
                      {
                        "learn": [
                          0.04303886091
                        ],
                        "iteration": 828,
                        "passed_time": 90.56518471,
                        "remaining_time": 18.68111772
                      },
                      {
                        "learn": [
                          0.04298653099
                        ],
                        "iteration": 829,
                        "passed_time": 90.65825976,
                        "remaining_time": 18.56855923
                      },
                      {
                        "learn": [
                          0.04294833213
                        ],
                        "iteration": 830,
                        "passed_time": 90.75365665,
                        "remaining_time": 18.45651982
                      },
                      {
                        "learn": [
                          0.04288382495
                        ],
                        "iteration": 831,
                        "passed_time": 90.85389053,
                        "remaining_time": 18.34549713
                      },
                      {
                        "learn": [
                          0.04281790458
                        ],
                        "iteration": 832,
                        "passed_time": 90.97634911,
                        "remaining_time": 18.23895594
                      },
                      {
                        "learn": [
                          0.0427433912
                        ],
                        "iteration": 833,
                        "passed_time": 91.09713228,
                        "remaining_time": 18.13204312
                      },
                      {
                        "learn": [
                          0.04259050681
                        ],
                        "iteration": 834,
                        "passed_time": 91.19409623,
                        "remaining_time": 18.02039027
                      },
                      {
                        "learn": [
                          0.04249987386
                        ],
                        "iteration": 835,
                        "passed_time": 91.31001363,
                        "remaining_time": 17.91249071
                      },
                      {
                        "learn": [
                          0.04246630472
                        ],
                        "iteration": 836,
                        "passed_time": 91.4080137,
                        "remaining_time": 17.80108271
                      },
                      {
                        "learn": [
                          0.04240932221
                        ],
                        "iteration": 837,
                        "passed_time": 91.5102087,
                        "remaining_time": 17.69051767
                      },
                      {
                        "learn": [
                          0.04223316222
                        ],
                        "iteration": 838,
                        "passed_time": 91.61050832,
                        "remaining_time": 17.57960887
                      },
                      {
                        "learn": [
                          0.04221760207
                        ],
                        "iteration": 839,
                        "passed_time": 91.70922026,
                        "remaining_time": 17.46842291
                      },
                      {
                        "learn": [
                          0.04219994636
                        ],
                        "iteration": 840,
                        "passed_time": 91.80399727,
                        "remaining_time": 17.35652267
                      },
                      {
                        "learn": [
                          0.04219230195
                        ],
                        "iteration": 841,
                        "passed_time": 91.89894225,
                        "remaining_time": 17.24469463
                      },
                      {
                        "learn": [
                          0.04215769205
                        ],
                        "iteration": 842,
                        "passed_time": 92.0194024,
                        "remaining_time": 17.13765857
                      },
                      {
                        "learn": [
                          0.04208247547
                        ],
                        "iteration": 843,
                        "passed_time": 92.1366916,
                        "remaining_time": 17.03000461
                      },
                      {
                        "learn": [
                          0.04204992858
                        ],
                        "iteration": 844,
                        "passed_time": 92.23081161,
                        "remaining_time": 16.91807787
                      },
                      {
                        "learn": [
                          0.04199382281
                        ],
                        "iteration": 845,
                        "passed_time": 92.34652587,
                        "remaining_time": 16.81012409
                      },
                      {
                        "learn": [
                          0.04193397574
                        ],
                        "iteration": 846,
                        "passed_time": 92.44455594,
                        "remaining_time": 16.69895757
                      },
                      {
                        "learn": [
                          0.04190606983
                        ],
                        "iteration": 847,
                        "passed_time": 92.54268808,
                        "remaining_time": 16.58784032
                      },
                      {
                        "learn": [
                          0.04179827896
                        ],
                        "iteration": 848,
                        "passed_time": 92.64434286,
                        "remaining_time": 16.47738018
                      },
                      {
                        "learn": [
                          0.04175255559
                        ],
                        "iteration": 849,
                        "passed_time": 92.74031685,
                        "remaining_time": 16.36593827
                      },
                      {
                        "learn": [
                          0.0416338302
                        ],
                        "iteration": 850,
                        "passed_time": 92.83644826,
                        "remaining_time": 16.25456027
                      },
                      {
                        "learn": [
                          0.04159495568
                        ],
                        "iteration": 851,
                        "passed_time": 92.93278972,
                        "remaining_time": 16.14325455
                      },
                      {
                        "learn": [
                          0.04154680777
                        ],
                        "iteration": 852,
                        "passed_time": 93.05541749,
                        "remaining_time": 16.03651392
                      },
                      {
                        "learn": [
                          0.04149351817
                        ],
                        "iteration": 853,
                        "passed_time": 93.17316323,
                        "remaining_time": 15.92890144
                      },
                      {
                        "learn": [
                          0.0414683783
                        ],
                        "iteration": 854,
                        "passed_time": 93.27094284,
                        "remaining_time": 15.8178792
                      },
                      {
                        "learn": [
                          0.0414033612
                        ],
                        "iteration": 855,
                        "passed_time": 93.40169615,
                        "remaining_time": 15.71243487
                      },
                      {
                        "learn": [
                          0.04136003797
                        ],
                        "iteration": 856,
                        "passed_time": 93.49723485,
                        "remaining_time": 15.60105552
                      },
                      {
                        "learn": [
                          0.04130249098
                        ],
                        "iteration": 857,
                        "passed_time": 93.59478484,
                        "remaining_time": 15.49004598
                      },
                      {
                        "learn": [
                          0.04126497151
                        ],
                        "iteration": 858,
                        "passed_time": 93.69050262,
                        "remaining_time": 15.37876702
                      },
                      {
                        "learn": [
                          0.04122693048
                        ],
                        "iteration": 859,
                        "passed_time": 93.78586591,
                        "remaining_time": 15.26746654
                      },
                      {
                        "learn": [
                          0.04117731405
                        ],
                        "iteration": 860,
                        "passed_time": 93.88229016,
                        "remaining_time": 15.15637437
                      },
                      {
                        "learn": [
                          0.04113634925
                        ],
                        "iteration": 861,
                        "passed_time": 93.97601946,
                        "remaining_time": 15.04488479
                      },
                      {
                        "learn": [
                          0.04109126714
                        ],
                        "iteration": 862,
                        "passed_time": 94.09265909,
                        "remaining_time": 14.93707334
                      },
                      {
                        "learn": [
                          0.04106130703
                        ],
                        "iteration": 863,
                        "passed_time": 94.21662707,
                        "remaining_time": 14.830395
                      },
                      {
                        "learn": [
                          0.04100894352
                        ],
                        "iteration": 864,
                        "passed_time": 94.31378078,
                        "remaining_time": 14.7194918
                      },
                      {
                        "learn": [
                          0.04093427627
                        ],
                        "iteration": 865,
                        "passed_time": 94.42507708,
                        "remaining_time": 14.61080869
                      },
                      {
                        "learn": [
                          0.04091059734
                        ],
                        "iteration": 866,
                        "passed_time": 94.52622789,
                        "remaining_time": 14.50056322
                      },
                      {
                        "learn": [
                          0.04085948533
                        ],
                        "iteration": 867,
                        "passed_time": 94.62902816,
                        "remaining_time": 14.39058954
                      },
                      {
                        "learn": [
                          0.04084345603
                        ],
                        "iteration": 868,
                        "passed_time": 94.74831711,
                        "remaining_time": 14.283118
                      },
                      {
                        "learn": [
                          0.04078641493
                        ],
                        "iteration": 869,
                        "passed_time": 94.8399378,
                        "remaining_time": 14.17148496
                      },
                      {
                        "learn": [
                          0.04066967732
                        ],
                        "iteration": 870,
                        "passed_time": 94.933459,
                        "remaining_time": 14.06017935
                      },
                      {
                        "learn": [
                          0.04062746804
                        ],
                        "iteration": 871,
                        "passed_time": 95.02749043,
                        "remaining_time": 13.94898942
                      },
                      {
                        "learn": [
                          0.04058118852
                        ],
                        "iteration": 872,
                        "passed_time": 95.14743973,
                        "remaining_time": 13.84160922
                      },
                      {
                        "learn": [
                          0.0405363407
                        ],
                        "iteration": 873,
                        "passed_time": 95.26685327,
                        "remaining_time": 13.73412301
                      },
                      {
                        "learn": [
                          0.04050116242
                        ],
                        "iteration": 874,
                        "passed_time": 95.37185694,
                        "remaining_time": 13.62455099
                      },
                      {
                        "learn": [
                          0.04046141823
                        ],
                        "iteration": 875,
                        "passed_time": 95.47114428,
                        "remaining_time": 13.51418024
                      },
                      {
                        "learn": [
                          0.04042972697
                        ],
                        "iteration": 876,
                        "passed_time": 95.57205015,
                        "remaining_time": 13.40406177
                      },
                      {
                        "learn": [
                          0.0404130876
                        ],
                        "iteration": 877,
                        "passed_time": 95.66656772,
                        "remaining_time": 13.29307661
                      },
                      {
                        "learn": [
                          0.04030857082
                        ],
                        "iteration": 878,
                        "passed_time": 95.76085581,
                        "remaining_time": 13.18209733
                      },
                      {
                        "learn": [
                          0.04025462905
                        ],
                        "iteration": 879,
                        "passed_time": 95.85656458,
                        "remaining_time": 13.07134971
                      },
                      {
                        "learn": [
                          0.04023927385
                        ],
                        "iteration": 880,
                        "passed_time": 95.95444704,
                        "remaining_time": 12.96092985
                      },
                      {
                        "learn": [
                          0.04021730025
                        ],
                        "iteration": 881,
                        "passed_time": 96.05137392,
                        "remaining_time": 12.85041057
                      },
                      {
                        "learn": [
                          0.04013670856
                        ],
                        "iteration": 882,
                        "passed_time": 96.14654423,
                        "remaining_time": 12.73968933
                      },
                      {
                        "learn": [
                          0.04003947226
                        ],
                        "iteration": 883,
                        "passed_time": 96.30029194,
                        "remaining_time": 12.63668989
                      },
                      {
                        "learn": [
                          0.04000232881
                        ],
                        "iteration": 884,
                        "passed_time": 96.40806786,
                        "remaining_time": 12.52760204
                      },
                      {
                        "learn": [
                          0.0399322015
                        ],
                        "iteration": 885,
                        "passed_time": 96.51058081,
                        "remaining_time": 12.41783997
                      },
                      {
                        "learn": [
                          0.0397862962
                        ],
                        "iteration": 886,
                        "passed_time": 96.61132073,
                        "remaining_time": 12.30786837
                      },
                      {
                        "learn": [
                          0.03975044543
                        ],
                        "iteration": 887,
                        "passed_time": 96.70800692,
                        "remaining_time": 12.19740628
                      },
                      {
                        "learn": [
                          0.03972559308
                        ],
                        "iteration": 888,
                        "passed_time": 96.80495637,
                        "remaining_time": 12.08700805
                      },
                      {
                        "learn": [
                          0.03965735128
                        ],
                        "iteration": 889,
                        "passed_time": 96.90022205,
                        "remaining_time": 11.97643194
                      },
                      {
                        "learn": [
                          0.03956380738
                        ],
                        "iteration": 890,
                        "passed_time": 96.9934334,
                        "remaining_time": 11.86563888
                      },
                      {
                        "learn": [
                          0.03944320495
                        ],
                        "iteration": 891,
                        "passed_time": 97.09608835,
                        "remaining_time": 11.75602863
                      },
                      {
                        "learn": [
                          0.03940289715
                        ],
                        "iteration": 892,
                        "passed_time": 97.19158422,
                        "remaining_time": 11.64557616
                      },
                      {
                        "learn": [
                          0.03934365892
                        ],
                        "iteration": 893,
                        "passed_time": 97.33655916,
                        "remaining_time": 11.54102379
                      },
                      {
                        "learn": [
                          0.03928964138
                        ],
                        "iteration": 894,
                        "passed_time": 97.44088607,
                        "remaining_time": 11.43161233
                      },
                      {
                        "learn": [
                          0.03926733847
                        ],
                        "iteration": 895,
                        "passed_time": 97.54306534,
                        "remaining_time": 11.32196294
                      },
                      {
                        "learn": [
                          0.03921605398
                        ],
                        "iteration": 896,
                        "passed_time": 97.64212315,
                        "remaining_time": 11.21197178
                      },
                      {
                        "learn": [
                          0.03911984293
                        ],
                        "iteration": 897,
                        "passed_time": 97.74241968,
                        "remaining_time": 11.10214567
                      },
                      {
                        "learn": [
                          0.03909579605
                        ],
                        "iteration": 898,
                        "passed_time": 97.83919752,
                        "remaining_time": 10.99194544
                      },
                      {
                        "learn": [
                          0.03903466153
                        ],
                        "iteration": 899,
                        "passed_time": 97.9338022,
                        "remaining_time": 10.88153358
                      },
                      {
                        "learn": [
                          0.03897976155
                        ],
                        "iteration": 900,
                        "passed_time": 98.03403652,
                        "remaining_time": 10.77177538
                      },
                      {
                        "learn": [
                          0.03888709925
                        ],
                        "iteration": 901,
                        "passed_time": 98.13472332,
                        "remaining_time": 10.66208746
                      },
                      {
                        "learn": [
                          0.03886808885
                        ],
                        "iteration": 902,
                        "passed_time": 98.22903679,
                        "remaining_time": 10.55173485
                      },
                      {
                        "learn": [
                          0.038802109
                        ],
                        "iteration": 903,
                        "passed_time": 98.37186325,
                        "remaining_time": 10.44656955
                      },
                      {
                        "learn": [
                          0.03875945217
                        ],
                        "iteration": 904,
                        "passed_time": 98.4812542,
                        "remaining_time": 10.33781121
                      },
                      {
                        "learn": [
                          0.03869184582
                        ],
                        "iteration": 905,
                        "passed_time": 98.58498932,
                        "remaining_time": 10.22846468
                      },
                      {
                        "learn": [
                          0.03865930225
                        ],
                        "iteration": 906,
                        "passed_time": 98.68218231,
                        "remaining_time": 10.11845971
                      },
                      {
                        "learn": [
                          0.03863243904
                        ],
                        "iteration": 907,
                        "passed_time": 98.77969228,
                        "remaining_time": 10.00851508
                      },
                      {
                        "learn": [
                          0.03857575674
                        ],
                        "iteration": 908,
                        "passed_time": 98.87879963,
                        "remaining_time": 9.898757719
                      },
                      {
                        "learn": [
                          0.0385264017
                        ],
                        "iteration": 909,
                        "passed_time": 98.98014612,
                        "remaining_time": 9.789245221
                      },
                      {
                        "learn": [
                          0.03840425433
                        ],
                        "iteration": 910,
                        "passed_time": 99.07921975,
                        "remaining_time": 9.679528603
                      },
                      {
                        "learn": [
                          0.03836156185
                        ],
                        "iteration": 911,
                        "passed_time": 99.17407743,
                        "remaining_time": 9.569428524
                      },
                      {
                        "learn": [
                          0.03832901331
                        ],
                        "iteration": 912,
                        "passed_time": 99.27381918,
                        "remaining_time": 9.459827238
                      },
                      {
                        "learn": [
                          0.03828531311
                        ],
                        "iteration": 913,
                        "passed_time": 99.41383926,
                        "remaining_time": 9.354037393
                      },
                      {
                        "learn": [
                          0.03824696109
                        ],
                        "iteration": 914,
                        "passed_time": 99.52360547,
                        "remaining_time": 9.245362256
                      },
                      {
                        "learn": [
                          0.03820644357
                        ],
                        "iteration": 915,
                        "passed_time": 99.62700137,
                        "remaining_time": 9.136100562
                      },
                      {
                        "learn": [
                          0.03818980808
                        ],
                        "iteration": 916,
                        "passed_time": 99.72308004,
                        "remaining_time": 9.02618936
                      },
                      {
                        "learn": [
                          0.03815688869
                        ],
                        "iteration": 917,
                        "passed_time": 99.8179873,
                        "remaining_time": 8.916203659
                      },
                      {
                        "learn": [
                          0.0380878675
                        ],
                        "iteration": 918,
                        "passed_time": 99.91441322,
                        "remaining_time": 8.806384626
                      },
                      {
                        "learn": [
                          0.03806336049
                        ],
                        "iteration": 919,
                        "passed_time": 100.0132741,
                        "remaining_time": 8.696806442
                      },
                      {
                        "learn": [
                          0.03801547443
                        ],
                        "iteration": 920,
                        "passed_time": 100.1115143,
                        "remaining_time": 8.587198291
                      },
                      {
                        "learn": [
                          0.03794874732
                        ],
                        "iteration": 921,
                        "passed_time": 100.2089568,
                        "remaining_time": 8.477547323
                      },
                      {
                        "learn": [
                          0.0378873308
                        ],
                        "iteration": 922,
                        "passed_time": 100.3020848,
                        "remaining_time": 8.367562867
                      },
                      {
                        "learn": [
                          0.03784703418
                        ],
                        "iteration": 923,
                        "passed_time": 100.4544047,
                        "remaining_time": 8.262483507
                      },
                      {
                        "learn": [
                          0.03780762906
                        ],
                        "iteration": 924,
                        "passed_time": 100.5606636,
                        "remaining_time": 8.153567323
                      },
                      {
                        "learn": [
                          0.03776671621
                        ],
                        "iteration": 925,
                        "passed_time": 100.6553085,
                        "remaining_time": 8.043728753
                      },
                      {
                        "learn": [
                          0.03765037248
                        ],
                        "iteration": 926,
                        "passed_time": 100.7565946,
                        "remaining_time": 7.934445958
                      },
                      {
                        "learn": [
                          0.03757879607
                        ],
                        "iteration": 927,
                        "passed_time": 100.8541283,
                        "remaining_time": 7.824889267
                      },
                      {
                        "learn": [
                          0.03755283611
                        ],
                        "iteration": 928,
                        "passed_time": 100.9509098,
                        "remaining_time": 7.715300967
                      },
                      {
                        "learn": [
                          0.0375303087
                        ],
                        "iteration": 929,
                        "passed_time": 101.0489874,
                        "remaining_time": 7.605837761
                      },
                      {
                        "learn": [
                          0.03748873369
                        ],
                        "iteration": 930,
                        "passed_time": 101.1457068,
                        "remaining_time": 7.496298354
                      },
                      {
                        "learn": [
                          0.03745111468
                        ],
                        "iteration": 931,
                        "passed_time": 101.2416308,
                        "remaining_time": 7.386728427
                      },
                      {
                        "learn": [
                          0.03736474239
                        ],
                        "iteration": 932,
                        "passed_time": 101.3428698,
                        "remaining_time": 7.277569426
                      },
                      {
                        "learn": [
                          0.03732828605
                        ],
                        "iteration": 933,
                        "passed_time": 101.4953383,
                        "remaining_time": 7.172047462
                      },
                      {
                        "learn": [
                          0.03722422987
                        ],
                        "iteration": 934,
                        "passed_time": 101.60374,
                        "remaining_time": 7.063361604
                      },
                      {
                        "learn": [
                          0.03715367116
                        ],
                        "iteration": 935,
                        "passed_time": 101.7010621,
                        "remaining_time": 6.953918778
                      },
                      {
                        "learn": [
                          0.03708869833
                        ],
                        "iteration": 936,
                        "passed_time": 101.7977335,
                        "remaining_time": 6.84445807
                      },
                      {
                        "learn": [
                          0.03705481828
                        ],
                        "iteration": 937,
                        "passed_time": 101.902017,
                        "remaining_time": 6.735527774
                      },
                      {
                        "learn": [
                          0.03696525603
                        ],
                        "iteration": 938,
                        "passed_time": 101.9981613,
                        "remaining_time": 6.626078635
                      },
                      {
                        "learn": [
                          0.03693306367
                        ],
                        "iteration": 939,
                        "passed_time": 102.0945752,
                        "remaining_time": 6.516675014
                      },
                      {
                        "learn": [
                          0.03690021385
                        ],
                        "iteration": 940,
                        "passed_time": 102.1885001,
                        "remaining_time": 6.407142942
                      },
                      {
                        "learn": [
                          0.03687554431
                        ],
                        "iteration": 941,
                        "passed_time": 102.2832394,
                        "remaining_time": 6.297694145
                      },
                      {
                        "learn": [
                          0.03683396605
                        ],
                        "iteration": 942,
                        "passed_time": 102.3777448,
                        "remaining_time": 6.188262413
                      },
                      {
                        "learn": [
                          0.03679320917
                        ],
                        "iteration": 943,
                        "passed_time": 102.507296,
                        "remaining_time": 6.080941291
                      },
                      {
                        "learn": [
                          0.03672224576
                        ],
                        "iteration": 944,
                        "passed_time": 102.6351316,
                        "remaining_time": 5.973473267
                      },
                      {
                        "learn": [
                          0.03663354697
                        ],
                        "iteration": 945,
                        "passed_time": 102.7331479,
                        "remaining_time": 5.864260026
                      },
                      {
                        "learn": [
                          0.03662130969
                        ],
                        "iteration": 946,
                        "passed_time": 102.8302379,
                        "remaining_time": 5.755018594
                      },
                      {
                        "learn": [
                          0.03655149537
                        ],
                        "iteration": 947,
                        "passed_time": 102.9284098,
                        "remaining_time": 5.645862142
                      },
                      {
                        "learn": [
                          0.03653160248
                        ],
                        "iteration": 948,
                        "passed_time": 103.0227569,
                        "remaining_time": 5.536523287
                      },
                      {
                        "learn": [
                          0.03647838358
                        ],
                        "iteration": 949,
                        "passed_time": 103.1219109,
                        "remaining_time": 5.427468994
                      },
                      {
                        "learn": [
                          0.03645369562
                        ],
                        "iteration": 950,
                        "passed_time": 103.2188049,
                        "remaining_time": 5.318319076
                      },
                      {
                        "learn": [
                          0.03635189757
                        ],
                        "iteration": 951,
                        "passed_time": 103.3157897,
                        "remaining_time": 5.20919948
                      },
                      {
                        "learn": [
                          0.03631211919
                        ],
                        "iteration": 952,
                        "passed_time": 103.4127251,
                        "remaining_time": 5.100102919
                      },
                      {
                        "learn": [
                          0.03626202788
                        ],
                        "iteration": 953,
                        "passed_time": 103.5894705,
                        "remaining_time": 4.99488013
                      },
                      {
                        "learn": [
                          0.03623079605
                        ],
                        "iteration": 954,
                        "passed_time": 103.7364427,
                        "remaining_time": 4.888104631
                      },
                      {
                        "learn": [
                          0.03621722923
                        ],
                        "iteration": 955,
                        "passed_time": 103.8333025,
                        "remaining_time": 4.77893861
                      },
                      {
                        "learn": [
                          0.0361940949
                        ],
                        "iteration": 956,
                        "passed_time": 103.9300661,
                        "remaining_time": 4.669793985
                      },
                      {
                        "learn": [
                          0.03615891169
                        ],
                        "iteration": 957,
                        "passed_time": 104.0244655,
                        "remaining_time": 4.560571557
                      },
                      {
                        "learn": [
                          0.03613633067
                        ],
                        "iteration": 958,
                        "passed_time": 104.1222644,
                        "remaining_time": 4.451525381
                      },
                      {
                        "learn": [
                          0.03610039457
                        ],
                        "iteration": 959,
                        "passed_time": 104.2164703,
                        "remaining_time": 4.342352928
                      },
                      {
                        "learn": [
                          0.03608059922
                        ],
                        "iteration": 960,
                        "passed_time": 104.3117774,
                        "remaining_time": 4.233256314
                      },
                      {
                        "learn": [
                          0.03601957287
                        ],
                        "iteration": 961,
                        "passed_time": 104.4075502,
                        "remaining_time": 4.124206765
                      },
                      {
                        "learn": [
                          0.03597733639
                        ],
                        "iteration": 962,
                        "passed_time": 104.5073979,
                        "remaining_time": 4.015341354
                      },
                      {
                        "learn": [
                          0.03591262352
                        ],
                        "iteration": 963,
                        "passed_time": 104.6079578,
                        "remaining_time": 3.906521247
                      },
                      {
                        "learn": [
                          0.03589176776
                        ],
                        "iteration": 964,
                        "passed_time": 104.7703225,
                        "remaining_time": 3.799959882
                      },
                      {
                        "learn": [
                          0.03585961018
                        ],
                        "iteration": 965,
                        "passed_time": 104.866742,
                        "remaining_time": 3.690961935
                      },
                      {
                        "learn": [
                          0.03581871597
                        ],
                        "iteration": 966,
                        "passed_time": 104.9637543,
                        "remaining_time": 3.58201023
                      },
                      {
                        "learn": [
                          0.03576442793
                        ],
                        "iteration": 967,
                        "passed_time": 105.0841158,
                        "remaining_time": 3.473855067
                      },
                      {
                        "learn": [
                          0.03568157317
                        ],
                        "iteration": 968,
                        "passed_time": 105.1850505,
                        "remaining_time": 3.365053214
                      },
                      {
                        "learn": [
                          0.03564589943
                        ],
                        "iteration": 969,
                        "passed_time": 105.2878367,
                        "remaining_time": 3.256324846
                      },
                      {
                        "learn": [
                          0.03555329062
                        ],
                        "iteration": 970,
                        "passed_time": 105.38654,
                        "remaining_time": 3.147486777
                      },
                      {
                        "learn": [
                          0.03550649957
                        ],
                        "iteration": 971,
                        "passed_time": 105.4855291,
                        "remaining_time": 3.038677792
                      },
                      {
                        "learn": [
                          0.03541338867
                        ],
                        "iteration": 972,
                        "passed_time": 105.5855108,
                        "remaining_time": 2.929916539
                      },
                      {
                        "learn": [
                          0.03532050227
                        ],
                        "iteration": 973,
                        "passed_time": 105.7166215,
                        "remaining_time": 2.822004271
                      },
                      {
                        "learn": [
                          0.03529276335
                        ],
                        "iteration": 974,
                        "passed_time": 105.8435895,
                        "remaining_time": 2.713938193
                      },
                      {
                        "learn": [
                          0.03521761271
                        ],
                        "iteration": 975,
                        "passed_time": 105.9408414,
                        "remaining_time": 2.605102658
                      },
                      {
                        "learn": [
                          0.03518385174
                        ],
                        "iteration": 976,
                        "passed_time": 106.0351743,
                        "remaining_time": 2.496222118
                      },
                      {
                        "learn": [
                          0.03516982146
                        ],
                        "iteration": 977,
                        "passed_time": 106.1378353,
                        "remaining_time": 2.387558667
                      },
                      {
                        "learn": [
                          0.035141434
                        ],
                        "iteration": 978,
                        "passed_time": 106.2370056,
                        "remaining_time": 2.278832603
                      },
                      {
                        "learn": [
                          0.03512354029
                        ],
                        "iteration": 979,
                        "passed_time": 106.3347812,
                        "remaining_time": 2.170097575
                      },
                      {
                        "learn": [
                          0.03504452766
                        ],
                        "iteration": 980,
                        "passed_time": 106.4306267,
                        "remaining_time": 2.061347511
                      },
                      {
                        "learn": [
                          0.03501543767
                        ],
                        "iteration": 981,
                        "passed_time": 106.5291561,
                        "remaining_time": 1.952672922
                      },
                      {
                        "learn": [
                          0.03499184909
                        ],
                        "iteration": 982,
                        "passed_time": 106.6281267,
                        "remaining_time": 1.844026606
                      },
                      {
                        "learn": [
                          0.03494364855
                        ],
                        "iteration": 983,
                        "passed_time": 106.7340611,
                        "remaining_time": 1.735513189
                      },
                      {
                        "learn": [
                          0.03491259408
                        ],
                        "iteration": 984,
                        "passed_time": 106.8854748,
                        "remaining_time": 1.627697585
                      },
                      {
                        "learn": [
                          0.03488757382
                        ],
                        "iteration": 985,
                        "passed_time": 106.9838237,
                        "remaining_time": 1.519040094
                      },
                      {
                        "learn": [
                          0.03482542301
                        ],
                        "iteration": 986,
                        "passed_time": 107.0829049,
                        "remaining_time": 1.410413135
                      },
                      {
                        "learn": [
                          0.03479884483
                        ],
                        "iteration": 987,
                        "passed_time": 107.1781659,
                        "remaining_time": 1.3017591
                      },
                      {
                        "learn": [
                          0.03477988724
                        ],
                        "iteration": 988,
                        "passed_time": 107.2750101,
                        "remaining_time": 1.193149759
                      },
                      {
                        "learn": [
                          0.03470664697
                        ],
                        "iteration": 989,
                        "passed_time": 107.3746916,
                        "remaining_time": 1.084592844
                      },
                      {
                        "learn": [
                          0.03464863674
                        ],
                        "iteration": 990,
                        "passed_time": 107.4733897,
                        "remaining_time": 0.9760449111
                      },
                      {
                        "learn": [
                          0.0345796816
                        ],
                        "iteration": 991,
                        "passed_time": 107.5777135,
                        "remaining_time": 0.8675622054
                      },
                      {
                        "learn": [
                          0.03454807035
                        ],
                        "iteration": 992,
                        "passed_time": 107.675827,
                        "remaining_time": 0.7590440977
                      },
                      {
                        "learn": [
                          0.03452184492
                        ],
                        "iteration": 993,
                        "passed_time": 107.7865187,
                        "remaining_time": 0.6506228493
                      },
                      {
                        "learn": [
                          0.03448916847
                        ],
                        "iteration": 994,
                        "passed_time": 107.9320537,
                        "remaining_time": 0.5423721292
                      },
                      {
                        "learn": [
                          0.03442688204
                        ],
                        "iteration": 995,
                        "passed_time": 108.033522,
                        "remaining_time": 0.4338695662
                      },
                      {
                        "learn": [
                          0.03435892929
                        ],
                        "iteration": 996,
                        "passed_time": 108.1319405,
                        "remaining_time": 0.3253719372
                      },
                      {
                        "learn": [
                          0.03432734785
                        ],
                        "iteration": 997,
                        "passed_time": 108.2320685,
                        "remaining_time": 0.2168979329
                      },
                      {
                        "learn": [
                          0.03428312752
                        ],
                        "iteration": 998,
                        "passed_time": 108.3301794,
                        "remaining_time": 0.108438618
                      },
                      {
                        "learn": [
                          0.03423361931
                        ],
                        "iteration": 999,
                        "passed_time": 108.4258419,
                        "remaining_time": 0
                      }
                    ],
                    "meta": {
                      "test_sets": [],
                      "test_metrics": [],
                      "learn_metrics": [
                        {
                          "best_value": "Min",
                          "name": "MultiClass"
                        }
                      ],
                      "launch_mode": "Train",
                      "parameters": "",
                      "iteration_count": 1000,
                      "learn_sets": [
                        "learn"
                      ],
                      "name": "experiment"
                    }
                  }
                }
              }
            },
            "layout": "IPY_MODEL_7d17f2174471491b88128dd4f99c4c29"
          }
        }
      }
    }
  },
  "cells": [
    {
      "cell_type": "code",
      "source": [
        "import pandas as pd\n",
        "import numpy as np\n",
        "\n",
        "from google.colab import drive\n",
        "drive.mount('/content/gdrive')\n",
        "\n",
        "path1 = '/content/gdrive/MyDrive/Colab Notebooks/innopolis/train_dataset_train.csv'\n",
        "path2 = '/content/gdrive/MyDrive/Colab Notebooks/innopolis/test_dataset_test.csv'\n",
        "\n",
        "df_test = pd.read_csv(path2)\n",
        "df_train = pd.read_csv(path1)\n",
        "\n"
      ],
      "metadata": {
        "colab": {
          "base_uri": "https://localhost:8080/"
        },
        "id": "NiEl5Bhd-qlv",
        "outputId": "cb783612-2653-4782-fa22-04c493f7f373"
      },
      "execution_count": null,
      "outputs": [
        {
          "output_type": "stream",
          "name": "stdout",
          "text": [
            "Drive already mounted at /content/gdrive; to attempt to forcibly remount, call drive.mount(\"/content/gdrive\", force_remount=True).\n"
          ]
        }
      ]
    },
    {
      "cell_type": "code",
      "source": [
        "df_test['.geo'] = df_test['.geo'].str.replace(r\"[^\\d\\.\\,]\", \"\", regex=True)\n",
        "df_test['.geo'] = df_test['.geo'].str.replace(\",\", \" \", regex=True)\n",
        "df_test['temp'] = df_test['.geo'].str.count(\".\")\n",
        "df_test['temp'] = df_test['temp']/100000\n",
        "df_test['temp']"
      ],
      "metadata": {
        "colab": {
          "base_uri": "https://localhost:8080/"
        },
        "id": "9PNnr2uQq9ZJ",
        "outputId": "6a7447d1-15fe-4314-83ba-98de60eab721"
      },
      "execution_count": null,
      "outputs": [
        {
          "output_type": "execute_result",
          "data": {
            "text/plain": [
              "0       0.15019\n",
              "1       0.00476\n",
              "2       0.01346\n",
              "3       0.00830\n",
              "4       0.01453\n",
              "         ...   \n",
              "2066    0.00292\n",
              "2067    0.00761\n",
              "2068    0.00543\n",
              "2069    0.15552\n",
              "2070    0.00762\n",
              "Name: temp, Length: 2071, dtype: float64"
            ]
          },
          "metadata": {},
          "execution_count": 54
        }
      ]
    },
    {
      "cell_type": "code",
      "source": [
        "df_train['.geo'] = df_train['.geo'].str.replace(r\"[^\\d\\.\\,]\", \"\", regex=True)\n",
        "df_train['.geo'] = df_train['.geo'].str.replace(\",\", \" \", regex=True)\n",
        "df_train['temp'] = df_train['.geo'].str.count(\".\")\n",
        "df_train['temp'] = df_train['temp']/100000\n",
        "df_train['temp']"
      ],
      "metadata": {
        "colab": {
          "base_uri": "https://localhost:8080/"
        },
        "id": "WfgSrPHVq_Kp",
        "outputId": "f46f621f-073b-4d2c-e56c-626fab6fe584"
      },
      "execution_count": null,
      "outputs": [
        {
          "output_type": "execute_result",
          "data": {
            "text/plain": [
              "0       0.01316\n",
              "1       0.04873\n",
              "2       0.00725\n",
              "3       0.00584\n",
              "4       0.01206\n",
              "         ...   \n",
              "4825    0.01893\n",
              "4826    0.03354\n",
              "4827    0.01680\n",
              "4828    0.00477\n",
              "4829    0.02075\n",
              "Name: temp, Length: 4830, dtype: float64"
            ]
          },
          "metadata": {},
          "execution_count": 55
        }
      ]
    },
    {
      "cell_type": "code",
      "source": [
        "df_test_ = pd.read_csv(path2)\n",
        "df_train_ = pd.read_csv(path1)"
      ],
      "metadata": {
        "id": "VFF9N6SS-1Wj"
      },
      "execution_count": null,
      "outputs": []
    },
    {
      "cell_type": "code",
      "source": [
        "df_train = df_train.replace({0:np.nan})\n",
        "df_test = df_test.replace({0:np.nan})"
      ],
      "metadata": {
        "id": "2SOq-yZ5zw18"
      },
      "execution_count": null,
      "outputs": []
    },
    {
      "cell_type": "code",
      "source": [
        "#df_test1 = df_test1.interpolate(asix = 1)"
      ],
      "metadata": {
        "id": "DS7WkT4u-16J"
      },
      "execution_count": null,
      "outputs": []
    },
    {
      "cell_type": "code",
      "source": [
        "df_test.fillna(df_test.groupby('area').transform(\"median\"), inplace=True)\n",
        "df_train.fillna(df_train.groupby('area').transform(\"median\"), inplace=True)"
      ],
      "metadata": {
        "id": "E5LUnUq-Fo_r"
      },
      "execution_count": null,
      "outputs": []
    },
    {
      "cell_type": "code",
      "source": [
        "df_test['.geo'] = df_test_['.geo']\n",
        "df_train['.geo'] = df_train_['.geo']"
      ],
      "metadata": {
        "id": "d3r0CJwo9cby"
      },
      "execution_count": null,
      "outputs": []
    },
    {
      "cell_type": "code",
      "source": [
        "def gs(js):\n",
        "  x, y = [], []\n",
        "  for dicr in js['geometries']:\n",
        "    if dicr['type'] == 'Polygon':\n",
        "      n = len(dicr['coordinates'][0])\n",
        "      x_1 = sum(i[0] for i in dicr['coordinates'][0])/n\n",
        "      y_1 = sum(i[1] for i in dicr['coordinates'][0])/n\n",
        "      x.append(x_1)\n",
        "      y.append(y_1)\n",
        "  return sum(x) / len(x), sum(y) / len(y)"
      ],
      "metadata": {
        "id": "s7-Tgt0sIS1Q"
      },
      "execution_count": null,
      "outputs": []
    },
    {
      "cell_type": "code",
      "source": [
        "def polygon(js):\n",
        "  n = len(js['coordinates'][0])\n",
        "  x_c = sum(x[0] for x in js['coordinates'][0])/n\n",
        "  y_c = sum(x[1] for x in js['coordinates'][0])/n\n",
        "  return x_c, y_c"
      ],
      "metadata": {
        "id": "hsliJpDJMegi"
      },
      "execution_count": null,
      "outputs": []
    },
    {
      "cell_type": "code",
      "source": [
        "def mpolygon(js):\n",
        "  x, y = [], []\n",
        "  for lst in js['coordinates'][0]:\n",
        "    x_1 = sum(x[0] for x in lst)/len(lst)\n",
        "    y_1 = sum(y[1] for y in lst)/len(lst)\n",
        "    x.append(x_1)\n",
        "    y.append(y_1)\n",
        "  return sum(x) / len(x), sum(y) / len(y)"
      ],
      "metadata": {
        "id": "ZL24uFL9NGH7"
      },
      "execution_count": null,
      "outputs": []
    },
    {
      "cell_type": "code",
      "source": [],
      "metadata": {
        "id": "CriabLB7rWGi"
      },
      "execution_count": null,
      "outputs": []
    },
    {
      "cell_type": "code",
      "source": [
        "import json"
      ],
      "metadata": {
        "id": "dPknT2QPPfml"
      },
      "execution_count": null,
      "outputs": []
    },
    {
      "cell_type": "code",
      "source": [
        "x, y = [], []\n",
        "for val in df_test['.geo']:\n",
        "  body = json.loads(val)\n",
        "  if body['type'] == 'Polygon':\n",
        "    x_c, y_c = polygon(body)\n",
        "  elif body['type'] == 'GeometryCollection':\n",
        "    x_c, y_c = gs(body)\n",
        "  elif body['type'] == 'MultiPolygon':\n",
        "    x_c, y_c = mpolygon(body)\n",
        "  x.append(x_c)\n",
        "  y.append(y_c)\n",
        "df_test['X'] = x\n",
        "df_test['Y'] = y "
      ],
      "metadata": {
        "id": "YyJqMksxONjc"
      },
      "execution_count": null,
      "outputs": []
    },
    {
      "cell_type": "code",
      "source": [
        "x, y = [], []\n",
        "for val in df_train['.geo']:\n",
        "  body = json.loads(val)\n",
        "  if body['type'] == 'Polygon':\n",
        "    x_c, y_c = polygon(body)\n",
        "  elif body['type'] == 'GeometryCollection':\n",
        "    x_c, y_c = gs(body)\n",
        "  elif body['type'] == 'MultiPolygon':\n",
        "    x_c, y_c = mpolygon(body)\n",
        "  x.append(x_c)\n",
        "  y.append(y_c)\n",
        "df_train['X'] = x\n",
        "df_train['Y'] = y "
      ],
      "metadata": {
        "id": "-md-TP67Nse1"
      },
      "execution_count": null,
      "outputs": []
    },
    {
      "cell_type": "code",
      "source": [
        "df_train = df_train.reindex(sorted(df_train.columns), axis=1)"
      ],
      "metadata": {
        "id": "KP1YnXS6TxlN"
      },
      "execution_count": null,
      "outputs": []
    },
    {
      "cell_type": "code",
      "source": [
        "df_test = df_test.reindex(sorted(df_test.columns), axis=1)"
      ],
      "metadata": {
        "id": "o1JoWkUdTzYF"
      },
      "execution_count": null,
      "outputs": []
    },
    {
      "cell_type": "code",
      "source": [
        "y_train = df_train['crop']\n",
        "x_train = df_train.drop(columns= ['id', 'crop'])\n",
        "\n",
        "y_test = df_test['id']\n",
        "x_test = df_test.drop(['id'], axis=1)"
      ],
      "metadata": {
        "id": "EQNysOO1J-W0"
      },
      "execution_count": null,
      "outputs": []
    },
    {
      "cell_type": "code",
      "source": [
        "x_train = x_train.drop(['.geo'], axis=1)\n",
        "x_test = x_test.drop(['.geo'], axis=1)"
      ],
      "metadata": {
        "id": "4rhg3HosB0tq"
      },
      "execution_count": null,
      "outputs": []
    },
    {
      "cell_type": "code",
      "source": [
        "x_train"
      ],
      "metadata": {
        "colab": {
          "base_uri": "https://localhost:8080/",
          "height": 505
        },
        "id": "znGz3ExDKO6b",
        "outputId": "acab961c-0f4a-4b09-bb93-042b052c7183"
      },
      "execution_count": null,
      "outputs": [
        {
          "output_type": "execute_result",
          "data": {
            "text/plain": [
              "              X          Y  area  nd_mean_2021-04-15  nd_mean_2021-04-16  \\\n",
              "0     42.500303  51.412815    20            0.187150            0.072846   \n",
              "1     50.265608  56.606045    45            0.245285            0.332928   \n",
              "2     38.003231  53.837187    28            0.006391            0.013679   \n",
              "3     44.727709  55.935536    19            0.293425            0.105976   \n",
              "4     34.783534  52.907252    33            0.027983            0.130885   \n",
              "...         ...        ...   ...                 ...                 ...   \n",
              "4825  40.906039  50.899595    74            0.066154            0.028770   \n",
              "4826  40.013739  51.804439   109            0.243867            0.035939   \n",
              "4827  38.584332  53.193459    58            0.090026            0.191255   \n",
              "4828  53.319120  55.183574    14            0.301663            0.291399   \n",
              "4829  38.801397  52.727377    75            0.264959            0.226925   \n",
              "\n",
              "      nd_mean_2021-04-18  nd_mean_2021-04-19  nd_mean_2021-04-20  \\\n",
              "0               0.262300            0.261778            0.063134   \n",
              "1               0.349133            0.287182            0.064671   \n",
              "2               0.000000            0.007055            0.000000   \n",
              "3               0.318047            0.052500            0.153700   \n",
              "4               0.117227            0.063492            0.040565   \n",
              "...                  ...                 ...                 ...   \n",
              "4825            0.000000            0.038282            0.000000   \n",
              "4826            0.013403            0.030722            0.246513   \n",
              "4827            0.019897            0.063581            0.000000   \n",
              "4828            0.295089            0.221428            0.326494   \n",
              "4829            0.156903            0.043076            0.146099   \n",
              "\n",
              "      nd_mean_2021-04-22  nd_mean_2021-04-23  ...  nd_mean_2021-07-31  \\\n",
              "0               0.062981            0.000000  ...            0.000000   \n",
              "1               0.097138            0.024539  ...            0.089721   \n",
              "2               0.120804            0.112471  ...            0.411168   \n",
              "3               0.001917            0.045054  ...            0.055983   \n",
              "4               0.024416            0.163886  ...            0.611108   \n",
              "...                  ...                 ...  ...                 ...   \n",
              "4825            0.255329            0.095812  ...            0.379482   \n",
              "4826            0.033869            0.000000  ...            0.800815   \n",
              "4827            0.140111            0.143922  ...            0.740523   \n",
              "4828            0.007247            0.006888  ...            0.235802   \n",
              "4829            0.058611            0.092287  ...            0.724565   \n",
              "\n",
              "      nd_mean_2021-08-01  nd_mean_2021-08-07  nd_mean_2021-08-10  \\\n",
              "0               0.754859            0.000000            0.030883   \n",
              "1               0.706226            0.184231            0.062582   \n",
              "2               0.000000            0.357296            0.045370   \n",
              "3               0.152193            0.060656            0.352723   \n",
              "4               0.772962            0.000000            0.080592   \n",
              "...                  ...                 ...                 ...   \n",
              "4825            0.700605            0.645532            0.000000   \n",
              "4826            0.634428            0.783913            0.093728   \n",
              "4827            0.781434            0.783490            0.006700   \n",
              "4828            0.000000            0.079623            0.049245   \n",
              "4829            0.735739            0.017059            0.096632   \n",
              "\n",
              "      nd_mean_2021-08-11  nd_mean_2021-08-12  nd_mean_2021-08-13  \\\n",
              "0               0.000000            0.658016            0.126832   \n",
              "1               0.618475            0.601685            0.174914   \n",
              "2               0.172080            0.000000            0.090607   \n",
              "3               0.379196            0.327025            0.073492   \n",
              "4               0.000000            0.055220            0.157676   \n",
              "...                  ...                 ...                 ...   \n",
              "4825            0.059090            0.631144            0.042483   \n",
              "4826            0.000000            0.776900            0.055721   \n",
              "4827            0.132444            0.000000            0.007225   \n",
              "4828            0.506127            0.528256            0.031836   \n",
              "4829            0.114928            0.670171            0.000000   \n",
              "\n",
              "      nd_mean_2021-08-23  nd_mean_2021-08-27     temp  \n",
              "0               0.034858            0.614770  0.01316  \n",
              "1               0.000000            0.179612  0.04873  \n",
              "2               0.000000            0.054127  0.00725  \n",
              "3               0.061776            0.378900  0.00584  \n",
              "4               0.022251            0.012048  0.01206  \n",
              "...                  ...                 ...      ...  \n",
              "4825            0.118901            0.022464  0.01893  \n",
              "4826            0.057945            0.044182  0.03354  \n",
              "4827            0.669367            0.145505  0.01680  \n",
              "4828            0.000000            0.453151  0.00477  \n",
              "4829            0.047547            0.096585  0.02075  \n",
              "\n",
              "[4830 rows x 74 columns]"
            ],
            "text/html": [
              "\n",
              "  <div id=\"df-b652addc-717c-4a49-a569-d40057584b33\">\n",
              "    <div class=\"colab-df-container\">\n",
              "      <div>\n",
              "<style scoped>\n",
              "    .dataframe tbody tr th:only-of-type {\n",
              "        vertical-align: middle;\n",
              "    }\n",
              "\n",
              "    .dataframe tbody tr th {\n",
              "        vertical-align: top;\n",
              "    }\n",
              "\n",
              "    .dataframe thead th {\n",
              "        text-align: right;\n",
              "    }\n",
              "</style>\n",
              "<table border=\"1\" class=\"dataframe\">\n",
              "  <thead>\n",
              "    <tr style=\"text-align: right;\">\n",
              "      <th></th>\n",
              "      <th>X</th>\n",
              "      <th>Y</th>\n",
              "      <th>area</th>\n",
              "      <th>nd_mean_2021-04-15</th>\n",
              "      <th>nd_mean_2021-04-16</th>\n",
              "      <th>nd_mean_2021-04-18</th>\n",
              "      <th>nd_mean_2021-04-19</th>\n",
              "      <th>nd_mean_2021-04-20</th>\n",
              "      <th>nd_mean_2021-04-22</th>\n",
              "      <th>nd_mean_2021-04-23</th>\n",
              "      <th>...</th>\n",
              "      <th>nd_mean_2021-07-31</th>\n",
              "      <th>nd_mean_2021-08-01</th>\n",
              "      <th>nd_mean_2021-08-07</th>\n",
              "      <th>nd_mean_2021-08-10</th>\n",
              "      <th>nd_mean_2021-08-11</th>\n",
              "      <th>nd_mean_2021-08-12</th>\n",
              "      <th>nd_mean_2021-08-13</th>\n",
              "      <th>nd_mean_2021-08-23</th>\n",
              "      <th>nd_mean_2021-08-27</th>\n",
              "      <th>temp</th>\n",
              "    </tr>\n",
              "  </thead>\n",
              "  <tbody>\n",
              "    <tr>\n",
              "      <th>0</th>\n",
              "      <td>42.500303</td>\n",
              "      <td>51.412815</td>\n",
              "      <td>20</td>\n",
              "      <td>0.187150</td>\n",
              "      <td>0.072846</td>\n",
              "      <td>0.262300</td>\n",
              "      <td>0.261778</td>\n",
              "      <td>0.063134</td>\n",
              "      <td>0.062981</td>\n",
              "      <td>0.000000</td>\n",
              "      <td>...</td>\n",
              "      <td>0.000000</td>\n",
              "      <td>0.754859</td>\n",
              "      <td>0.000000</td>\n",
              "      <td>0.030883</td>\n",
              "      <td>0.000000</td>\n",
              "      <td>0.658016</td>\n",
              "      <td>0.126832</td>\n",
              "      <td>0.034858</td>\n",
              "      <td>0.614770</td>\n",
              "      <td>0.01316</td>\n",
              "    </tr>\n",
              "    <tr>\n",
              "      <th>1</th>\n",
              "      <td>50.265608</td>\n",
              "      <td>56.606045</td>\n",
              "      <td>45</td>\n",
              "      <td>0.245285</td>\n",
              "      <td>0.332928</td>\n",
              "      <td>0.349133</td>\n",
              "      <td>0.287182</td>\n",
              "      <td>0.064671</td>\n",
              "      <td>0.097138</td>\n",
              "      <td>0.024539</td>\n",
              "      <td>...</td>\n",
              "      <td>0.089721</td>\n",
              "      <td>0.706226</td>\n",
              "      <td>0.184231</td>\n",
              "      <td>0.062582</td>\n",
              "      <td>0.618475</td>\n",
              "      <td>0.601685</td>\n",
              "      <td>0.174914</td>\n",
              "      <td>0.000000</td>\n",
              "      <td>0.179612</td>\n",
              "      <td>0.04873</td>\n",
              "    </tr>\n",
              "    <tr>\n",
              "      <th>2</th>\n",
              "      <td>38.003231</td>\n",
              "      <td>53.837187</td>\n",
              "      <td>28</td>\n",
              "      <td>0.006391</td>\n",
              "      <td>0.013679</td>\n",
              "      <td>0.000000</td>\n",
              "      <td>0.007055</td>\n",
              "      <td>0.000000</td>\n",
              "      <td>0.120804</td>\n",
              "      <td>0.112471</td>\n",
              "      <td>...</td>\n",
              "      <td>0.411168</td>\n",
              "      <td>0.000000</td>\n",
              "      <td>0.357296</td>\n",
              "      <td>0.045370</td>\n",
              "      <td>0.172080</td>\n",
              "      <td>0.000000</td>\n",
              "      <td>0.090607</td>\n",
              "      <td>0.000000</td>\n",
              "      <td>0.054127</td>\n",
              "      <td>0.00725</td>\n",
              "    </tr>\n",
              "    <tr>\n",
              "      <th>3</th>\n",
              "      <td>44.727709</td>\n",
              "      <td>55.935536</td>\n",
              "      <td>19</td>\n",
              "      <td>0.293425</td>\n",
              "      <td>0.105976</td>\n",
              "      <td>0.318047</td>\n",
              "      <td>0.052500</td>\n",
              "      <td>0.153700</td>\n",
              "      <td>0.001917</td>\n",
              "      <td>0.045054</td>\n",
              "      <td>...</td>\n",
              "      <td>0.055983</td>\n",
              "      <td>0.152193</td>\n",
              "      <td>0.060656</td>\n",
              "      <td>0.352723</td>\n",
              "      <td>0.379196</td>\n",
              "      <td>0.327025</td>\n",
              "      <td>0.073492</td>\n",
              "      <td>0.061776</td>\n",
              "      <td>0.378900</td>\n",
              "      <td>0.00584</td>\n",
              "    </tr>\n",
              "    <tr>\n",
              "      <th>4</th>\n",
              "      <td>34.783534</td>\n",
              "      <td>52.907252</td>\n",
              "      <td>33</td>\n",
              "      <td>0.027983</td>\n",
              "      <td>0.130885</td>\n",
              "      <td>0.117227</td>\n",
              "      <td>0.063492</td>\n",
              "      <td>0.040565</td>\n",
              "      <td>0.024416</td>\n",
              "      <td>0.163886</td>\n",
              "      <td>...</td>\n",
              "      <td>0.611108</td>\n",
              "      <td>0.772962</td>\n",
              "      <td>0.000000</td>\n",
              "      <td>0.080592</td>\n",
              "      <td>0.000000</td>\n",
              "      <td>0.055220</td>\n",
              "      <td>0.157676</td>\n",
              "      <td>0.022251</td>\n",
              "      <td>0.012048</td>\n",
              "      <td>0.01206</td>\n",
              "    </tr>\n",
              "    <tr>\n",
              "      <th>...</th>\n",
              "      <td>...</td>\n",
              "      <td>...</td>\n",
              "      <td>...</td>\n",
              "      <td>...</td>\n",
              "      <td>...</td>\n",
              "      <td>...</td>\n",
              "      <td>...</td>\n",
              "      <td>...</td>\n",
              "      <td>...</td>\n",
              "      <td>...</td>\n",
              "      <td>...</td>\n",
              "      <td>...</td>\n",
              "      <td>...</td>\n",
              "      <td>...</td>\n",
              "      <td>...</td>\n",
              "      <td>...</td>\n",
              "      <td>...</td>\n",
              "      <td>...</td>\n",
              "      <td>...</td>\n",
              "      <td>...</td>\n",
              "      <td>...</td>\n",
              "    </tr>\n",
              "    <tr>\n",
              "      <th>4825</th>\n",
              "      <td>40.906039</td>\n",
              "      <td>50.899595</td>\n",
              "      <td>74</td>\n",
              "      <td>0.066154</td>\n",
              "      <td>0.028770</td>\n",
              "      <td>0.000000</td>\n",
              "      <td>0.038282</td>\n",
              "      <td>0.000000</td>\n",
              "      <td>0.255329</td>\n",
              "      <td>0.095812</td>\n",
              "      <td>...</td>\n",
              "      <td>0.379482</td>\n",
              "      <td>0.700605</td>\n",
              "      <td>0.645532</td>\n",
              "      <td>0.000000</td>\n",
              "      <td>0.059090</td>\n",
              "      <td>0.631144</td>\n",
              "      <td>0.042483</td>\n",
              "      <td>0.118901</td>\n",
              "      <td>0.022464</td>\n",
              "      <td>0.01893</td>\n",
              "    </tr>\n",
              "    <tr>\n",
              "      <th>4826</th>\n",
              "      <td>40.013739</td>\n",
              "      <td>51.804439</td>\n",
              "      <td>109</td>\n",
              "      <td>0.243867</td>\n",
              "      <td>0.035939</td>\n",
              "      <td>0.013403</td>\n",
              "      <td>0.030722</td>\n",
              "      <td>0.246513</td>\n",
              "      <td>0.033869</td>\n",
              "      <td>0.000000</td>\n",
              "      <td>...</td>\n",
              "      <td>0.800815</td>\n",
              "      <td>0.634428</td>\n",
              "      <td>0.783913</td>\n",
              "      <td>0.093728</td>\n",
              "      <td>0.000000</td>\n",
              "      <td>0.776900</td>\n",
              "      <td>0.055721</td>\n",
              "      <td>0.057945</td>\n",
              "      <td>0.044182</td>\n",
              "      <td>0.03354</td>\n",
              "    </tr>\n",
              "    <tr>\n",
              "      <th>4827</th>\n",
              "      <td>38.584332</td>\n",
              "      <td>53.193459</td>\n",
              "      <td>58</td>\n",
              "      <td>0.090026</td>\n",
              "      <td>0.191255</td>\n",
              "      <td>0.019897</td>\n",
              "      <td>0.063581</td>\n",
              "      <td>0.000000</td>\n",
              "      <td>0.140111</td>\n",
              "      <td>0.143922</td>\n",
              "      <td>...</td>\n",
              "      <td>0.740523</td>\n",
              "      <td>0.781434</td>\n",
              "      <td>0.783490</td>\n",
              "      <td>0.006700</td>\n",
              "      <td>0.132444</td>\n",
              "      <td>0.000000</td>\n",
              "      <td>0.007225</td>\n",
              "      <td>0.669367</td>\n",
              "      <td>0.145505</td>\n",
              "      <td>0.01680</td>\n",
              "    </tr>\n",
              "    <tr>\n",
              "      <th>4828</th>\n",
              "      <td>53.319120</td>\n",
              "      <td>55.183574</td>\n",
              "      <td>14</td>\n",
              "      <td>0.301663</td>\n",
              "      <td>0.291399</td>\n",
              "      <td>0.295089</td>\n",
              "      <td>0.221428</td>\n",
              "      <td>0.326494</td>\n",
              "      <td>0.007247</td>\n",
              "      <td>0.006888</td>\n",
              "      <td>...</td>\n",
              "      <td>0.235802</td>\n",
              "      <td>0.000000</td>\n",
              "      <td>0.079623</td>\n",
              "      <td>0.049245</td>\n",
              "      <td>0.506127</td>\n",
              "      <td>0.528256</td>\n",
              "      <td>0.031836</td>\n",
              "      <td>0.000000</td>\n",
              "      <td>0.453151</td>\n",
              "      <td>0.00477</td>\n",
              "    </tr>\n",
              "    <tr>\n",
              "      <th>4829</th>\n",
              "      <td>38.801397</td>\n",
              "      <td>52.727377</td>\n",
              "      <td>75</td>\n",
              "      <td>0.264959</td>\n",
              "      <td>0.226925</td>\n",
              "      <td>0.156903</td>\n",
              "      <td>0.043076</td>\n",
              "      <td>0.146099</td>\n",
              "      <td>0.058611</td>\n",
              "      <td>0.092287</td>\n",
              "      <td>...</td>\n",
              "      <td>0.724565</td>\n",
              "      <td>0.735739</td>\n",
              "      <td>0.017059</td>\n",
              "      <td>0.096632</td>\n",
              "      <td>0.114928</td>\n",
              "      <td>0.670171</td>\n",
              "      <td>0.000000</td>\n",
              "      <td>0.047547</td>\n",
              "      <td>0.096585</td>\n",
              "      <td>0.02075</td>\n",
              "    </tr>\n",
              "  </tbody>\n",
              "</table>\n",
              "<p>4830 rows × 74 columns</p>\n",
              "</div>\n",
              "      <button class=\"colab-df-convert\" onclick=\"convertToInteractive('df-b652addc-717c-4a49-a569-d40057584b33')\"\n",
              "              title=\"Convert this dataframe to an interactive table.\"\n",
              "              style=\"display:none;\">\n",
              "        \n",
              "  <svg xmlns=\"http://www.w3.org/2000/svg\" height=\"24px\"viewBox=\"0 0 24 24\"\n",
              "       width=\"24px\">\n",
              "    <path d=\"M0 0h24v24H0V0z\" fill=\"none\"/>\n",
              "    <path d=\"M18.56 5.44l.94 2.06.94-2.06 2.06-.94-2.06-.94-.94-2.06-.94 2.06-2.06.94zm-11 1L8.5 8.5l.94-2.06 2.06-.94-2.06-.94L8.5 2.5l-.94 2.06-2.06.94zm10 10l.94 2.06.94-2.06 2.06-.94-2.06-.94-.94-2.06-.94 2.06-2.06.94z\"/><path d=\"M17.41 7.96l-1.37-1.37c-.4-.4-.92-.59-1.43-.59-.52 0-1.04.2-1.43.59L10.3 9.45l-7.72 7.72c-.78.78-.78 2.05 0 2.83L4 21.41c.39.39.9.59 1.41.59.51 0 1.02-.2 1.41-.59l7.78-7.78 2.81-2.81c.8-.78.8-2.07 0-2.86zM5.41 20L4 18.59l7.72-7.72 1.47 1.35L5.41 20z\"/>\n",
              "  </svg>\n",
              "      </button>\n",
              "      \n",
              "  <style>\n",
              "    .colab-df-container {\n",
              "      display:flex;\n",
              "      flex-wrap:wrap;\n",
              "      gap: 12px;\n",
              "    }\n",
              "\n",
              "    .colab-df-convert {\n",
              "      background-color: #E8F0FE;\n",
              "      border: none;\n",
              "      border-radius: 50%;\n",
              "      cursor: pointer;\n",
              "      display: none;\n",
              "      fill: #1967D2;\n",
              "      height: 32px;\n",
              "      padding: 0 0 0 0;\n",
              "      width: 32px;\n",
              "    }\n",
              "\n",
              "    .colab-df-convert:hover {\n",
              "      background-color: #E2EBFA;\n",
              "      box-shadow: 0px 1px 2px rgba(60, 64, 67, 0.3), 0px 1px 3px 1px rgba(60, 64, 67, 0.15);\n",
              "      fill: #174EA6;\n",
              "    }\n",
              "\n",
              "    [theme=dark] .colab-df-convert {\n",
              "      background-color: #3B4455;\n",
              "      fill: #D2E3FC;\n",
              "    }\n",
              "\n",
              "    [theme=dark] .colab-df-convert:hover {\n",
              "      background-color: #434B5C;\n",
              "      box-shadow: 0px 1px 3px 1px rgba(0, 0, 0, 0.15);\n",
              "      filter: drop-shadow(0px 1px 2px rgba(0, 0, 0, 0.3));\n",
              "      fill: #FFFFFF;\n",
              "    }\n",
              "  </style>\n",
              "\n",
              "      <script>\n",
              "        const buttonEl =\n",
              "          document.querySelector('#df-b652addc-717c-4a49-a569-d40057584b33 button.colab-df-convert');\n",
              "        buttonEl.style.display =\n",
              "          google.colab.kernel.accessAllowed ? 'block' : 'none';\n",
              "\n",
              "        async function convertToInteractive(key) {\n",
              "          const element = document.querySelector('#df-b652addc-717c-4a49-a569-d40057584b33');\n",
              "          const dataTable =\n",
              "            await google.colab.kernel.invokeFunction('convertToInteractive',\n",
              "                                                     [key], {});\n",
              "          if (!dataTable) return;\n",
              "\n",
              "          const docLinkHtml = 'Like what you see? Visit the ' +\n",
              "            '<a target=\"_blank\" href=https://colab.research.google.com/notebooks/data_table.ipynb>data table notebook</a>'\n",
              "            + ' to learn more about interactive tables.';\n",
              "          element.innerHTML = '';\n",
              "          dataTable['output_type'] = 'display_data';\n",
              "          await google.colab.output.renderOutput(dataTable, element);\n",
              "          const docLink = document.createElement('div');\n",
              "          docLink.innerHTML = docLinkHtml;\n",
              "          element.appendChild(docLink);\n",
              "        }\n",
              "      </script>\n",
              "    </div>\n",
              "  </div>\n",
              "  "
            ]
          },
          "metadata": {},
          "execution_count": 71
        }
      ]
    },
    {
      "cell_type": "code",
      "source": [
        "y_train = df_train['crop']"
      ],
      "metadata": {
        "id": "x38hfKyMS92E"
      },
      "execution_count": null,
      "outputs": []
    },
    {
      "cell_type": "code",
      "source": [
        "from sklearn.ensemble import RandomForestClassifier\n",
        "clf1 = RandomForestClassifier()\n",
        "clf1.fit(x_train, y_train)"
      ],
      "metadata": {
        "id": "VtxwcAkpDtwb",
        "colab": {
          "base_uri": "https://localhost:8080/"
        },
        "outputId": "2c0e7b3b-56b9-4a1a-c7ab-792f090af261"
      },
      "execution_count": null,
      "outputs": [
        {
          "output_type": "execute_result",
          "data": {
            "text/plain": [
              "RandomForestClassifier()"
            ]
          },
          "metadata": {},
          "execution_count": 73
        }
      ]
    },
    {
      "cell_type": "code",
      "source": [
        "x_test.dtypes"
      ],
      "metadata": {
        "colab": {
          "base_uri": "https://localhost:8080/"
        },
        "id": "CmXXU7mALgrb",
        "outputId": "bf47394c-3758-4618-ccb8-287f2c02a671"
      },
      "execution_count": null,
      "outputs": [
        {
          "output_type": "execute_result",
          "data": {
            "text/plain": [
              "area                    int64\n",
              "nd_mean_2021-04-16    float64\n",
              "nd_mean_2021-04-19    float64\n",
              "nd_mean_2021-04-22    float64\n",
              "nd_mean_2021-04-26    float64\n",
              "                       ...   \n",
              "nd_mean_2021-05-08    float64\n",
              "nd_mean_2021-05-24    float64\n",
              "temp                  float64\n",
              "X                     float64\n",
              "Y                     float64\n",
              "Length: 75, dtype: object"
            ]
          },
          "metadata": {},
          "execution_count": 104
        }
      ]
    },
    {
      "cell_type": "code",
      "source": [
        "pre = clf1.predict(x_test)\n",
        "pre"
      ],
      "metadata": {
        "colab": {
          "base_uri": "https://localhost:8080/"
        },
        "id": "Fk_LEanoVj37",
        "outputId": "8ee1c0b1-dea5-4c71-9779-b90b397e831f"
      },
      "execution_count": null,
      "outputs": [
        {
          "output_type": "execute_result",
          "data": {
            "text/plain": [
              "array([3, 2, 3, ..., 2, 6, 0])"
            ]
          },
          "metadata": {},
          "execution_count": 74
        }
      ]
    },
    {
      "cell_type": "code",
      "source": [
        "sub1 = pd.DataFrame({'id': y_test, 'crop': pre})\n",
        "sub1.to_csv('result_crop60.csv', index=False)\n",
        "sub1"
      ],
      "metadata": {
        "colab": {
          "base_uri": "https://localhost:8080/",
          "height": 424
        },
        "id": "fXwWH0ktVl5q",
        "outputId": "be46bc6d-0934-4605-c34b-2b52c4b346b1"
      },
      "execution_count": null,
      "outputs": [
        {
          "output_type": "execute_result",
          "data": {
            "text/plain": [
              "        id  crop\n",
              "0      611     3\n",
              "1     6417     2\n",
              "2     3352     3\n",
              "3     4224     1\n",
              "4     3102     6\n",
              "...    ...   ...\n",
              "2066  1743     5\n",
              "2067  3968     3\n",
              "2068  3809     2\n",
              "2069  5485     6\n",
              "2070  5899     0\n",
              "\n",
              "[2071 rows x 2 columns]"
            ],
            "text/html": [
              "\n",
              "  <div id=\"df-1d4685a0-3f37-4811-a131-1f7bf91201e8\">\n",
              "    <div class=\"colab-df-container\">\n",
              "      <div>\n",
              "<style scoped>\n",
              "    .dataframe tbody tr th:only-of-type {\n",
              "        vertical-align: middle;\n",
              "    }\n",
              "\n",
              "    .dataframe tbody tr th {\n",
              "        vertical-align: top;\n",
              "    }\n",
              "\n",
              "    .dataframe thead th {\n",
              "        text-align: right;\n",
              "    }\n",
              "</style>\n",
              "<table border=\"1\" class=\"dataframe\">\n",
              "  <thead>\n",
              "    <tr style=\"text-align: right;\">\n",
              "      <th></th>\n",
              "      <th>id</th>\n",
              "      <th>crop</th>\n",
              "    </tr>\n",
              "  </thead>\n",
              "  <tbody>\n",
              "    <tr>\n",
              "      <th>0</th>\n",
              "      <td>611</td>\n",
              "      <td>3</td>\n",
              "    </tr>\n",
              "    <tr>\n",
              "      <th>1</th>\n",
              "      <td>6417</td>\n",
              "      <td>2</td>\n",
              "    </tr>\n",
              "    <tr>\n",
              "      <th>2</th>\n",
              "      <td>3352</td>\n",
              "      <td>3</td>\n",
              "    </tr>\n",
              "    <tr>\n",
              "      <th>3</th>\n",
              "      <td>4224</td>\n",
              "      <td>1</td>\n",
              "    </tr>\n",
              "    <tr>\n",
              "      <th>4</th>\n",
              "      <td>3102</td>\n",
              "      <td>6</td>\n",
              "    </tr>\n",
              "    <tr>\n",
              "      <th>...</th>\n",
              "      <td>...</td>\n",
              "      <td>...</td>\n",
              "    </tr>\n",
              "    <tr>\n",
              "      <th>2066</th>\n",
              "      <td>1743</td>\n",
              "      <td>5</td>\n",
              "    </tr>\n",
              "    <tr>\n",
              "      <th>2067</th>\n",
              "      <td>3968</td>\n",
              "      <td>3</td>\n",
              "    </tr>\n",
              "    <tr>\n",
              "      <th>2068</th>\n",
              "      <td>3809</td>\n",
              "      <td>2</td>\n",
              "    </tr>\n",
              "    <tr>\n",
              "      <th>2069</th>\n",
              "      <td>5485</td>\n",
              "      <td>6</td>\n",
              "    </tr>\n",
              "    <tr>\n",
              "      <th>2070</th>\n",
              "      <td>5899</td>\n",
              "      <td>0</td>\n",
              "    </tr>\n",
              "  </tbody>\n",
              "</table>\n",
              "<p>2071 rows × 2 columns</p>\n",
              "</div>\n",
              "      <button class=\"colab-df-convert\" onclick=\"convertToInteractive('df-1d4685a0-3f37-4811-a131-1f7bf91201e8')\"\n",
              "              title=\"Convert this dataframe to an interactive table.\"\n",
              "              style=\"display:none;\">\n",
              "        \n",
              "  <svg xmlns=\"http://www.w3.org/2000/svg\" height=\"24px\"viewBox=\"0 0 24 24\"\n",
              "       width=\"24px\">\n",
              "    <path d=\"M0 0h24v24H0V0z\" fill=\"none\"/>\n",
              "    <path d=\"M18.56 5.44l.94 2.06.94-2.06 2.06-.94-2.06-.94-.94-2.06-.94 2.06-2.06.94zm-11 1L8.5 8.5l.94-2.06 2.06-.94-2.06-.94L8.5 2.5l-.94 2.06-2.06.94zm10 10l.94 2.06.94-2.06 2.06-.94-2.06-.94-.94-2.06-.94 2.06-2.06.94z\"/><path d=\"M17.41 7.96l-1.37-1.37c-.4-.4-.92-.59-1.43-.59-.52 0-1.04.2-1.43.59L10.3 9.45l-7.72 7.72c-.78.78-.78 2.05 0 2.83L4 21.41c.39.39.9.59 1.41.59.51 0 1.02-.2 1.41-.59l7.78-7.78 2.81-2.81c.8-.78.8-2.07 0-2.86zM5.41 20L4 18.59l7.72-7.72 1.47 1.35L5.41 20z\"/>\n",
              "  </svg>\n",
              "      </button>\n",
              "      \n",
              "  <style>\n",
              "    .colab-df-container {\n",
              "      display:flex;\n",
              "      flex-wrap:wrap;\n",
              "      gap: 12px;\n",
              "    }\n",
              "\n",
              "    .colab-df-convert {\n",
              "      background-color: #E8F0FE;\n",
              "      border: none;\n",
              "      border-radius: 50%;\n",
              "      cursor: pointer;\n",
              "      display: none;\n",
              "      fill: #1967D2;\n",
              "      height: 32px;\n",
              "      padding: 0 0 0 0;\n",
              "      width: 32px;\n",
              "    }\n",
              "\n",
              "    .colab-df-convert:hover {\n",
              "      background-color: #E2EBFA;\n",
              "      box-shadow: 0px 1px 2px rgba(60, 64, 67, 0.3), 0px 1px 3px 1px rgba(60, 64, 67, 0.15);\n",
              "      fill: #174EA6;\n",
              "    }\n",
              "\n",
              "    [theme=dark] .colab-df-convert {\n",
              "      background-color: #3B4455;\n",
              "      fill: #D2E3FC;\n",
              "    }\n",
              "\n",
              "    [theme=dark] .colab-df-convert:hover {\n",
              "      background-color: #434B5C;\n",
              "      box-shadow: 0px 1px 3px 1px rgba(0, 0, 0, 0.15);\n",
              "      filter: drop-shadow(0px 1px 2px rgba(0, 0, 0, 0.3));\n",
              "      fill: #FFFFFF;\n",
              "    }\n",
              "  </style>\n",
              "\n",
              "      <script>\n",
              "        const buttonEl =\n",
              "          document.querySelector('#df-1d4685a0-3f37-4811-a131-1f7bf91201e8 button.colab-df-convert');\n",
              "        buttonEl.style.display =\n",
              "          google.colab.kernel.accessAllowed ? 'block' : 'none';\n",
              "\n",
              "        async function convertToInteractive(key) {\n",
              "          const element = document.querySelector('#df-1d4685a0-3f37-4811-a131-1f7bf91201e8');\n",
              "          const dataTable =\n",
              "            await google.colab.kernel.invokeFunction('convertToInteractive',\n",
              "                                                     [key], {});\n",
              "          if (!dataTable) return;\n",
              "\n",
              "          const docLinkHtml = 'Like what you see? Visit the ' +\n",
              "            '<a target=\"_blank\" href=https://colab.research.google.com/notebooks/data_table.ipynb>data table notebook</a>'\n",
              "            + ' to learn more about interactive tables.';\n",
              "          element.innerHTML = '';\n",
              "          dataTable['output_type'] = 'display_data';\n",
              "          await google.colab.output.renderOutput(dataTable, element);\n",
              "          const docLink = document.createElement('div');\n",
              "          docLink.innerHTML = docLinkHtml;\n",
              "          element.appendChild(docLink);\n",
              "        }\n",
              "      </script>\n",
              "    </div>\n",
              "  </div>\n",
              "  "
            ]
          },
          "metadata": {},
          "execution_count": 75
        }
      ]
    },
    {
      "cell_type": "code",
      "source": [
        "x_train"
      ],
      "metadata": {
        "colab": {
          "base_uri": "https://localhost:8080/",
          "height": 505
        },
        "id": "yq5WOeWrS7Tt",
        "outputId": "96c5cbd3-2887-4c9a-92cf-932cccc59f32"
      },
      "execution_count": null,
      "outputs": [
        {
          "output_type": "execute_result",
          "data": {
            "text/plain": [
              "      area  nd_mean_2021-04-16  nd_mean_2021-04-19  nd_mean_2021-04-22  \\\n",
              "0       20            0.072846            0.261778            0.062981   \n",
              "1       45            0.332928            0.287182            0.097138   \n",
              "2       28            0.013679            0.007055            0.120804   \n",
              "3       19            0.105976            0.052500            0.001917   \n",
              "4       33            0.130885            0.063492            0.024416   \n",
              "...    ...                 ...                 ...                 ...   \n",
              "4825    74            0.028770            0.038282            0.255329   \n",
              "4826   109            0.035939            0.030722            0.033869   \n",
              "4827    58            0.191255            0.063581            0.140111   \n",
              "4828    14            0.291399            0.221428            0.007247   \n",
              "4829    75            0.226925            0.043076            0.058611   \n",
              "\n",
              "      nd_mean_2021-04-26  nd_mean_2021-04-28  nd_mean_2021-05-02  \\\n",
              "0               0.104442            0.021096            0.052202   \n",
              "1               0.152467            0.075484            0.000000   \n",
              "2               0.037839            0.259125            0.000000   \n",
              "3               0.011531            0.042316            0.000000   \n",
              "4               0.000000            0.150671            0.046717   \n",
              "...                  ...                 ...                 ...   \n",
              "4825            0.148166            0.225421            0.479483   \n",
              "4826            0.029646            0.318387            0.247905   \n",
              "4827            0.323984            0.000000            0.005056   \n",
              "4828            0.055074            0.057781            0.187749   \n",
              "4829            0.440539            0.120169            0.138846   \n",
              "\n",
              "      nd_mean_2021-05-04  nd_mean_2021-05-07  nd_mean_2021-05-16  ...  \\\n",
              "0               0.158723            0.000000            0.484102  ...   \n",
              "1               0.140326            0.163340            0.519456  ...   \n",
              "2               0.037446            0.506516            0.000000  ...   \n",
              "3               0.000000            0.043604            0.510271  ...   \n",
              "4               0.254284            0.101479            0.000000  ...   \n",
              "...                  ...                 ...                 ...  ...   \n",
              "4825            0.071684            0.016856            0.407955  ...   \n",
              "4826            0.265180            0.286298            0.578936  ...   \n",
              "4827            0.092693            0.399439            0.006256  ...   \n",
              "4828            0.112403            0.183555            0.504538  ...   \n",
              "4829            0.020173            0.117669            0.266987  ...   \n",
              "\n",
              "      nd_mean_2021-06-05  nd_mean_2021-06-10  nd_mean_2021-07-05  \\\n",
              "0               0.000000            0.000000            0.026784   \n",
              "1               0.000000            0.000000            0.111148   \n",
              "2               0.210496            0.130467            0.155225   \n",
              "3               0.132886            0.000000            0.570928   \n",
              "4               0.152003            0.073357            0.147842   \n",
              "...                  ...                 ...                 ...   \n",
              "4825            0.066882            0.139222            0.009041   \n",
              "4826            0.131357            0.000000            0.187236   \n",
              "4827            0.142930            0.000000            0.047572   \n",
              "4828            0.085861            0.631304            0.694524   \n",
              "4829            0.000000            0.010312            0.227649   \n",
              "\n",
              "      nd_mean_2021-08-13  nd_mean_2021-08-27  nd_mean_2021-05-08  \\\n",
              "0               0.126832            0.614770            0.008857   \n",
              "1               0.174914            0.179612            0.113071   \n",
              "2               0.090607            0.054127            0.007437   \n",
              "3               0.073492            0.378900            0.327677   \n",
              "4               0.157676            0.012048            0.054223   \n",
              "...                  ...                 ...                 ...   \n",
              "4825            0.042483            0.022464            0.017705   \n",
              "4826            0.055721            0.044182            0.048316   \n",
              "4827            0.007225            0.145505            0.051215   \n",
              "4828            0.031836            0.453151            0.000000   \n",
              "4829            0.000000            0.096585            0.000000   \n",
              "\n",
              "      nd_mean_2021-05-24          X          Y     temp  \n",
              "0               0.081498  42.500303  51.412815  0.01316  \n",
              "1               0.046997  50.265608  56.606045  0.04873  \n",
              "2               0.219614  38.003231  53.837187  0.00725  \n",
              "3               0.586523  44.727709  55.935536  0.00584  \n",
              "4               0.017539  34.783534  52.907252  0.01206  \n",
              "...                  ...        ...        ...      ...  \n",
              "4825            0.148440  40.906039  50.899595  0.01893  \n",
              "4826            0.041440  40.013739  51.804439  0.03354  \n",
              "4827            0.079730  38.584332  53.193459  0.01680  \n",
              "4828            0.006495  53.319120  55.183574  0.00477  \n",
              "4829            0.011459  38.801397  52.727377  0.02075  \n",
              "\n",
              "[4830 rows x 74 columns]"
            ],
            "text/html": [
              "\n",
              "  <div id=\"df-3994a0d3-a262-4875-9ff7-24ff7ab02bf7\">\n",
              "    <div class=\"colab-df-container\">\n",
              "      <div>\n",
              "<style scoped>\n",
              "    .dataframe tbody tr th:only-of-type {\n",
              "        vertical-align: middle;\n",
              "    }\n",
              "\n",
              "    .dataframe tbody tr th {\n",
              "        vertical-align: top;\n",
              "    }\n",
              "\n",
              "    .dataframe thead th {\n",
              "        text-align: right;\n",
              "    }\n",
              "</style>\n",
              "<table border=\"1\" class=\"dataframe\">\n",
              "  <thead>\n",
              "    <tr style=\"text-align: right;\">\n",
              "      <th></th>\n",
              "      <th>area</th>\n",
              "      <th>nd_mean_2021-04-16</th>\n",
              "      <th>nd_mean_2021-04-19</th>\n",
              "      <th>nd_mean_2021-04-22</th>\n",
              "      <th>nd_mean_2021-04-26</th>\n",
              "      <th>nd_mean_2021-04-28</th>\n",
              "      <th>nd_mean_2021-05-02</th>\n",
              "      <th>nd_mean_2021-05-04</th>\n",
              "      <th>nd_mean_2021-05-07</th>\n",
              "      <th>nd_mean_2021-05-16</th>\n",
              "      <th>...</th>\n",
              "      <th>nd_mean_2021-06-05</th>\n",
              "      <th>nd_mean_2021-06-10</th>\n",
              "      <th>nd_mean_2021-07-05</th>\n",
              "      <th>nd_mean_2021-08-13</th>\n",
              "      <th>nd_mean_2021-08-27</th>\n",
              "      <th>nd_mean_2021-05-08</th>\n",
              "      <th>nd_mean_2021-05-24</th>\n",
              "      <th>X</th>\n",
              "      <th>Y</th>\n",
              "      <th>temp</th>\n",
              "    </tr>\n",
              "  </thead>\n",
              "  <tbody>\n",
              "    <tr>\n",
              "      <th>0</th>\n",
              "      <td>20</td>\n",
              "      <td>0.072846</td>\n",
              "      <td>0.261778</td>\n",
              "      <td>0.062981</td>\n",
              "      <td>0.104442</td>\n",
              "      <td>0.021096</td>\n",
              "      <td>0.052202</td>\n",
              "      <td>0.158723</td>\n",
              "      <td>0.000000</td>\n",
              "      <td>0.484102</td>\n",
              "      <td>...</td>\n",
              "      <td>0.000000</td>\n",
              "      <td>0.000000</td>\n",
              "      <td>0.026784</td>\n",
              "      <td>0.126832</td>\n",
              "      <td>0.614770</td>\n",
              "      <td>0.008857</td>\n",
              "      <td>0.081498</td>\n",
              "      <td>42.500303</td>\n",
              "      <td>51.412815</td>\n",
              "      <td>0.01316</td>\n",
              "    </tr>\n",
              "    <tr>\n",
              "      <th>1</th>\n",
              "      <td>45</td>\n",
              "      <td>0.332928</td>\n",
              "      <td>0.287182</td>\n",
              "      <td>0.097138</td>\n",
              "      <td>0.152467</td>\n",
              "      <td>0.075484</td>\n",
              "      <td>0.000000</td>\n",
              "      <td>0.140326</td>\n",
              "      <td>0.163340</td>\n",
              "      <td>0.519456</td>\n",
              "      <td>...</td>\n",
              "      <td>0.000000</td>\n",
              "      <td>0.000000</td>\n",
              "      <td>0.111148</td>\n",
              "      <td>0.174914</td>\n",
              "      <td>0.179612</td>\n",
              "      <td>0.113071</td>\n",
              "      <td>0.046997</td>\n",
              "      <td>50.265608</td>\n",
              "      <td>56.606045</td>\n",
              "      <td>0.04873</td>\n",
              "    </tr>\n",
              "    <tr>\n",
              "      <th>2</th>\n",
              "      <td>28</td>\n",
              "      <td>0.013679</td>\n",
              "      <td>0.007055</td>\n",
              "      <td>0.120804</td>\n",
              "      <td>0.037839</td>\n",
              "      <td>0.259125</td>\n",
              "      <td>0.000000</td>\n",
              "      <td>0.037446</td>\n",
              "      <td>0.506516</td>\n",
              "      <td>0.000000</td>\n",
              "      <td>...</td>\n",
              "      <td>0.210496</td>\n",
              "      <td>0.130467</td>\n",
              "      <td>0.155225</td>\n",
              "      <td>0.090607</td>\n",
              "      <td>0.054127</td>\n",
              "      <td>0.007437</td>\n",
              "      <td>0.219614</td>\n",
              "      <td>38.003231</td>\n",
              "      <td>53.837187</td>\n",
              "      <td>0.00725</td>\n",
              "    </tr>\n",
              "    <tr>\n",
              "      <th>3</th>\n",
              "      <td>19</td>\n",
              "      <td>0.105976</td>\n",
              "      <td>0.052500</td>\n",
              "      <td>0.001917</td>\n",
              "      <td>0.011531</td>\n",
              "      <td>0.042316</td>\n",
              "      <td>0.000000</td>\n",
              "      <td>0.000000</td>\n",
              "      <td>0.043604</td>\n",
              "      <td>0.510271</td>\n",
              "      <td>...</td>\n",
              "      <td>0.132886</td>\n",
              "      <td>0.000000</td>\n",
              "      <td>0.570928</td>\n",
              "      <td>0.073492</td>\n",
              "      <td>0.378900</td>\n",
              "      <td>0.327677</td>\n",
              "      <td>0.586523</td>\n",
              "      <td>44.727709</td>\n",
              "      <td>55.935536</td>\n",
              "      <td>0.00584</td>\n",
              "    </tr>\n",
              "    <tr>\n",
              "      <th>4</th>\n",
              "      <td>33</td>\n",
              "      <td>0.130885</td>\n",
              "      <td>0.063492</td>\n",
              "      <td>0.024416</td>\n",
              "      <td>0.000000</td>\n",
              "      <td>0.150671</td>\n",
              "      <td>0.046717</td>\n",
              "      <td>0.254284</td>\n",
              "      <td>0.101479</td>\n",
              "      <td>0.000000</td>\n",
              "      <td>...</td>\n",
              "      <td>0.152003</td>\n",
              "      <td>0.073357</td>\n",
              "      <td>0.147842</td>\n",
              "      <td>0.157676</td>\n",
              "      <td>0.012048</td>\n",
              "      <td>0.054223</td>\n",
              "      <td>0.017539</td>\n",
              "      <td>34.783534</td>\n",
              "      <td>52.907252</td>\n",
              "      <td>0.01206</td>\n",
              "    </tr>\n",
              "    <tr>\n",
              "      <th>...</th>\n",
              "      <td>...</td>\n",
              "      <td>...</td>\n",
              "      <td>...</td>\n",
              "      <td>...</td>\n",
              "      <td>...</td>\n",
              "      <td>...</td>\n",
              "      <td>...</td>\n",
              "      <td>...</td>\n",
              "      <td>...</td>\n",
              "      <td>...</td>\n",
              "      <td>...</td>\n",
              "      <td>...</td>\n",
              "      <td>...</td>\n",
              "      <td>...</td>\n",
              "      <td>...</td>\n",
              "      <td>...</td>\n",
              "      <td>...</td>\n",
              "      <td>...</td>\n",
              "      <td>...</td>\n",
              "      <td>...</td>\n",
              "      <td>...</td>\n",
              "    </tr>\n",
              "    <tr>\n",
              "      <th>4825</th>\n",
              "      <td>74</td>\n",
              "      <td>0.028770</td>\n",
              "      <td>0.038282</td>\n",
              "      <td>0.255329</td>\n",
              "      <td>0.148166</td>\n",
              "      <td>0.225421</td>\n",
              "      <td>0.479483</td>\n",
              "      <td>0.071684</td>\n",
              "      <td>0.016856</td>\n",
              "      <td>0.407955</td>\n",
              "      <td>...</td>\n",
              "      <td>0.066882</td>\n",
              "      <td>0.139222</td>\n",
              "      <td>0.009041</td>\n",
              "      <td>0.042483</td>\n",
              "      <td>0.022464</td>\n",
              "      <td>0.017705</td>\n",
              "      <td>0.148440</td>\n",
              "      <td>40.906039</td>\n",
              "      <td>50.899595</td>\n",
              "      <td>0.01893</td>\n",
              "    </tr>\n",
              "    <tr>\n",
              "      <th>4826</th>\n",
              "      <td>109</td>\n",
              "      <td>0.035939</td>\n",
              "      <td>0.030722</td>\n",
              "      <td>0.033869</td>\n",
              "      <td>0.029646</td>\n",
              "      <td>0.318387</td>\n",
              "      <td>0.247905</td>\n",
              "      <td>0.265180</td>\n",
              "      <td>0.286298</td>\n",
              "      <td>0.578936</td>\n",
              "      <td>...</td>\n",
              "      <td>0.131357</td>\n",
              "      <td>0.000000</td>\n",
              "      <td>0.187236</td>\n",
              "      <td>0.055721</td>\n",
              "      <td>0.044182</td>\n",
              "      <td>0.048316</td>\n",
              "      <td>0.041440</td>\n",
              "      <td>40.013739</td>\n",
              "      <td>51.804439</td>\n",
              "      <td>0.03354</td>\n",
              "    </tr>\n",
              "    <tr>\n",
              "      <th>4827</th>\n",
              "      <td>58</td>\n",
              "      <td>0.191255</td>\n",
              "      <td>0.063581</td>\n",
              "      <td>0.140111</td>\n",
              "      <td>0.323984</td>\n",
              "      <td>0.000000</td>\n",
              "      <td>0.005056</td>\n",
              "      <td>0.092693</td>\n",
              "      <td>0.399439</td>\n",
              "      <td>0.006256</td>\n",
              "      <td>...</td>\n",
              "      <td>0.142930</td>\n",
              "      <td>0.000000</td>\n",
              "      <td>0.047572</td>\n",
              "      <td>0.007225</td>\n",
              "      <td>0.145505</td>\n",
              "      <td>0.051215</td>\n",
              "      <td>0.079730</td>\n",
              "      <td>38.584332</td>\n",
              "      <td>53.193459</td>\n",
              "      <td>0.01680</td>\n",
              "    </tr>\n",
              "    <tr>\n",
              "      <th>4828</th>\n",
              "      <td>14</td>\n",
              "      <td>0.291399</td>\n",
              "      <td>0.221428</td>\n",
              "      <td>0.007247</td>\n",
              "      <td>0.055074</td>\n",
              "      <td>0.057781</td>\n",
              "      <td>0.187749</td>\n",
              "      <td>0.112403</td>\n",
              "      <td>0.183555</td>\n",
              "      <td>0.504538</td>\n",
              "      <td>...</td>\n",
              "      <td>0.085861</td>\n",
              "      <td>0.631304</td>\n",
              "      <td>0.694524</td>\n",
              "      <td>0.031836</td>\n",
              "      <td>0.453151</td>\n",
              "      <td>0.000000</td>\n",
              "      <td>0.006495</td>\n",
              "      <td>53.319120</td>\n",
              "      <td>55.183574</td>\n",
              "      <td>0.00477</td>\n",
              "    </tr>\n",
              "    <tr>\n",
              "      <th>4829</th>\n",
              "      <td>75</td>\n",
              "      <td>0.226925</td>\n",
              "      <td>0.043076</td>\n",
              "      <td>0.058611</td>\n",
              "      <td>0.440539</td>\n",
              "      <td>0.120169</td>\n",
              "      <td>0.138846</td>\n",
              "      <td>0.020173</td>\n",
              "      <td>0.117669</td>\n",
              "      <td>0.266987</td>\n",
              "      <td>...</td>\n",
              "      <td>0.000000</td>\n",
              "      <td>0.010312</td>\n",
              "      <td>0.227649</td>\n",
              "      <td>0.000000</td>\n",
              "      <td>0.096585</td>\n",
              "      <td>0.000000</td>\n",
              "      <td>0.011459</td>\n",
              "      <td>38.801397</td>\n",
              "      <td>52.727377</td>\n",
              "      <td>0.02075</td>\n",
              "    </tr>\n",
              "  </tbody>\n",
              "</table>\n",
              "<p>4830 rows × 74 columns</p>\n",
              "</div>\n",
              "      <button class=\"colab-df-convert\" onclick=\"convertToInteractive('df-3994a0d3-a262-4875-9ff7-24ff7ab02bf7')\"\n",
              "              title=\"Convert this dataframe to an interactive table.\"\n",
              "              style=\"display:none;\">\n",
              "        \n",
              "  <svg xmlns=\"http://www.w3.org/2000/svg\" height=\"24px\"viewBox=\"0 0 24 24\"\n",
              "       width=\"24px\">\n",
              "    <path d=\"M0 0h24v24H0V0z\" fill=\"none\"/>\n",
              "    <path d=\"M18.56 5.44l.94 2.06.94-2.06 2.06-.94-2.06-.94-.94-2.06-.94 2.06-2.06.94zm-11 1L8.5 8.5l.94-2.06 2.06-.94-2.06-.94L8.5 2.5l-.94 2.06-2.06.94zm10 10l.94 2.06.94-2.06 2.06-.94-2.06-.94-.94-2.06-.94 2.06-2.06.94z\"/><path d=\"M17.41 7.96l-1.37-1.37c-.4-.4-.92-.59-1.43-.59-.52 0-1.04.2-1.43.59L10.3 9.45l-7.72 7.72c-.78.78-.78 2.05 0 2.83L4 21.41c.39.39.9.59 1.41.59.51 0 1.02-.2 1.41-.59l7.78-7.78 2.81-2.81c.8-.78.8-2.07 0-2.86zM5.41 20L4 18.59l7.72-7.72 1.47 1.35L5.41 20z\"/>\n",
              "  </svg>\n",
              "      </button>\n",
              "      \n",
              "  <style>\n",
              "    .colab-df-container {\n",
              "      display:flex;\n",
              "      flex-wrap:wrap;\n",
              "      gap: 12px;\n",
              "    }\n",
              "\n",
              "    .colab-df-convert {\n",
              "      background-color: #E8F0FE;\n",
              "      border: none;\n",
              "      border-radius: 50%;\n",
              "      cursor: pointer;\n",
              "      display: none;\n",
              "      fill: #1967D2;\n",
              "      height: 32px;\n",
              "      padding: 0 0 0 0;\n",
              "      width: 32px;\n",
              "    }\n",
              "\n",
              "    .colab-df-convert:hover {\n",
              "      background-color: #E2EBFA;\n",
              "      box-shadow: 0px 1px 2px rgba(60, 64, 67, 0.3), 0px 1px 3px 1px rgba(60, 64, 67, 0.15);\n",
              "      fill: #174EA6;\n",
              "    }\n",
              "\n",
              "    [theme=dark] .colab-df-convert {\n",
              "      background-color: #3B4455;\n",
              "      fill: #D2E3FC;\n",
              "    }\n",
              "\n",
              "    [theme=dark] .colab-df-convert:hover {\n",
              "      background-color: #434B5C;\n",
              "      box-shadow: 0px 1px 3px 1px rgba(0, 0, 0, 0.15);\n",
              "      filter: drop-shadow(0px 1px 2px rgba(0, 0, 0, 0.3));\n",
              "      fill: #FFFFFF;\n",
              "    }\n",
              "  </style>\n",
              "\n",
              "      <script>\n",
              "        const buttonEl =\n",
              "          document.querySelector('#df-3994a0d3-a262-4875-9ff7-24ff7ab02bf7 button.colab-df-convert');\n",
              "        buttonEl.style.display =\n",
              "          google.colab.kernel.accessAllowed ? 'block' : 'none';\n",
              "\n",
              "        async function convertToInteractive(key) {\n",
              "          const element = document.querySelector('#df-3994a0d3-a262-4875-9ff7-24ff7ab02bf7');\n",
              "          const dataTable =\n",
              "            await google.colab.kernel.invokeFunction('convertToInteractive',\n",
              "                                                     [key], {});\n",
              "          if (!dataTable) return;\n",
              "\n",
              "          const docLinkHtml = 'Like what you see? Visit the ' +\n",
              "            '<a target=\"_blank\" href=https://colab.research.google.com/notebooks/data_table.ipynb>data table notebook</a>'\n",
              "            + ' to learn more about interactive tables.';\n",
              "          element.innerHTML = '';\n",
              "          dataTable['output_type'] = 'display_data';\n",
              "          await google.colab.output.renderOutput(dataTable, element);\n",
              "          const docLink = document.createElement('div');\n",
              "          docLink.innerHTML = docLinkHtml;\n",
              "          element.appendChild(docLink);\n",
              "        }\n",
              "      </script>\n",
              "    </div>\n",
              "  </div>\n",
              "  "
            ]
          },
          "metadata": {},
          "execution_count": 171
        }
      ]
    },
    {
      "cell_type": "code",
      "source": [],
      "metadata": {
        "id": "LtyzYM_qS7Q-"
      },
      "execution_count": null,
      "outputs": []
    },
    {
      "cell_type": "code",
      "source": [],
      "metadata": {
        "id": "mvLW8HkZS7Od"
      },
      "execution_count": null,
      "outputs": []
    },
    {
      "cell_type": "code",
      "source": [
        "df_test"
      ],
      "metadata": {
        "colab": {
          "base_uri": "https://localhost:8080/",
          "height": 505
        },
        "id": "zt6jh3YnS7NH",
        "outputId": "45afa8f7-1bcd-4bb9-989d-4836545c703b"
      },
      "execution_count": null,
      "outputs": [
        {
          "output_type": "execute_result",
          "data": {
            "text/plain": [
              "        id  area  nd_mean_2021-04-16  nd_mean_2021-04-19  nd_mean_2021-04-22  \\\n",
              "0      611    26            0.196691            0.000000            0.259303   \n",
              "1     6417    98            0.091192            0.000000            0.125823   \n",
              "2     3352    21            0.000000            0.033368            0.285057   \n",
              "3     4224    18            0.111243            0.201012            0.000000   \n",
              "4     3102    53            0.000000            0.234954            0.000000   \n",
              "...    ...   ...                 ...                 ...                 ...   \n",
              "2066  1743    18            0.000000            0.017866            0.212560   \n",
              "2067  3968    56            0.010670            0.105135            0.170843   \n",
              "2068  3809    92            0.131978            0.058492            0.607262   \n",
              "2069  5485    53            0.044726            0.093328            0.188758   \n",
              "2070  5899    33            0.000000            0.003819            0.149500   \n",
              "\n",
              "      nd_mean_2021-04-26  nd_mean_2021-04-28  nd_mean_2021-05-02  \\\n",
              "0               0.052522            0.133353            0.000000   \n",
              "1               0.000000            0.027636            0.433244   \n",
              "2               0.028275            0.089219            0.080082   \n",
              "3               0.000000            0.107940            0.000000   \n",
              "4               0.305964            0.268629            0.305554   \n",
              "...                  ...                 ...                 ...   \n",
              "2066            0.231169            0.012535            0.000000   \n",
              "2067            0.227927            0.000000            0.000000   \n",
              "2068            0.389112            0.061173            0.185756   \n",
              "2069            0.290000            0.178694            0.286592   \n",
              "2070            0.077181            0.161075            0.220894   \n",
              "\n",
              "      nd_mean_2021-05-04  nd_mean_2021-05-07  ...  nd_mean_2021-06-05  \\\n",
              "0               0.058353            0.273228  ...            0.188092   \n",
              "1               0.344155            0.461029  ...            0.067910   \n",
              "2               0.220537            0.154620  ...            0.044020   \n",
              "3               0.213204            0.031273  ...            0.114008   \n",
              "4               0.131192            0.009491  ...            0.209458   \n",
              "...                  ...                 ...  ...                 ...   \n",
              "2066            0.103303            0.014683  ...            0.018102   \n",
              "2067            0.000000            0.258106  ...            0.109647   \n",
              "2068            0.000000            0.545505  ...            0.000000   \n",
              "2069            0.041403            0.241813  ...            0.053296   \n",
              "2070            0.125081            0.042906  ...            0.098958   \n",
              "\n",
              "      nd_mean_2021-06-10  nd_mean_2021-07-05  nd_mean_2021-08-13  \\\n",
              "0               0.000000            0.200005            0.714292   \n",
              "1               0.084682            0.025694            0.000000   \n",
              "2               0.762353            0.167975            0.037838   \n",
              "3               0.059159            0.058423            0.108990   \n",
              "4               0.033658            0.000000            0.048622   \n",
              "...                  ...                 ...                 ...   \n",
              "2066            0.059161            0.804364            0.077803   \n",
              "2067            0.744611            0.554205            0.572680   \n",
              "2068            0.055619            0.051682            0.008488   \n",
              "2069            0.200393            0.000000            0.040434   \n",
              "2070            0.137899            0.120050            0.051349   \n",
              "\n",
              "      nd_mean_2021-08-27  nd_mean_2021-05-08  nd_mean_2021-05-24          X  \\\n",
              "0               0.084197            0.157733            0.197326  35.974008   \n",
              "1               0.108945            0.141947            0.000000  39.517071   \n",
              "2               0.158279            0.073814            0.185710  39.304960   \n",
              "3               0.237742            0.000000            0.000000  33.085631   \n",
              "4               0.121296            0.010354            0.000000  45.110874   \n",
              "...                  ...                 ...                 ...        ...   \n",
              "2066            0.112885            0.209859            0.269576  38.684136   \n",
              "2067            0.511447            0.101374            0.119901  56.333597   \n",
              "2068            0.076760            0.038590            0.086436  37.903133   \n",
              "2069            0.037837            0.000000            0.165996  38.989850   \n",
              "2070            0.000000            0.010335            0.143800  37.676699   \n",
              "\n",
              "              Y     temp  \n",
              "0     52.385040  0.15019  \n",
              "1     52.068139  0.00476  \n",
              "2     49.945821  0.01346  \n",
              "3     52.550573  0.00830  \n",
              "4     55.373235  0.01453  \n",
              "...         ...      ...  \n",
              "2066  54.015049  0.00292  \n",
              "2067  53.491034  0.00761  \n",
              "2068  53.139053  0.00543  \n",
              "2069  51.863823  0.15552  \n",
              "2070  53.789403  0.00762  \n",
              "\n",
              "[2071 rows x 76 columns]"
            ],
            "text/html": [
              "\n",
              "  <div id=\"df-73faee31-636d-429f-903a-1986e0f20951\">\n",
              "    <div class=\"colab-df-container\">\n",
              "      <div>\n",
              "<style scoped>\n",
              "    .dataframe tbody tr th:only-of-type {\n",
              "        vertical-align: middle;\n",
              "    }\n",
              "\n",
              "    .dataframe tbody tr th {\n",
              "        vertical-align: top;\n",
              "    }\n",
              "\n",
              "    .dataframe thead th {\n",
              "        text-align: right;\n",
              "    }\n",
              "</style>\n",
              "<table border=\"1\" class=\"dataframe\">\n",
              "  <thead>\n",
              "    <tr style=\"text-align: right;\">\n",
              "      <th></th>\n",
              "      <th>id</th>\n",
              "      <th>area</th>\n",
              "      <th>nd_mean_2021-04-16</th>\n",
              "      <th>nd_mean_2021-04-19</th>\n",
              "      <th>nd_mean_2021-04-22</th>\n",
              "      <th>nd_mean_2021-04-26</th>\n",
              "      <th>nd_mean_2021-04-28</th>\n",
              "      <th>nd_mean_2021-05-02</th>\n",
              "      <th>nd_mean_2021-05-04</th>\n",
              "      <th>nd_mean_2021-05-07</th>\n",
              "      <th>...</th>\n",
              "      <th>nd_mean_2021-06-05</th>\n",
              "      <th>nd_mean_2021-06-10</th>\n",
              "      <th>nd_mean_2021-07-05</th>\n",
              "      <th>nd_mean_2021-08-13</th>\n",
              "      <th>nd_mean_2021-08-27</th>\n",
              "      <th>nd_mean_2021-05-08</th>\n",
              "      <th>nd_mean_2021-05-24</th>\n",
              "      <th>X</th>\n",
              "      <th>Y</th>\n",
              "      <th>temp</th>\n",
              "    </tr>\n",
              "  </thead>\n",
              "  <tbody>\n",
              "    <tr>\n",
              "      <th>0</th>\n",
              "      <td>611</td>\n",
              "      <td>26</td>\n",
              "      <td>0.196691</td>\n",
              "      <td>0.000000</td>\n",
              "      <td>0.259303</td>\n",
              "      <td>0.052522</td>\n",
              "      <td>0.133353</td>\n",
              "      <td>0.000000</td>\n",
              "      <td>0.058353</td>\n",
              "      <td>0.273228</td>\n",
              "      <td>...</td>\n",
              "      <td>0.188092</td>\n",
              "      <td>0.000000</td>\n",
              "      <td>0.200005</td>\n",
              "      <td>0.714292</td>\n",
              "      <td>0.084197</td>\n",
              "      <td>0.157733</td>\n",
              "      <td>0.197326</td>\n",
              "      <td>35.974008</td>\n",
              "      <td>52.385040</td>\n",
              "      <td>0.15019</td>\n",
              "    </tr>\n",
              "    <tr>\n",
              "      <th>1</th>\n",
              "      <td>6417</td>\n",
              "      <td>98</td>\n",
              "      <td>0.091192</td>\n",
              "      <td>0.000000</td>\n",
              "      <td>0.125823</td>\n",
              "      <td>0.000000</td>\n",
              "      <td>0.027636</td>\n",
              "      <td>0.433244</td>\n",
              "      <td>0.344155</td>\n",
              "      <td>0.461029</td>\n",
              "      <td>...</td>\n",
              "      <td>0.067910</td>\n",
              "      <td>0.084682</td>\n",
              "      <td>0.025694</td>\n",
              "      <td>0.000000</td>\n",
              "      <td>0.108945</td>\n",
              "      <td>0.141947</td>\n",
              "      <td>0.000000</td>\n",
              "      <td>39.517071</td>\n",
              "      <td>52.068139</td>\n",
              "      <td>0.00476</td>\n",
              "    </tr>\n",
              "    <tr>\n",
              "      <th>2</th>\n",
              "      <td>3352</td>\n",
              "      <td>21</td>\n",
              "      <td>0.000000</td>\n",
              "      <td>0.033368</td>\n",
              "      <td>0.285057</td>\n",
              "      <td>0.028275</td>\n",
              "      <td>0.089219</td>\n",
              "      <td>0.080082</td>\n",
              "      <td>0.220537</td>\n",
              "      <td>0.154620</td>\n",
              "      <td>...</td>\n",
              "      <td>0.044020</td>\n",
              "      <td>0.762353</td>\n",
              "      <td>0.167975</td>\n",
              "      <td>0.037838</td>\n",
              "      <td>0.158279</td>\n",
              "      <td>0.073814</td>\n",
              "      <td>0.185710</td>\n",
              "      <td>39.304960</td>\n",
              "      <td>49.945821</td>\n",
              "      <td>0.01346</td>\n",
              "    </tr>\n",
              "    <tr>\n",
              "      <th>3</th>\n",
              "      <td>4224</td>\n",
              "      <td>18</td>\n",
              "      <td>0.111243</td>\n",
              "      <td>0.201012</td>\n",
              "      <td>0.000000</td>\n",
              "      <td>0.000000</td>\n",
              "      <td>0.107940</td>\n",
              "      <td>0.000000</td>\n",
              "      <td>0.213204</td>\n",
              "      <td>0.031273</td>\n",
              "      <td>...</td>\n",
              "      <td>0.114008</td>\n",
              "      <td>0.059159</td>\n",
              "      <td>0.058423</td>\n",
              "      <td>0.108990</td>\n",
              "      <td>0.237742</td>\n",
              "      <td>0.000000</td>\n",
              "      <td>0.000000</td>\n",
              "      <td>33.085631</td>\n",
              "      <td>52.550573</td>\n",
              "      <td>0.00830</td>\n",
              "    </tr>\n",
              "    <tr>\n",
              "      <th>4</th>\n",
              "      <td>3102</td>\n",
              "      <td>53</td>\n",
              "      <td>0.000000</td>\n",
              "      <td>0.234954</td>\n",
              "      <td>0.000000</td>\n",
              "      <td>0.305964</td>\n",
              "      <td>0.268629</td>\n",
              "      <td>0.305554</td>\n",
              "      <td>0.131192</td>\n",
              "      <td>0.009491</td>\n",
              "      <td>...</td>\n",
              "      <td>0.209458</td>\n",
              "      <td>0.033658</td>\n",
              "      <td>0.000000</td>\n",
              "      <td>0.048622</td>\n",
              "      <td>0.121296</td>\n",
              "      <td>0.010354</td>\n",
              "      <td>0.000000</td>\n",
              "      <td>45.110874</td>\n",
              "      <td>55.373235</td>\n",
              "      <td>0.01453</td>\n",
              "    </tr>\n",
              "    <tr>\n",
              "      <th>...</th>\n",
              "      <td>...</td>\n",
              "      <td>...</td>\n",
              "      <td>...</td>\n",
              "      <td>...</td>\n",
              "      <td>...</td>\n",
              "      <td>...</td>\n",
              "      <td>...</td>\n",
              "      <td>...</td>\n",
              "      <td>...</td>\n",
              "      <td>...</td>\n",
              "      <td>...</td>\n",
              "      <td>...</td>\n",
              "      <td>...</td>\n",
              "      <td>...</td>\n",
              "      <td>...</td>\n",
              "      <td>...</td>\n",
              "      <td>...</td>\n",
              "      <td>...</td>\n",
              "      <td>...</td>\n",
              "      <td>...</td>\n",
              "      <td>...</td>\n",
              "    </tr>\n",
              "    <tr>\n",
              "      <th>2066</th>\n",
              "      <td>1743</td>\n",
              "      <td>18</td>\n",
              "      <td>0.000000</td>\n",
              "      <td>0.017866</td>\n",
              "      <td>0.212560</td>\n",
              "      <td>0.231169</td>\n",
              "      <td>0.012535</td>\n",
              "      <td>0.000000</td>\n",
              "      <td>0.103303</td>\n",
              "      <td>0.014683</td>\n",
              "      <td>...</td>\n",
              "      <td>0.018102</td>\n",
              "      <td>0.059161</td>\n",
              "      <td>0.804364</td>\n",
              "      <td>0.077803</td>\n",
              "      <td>0.112885</td>\n",
              "      <td>0.209859</td>\n",
              "      <td>0.269576</td>\n",
              "      <td>38.684136</td>\n",
              "      <td>54.015049</td>\n",
              "      <td>0.00292</td>\n",
              "    </tr>\n",
              "    <tr>\n",
              "      <th>2067</th>\n",
              "      <td>3968</td>\n",
              "      <td>56</td>\n",
              "      <td>0.010670</td>\n",
              "      <td>0.105135</td>\n",
              "      <td>0.170843</td>\n",
              "      <td>0.227927</td>\n",
              "      <td>0.000000</td>\n",
              "      <td>0.000000</td>\n",
              "      <td>0.000000</td>\n",
              "      <td>0.258106</td>\n",
              "      <td>...</td>\n",
              "      <td>0.109647</td>\n",
              "      <td>0.744611</td>\n",
              "      <td>0.554205</td>\n",
              "      <td>0.572680</td>\n",
              "      <td>0.511447</td>\n",
              "      <td>0.101374</td>\n",
              "      <td>0.119901</td>\n",
              "      <td>56.333597</td>\n",
              "      <td>53.491034</td>\n",
              "      <td>0.00761</td>\n",
              "    </tr>\n",
              "    <tr>\n",
              "      <th>2068</th>\n",
              "      <td>3809</td>\n",
              "      <td>92</td>\n",
              "      <td>0.131978</td>\n",
              "      <td>0.058492</td>\n",
              "      <td>0.607262</td>\n",
              "      <td>0.389112</td>\n",
              "      <td>0.061173</td>\n",
              "      <td>0.185756</td>\n",
              "      <td>0.000000</td>\n",
              "      <td>0.545505</td>\n",
              "      <td>...</td>\n",
              "      <td>0.000000</td>\n",
              "      <td>0.055619</td>\n",
              "      <td>0.051682</td>\n",
              "      <td>0.008488</td>\n",
              "      <td>0.076760</td>\n",
              "      <td>0.038590</td>\n",
              "      <td>0.086436</td>\n",
              "      <td>37.903133</td>\n",
              "      <td>53.139053</td>\n",
              "      <td>0.00543</td>\n",
              "    </tr>\n",
              "    <tr>\n",
              "      <th>2069</th>\n",
              "      <td>5485</td>\n",
              "      <td>53</td>\n",
              "      <td>0.044726</td>\n",
              "      <td>0.093328</td>\n",
              "      <td>0.188758</td>\n",
              "      <td>0.290000</td>\n",
              "      <td>0.178694</td>\n",
              "      <td>0.286592</td>\n",
              "      <td>0.041403</td>\n",
              "      <td>0.241813</td>\n",
              "      <td>...</td>\n",
              "      <td>0.053296</td>\n",
              "      <td>0.200393</td>\n",
              "      <td>0.000000</td>\n",
              "      <td>0.040434</td>\n",
              "      <td>0.037837</td>\n",
              "      <td>0.000000</td>\n",
              "      <td>0.165996</td>\n",
              "      <td>38.989850</td>\n",
              "      <td>51.863823</td>\n",
              "      <td>0.15552</td>\n",
              "    </tr>\n",
              "    <tr>\n",
              "      <th>2070</th>\n",
              "      <td>5899</td>\n",
              "      <td>33</td>\n",
              "      <td>0.000000</td>\n",
              "      <td>0.003819</td>\n",
              "      <td>0.149500</td>\n",
              "      <td>0.077181</td>\n",
              "      <td>0.161075</td>\n",
              "      <td>0.220894</td>\n",
              "      <td>0.125081</td>\n",
              "      <td>0.042906</td>\n",
              "      <td>...</td>\n",
              "      <td>0.098958</td>\n",
              "      <td>0.137899</td>\n",
              "      <td>0.120050</td>\n",
              "      <td>0.051349</td>\n",
              "      <td>0.000000</td>\n",
              "      <td>0.010335</td>\n",
              "      <td>0.143800</td>\n",
              "      <td>37.676699</td>\n",
              "      <td>53.789403</td>\n",
              "      <td>0.00762</td>\n",
              "    </tr>\n",
              "  </tbody>\n",
              "</table>\n",
              "<p>2071 rows × 76 columns</p>\n",
              "</div>\n",
              "      <button class=\"colab-df-convert\" onclick=\"convertToInteractive('df-73faee31-636d-429f-903a-1986e0f20951')\"\n",
              "              title=\"Convert this dataframe to an interactive table.\"\n",
              "              style=\"display:none;\">\n",
              "        \n",
              "  <svg xmlns=\"http://www.w3.org/2000/svg\" height=\"24px\"viewBox=\"0 0 24 24\"\n",
              "       width=\"24px\">\n",
              "    <path d=\"M0 0h24v24H0V0z\" fill=\"none\"/>\n",
              "    <path d=\"M18.56 5.44l.94 2.06.94-2.06 2.06-.94-2.06-.94-.94-2.06-.94 2.06-2.06.94zm-11 1L8.5 8.5l.94-2.06 2.06-.94-2.06-.94L8.5 2.5l-.94 2.06-2.06.94zm10 10l.94 2.06.94-2.06 2.06-.94-2.06-.94-.94-2.06-.94 2.06-2.06.94z\"/><path d=\"M17.41 7.96l-1.37-1.37c-.4-.4-.92-.59-1.43-.59-.52 0-1.04.2-1.43.59L10.3 9.45l-7.72 7.72c-.78.78-.78 2.05 0 2.83L4 21.41c.39.39.9.59 1.41.59.51 0 1.02-.2 1.41-.59l7.78-7.78 2.81-2.81c.8-.78.8-2.07 0-2.86zM5.41 20L4 18.59l7.72-7.72 1.47 1.35L5.41 20z\"/>\n",
              "  </svg>\n",
              "      </button>\n",
              "      \n",
              "  <style>\n",
              "    .colab-df-container {\n",
              "      display:flex;\n",
              "      flex-wrap:wrap;\n",
              "      gap: 12px;\n",
              "    }\n",
              "\n",
              "    .colab-df-convert {\n",
              "      background-color: #E8F0FE;\n",
              "      border: none;\n",
              "      border-radius: 50%;\n",
              "      cursor: pointer;\n",
              "      display: none;\n",
              "      fill: #1967D2;\n",
              "      height: 32px;\n",
              "      padding: 0 0 0 0;\n",
              "      width: 32px;\n",
              "    }\n",
              "\n",
              "    .colab-df-convert:hover {\n",
              "      background-color: #E2EBFA;\n",
              "      box-shadow: 0px 1px 2px rgba(60, 64, 67, 0.3), 0px 1px 3px 1px rgba(60, 64, 67, 0.15);\n",
              "      fill: #174EA6;\n",
              "    }\n",
              "\n",
              "    [theme=dark] .colab-df-convert {\n",
              "      background-color: #3B4455;\n",
              "      fill: #D2E3FC;\n",
              "    }\n",
              "\n",
              "    [theme=dark] .colab-df-convert:hover {\n",
              "      background-color: #434B5C;\n",
              "      box-shadow: 0px 1px 3px 1px rgba(0, 0, 0, 0.15);\n",
              "      filter: drop-shadow(0px 1px 2px rgba(0, 0, 0, 0.3));\n",
              "      fill: #FFFFFF;\n",
              "    }\n",
              "  </style>\n",
              "\n",
              "      <script>\n",
              "        const buttonEl =\n",
              "          document.querySelector('#df-73faee31-636d-429f-903a-1986e0f20951 button.colab-df-convert');\n",
              "        buttonEl.style.display =\n",
              "          google.colab.kernel.accessAllowed ? 'block' : 'none';\n",
              "\n",
              "        async function convertToInteractive(key) {\n",
              "          const element = document.querySelector('#df-73faee31-636d-429f-903a-1986e0f20951');\n",
              "          const dataTable =\n",
              "            await google.colab.kernel.invokeFunction('convertToInteractive',\n",
              "                                                     [key], {});\n",
              "          if (!dataTable) return;\n",
              "\n",
              "          const docLinkHtml = 'Like what you see? Visit the ' +\n",
              "            '<a target=\"_blank\" href=https://colab.research.google.com/notebooks/data_table.ipynb>data table notebook</a>'\n",
              "            + ' to learn more about interactive tables.';\n",
              "          element.innerHTML = '';\n",
              "          dataTable['output_type'] = 'display_data';\n",
              "          await google.colab.output.renderOutput(dataTable, element);\n",
              "          const docLink = document.createElement('div');\n",
              "          docLink.innerHTML = docLinkHtml;\n",
              "          element.appendChild(docLink);\n",
              "        }\n",
              "      </script>\n",
              "    </div>\n",
              "  </div>\n",
              "  "
            ]
          },
          "metadata": {},
          "execution_count": 174
        }
      ]
    },
    {
      "cell_type": "code",
      "source": [
        "df_test.to_csv('df_test2.csv', index=False)\n",
        "df_train.to_csv('df_train2.csv', index=False)"
      ],
      "metadata": {
        "id": "AMVFAR7iS7Lh"
      },
      "execution_count": null,
      "outputs": []
    },
    {
      "cell_type": "code",
      "source": [
        "from sklearn.impute import KNNImputer\n",
        "imputer = KNNImputer(n_neighbors=5, weights='uniform')\n",
        "imputer.fit(x_train)"
      ],
      "metadata": {
        "colab": {
          "base_uri": "https://localhost:8080/"
        },
        "id": "FRp3uOj6S7GO",
        "outputId": "dc2d12e3-3453-4d2b-e47a-3ac8e6ed3822"
      },
      "execution_count": null,
      "outputs": [
        {
          "output_type": "execute_result",
          "data": {
            "text/plain": [
              "KNNImputer()"
            ]
          },
          "metadata": {},
          "execution_count": 73
        }
      ]
    },
    {
      "cell_type": "code",
      "source": [
        "x_train1 = imputer.transform(x_train)"
      ],
      "metadata": {
        "id": "iXIwtMK7T45U"
      },
      "execution_count": null,
      "outputs": []
    },
    {
      "cell_type": "code",
      "source": [
        "myImputer_data = pd.DataFrame(x_train1,columns = x_train.columns)"
      ],
      "metadata": {
        "id": "DWly4GBJXlt-"
      },
      "execution_count": null,
      "outputs": []
    },
    {
      "cell_type": "code",
      "source": [
        "myImputer_data"
      ],
      "metadata": {
        "id": "Q9Hx_0ynVcTW",
        "colab": {
          "base_uri": "https://localhost:8080/",
          "height": 505
        },
        "outputId": "ff3ff419-8ca5-404c-ffb9-e3c3c2ed2ccf"
      },
      "execution_count": null,
      "outputs": [
        {
          "output_type": "execute_result",
          "data": {
            "text/plain": [
              "       area  nd_mean_2021-04-16  nd_mean_2021-04-19  nd_mean_2021-04-22  \\\n",
              "0      20.0            0.072846            0.261778            0.062981   \n",
              "1      45.0            0.332928            0.287182            0.097138   \n",
              "2      28.0            0.013679            0.007055            0.120804   \n",
              "3      19.0            0.105976            0.052500            0.001917   \n",
              "4      33.0            0.130885            0.063492            0.024416   \n",
              "...     ...                 ...                 ...                 ...   \n",
              "4825   74.0            0.028770            0.038282            0.255329   \n",
              "4826  109.0            0.035939            0.030722            0.033869   \n",
              "4827   58.0            0.191255            0.063581            0.140111   \n",
              "4828   14.0            0.291399            0.221428            0.007247   \n",
              "4829   75.0            0.226925            0.043076            0.058611   \n",
              "\n",
              "      nd_mean_2021-04-26  nd_mean_2021-04-28  nd_mean_2021-05-02  \\\n",
              "0               0.104442            0.021096            0.052202   \n",
              "1               0.152467            0.075484            0.177430   \n",
              "2               0.037839            0.259125            0.103707   \n",
              "3               0.011531            0.042316            0.122321   \n",
              "4               0.080858            0.150671            0.046717   \n",
              "...                  ...                 ...                 ...   \n",
              "4825            0.148166            0.225421            0.479483   \n",
              "4826            0.029646            0.318387            0.247905   \n",
              "4827            0.323984            0.096556            0.005056   \n",
              "4828            0.055074            0.057781            0.187749   \n",
              "4829            0.440539            0.120169            0.138846   \n",
              "\n",
              "      nd_mean_2021-05-04  nd_mean_2021-05-07  nd_mean_2021-05-16  ...  \\\n",
              "0               0.158723            0.041219            0.484102  ...   \n",
              "1               0.140326            0.163340            0.519456  ...   \n",
              "2               0.037446            0.506516            0.353498  ...   \n",
              "3               0.081126            0.043604            0.510271  ...   \n",
              "4               0.254284            0.101479            0.439214  ...   \n",
              "...                  ...                 ...                 ...  ...   \n",
              "4825            0.071684            0.016856            0.407955  ...   \n",
              "4826            0.265180            0.286298            0.578936  ...   \n",
              "4827            0.092693            0.399439            0.006256  ...   \n",
              "4828            0.112403            0.183555            0.504538  ...   \n",
              "4829            0.020173            0.117669            0.266987  ...   \n",
              "\n",
              "      nd_mean_2021-06-05  nd_mean_2021-06-10  nd_mean_2021-07-05  \\\n",
              "0               0.124326            0.125313            0.026784   \n",
              "1               0.200065            0.287425            0.111148   \n",
              "2               0.210496            0.130467            0.155225   \n",
              "3               0.132886            0.086913            0.570928   \n",
              "4               0.152003            0.073357            0.147842   \n",
              "...                  ...                 ...                 ...   \n",
              "4825            0.066882            0.139222            0.009041   \n",
              "4826            0.131357            0.067455            0.187236   \n",
              "4827            0.142930            0.101047            0.047572   \n",
              "4828            0.085861            0.631304            0.694524   \n",
              "4829            0.136837            0.010312            0.227649   \n",
              "\n",
              "      nd_mean_2021-08-13  nd_mean_2021-08-27  nd_mean_2021-05-08  \\\n",
              "0               0.126832            0.614770            0.008857   \n",
              "1               0.174914            0.179612            0.113071   \n",
              "2               0.090607            0.054127            0.007437   \n",
              "3               0.073492            0.378900            0.327677   \n",
              "4               0.157676            0.012048            0.054223   \n",
              "...                  ...                 ...                 ...   \n",
              "4825            0.042483            0.022464            0.017705   \n",
              "4826            0.055721            0.044182            0.048316   \n",
              "4827            0.007225            0.145505            0.051215   \n",
              "4828            0.031836            0.453151            0.045079   \n",
              "4829            0.098439            0.096585            0.164260   \n",
              "\n",
              "      nd_mean_2021-05-24     temp          X          Y  \n",
              "0               0.081498  0.01316  42.500303  51.412815  \n",
              "1               0.046997  0.04873  50.265608  56.606045  \n",
              "2               0.219614  0.00725  38.003231  53.837187  \n",
              "3               0.586523  0.00584  44.727709  55.935536  \n",
              "4               0.017539  0.01206  34.783534  52.907252  \n",
              "...                  ...      ...        ...        ...  \n",
              "4825            0.148440  0.01893  40.906039  50.899595  \n",
              "4826            0.041440  0.03354  40.013739  51.804439  \n",
              "4827            0.079730  0.01680  38.584332  53.193459  \n",
              "4828            0.006495  0.00477  53.319120  55.183574  \n",
              "4829            0.011459  0.02075  38.801397  52.727377  \n",
              "\n",
              "[4830 rows x 74 columns]"
            ],
            "text/html": [
              "\n",
              "  <div id=\"df-387537fc-0df4-4ac9-a99b-d103b934c5ff\">\n",
              "    <div class=\"colab-df-container\">\n",
              "      <div>\n",
              "<style scoped>\n",
              "    .dataframe tbody tr th:only-of-type {\n",
              "        vertical-align: middle;\n",
              "    }\n",
              "\n",
              "    .dataframe tbody tr th {\n",
              "        vertical-align: top;\n",
              "    }\n",
              "\n",
              "    .dataframe thead th {\n",
              "        text-align: right;\n",
              "    }\n",
              "</style>\n",
              "<table border=\"1\" class=\"dataframe\">\n",
              "  <thead>\n",
              "    <tr style=\"text-align: right;\">\n",
              "      <th></th>\n",
              "      <th>area</th>\n",
              "      <th>nd_mean_2021-04-16</th>\n",
              "      <th>nd_mean_2021-04-19</th>\n",
              "      <th>nd_mean_2021-04-22</th>\n",
              "      <th>nd_mean_2021-04-26</th>\n",
              "      <th>nd_mean_2021-04-28</th>\n",
              "      <th>nd_mean_2021-05-02</th>\n",
              "      <th>nd_mean_2021-05-04</th>\n",
              "      <th>nd_mean_2021-05-07</th>\n",
              "      <th>nd_mean_2021-05-16</th>\n",
              "      <th>...</th>\n",
              "      <th>nd_mean_2021-06-05</th>\n",
              "      <th>nd_mean_2021-06-10</th>\n",
              "      <th>nd_mean_2021-07-05</th>\n",
              "      <th>nd_mean_2021-08-13</th>\n",
              "      <th>nd_mean_2021-08-27</th>\n",
              "      <th>nd_mean_2021-05-08</th>\n",
              "      <th>nd_mean_2021-05-24</th>\n",
              "      <th>temp</th>\n",
              "      <th>X</th>\n",
              "      <th>Y</th>\n",
              "    </tr>\n",
              "  </thead>\n",
              "  <tbody>\n",
              "    <tr>\n",
              "      <th>0</th>\n",
              "      <td>20.0</td>\n",
              "      <td>0.072846</td>\n",
              "      <td>0.261778</td>\n",
              "      <td>0.062981</td>\n",
              "      <td>0.104442</td>\n",
              "      <td>0.021096</td>\n",
              "      <td>0.052202</td>\n",
              "      <td>0.158723</td>\n",
              "      <td>0.041219</td>\n",
              "      <td>0.484102</td>\n",
              "      <td>...</td>\n",
              "      <td>0.124326</td>\n",
              "      <td>0.125313</td>\n",
              "      <td>0.026784</td>\n",
              "      <td>0.126832</td>\n",
              "      <td>0.614770</td>\n",
              "      <td>0.008857</td>\n",
              "      <td>0.081498</td>\n",
              "      <td>0.01316</td>\n",
              "      <td>42.500303</td>\n",
              "      <td>51.412815</td>\n",
              "    </tr>\n",
              "    <tr>\n",
              "      <th>1</th>\n",
              "      <td>45.0</td>\n",
              "      <td>0.332928</td>\n",
              "      <td>0.287182</td>\n",
              "      <td>0.097138</td>\n",
              "      <td>0.152467</td>\n",
              "      <td>0.075484</td>\n",
              "      <td>0.177430</td>\n",
              "      <td>0.140326</td>\n",
              "      <td>0.163340</td>\n",
              "      <td>0.519456</td>\n",
              "      <td>...</td>\n",
              "      <td>0.200065</td>\n",
              "      <td>0.287425</td>\n",
              "      <td>0.111148</td>\n",
              "      <td>0.174914</td>\n",
              "      <td>0.179612</td>\n",
              "      <td>0.113071</td>\n",
              "      <td>0.046997</td>\n",
              "      <td>0.04873</td>\n",
              "      <td>50.265608</td>\n",
              "      <td>56.606045</td>\n",
              "    </tr>\n",
              "    <tr>\n",
              "      <th>2</th>\n",
              "      <td>28.0</td>\n",
              "      <td>0.013679</td>\n",
              "      <td>0.007055</td>\n",
              "      <td>0.120804</td>\n",
              "      <td>0.037839</td>\n",
              "      <td>0.259125</td>\n",
              "      <td>0.103707</td>\n",
              "      <td>0.037446</td>\n",
              "      <td>0.506516</td>\n",
              "      <td>0.353498</td>\n",
              "      <td>...</td>\n",
              "      <td>0.210496</td>\n",
              "      <td>0.130467</td>\n",
              "      <td>0.155225</td>\n",
              "      <td>0.090607</td>\n",
              "      <td>0.054127</td>\n",
              "      <td>0.007437</td>\n",
              "      <td>0.219614</td>\n",
              "      <td>0.00725</td>\n",
              "      <td>38.003231</td>\n",
              "      <td>53.837187</td>\n",
              "    </tr>\n",
              "    <tr>\n",
              "      <th>3</th>\n",
              "      <td>19.0</td>\n",
              "      <td>0.105976</td>\n",
              "      <td>0.052500</td>\n",
              "      <td>0.001917</td>\n",
              "      <td>0.011531</td>\n",
              "      <td>0.042316</td>\n",
              "      <td>0.122321</td>\n",
              "      <td>0.081126</td>\n",
              "      <td>0.043604</td>\n",
              "      <td>0.510271</td>\n",
              "      <td>...</td>\n",
              "      <td>0.132886</td>\n",
              "      <td>0.086913</td>\n",
              "      <td>0.570928</td>\n",
              "      <td>0.073492</td>\n",
              "      <td>0.378900</td>\n",
              "      <td>0.327677</td>\n",
              "      <td>0.586523</td>\n",
              "      <td>0.00584</td>\n",
              "      <td>44.727709</td>\n",
              "      <td>55.935536</td>\n",
              "    </tr>\n",
              "    <tr>\n",
              "      <th>4</th>\n",
              "      <td>33.0</td>\n",
              "      <td>0.130885</td>\n",
              "      <td>0.063492</td>\n",
              "      <td>0.024416</td>\n",
              "      <td>0.080858</td>\n",
              "      <td>0.150671</td>\n",
              "      <td>0.046717</td>\n",
              "      <td>0.254284</td>\n",
              "      <td>0.101479</td>\n",
              "      <td>0.439214</td>\n",
              "      <td>...</td>\n",
              "      <td>0.152003</td>\n",
              "      <td>0.073357</td>\n",
              "      <td>0.147842</td>\n",
              "      <td>0.157676</td>\n",
              "      <td>0.012048</td>\n",
              "      <td>0.054223</td>\n",
              "      <td>0.017539</td>\n",
              "      <td>0.01206</td>\n",
              "      <td>34.783534</td>\n",
              "      <td>52.907252</td>\n",
              "    </tr>\n",
              "    <tr>\n",
              "      <th>...</th>\n",
              "      <td>...</td>\n",
              "      <td>...</td>\n",
              "      <td>...</td>\n",
              "      <td>...</td>\n",
              "      <td>...</td>\n",
              "      <td>...</td>\n",
              "      <td>...</td>\n",
              "      <td>...</td>\n",
              "      <td>...</td>\n",
              "      <td>...</td>\n",
              "      <td>...</td>\n",
              "      <td>...</td>\n",
              "      <td>...</td>\n",
              "      <td>...</td>\n",
              "      <td>...</td>\n",
              "      <td>...</td>\n",
              "      <td>...</td>\n",
              "      <td>...</td>\n",
              "      <td>...</td>\n",
              "      <td>...</td>\n",
              "      <td>...</td>\n",
              "    </tr>\n",
              "    <tr>\n",
              "      <th>4825</th>\n",
              "      <td>74.0</td>\n",
              "      <td>0.028770</td>\n",
              "      <td>0.038282</td>\n",
              "      <td>0.255329</td>\n",
              "      <td>0.148166</td>\n",
              "      <td>0.225421</td>\n",
              "      <td>0.479483</td>\n",
              "      <td>0.071684</td>\n",
              "      <td>0.016856</td>\n",
              "      <td>0.407955</td>\n",
              "      <td>...</td>\n",
              "      <td>0.066882</td>\n",
              "      <td>0.139222</td>\n",
              "      <td>0.009041</td>\n",
              "      <td>0.042483</td>\n",
              "      <td>0.022464</td>\n",
              "      <td>0.017705</td>\n",
              "      <td>0.148440</td>\n",
              "      <td>0.01893</td>\n",
              "      <td>40.906039</td>\n",
              "      <td>50.899595</td>\n",
              "    </tr>\n",
              "    <tr>\n",
              "      <th>4826</th>\n",
              "      <td>109.0</td>\n",
              "      <td>0.035939</td>\n",
              "      <td>0.030722</td>\n",
              "      <td>0.033869</td>\n",
              "      <td>0.029646</td>\n",
              "      <td>0.318387</td>\n",
              "      <td>0.247905</td>\n",
              "      <td>0.265180</td>\n",
              "      <td>0.286298</td>\n",
              "      <td>0.578936</td>\n",
              "      <td>...</td>\n",
              "      <td>0.131357</td>\n",
              "      <td>0.067455</td>\n",
              "      <td>0.187236</td>\n",
              "      <td>0.055721</td>\n",
              "      <td>0.044182</td>\n",
              "      <td>0.048316</td>\n",
              "      <td>0.041440</td>\n",
              "      <td>0.03354</td>\n",
              "      <td>40.013739</td>\n",
              "      <td>51.804439</td>\n",
              "    </tr>\n",
              "    <tr>\n",
              "      <th>4827</th>\n",
              "      <td>58.0</td>\n",
              "      <td>0.191255</td>\n",
              "      <td>0.063581</td>\n",
              "      <td>0.140111</td>\n",
              "      <td>0.323984</td>\n",
              "      <td>0.096556</td>\n",
              "      <td>0.005056</td>\n",
              "      <td>0.092693</td>\n",
              "      <td>0.399439</td>\n",
              "      <td>0.006256</td>\n",
              "      <td>...</td>\n",
              "      <td>0.142930</td>\n",
              "      <td>0.101047</td>\n",
              "      <td>0.047572</td>\n",
              "      <td>0.007225</td>\n",
              "      <td>0.145505</td>\n",
              "      <td>0.051215</td>\n",
              "      <td>0.079730</td>\n",
              "      <td>0.01680</td>\n",
              "      <td>38.584332</td>\n",
              "      <td>53.193459</td>\n",
              "    </tr>\n",
              "    <tr>\n",
              "      <th>4828</th>\n",
              "      <td>14.0</td>\n",
              "      <td>0.291399</td>\n",
              "      <td>0.221428</td>\n",
              "      <td>0.007247</td>\n",
              "      <td>0.055074</td>\n",
              "      <td>0.057781</td>\n",
              "      <td>0.187749</td>\n",
              "      <td>0.112403</td>\n",
              "      <td>0.183555</td>\n",
              "      <td>0.504538</td>\n",
              "      <td>...</td>\n",
              "      <td>0.085861</td>\n",
              "      <td>0.631304</td>\n",
              "      <td>0.694524</td>\n",
              "      <td>0.031836</td>\n",
              "      <td>0.453151</td>\n",
              "      <td>0.045079</td>\n",
              "      <td>0.006495</td>\n",
              "      <td>0.00477</td>\n",
              "      <td>53.319120</td>\n",
              "      <td>55.183574</td>\n",
              "    </tr>\n",
              "    <tr>\n",
              "      <th>4829</th>\n",
              "      <td>75.0</td>\n",
              "      <td>0.226925</td>\n",
              "      <td>0.043076</td>\n",
              "      <td>0.058611</td>\n",
              "      <td>0.440539</td>\n",
              "      <td>0.120169</td>\n",
              "      <td>0.138846</td>\n",
              "      <td>0.020173</td>\n",
              "      <td>0.117669</td>\n",
              "      <td>0.266987</td>\n",
              "      <td>...</td>\n",
              "      <td>0.136837</td>\n",
              "      <td>0.010312</td>\n",
              "      <td>0.227649</td>\n",
              "      <td>0.098439</td>\n",
              "      <td>0.096585</td>\n",
              "      <td>0.164260</td>\n",
              "      <td>0.011459</td>\n",
              "      <td>0.02075</td>\n",
              "      <td>38.801397</td>\n",
              "      <td>52.727377</td>\n",
              "    </tr>\n",
              "  </tbody>\n",
              "</table>\n",
              "<p>4830 rows × 74 columns</p>\n",
              "</div>\n",
              "      <button class=\"colab-df-convert\" onclick=\"convertToInteractive('df-387537fc-0df4-4ac9-a99b-d103b934c5ff')\"\n",
              "              title=\"Convert this dataframe to an interactive table.\"\n",
              "              style=\"display:none;\">\n",
              "        \n",
              "  <svg xmlns=\"http://www.w3.org/2000/svg\" height=\"24px\"viewBox=\"0 0 24 24\"\n",
              "       width=\"24px\">\n",
              "    <path d=\"M0 0h24v24H0V0z\" fill=\"none\"/>\n",
              "    <path d=\"M18.56 5.44l.94 2.06.94-2.06 2.06-.94-2.06-.94-.94-2.06-.94 2.06-2.06.94zm-11 1L8.5 8.5l.94-2.06 2.06-.94-2.06-.94L8.5 2.5l-.94 2.06-2.06.94zm10 10l.94 2.06.94-2.06 2.06-.94-2.06-.94-.94-2.06-.94 2.06-2.06.94z\"/><path d=\"M17.41 7.96l-1.37-1.37c-.4-.4-.92-.59-1.43-.59-.52 0-1.04.2-1.43.59L10.3 9.45l-7.72 7.72c-.78.78-.78 2.05 0 2.83L4 21.41c.39.39.9.59 1.41.59.51 0 1.02-.2 1.41-.59l7.78-7.78 2.81-2.81c.8-.78.8-2.07 0-2.86zM5.41 20L4 18.59l7.72-7.72 1.47 1.35L5.41 20z\"/>\n",
              "  </svg>\n",
              "      </button>\n",
              "      \n",
              "  <style>\n",
              "    .colab-df-container {\n",
              "      display:flex;\n",
              "      flex-wrap:wrap;\n",
              "      gap: 12px;\n",
              "    }\n",
              "\n",
              "    .colab-df-convert {\n",
              "      background-color: #E8F0FE;\n",
              "      border: none;\n",
              "      border-radius: 50%;\n",
              "      cursor: pointer;\n",
              "      display: none;\n",
              "      fill: #1967D2;\n",
              "      height: 32px;\n",
              "      padding: 0 0 0 0;\n",
              "      width: 32px;\n",
              "    }\n",
              "\n",
              "    .colab-df-convert:hover {\n",
              "      background-color: #E2EBFA;\n",
              "      box-shadow: 0px 1px 2px rgba(60, 64, 67, 0.3), 0px 1px 3px 1px rgba(60, 64, 67, 0.15);\n",
              "      fill: #174EA6;\n",
              "    }\n",
              "\n",
              "    [theme=dark] .colab-df-convert {\n",
              "      background-color: #3B4455;\n",
              "      fill: #D2E3FC;\n",
              "    }\n",
              "\n",
              "    [theme=dark] .colab-df-convert:hover {\n",
              "      background-color: #434B5C;\n",
              "      box-shadow: 0px 1px 3px 1px rgba(0, 0, 0, 0.15);\n",
              "      filter: drop-shadow(0px 1px 2px rgba(0, 0, 0, 0.3));\n",
              "      fill: #FFFFFF;\n",
              "    }\n",
              "  </style>\n",
              "\n",
              "      <script>\n",
              "        const buttonEl =\n",
              "          document.querySelector('#df-387537fc-0df4-4ac9-a99b-d103b934c5ff button.colab-df-convert');\n",
              "        buttonEl.style.display =\n",
              "          google.colab.kernel.accessAllowed ? 'block' : 'none';\n",
              "\n",
              "        async function convertToInteractive(key) {\n",
              "          const element = document.querySelector('#df-387537fc-0df4-4ac9-a99b-d103b934c5ff');\n",
              "          const dataTable =\n",
              "            await google.colab.kernel.invokeFunction('convertToInteractive',\n",
              "                                                     [key], {});\n",
              "          if (!dataTable) return;\n",
              "\n",
              "          const docLinkHtml = 'Like what you see? Visit the ' +\n",
              "            '<a target=\"_blank\" href=https://colab.research.google.com/notebooks/data_table.ipynb>data table notebook</a>'\n",
              "            + ' to learn more about interactive tables.';\n",
              "          element.innerHTML = '';\n",
              "          dataTable['output_type'] = 'display_data';\n",
              "          await google.colab.output.renderOutput(dataTable, element);\n",
              "          const docLink = document.createElement('div');\n",
              "          docLink.innerHTML = docLinkHtml;\n",
              "          element.appendChild(docLink);\n",
              "        }\n",
              "      </script>\n",
              "    </div>\n",
              "  </div>\n",
              "  "
            ]
          },
          "metadata": {},
          "execution_count": 76
        }
      ]
    },
    {
      "cell_type": "code",
      "source": [],
      "metadata": {
        "id": "Eszx0AacWch0"
      },
      "execution_count": null,
      "outputs": []
    },
    {
      "cell_type": "code",
      "source": [
        "from sklearn.impute import KNNImputer\n",
        "imputer = KNNImputer(n_neighbors=5, weights='uniform')\n",
        "imputer.fit(x_test)"
      ],
      "metadata": {
        "colab": {
          "base_uri": "https://localhost:8080/"
        },
        "outputId": "567a306e-698b-4e05-c930-c170709df02d",
        "id": "3KOBwbFmX93R"
      },
      "execution_count": null,
      "outputs": [
        {
          "output_type": "execute_result",
          "data": {
            "text/plain": [
              "KNNImputer()"
            ]
          },
          "metadata": {},
          "execution_count": 77
        }
      ]
    },
    {
      "cell_type": "code",
      "source": [
        "x_test1 = imputer.transform(x_test)"
      ],
      "metadata": {
        "id": "LdLsC-_GX93S"
      },
      "execution_count": null,
      "outputs": []
    },
    {
      "cell_type": "code",
      "source": [
        "myImputer_data_ts = pd.DataFrame(x_test1,columns = x_test.columns)"
      ],
      "metadata": {
        "id": "zdsk43onX93S"
      },
      "execution_count": null,
      "outputs": []
    },
    {
      "cell_type": "code",
      "source": [
        "myImputer_data_ts"
      ],
      "metadata": {
        "colab": {
          "base_uri": "https://localhost:8080/",
          "height": 505
        },
        "id": "B6SdqXSnX93S",
        "outputId": "1f5688c7-e2de-44b5-b242-89c512f8afd3"
      },
      "execution_count": null,
      "outputs": [
        {
          "output_type": "execute_result",
          "data": {
            "text/plain": [
              "      area  nd_mean_2021-04-16  nd_mean_2021-04-19  nd_mean_2021-04-22  \\\n",
              "0     26.0            0.196691            0.064780            0.259303   \n",
              "1     98.0            0.091192            0.164154            0.125823   \n",
              "2     21.0            0.175323            0.033368            0.285057   \n",
              "3     18.0            0.111243            0.201012            0.453035   \n",
              "4     53.0            0.144268            0.234954            0.078573   \n",
              "...    ...                 ...                 ...                 ...   \n",
              "2066  18.0            0.120758            0.017866            0.212560   \n",
              "2067  56.0            0.010670            0.105135            0.170843   \n",
              "2068  92.0            0.131978            0.058492            0.607262   \n",
              "2069  53.0            0.044726            0.093328            0.188758   \n",
              "2070  33.0            0.141994            0.003819            0.149500   \n",
              "\n",
              "      nd_mean_2021-04-26  nd_mean_2021-04-28  nd_mean_2021-05-02  \\\n",
              "0               0.052522            0.133353            0.141064   \n",
              "1               0.320995            0.027636            0.433244   \n",
              "2               0.028275            0.089219            0.080082   \n",
              "3               0.107636            0.107940            0.057303   \n",
              "4               0.305964            0.268629            0.305554   \n",
              "...                  ...                 ...                 ...   \n",
              "2066            0.231169            0.012535            0.097705   \n",
              "2067            0.227927            0.095751            0.140273   \n",
              "2068            0.389112            0.061173            0.185756   \n",
              "2069            0.290000            0.178694            0.286592   \n",
              "2070            0.077181            0.161075            0.220894   \n",
              "\n",
              "      nd_mean_2021-05-04  nd_mean_2021-05-07  nd_mean_2021-05-16  ...  \\\n",
              "0               0.058353            0.273228            0.944027  ...   \n",
              "1               0.344155            0.461029            0.429587  ...   \n",
              "2               0.220537            0.154620            0.612726  ...   \n",
              "3               0.213204            0.031273            0.434872  ...   \n",
              "4               0.131192            0.009491            0.480222  ...   \n",
              "...                  ...                 ...                 ...  ...   \n",
              "2066            0.103303            0.014683            0.344103  ...   \n",
              "2067            0.097191            0.258106            0.575754  ...   \n",
              "2068            0.120462            0.545505            0.260217  ...   \n",
              "2069            0.041403            0.241813            0.499471  ...   \n",
              "2070            0.125081            0.042906            0.157184  ...   \n",
              "\n",
              "      nd_mean_2021-06-05  nd_mean_2021-06-10  nd_mean_2021-07-05  \\\n",
              "0               0.188092            0.353347            0.200005   \n",
              "1               0.067910            0.084682            0.025694   \n",
              "2               0.044020            0.762353            0.167975   \n",
              "3               0.114008            0.059159            0.058423   \n",
              "4               0.209458            0.033658            0.263500   \n",
              "...                  ...                 ...                 ...   \n",
              "2066            0.018102            0.059161            0.804364   \n",
              "2067            0.109647            0.744611            0.554205   \n",
              "2068            0.085916            0.055619            0.051682   \n",
              "2069            0.053296            0.200393            0.136789   \n",
              "2070            0.098958            0.137899            0.120050   \n",
              "\n",
              "      nd_mean_2021-08-13  nd_mean_2021-08-27  nd_mean_2021-05-08  \\\n",
              "0               0.714292            0.084197            0.157733   \n",
              "1               0.084338            0.108945            0.141947   \n",
              "2               0.037838            0.158279            0.073814   \n",
              "3               0.108990            0.237742            0.082367   \n",
              "4               0.048622            0.121296            0.010354   \n",
              "...                  ...                 ...                 ...   \n",
              "2066            0.077803            0.112885            0.209859   \n",
              "2067            0.572680            0.511447            0.101374   \n",
              "2068            0.008488            0.076760            0.038590   \n",
              "2069            0.040434            0.037837            0.119188   \n",
              "2070            0.051349            0.095068            0.010335   \n",
              "\n",
              "      nd_mean_2021-05-24     temp          X          Y  \n",
              "0               0.197326  0.15019  35.974008  52.385040  \n",
              "1               0.149115  0.00476  39.517071  52.068139  \n",
              "2               0.185710  0.01346  39.304960  49.945821  \n",
              "3               0.078110  0.00830  33.085631  52.550573  \n",
              "4               0.297788  0.01453  45.110874  55.373235  \n",
              "...                  ...      ...        ...        ...  \n",
              "2066            0.269576  0.00292  38.684136  54.015049  \n",
              "2067            0.119901  0.00761  56.333597  53.491034  \n",
              "2068            0.086436  0.00543  37.903133  53.139053  \n",
              "2069            0.165996  0.15552  38.989850  51.863823  \n",
              "2070            0.143800  0.00762  37.676699  53.789403  \n",
              "\n",
              "[2071 rows x 74 columns]"
            ],
            "text/html": [
              "\n",
              "  <div id=\"df-a965a2ee-6079-4e8e-a2f1-7e8257e32c3a\">\n",
              "    <div class=\"colab-df-container\">\n",
              "      <div>\n",
              "<style scoped>\n",
              "    .dataframe tbody tr th:only-of-type {\n",
              "        vertical-align: middle;\n",
              "    }\n",
              "\n",
              "    .dataframe tbody tr th {\n",
              "        vertical-align: top;\n",
              "    }\n",
              "\n",
              "    .dataframe thead th {\n",
              "        text-align: right;\n",
              "    }\n",
              "</style>\n",
              "<table border=\"1\" class=\"dataframe\">\n",
              "  <thead>\n",
              "    <tr style=\"text-align: right;\">\n",
              "      <th></th>\n",
              "      <th>area</th>\n",
              "      <th>nd_mean_2021-04-16</th>\n",
              "      <th>nd_mean_2021-04-19</th>\n",
              "      <th>nd_mean_2021-04-22</th>\n",
              "      <th>nd_mean_2021-04-26</th>\n",
              "      <th>nd_mean_2021-04-28</th>\n",
              "      <th>nd_mean_2021-05-02</th>\n",
              "      <th>nd_mean_2021-05-04</th>\n",
              "      <th>nd_mean_2021-05-07</th>\n",
              "      <th>nd_mean_2021-05-16</th>\n",
              "      <th>...</th>\n",
              "      <th>nd_mean_2021-06-05</th>\n",
              "      <th>nd_mean_2021-06-10</th>\n",
              "      <th>nd_mean_2021-07-05</th>\n",
              "      <th>nd_mean_2021-08-13</th>\n",
              "      <th>nd_mean_2021-08-27</th>\n",
              "      <th>nd_mean_2021-05-08</th>\n",
              "      <th>nd_mean_2021-05-24</th>\n",
              "      <th>temp</th>\n",
              "      <th>X</th>\n",
              "      <th>Y</th>\n",
              "    </tr>\n",
              "  </thead>\n",
              "  <tbody>\n",
              "    <tr>\n",
              "      <th>0</th>\n",
              "      <td>26.0</td>\n",
              "      <td>0.196691</td>\n",
              "      <td>0.064780</td>\n",
              "      <td>0.259303</td>\n",
              "      <td>0.052522</td>\n",
              "      <td>0.133353</td>\n",
              "      <td>0.141064</td>\n",
              "      <td>0.058353</td>\n",
              "      <td>0.273228</td>\n",
              "      <td>0.944027</td>\n",
              "      <td>...</td>\n",
              "      <td>0.188092</td>\n",
              "      <td>0.353347</td>\n",
              "      <td>0.200005</td>\n",
              "      <td>0.714292</td>\n",
              "      <td>0.084197</td>\n",
              "      <td>0.157733</td>\n",
              "      <td>0.197326</td>\n",
              "      <td>0.15019</td>\n",
              "      <td>35.974008</td>\n",
              "      <td>52.385040</td>\n",
              "    </tr>\n",
              "    <tr>\n",
              "      <th>1</th>\n",
              "      <td>98.0</td>\n",
              "      <td>0.091192</td>\n",
              "      <td>0.164154</td>\n",
              "      <td>0.125823</td>\n",
              "      <td>0.320995</td>\n",
              "      <td>0.027636</td>\n",
              "      <td>0.433244</td>\n",
              "      <td>0.344155</td>\n",
              "      <td>0.461029</td>\n",
              "      <td>0.429587</td>\n",
              "      <td>...</td>\n",
              "      <td>0.067910</td>\n",
              "      <td>0.084682</td>\n",
              "      <td>0.025694</td>\n",
              "      <td>0.084338</td>\n",
              "      <td>0.108945</td>\n",
              "      <td>0.141947</td>\n",
              "      <td>0.149115</td>\n",
              "      <td>0.00476</td>\n",
              "      <td>39.517071</td>\n",
              "      <td>52.068139</td>\n",
              "    </tr>\n",
              "    <tr>\n",
              "      <th>2</th>\n",
              "      <td>21.0</td>\n",
              "      <td>0.175323</td>\n",
              "      <td>0.033368</td>\n",
              "      <td>0.285057</td>\n",
              "      <td>0.028275</td>\n",
              "      <td>0.089219</td>\n",
              "      <td>0.080082</td>\n",
              "      <td>0.220537</td>\n",
              "      <td>0.154620</td>\n",
              "      <td>0.612726</td>\n",
              "      <td>...</td>\n",
              "      <td>0.044020</td>\n",
              "      <td>0.762353</td>\n",
              "      <td>0.167975</td>\n",
              "      <td>0.037838</td>\n",
              "      <td>0.158279</td>\n",
              "      <td>0.073814</td>\n",
              "      <td>0.185710</td>\n",
              "      <td>0.01346</td>\n",
              "      <td>39.304960</td>\n",
              "      <td>49.945821</td>\n",
              "    </tr>\n",
              "    <tr>\n",
              "      <th>3</th>\n",
              "      <td>18.0</td>\n",
              "      <td>0.111243</td>\n",
              "      <td>0.201012</td>\n",
              "      <td>0.453035</td>\n",
              "      <td>0.107636</td>\n",
              "      <td>0.107940</td>\n",
              "      <td>0.057303</td>\n",
              "      <td>0.213204</td>\n",
              "      <td>0.031273</td>\n",
              "      <td>0.434872</td>\n",
              "      <td>...</td>\n",
              "      <td>0.114008</td>\n",
              "      <td>0.059159</td>\n",
              "      <td>0.058423</td>\n",
              "      <td>0.108990</td>\n",
              "      <td>0.237742</td>\n",
              "      <td>0.082367</td>\n",
              "      <td>0.078110</td>\n",
              "      <td>0.00830</td>\n",
              "      <td>33.085631</td>\n",
              "      <td>52.550573</td>\n",
              "    </tr>\n",
              "    <tr>\n",
              "      <th>4</th>\n",
              "      <td>53.0</td>\n",
              "      <td>0.144268</td>\n",
              "      <td>0.234954</td>\n",
              "      <td>0.078573</td>\n",
              "      <td>0.305964</td>\n",
              "      <td>0.268629</td>\n",
              "      <td>0.305554</td>\n",
              "      <td>0.131192</td>\n",
              "      <td>0.009491</td>\n",
              "      <td>0.480222</td>\n",
              "      <td>...</td>\n",
              "      <td>0.209458</td>\n",
              "      <td>0.033658</td>\n",
              "      <td>0.263500</td>\n",
              "      <td>0.048622</td>\n",
              "      <td>0.121296</td>\n",
              "      <td>0.010354</td>\n",
              "      <td>0.297788</td>\n",
              "      <td>0.01453</td>\n",
              "      <td>45.110874</td>\n",
              "      <td>55.373235</td>\n",
              "    </tr>\n",
              "    <tr>\n",
              "      <th>...</th>\n",
              "      <td>...</td>\n",
              "      <td>...</td>\n",
              "      <td>...</td>\n",
              "      <td>...</td>\n",
              "      <td>...</td>\n",
              "      <td>...</td>\n",
              "      <td>...</td>\n",
              "      <td>...</td>\n",
              "      <td>...</td>\n",
              "      <td>...</td>\n",
              "      <td>...</td>\n",
              "      <td>...</td>\n",
              "      <td>...</td>\n",
              "      <td>...</td>\n",
              "      <td>...</td>\n",
              "      <td>...</td>\n",
              "      <td>...</td>\n",
              "      <td>...</td>\n",
              "      <td>...</td>\n",
              "      <td>...</td>\n",
              "      <td>...</td>\n",
              "    </tr>\n",
              "    <tr>\n",
              "      <th>2066</th>\n",
              "      <td>18.0</td>\n",
              "      <td>0.120758</td>\n",
              "      <td>0.017866</td>\n",
              "      <td>0.212560</td>\n",
              "      <td>0.231169</td>\n",
              "      <td>0.012535</td>\n",
              "      <td>0.097705</td>\n",
              "      <td>0.103303</td>\n",
              "      <td>0.014683</td>\n",
              "      <td>0.344103</td>\n",
              "      <td>...</td>\n",
              "      <td>0.018102</td>\n",
              "      <td>0.059161</td>\n",
              "      <td>0.804364</td>\n",
              "      <td>0.077803</td>\n",
              "      <td>0.112885</td>\n",
              "      <td>0.209859</td>\n",
              "      <td>0.269576</td>\n",
              "      <td>0.00292</td>\n",
              "      <td>38.684136</td>\n",
              "      <td>54.015049</td>\n",
              "    </tr>\n",
              "    <tr>\n",
              "      <th>2067</th>\n",
              "      <td>56.0</td>\n",
              "      <td>0.010670</td>\n",
              "      <td>0.105135</td>\n",
              "      <td>0.170843</td>\n",
              "      <td>0.227927</td>\n",
              "      <td>0.095751</td>\n",
              "      <td>0.140273</td>\n",
              "      <td>0.097191</td>\n",
              "      <td>0.258106</td>\n",
              "      <td>0.575754</td>\n",
              "      <td>...</td>\n",
              "      <td>0.109647</td>\n",
              "      <td>0.744611</td>\n",
              "      <td>0.554205</td>\n",
              "      <td>0.572680</td>\n",
              "      <td>0.511447</td>\n",
              "      <td>0.101374</td>\n",
              "      <td>0.119901</td>\n",
              "      <td>0.00761</td>\n",
              "      <td>56.333597</td>\n",
              "      <td>53.491034</td>\n",
              "    </tr>\n",
              "    <tr>\n",
              "      <th>2068</th>\n",
              "      <td>92.0</td>\n",
              "      <td>0.131978</td>\n",
              "      <td>0.058492</td>\n",
              "      <td>0.607262</td>\n",
              "      <td>0.389112</td>\n",
              "      <td>0.061173</td>\n",
              "      <td>0.185756</td>\n",
              "      <td>0.120462</td>\n",
              "      <td>0.545505</td>\n",
              "      <td>0.260217</td>\n",
              "      <td>...</td>\n",
              "      <td>0.085916</td>\n",
              "      <td>0.055619</td>\n",
              "      <td>0.051682</td>\n",
              "      <td>0.008488</td>\n",
              "      <td>0.076760</td>\n",
              "      <td>0.038590</td>\n",
              "      <td>0.086436</td>\n",
              "      <td>0.00543</td>\n",
              "      <td>37.903133</td>\n",
              "      <td>53.139053</td>\n",
              "    </tr>\n",
              "    <tr>\n",
              "      <th>2069</th>\n",
              "      <td>53.0</td>\n",
              "      <td>0.044726</td>\n",
              "      <td>0.093328</td>\n",
              "      <td>0.188758</td>\n",
              "      <td>0.290000</td>\n",
              "      <td>0.178694</td>\n",
              "      <td>0.286592</td>\n",
              "      <td>0.041403</td>\n",
              "      <td>0.241813</td>\n",
              "      <td>0.499471</td>\n",
              "      <td>...</td>\n",
              "      <td>0.053296</td>\n",
              "      <td>0.200393</td>\n",
              "      <td>0.136789</td>\n",
              "      <td>0.040434</td>\n",
              "      <td>0.037837</td>\n",
              "      <td>0.119188</td>\n",
              "      <td>0.165996</td>\n",
              "      <td>0.15552</td>\n",
              "      <td>38.989850</td>\n",
              "      <td>51.863823</td>\n",
              "    </tr>\n",
              "    <tr>\n",
              "      <th>2070</th>\n",
              "      <td>33.0</td>\n",
              "      <td>0.141994</td>\n",
              "      <td>0.003819</td>\n",
              "      <td>0.149500</td>\n",
              "      <td>0.077181</td>\n",
              "      <td>0.161075</td>\n",
              "      <td>0.220894</td>\n",
              "      <td>0.125081</td>\n",
              "      <td>0.042906</td>\n",
              "      <td>0.157184</td>\n",
              "      <td>...</td>\n",
              "      <td>0.098958</td>\n",
              "      <td>0.137899</td>\n",
              "      <td>0.120050</td>\n",
              "      <td>0.051349</td>\n",
              "      <td>0.095068</td>\n",
              "      <td>0.010335</td>\n",
              "      <td>0.143800</td>\n",
              "      <td>0.00762</td>\n",
              "      <td>37.676699</td>\n",
              "      <td>53.789403</td>\n",
              "    </tr>\n",
              "  </tbody>\n",
              "</table>\n",
              "<p>2071 rows × 74 columns</p>\n",
              "</div>\n",
              "      <button class=\"colab-df-convert\" onclick=\"convertToInteractive('df-a965a2ee-6079-4e8e-a2f1-7e8257e32c3a')\"\n",
              "              title=\"Convert this dataframe to an interactive table.\"\n",
              "              style=\"display:none;\">\n",
              "        \n",
              "  <svg xmlns=\"http://www.w3.org/2000/svg\" height=\"24px\"viewBox=\"0 0 24 24\"\n",
              "       width=\"24px\">\n",
              "    <path d=\"M0 0h24v24H0V0z\" fill=\"none\"/>\n",
              "    <path d=\"M18.56 5.44l.94 2.06.94-2.06 2.06-.94-2.06-.94-.94-2.06-.94 2.06-2.06.94zm-11 1L8.5 8.5l.94-2.06 2.06-.94-2.06-.94L8.5 2.5l-.94 2.06-2.06.94zm10 10l.94 2.06.94-2.06 2.06-.94-2.06-.94-.94-2.06-.94 2.06-2.06.94z\"/><path d=\"M17.41 7.96l-1.37-1.37c-.4-.4-.92-.59-1.43-.59-.52 0-1.04.2-1.43.59L10.3 9.45l-7.72 7.72c-.78.78-.78 2.05 0 2.83L4 21.41c.39.39.9.59 1.41.59.51 0 1.02-.2 1.41-.59l7.78-7.78 2.81-2.81c.8-.78.8-2.07 0-2.86zM5.41 20L4 18.59l7.72-7.72 1.47 1.35L5.41 20z\"/>\n",
              "  </svg>\n",
              "      </button>\n",
              "      \n",
              "  <style>\n",
              "    .colab-df-container {\n",
              "      display:flex;\n",
              "      flex-wrap:wrap;\n",
              "      gap: 12px;\n",
              "    }\n",
              "\n",
              "    .colab-df-convert {\n",
              "      background-color: #E8F0FE;\n",
              "      border: none;\n",
              "      border-radius: 50%;\n",
              "      cursor: pointer;\n",
              "      display: none;\n",
              "      fill: #1967D2;\n",
              "      height: 32px;\n",
              "      padding: 0 0 0 0;\n",
              "      width: 32px;\n",
              "    }\n",
              "\n",
              "    .colab-df-convert:hover {\n",
              "      background-color: #E2EBFA;\n",
              "      box-shadow: 0px 1px 2px rgba(60, 64, 67, 0.3), 0px 1px 3px 1px rgba(60, 64, 67, 0.15);\n",
              "      fill: #174EA6;\n",
              "    }\n",
              "\n",
              "    [theme=dark] .colab-df-convert {\n",
              "      background-color: #3B4455;\n",
              "      fill: #D2E3FC;\n",
              "    }\n",
              "\n",
              "    [theme=dark] .colab-df-convert:hover {\n",
              "      background-color: #434B5C;\n",
              "      box-shadow: 0px 1px 3px 1px rgba(0, 0, 0, 0.15);\n",
              "      filter: drop-shadow(0px 1px 2px rgba(0, 0, 0, 0.3));\n",
              "      fill: #FFFFFF;\n",
              "    }\n",
              "  </style>\n",
              "\n",
              "      <script>\n",
              "        const buttonEl =\n",
              "          document.querySelector('#df-a965a2ee-6079-4e8e-a2f1-7e8257e32c3a button.colab-df-convert');\n",
              "        buttonEl.style.display =\n",
              "          google.colab.kernel.accessAllowed ? 'block' : 'none';\n",
              "\n",
              "        async function convertToInteractive(key) {\n",
              "          const element = document.querySelector('#df-a965a2ee-6079-4e8e-a2f1-7e8257e32c3a');\n",
              "          const dataTable =\n",
              "            await google.colab.kernel.invokeFunction('convertToInteractive',\n",
              "                                                     [key], {});\n",
              "          if (!dataTable) return;\n",
              "\n",
              "          const docLinkHtml = 'Like what you see? Visit the ' +\n",
              "            '<a target=\"_blank\" href=https://colab.research.google.com/notebooks/data_table.ipynb>data table notebook</a>'\n",
              "            + ' to learn more about interactive tables.';\n",
              "          element.innerHTML = '';\n",
              "          dataTable['output_type'] = 'display_data';\n",
              "          await google.colab.output.renderOutput(dataTable, element);\n",
              "          const docLink = document.createElement('div');\n",
              "          docLink.innerHTML = docLinkHtml;\n",
              "          element.appendChild(docLink);\n",
              "        }\n",
              "      </script>\n",
              "    </div>\n",
              "  </div>\n",
              "  "
            ]
          },
          "metadata": {},
          "execution_count": 80
        }
      ]
    },
    {
      "cell_type": "code",
      "source": [
        "x_test = myImputer_data_ts\n",
        "x_train = myImputer_data"
      ],
      "metadata": {
        "id": "hAdGDqf6YKge"
      },
      "execution_count": null,
      "outputs": []
    },
    {
      "cell_type": "code",
      "source": [
        "x_test"
      ],
      "metadata": {
        "id": "SCRZC7tRYdPe"
      },
      "execution_count": null,
      "outputs": []
    },
    {
      "cell_type": "code",
      "source": [
        "x_train_new = x_train[np.isfinite(x_train).all(1)]"
      ],
      "metadata": {
        "id": "FUUAaEwbZJN-"
      },
      "execution_count": null,
      "outputs": []
    },
    {
      "cell_type": "code",
      "source": [
        "x_train_new = x_train_new.iloc[0:27785]"
      ],
      "metadata": {
        "id": "azAp482HZxwu"
      },
      "execution_count": null,
      "outputs": []
    },
    {
      "cell_type": "code",
      "source": [
        "x_train_new"
      ],
      "metadata": {
        "colab": {
          "base_uri": "https://localhost:8080/",
          "height": 505
        },
        "id": "YeU6oZLjc2md",
        "outputId": "08783155-4bb1-4c4e-c91f-2f5b83ee8173"
      },
      "execution_count": null,
      "outputs": [
        {
          "output_type": "execute_result",
          "data": {
            "text/plain": [
              "       area  nd_mean_2021-04-16  nd_mean_2021-04-19  nd_mean_2021-04-22  \\\n",
              "0      20.0            0.072846            0.261778            0.062981   \n",
              "1      45.0            0.332928            0.287182            0.097138   \n",
              "2      28.0            0.013679            0.007055            0.120804   \n",
              "3      19.0            0.105976            0.052500            0.001917   \n",
              "4      33.0            0.130885            0.063492            0.024416   \n",
              "...     ...                 ...                 ...                 ...   \n",
              "4825   74.0            0.028770            0.038282            0.255329   \n",
              "4826  109.0            0.035939            0.030722            0.033869   \n",
              "4827   58.0            0.191255            0.063581            0.140111   \n",
              "4828   14.0            0.291399            0.221428            0.007247   \n",
              "4829   75.0            0.226925            0.043076            0.058611   \n",
              "\n",
              "      nd_mean_2021-04-26  nd_mean_2021-04-28  nd_mean_2021-05-02  \\\n",
              "0               0.104442            0.021096            0.052202   \n",
              "1               0.152467            0.075484            0.177430   \n",
              "2               0.037839            0.259125            0.103707   \n",
              "3               0.011531            0.042316            0.122321   \n",
              "4               0.080858            0.150671            0.046717   \n",
              "...                  ...                 ...                 ...   \n",
              "4825            0.148166            0.225421            0.479483   \n",
              "4826            0.029646            0.318387            0.247905   \n",
              "4827            0.323984            0.096556            0.005056   \n",
              "4828            0.055074            0.057781            0.187749   \n",
              "4829            0.440539            0.120169            0.138846   \n",
              "\n",
              "      nd_mean_2021-05-04  nd_mean_2021-05-07  nd_mean_2021-05-16  ...  \\\n",
              "0               0.158723            0.041219            0.484102  ...   \n",
              "1               0.140326            0.163340            0.519456  ...   \n",
              "2               0.037446            0.506516            0.353498  ...   \n",
              "3               0.081126            0.043604            0.510271  ...   \n",
              "4               0.254284            0.101479            0.439214  ...   \n",
              "...                  ...                 ...                 ...  ...   \n",
              "4825            0.071684            0.016856            0.407955  ...   \n",
              "4826            0.265180            0.286298            0.578936  ...   \n",
              "4827            0.092693            0.399439            0.006256  ...   \n",
              "4828            0.112403            0.183555            0.504538  ...   \n",
              "4829            0.020173            0.117669            0.266987  ...   \n",
              "\n",
              "      nd_mean_2021-06-05  nd_mean_2021-06-10  nd_mean_2021-07-05  \\\n",
              "0               0.124326            0.125313            0.026784   \n",
              "1               0.200065            0.287425            0.111148   \n",
              "2               0.210496            0.130467            0.155225   \n",
              "3               0.132886            0.086913            0.570928   \n",
              "4               0.152003            0.073357            0.147842   \n",
              "...                  ...                 ...                 ...   \n",
              "4825            0.066882            0.139222            0.009041   \n",
              "4826            0.131357            0.067455            0.187236   \n",
              "4827            0.142930            0.101047            0.047572   \n",
              "4828            0.085861            0.631304            0.694524   \n",
              "4829            0.136837            0.010312            0.227649   \n",
              "\n",
              "      nd_mean_2021-08-13  nd_mean_2021-08-27  nd_mean_2021-05-08  \\\n",
              "0               0.126832            0.614770            0.008857   \n",
              "1               0.174914            0.179612            0.113071   \n",
              "2               0.090607            0.054127            0.007437   \n",
              "3               0.073492            0.378900            0.327677   \n",
              "4               0.157676            0.012048            0.054223   \n",
              "...                  ...                 ...                 ...   \n",
              "4825            0.042483            0.022464            0.017705   \n",
              "4826            0.055721            0.044182            0.048316   \n",
              "4827            0.007225            0.145505            0.051215   \n",
              "4828            0.031836            0.453151            0.045079   \n",
              "4829            0.098439            0.096585            0.164260   \n",
              "\n",
              "      nd_mean_2021-05-24          X          Y     temp  \n",
              "0               0.081498  42.500303  51.412815  0.01316  \n",
              "1               0.046997  50.265608  56.606045  0.04873  \n",
              "2               0.219614  38.003231  53.837187  0.00725  \n",
              "3               0.586523  44.727709  55.935536  0.00584  \n",
              "4               0.017539  34.783534  52.907252  0.01206  \n",
              "...                  ...        ...        ...      ...  \n",
              "4825            0.148440  40.906039  50.899595  0.01893  \n",
              "4826            0.041440  40.013739  51.804439  0.03354  \n",
              "4827            0.079730  38.584332  53.193459  0.01680  \n",
              "4828            0.006495  53.319120  55.183574  0.00477  \n",
              "4829            0.011459  38.801397  52.727377  0.02075  \n",
              "\n",
              "[4830 rows x 74 columns]"
            ],
            "text/html": [
              "\n",
              "  <div id=\"df-d3a61d75-21b6-4e44-8b72-6811d870f935\">\n",
              "    <div class=\"colab-df-container\">\n",
              "      <div>\n",
              "<style scoped>\n",
              "    .dataframe tbody tr th:only-of-type {\n",
              "        vertical-align: middle;\n",
              "    }\n",
              "\n",
              "    .dataframe tbody tr th {\n",
              "        vertical-align: top;\n",
              "    }\n",
              "\n",
              "    .dataframe thead th {\n",
              "        text-align: right;\n",
              "    }\n",
              "</style>\n",
              "<table border=\"1\" class=\"dataframe\">\n",
              "  <thead>\n",
              "    <tr style=\"text-align: right;\">\n",
              "      <th></th>\n",
              "      <th>area</th>\n",
              "      <th>nd_mean_2021-04-16</th>\n",
              "      <th>nd_mean_2021-04-19</th>\n",
              "      <th>nd_mean_2021-04-22</th>\n",
              "      <th>nd_mean_2021-04-26</th>\n",
              "      <th>nd_mean_2021-04-28</th>\n",
              "      <th>nd_mean_2021-05-02</th>\n",
              "      <th>nd_mean_2021-05-04</th>\n",
              "      <th>nd_mean_2021-05-07</th>\n",
              "      <th>nd_mean_2021-05-16</th>\n",
              "      <th>...</th>\n",
              "      <th>nd_mean_2021-06-05</th>\n",
              "      <th>nd_mean_2021-06-10</th>\n",
              "      <th>nd_mean_2021-07-05</th>\n",
              "      <th>nd_mean_2021-08-13</th>\n",
              "      <th>nd_mean_2021-08-27</th>\n",
              "      <th>nd_mean_2021-05-08</th>\n",
              "      <th>nd_mean_2021-05-24</th>\n",
              "      <th>X</th>\n",
              "      <th>Y</th>\n",
              "      <th>temp</th>\n",
              "    </tr>\n",
              "  </thead>\n",
              "  <tbody>\n",
              "    <tr>\n",
              "      <th>0</th>\n",
              "      <td>20.0</td>\n",
              "      <td>0.072846</td>\n",
              "      <td>0.261778</td>\n",
              "      <td>0.062981</td>\n",
              "      <td>0.104442</td>\n",
              "      <td>0.021096</td>\n",
              "      <td>0.052202</td>\n",
              "      <td>0.158723</td>\n",
              "      <td>0.041219</td>\n",
              "      <td>0.484102</td>\n",
              "      <td>...</td>\n",
              "      <td>0.124326</td>\n",
              "      <td>0.125313</td>\n",
              "      <td>0.026784</td>\n",
              "      <td>0.126832</td>\n",
              "      <td>0.614770</td>\n",
              "      <td>0.008857</td>\n",
              "      <td>0.081498</td>\n",
              "      <td>42.500303</td>\n",
              "      <td>51.412815</td>\n",
              "      <td>0.01316</td>\n",
              "    </tr>\n",
              "    <tr>\n",
              "      <th>1</th>\n",
              "      <td>45.0</td>\n",
              "      <td>0.332928</td>\n",
              "      <td>0.287182</td>\n",
              "      <td>0.097138</td>\n",
              "      <td>0.152467</td>\n",
              "      <td>0.075484</td>\n",
              "      <td>0.177430</td>\n",
              "      <td>0.140326</td>\n",
              "      <td>0.163340</td>\n",
              "      <td>0.519456</td>\n",
              "      <td>...</td>\n",
              "      <td>0.200065</td>\n",
              "      <td>0.287425</td>\n",
              "      <td>0.111148</td>\n",
              "      <td>0.174914</td>\n",
              "      <td>0.179612</td>\n",
              "      <td>0.113071</td>\n",
              "      <td>0.046997</td>\n",
              "      <td>50.265608</td>\n",
              "      <td>56.606045</td>\n",
              "      <td>0.04873</td>\n",
              "    </tr>\n",
              "    <tr>\n",
              "      <th>2</th>\n",
              "      <td>28.0</td>\n",
              "      <td>0.013679</td>\n",
              "      <td>0.007055</td>\n",
              "      <td>0.120804</td>\n",
              "      <td>0.037839</td>\n",
              "      <td>0.259125</td>\n",
              "      <td>0.103707</td>\n",
              "      <td>0.037446</td>\n",
              "      <td>0.506516</td>\n",
              "      <td>0.353498</td>\n",
              "      <td>...</td>\n",
              "      <td>0.210496</td>\n",
              "      <td>0.130467</td>\n",
              "      <td>0.155225</td>\n",
              "      <td>0.090607</td>\n",
              "      <td>0.054127</td>\n",
              "      <td>0.007437</td>\n",
              "      <td>0.219614</td>\n",
              "      <td>38.003231</td>\n",
              "      <td>53.837187</td>\n",
              "      <td>0.00725</td>\n",
              "    </tr>\n",
              "    <tr>\n",
              "      <th>3</th>\n",
              "      <td>19.0</td>\n",
              "      <td>0.105976</td>\n",
              "      <td>0.052500</td>\n",
              "      <td>0.001917</td>\n",
              "      <td>0.011531</td>\n",
              "      <td>0.042316</td>\n",
              "      <td>0.122321</td>\n",
              "      <td>0.081126</td>\n",
              "      <td>0.043604</td>\n",
              "      <td>0.510271</td>\n",
              "      <td>...</td>\n",
              "      <td>0.132886</td>\n",
              "      <td>0.086913</td>\n",
              "      <td>0.570928</td>\n",
              "      <td>0.073492</td>\n",
              "      <td>0.378900</td>\n",
              "      <td>0.327677</td>\n",
              "      <td>0.586523</td>\n",
              "      <td>44.727709</td>\n",
              "      <td>55.935536</td>\n",
              "      <td>0.00584</td>\n",
              "    </tr>\n",
              "    <tr>\n",
              "      <th>4</th>\n",
              "      <td>33.0</td>\n",
              "      <td>0.130885</td>\n",
              "      <td>0.063492</td>\n",
              "      <td>0.024416</td>\n",
              "      <td>0.080858</td>\n",
              "      <td>0.150671</td>\n",
              "      <td>0.046717</td>\n",
              "      <td>0.254284</td>\n",
              "      <td>0.101479</td>\n",
              "      <td>0.439214</td>\n",
              "      <td>...</td>\n",
              "      <td>0.152003</td>\n",
              "      <td>0.073357</td>\n",
              "      <td>0.147842</td>\n",
              "      <td>0.157676</td>\n",
              "      <td>0.012048</td>\n",
              "      <td>0.054223</td>\n",
              "      <td>0.017539</td>\n",
              "      <td>34.783534</td>\n",
              "      <td>52.907252</td>\n",
              "      <td>0.01206</td>\n",
              "    </tr>\n",
              "    <tr>\n",
              "      <th>...</th>\n",
              "      <td>...</td>\n",
              "      <td>...</td>\n",
              "      <td>...</td>\n",
              "      <td>...</td>\n",
              "      <td>...</td>\n",
              "      <td>...</td>\n",
              "      <td>...</td>\n",
              "      <td>...</td>\n",
              "      <td>...</td>\n",
              "      <td>...</td>\n",
              "      <td>...</td>\n",
              "      <td>...</td>\n",
              "      <td>...</td>\n",
              "      <td>...</td>\n",
              "      <td>...</td>\n",
              "      <td>...</td>\n",
              "      <td>...</td>\n",
              "      <td>...</td>\n",
              "      <td>...</td>\n",
              "      <td>...</td>\n",
              "      <td>...</td>\n",
              "    </tr>\n",
              "    <tr>\n",
              "      <th>4825</th>\n",
              "      <td>74.0</td>\n",
              "      <td>0.028770</td>\n",
              "      <td>0.038282</td>\n",
              "      <td>0.255329</td>\n",
              "      <td>0.148166</td>\n",
              "      <td>0.225421</td>\n",
              "      <td>0.479483</td>\n",
              "      <td>0.071684</td>\n",
              "      <td>0.016856</td>\n",
              "      <td>0.407955</td>\n",
              "      <td>...</td>\n",
              "      <td>0.066882</td>\n",
              "      <td>0.139222</td>\n",
              "      <td>0.009041</td>\n",
              "      <td>0.042483</td>\n",
              "      <td>0.022464</td>\n",
              "      <td>0.017705</td>\n",
              "      <td>0.148440</td>\n",
              "      <td>40.906039</td>\n",
              "      <td>50.899595</td>\n",
              "      <td>0.01893</td>\n",
              "    </tr>\n",
              "    <tr>\n",
              "      <th>4826</th>\n",
              "      <td>109.0</td>\n",
              "      <td>0.035939</td>\n",
              "      <td>0.030722</td>\n",
              "      <td>0.033869</td>\n",
              "      <td>0.029646</td>\n",
              "      <td>0.318387</td>\n",
              "      <td>0.247905</td>\n",
              "      <td>0.265180</td>\n",
              "      <td>0.286298</td>\n",
              "      <td>0.578936</td>\n",
              "      <td>...</td>\n",
              "      <td>0.131357</td>\n",
              "      <td>0.067455</td>\n",
              "      <td>0.187236</td>\n",
              "      <td>0.055721</td>\n",
              "      <td>0.044182</td>\n",
              "      <td>0.048316</td>\n",
              "      <td>0.041440</td>\n",
              "      <td>40.013739</td>\n",
              "      <td>51.804439</td>\n",
              "      <td>0.03354</td>\n",
              "    </tr>\n",
              "    <tr>\n",
              "      <th>4827</th>\n",
              "      <td>58.0</td>\n",
              "      <td>0.191255</td>\n",
              "      <td>0.063581</td>\n",
              "      <td>0.140111</td>\n",
              "      <td>0.323984</td>\n",
              "      <td>0.096556</td>\n",
              "      <td>0.005056</td>\n",
              "      <td>0.092693</td>\n",
              "      <td>0.399439</td>\n",
              "      <td>0.006256</td>\n",
              "      <td>...</td>\n",
              "      <td>0.142930</td>\n",
              "      <td>0.101047</td>\n",
              "      <td>0.047572</td>\n",
              "      <td>0.007225</td>\n",
              "      <td>0.145505</td>\n",
              "      <td>0.051215</td>\n",
              "      <td>0.079730</td>\n",
              "      <td>38.584332</td>\n",
              "      <td>53.193459</td>\n",
              "      <td>0.01680</td>\n",
              "    </tr>\n",
              "    <tr>\n",
              "      <th>4828</th>\n",
              "      <td>14.0</td>\n",
              "      <td>0.291399</td>\n",
              "      <td>0.221428</td>\n",
              "      <td>0.007247</td>\n",
              "      <td>0.055074</td>\n",
              "      <td>0.057781</td>\n",
              "      <td>0.187749</td>\n",
              "      <td>0.112403</td>\n",
              "      <td>0.183555</td>\n",
              "      <td>0.504538</td>\n",
              "      <td>...</td>\n",
              "      <td>0.085861</td>\n",
              "      <td>0.631304</td>\n",
              "      <td>0.694524</td>\n",
              "      <td>0.031836</td>\n",
              "      <td>0.453151</td>\n",
              "      <td>0.045079</td>\n",
              "      <td>0.006495</td>\n",
              "      <td>53.319120</td>\n",
              "      <td>55.183574</td>\n",
              "      <td>0.00477</td>\n",
              "    </tr>\n",
              "    <tr>\n",
              "      <th>4829</th>\n",
              "      <td>75.0</td>\n",
              "      <td>0.226925</td>\n",
              "      <td>0.043076</td>\n",
              "      <td>0.058611</td>\n",
              "      <td>0.440539</td>\n",
              "      <td>0.120169</td>\n",
              "      <td>0.138846</td>\n",
              "      <td>0.020173</td>\n",
              "      <td>0.117669</td>\n",
              "      <td>0.266987</td>\n",
              "      <td>...</td>\n",
              "      <td>0.136837</td>\n",
              "      <td>0.010312</td>\n",
              "      <td>0.227649</td>\n",
              "      <td>0.098439</td>\n",
              "      <td>0.096585</td>\n",
              "      <td>0.164260</td>\n",
              "      <td>0.011459</td>\n",
              "      <td>38.801397</td>\n",
              "      <td>52.727377</td>\n",
              "      <td>0.02075</td>\n",
              "    </tr>\n",
              "  </tbody>\n",
              "</table>\n",
              "<p>4830 rows × 74 columns</p>\n",
              "</div>\n",
              "      <button class=\"colab-df-convert\" onclick=\"convertToInteractive('df-d3a61d75-21b6-4e44-8b72-6811d870f935')\"\n",
              "              title=\"Convert this dataframe to an interactive table.\"\n",
              "              style=\"display:none;\">\n",
              "        \n",
              "  <svg xmlns=\"http://www.w3.org/2000/svg\" height=\"24px\"viewBox=\"0 0 24 24\"\n",
              "       width=\"24px\">\n",
              "    <path d=\"M0 0h24v24H0V0z\" fill=\"none\"/>\n",
              "    <path d=\"M18.56 5.44l.94 2.06.94-2.06 2.06-.94-2.06-.94-.94-2.06-.94 2.06-2.06.94zm-11 1L8.5 8.5l.94-2.06 2.06-.94-2.06-.94L8.5 2.5l-.94 2.06-2.06.94zm10 10l.94 2.06.94-2.06 2.06-.94-2.06-.94-.94-2.06-.94 2.06-2.06.94z\"/><path d=\"M17.41 7.96l-1.37-1.37c-.4-.4-.92-.59-1.43-.59-.52 0-1.04.2-1.43.59L10.3 9.45l-7.72 7.72c-.78.78-.78 2.05 0 2.83L4 21.41c.39.39.9.59 1.41.59.51 0 1.02-.2 1.41-.59l7.78-7.78 2.81-2.81c.8-.78.8-2.07 0-2.86zM5.41 20L4 18.59l7.72-7.72 1.47 1.35L5.41 20z\"/>\n",
              "  </svg>\n",
              "      </button>\n",
              "      \n",
              "  <style>\n",
              "    .colab-df-container {\n",
              "      display:flex;\n",
              "      flex-wrap:wrap;\n",
              "      gap: 12px;\n",
              "    }\n",
              "\n",
              "    .colab-df-convert {\n",
              "      background-color: #E8F0FE;\n",
              "      border: none;\n",
              "      border-radius: 50%;\n",
              "      cursor: pointer;\n",
              "      display: none;\n",
              "      fill: #1967D2;\n",
              "      height: 32px;\n",
              "      padding: 0 0 0 0;\n",
              "      width: 32px;\n",
              "    }\n",
              "\n",
              "    .colab-df-convert:hover {\n",
              "      background-color: #E2EBFA;\n",
              "      box-shadow: 0px 1px 2px rgba(60, 64, 67, 0.3), 0px 1px 3px 1px rgba(60, 64, 67, 0.15);\n",
              "      fill: #174EA6;\n",
              "    }\n",
              "\n",
              "    [theme=dark] .colab-df-convert {\n",
              "      background-color: #3B4455;\n",
              "      fill: #D2E3FC;\n",
              "    }\n",
              "\n",
              "    [theme=dark] .colab-df-convert:hover {\n",
              "      background-color: #434B5C;\n",
              "      box-shadow: 0px 1px 3px 1px rgba(0, 0, 0, 0.15);\n",
              "      filter: drop-shadow(0px 1px 2px rgba(0, 0, 0, 0.3));\n",
              "      fill: #FFFFFF;\n",
              "    }\n",
              "  </style>\n",
              "\n",
              "      <script>\n",
              "        const buttonEl =\n",
              "          document.querySelector('#df-d3a61d75-21b6-4e44-8b72-6811d870f935 button.colab-df-convert');\n",
              "        buttonEl.style.display =\n",
              "          google.colab.kernel.accessAllowed ? 'block' : 'none';\n",
              "\n",
              "        async function convertToInteractive(key) {\n",
              "          const element = document.querySelector('#df-d3a61d75-21b6-4e44-8b72-6811d870f935');\n",
              "          const dataTable =\n",
              "            await google.colab.kernel.invokeFunction('convertToInteractive',\n",
              "                                                     [key], {});\n",
              "          if (!dataTable) return;\n",
              "\n",
              "          const docLinkHtml = 'Like what you see? Visit the ' +\n",
              "            '<a target=\"_blank\" href=https://colab.research.google.com/notebooks/data_table.ipynb>data table notebook</a>'\n",
              "            + ' to learn more about interactive tables.';\n",
              "          element.innerHTML = '';\n",
              "          dataTable['output_type'] = 'display_data';\n",
              "          await google.colab.output.renderOutput(dataTable, element);\n",
              "          const docLink = document.createElement('div');\n",
              "          docLink.innerHTML = docLinkHtml;\n",
              "          element.appendChild(docLink);\n",
              "        }\n",
              "      </script>\n",
              "    </div>\n",
              "  </div>\n",
              "  "
            ]
          },
          "metadata": {},
          "execution_count": 264
        }
      ]
    },
    {
      "cell_type": "code",
      "source": [
        "x_train_new = x_train_new.fillna(0)"
      ],
      "metadata": {
        "id": "jNJiZb0ra7vl"
      },
      "execution_count": null,
      "outputs": []
    },
    {
      "cell_type": "code",
      "source": [
        "y_train = y_train.fillna(0)"
      ],
      "metadata": {
        "id": "GnZhWnw0iixH"
      },
      "execution_count": null,
      "outputs": []
    },
    {
      "cell_type": "code",
      "source": [
        "x_test = x_test.drop(['temp'], axis = 1)\n",
        "x_train = x_train.drop(['temp'], axis = 1)"
      ],
      "metadata": {
        "id": "S0PVGRFZsTwW"
      },
      "execution_count": null,
      "outputs": []
    },
    {
      "cell_type": "code",
      "source": [
        "x_train"
      ],
      "metadata": {
        "colab": {
          "base_uri": "https://localhost:8080/",
          "height": 505
        },
        "id": "uR3c7x-KsTut",
        "outputId": "32fbb9a9-50f7-4980-80d5-2945d9d7cfa2"
      },
      "execution_count": null,
      "outputs": [
        {
          "output_type": "execute_result",
          "data": {
            "text/plain": [
              "       area  nd_mean_2021-04-16  nd_mean_2021-04-19  nd_mean_2021-04-22  \\\n",
              "0      20.0            0.072846            0.261778            0.062981   \n",
              "1      45.0            0.332928            0.287182            0.097138   \n",
              "2      28.0            0.013679            0.007055            0.120804   \n",
              "3      19.0            0.105976            0.052500            0.001917   \n",
              "4      33.0            0.130885            0.063492            0.024416   \n",
              "...     ...                 ...                 ...                 ...   \n",
              "4825   74.0            0.028770            0.038282            0.255329   \n",
              "4826  109.0            0.035939            0.030722            0.033869   \n",
              "4827   58.0            0.191255            0.063581            0.140111   \n",
              "4828   14.0            0.291399            0.221428            0.007247   \n",
              "4829   75.0            0.226925            0.043076            0.058611   \n",
              "\n",
              "      nd_mean_2021-04-26  nd_mean_2021-04-28  nd_mean_2021-05-02  \\\n",
              "0               0.104442            0.021096            0.052202   \n",
              "1               0.152467            0.075484            0.177430   \n",
              "2               0.037839            0.259125            0.103707   \n",
              "3               0.011531            0.042316            0.122321   \n",
              "4               0.080858            0.150671            0.046717   \n",
              "...                  ...                 ...                 ...   \n",
              "4825            0.148166            0.225421            0.479483   \n",
              "4826            0.029646            0.318387            0.247905   \n",
              "4827            0.323984            0.096556            0.005056   \n",
              "4828            0.055074            0.057781            0.187749   \n",
              "4829            0.440539            0.120169            0.138846   \n",
              "\n",
              "      nd_mean_2021-05-04  nd_mean_2021-05-07  nd_mean_2021-05-16  ...  \\\n",
              "0               0.158723            0.041219            0.484102  ...   \n",
              "1               0.140326            0.163340            0.519456  ...   \n",
              "2               0.037446            0.506516            0.353498  ...   \n",
              "3               0.081126            0.043604            0.510271  ...   \n",
              "4               0.254284            0.101479            0.439214  ...   \n",
              "...                  ...                 ...                 ...  ...   \n",
              "4825            0.071684            0.016856            0.407955  ...   \n",
              "4826            0.265180            0.286298            0.578936  ...   \n",
              "4827            0.092693            0.399439            0.006256  ...   \n",
              "4828            0.112403            0.183555            0.504538  ...   \n",
              "4829            0.020173            0.117669            0.266987  ...   \n",
              "\n",
              "      nd_mean_2021-06-04  nd_mean_2021-06-05  nd_mean_2021-06-10  \\\n",
              "0               0.118854            0.124326            0.125313   \n",
              "1               0.208268            0.200065            0.287425   \n",
              "2               0.079094            0.210496            0.130467   \n",
              "3               0.642226            0.132886            0.086913   \n",
              "4               0.099058            0.152003            0.073357   \n",
              "...                  ...                 ...                 ...   \n",
              "4825            0.031995            0.066882            0.139222   \n",
              "4826            0.255964            0.131357            0.067455   \n",
              "4827            0.187352            0.142930            0.101047   \n",
              "4828            0.644357            0.085861            0.631304   \n",
              "4829            0.003272            0.136837            0.010312   \n",
              "\n",
              "      nd_mean_2021-07-05  nd_mean_2021-08-13  nd_mean_2021-08-27  \\\n",
              "0               0.026784            0.126832            0.614770   \n",
              "1               0.111148            0.174914            0.179612   \n",
              "2               0.155225            0.090607            0.054127   \n",
              "3               0.570928            0.073492            0.378900   \n",
              "4               0.147842            0.157676            0.012048   \n",
              "...                  ...                 ...                 ...   \n",
              "4825            0.009041            0.042483            0.022464   \n",
              "4826            0.187236            0.055721            0.044182   \n",
              "4827            0.047572            0.007225            0.145505   \n",
              "4828            0.694524            0.031836            0.453151   \n",
              "4829            0.227649            0.098439            0.096585   \n",
              "\n",
              "      nd_mean_2021-05-08  nd_mean_2021-05-24          X          Y  \n",
              "0               0.008857            0.081498  42.500303  51.412815  \n",
              "1               0.113071            0.046997  50.265608  56.606045  \n",
              "2               0.007437            0.219614  38.003231  53.837187  \n",
              "3               0.327677            0.586523  44.727709  55.935536  \n",
              "4               0.054223            0.017539  34.783534  52.907252  \n",
              "...                  ...                 ...        ...        ...  \n",
              "4825            0.017705            0.148440  40.906039  50.899595  \n",
              "4826            0.048316            0.041440  40.013739  51.804439  \n",
              "4827            0.051215            0.079730  38.584332  53.193459  \n",
              "4828            0.045079            0.006495  53.319120  55.183574  \n",
              "4829            0.164260            0.011459  38.801397  52.727377  \n",
              "\n",
              "[4830 rows x 73 columns]"
            ],
            "text/html": [
              "\n",
              "  <div id=\"df-66e26fa0-6596-4434-8360-3e730ee7822b\">\n",
              "    <div class=\"colab-df-container\">\n",
              "      <div>\n",
              "<style scoped>\n",
              "    .dataframe tbody tr th:only-of-type {\n",
              "        vertical-align: middle;\n",
              "    }\n",
              "\n",
              "    .dataframe tbody tr th {\n",
              "        vertical-align: top;\n",
              "    }\n",
              "\n",
              "    .dataframe thead th {\n",
              "        text-align: right;\n",
              "    }\n",
              "</style>\n",
              "<table border=\"1\" class=\"dataframe\">\n",
              "  <thead>\n",
              "    <tr style=\"text-align: right;\">\n",
              "      <th></th>\n",
              "      <th>area</th>\n",
              "      <th>nd_mean_2021-04-16</th>\n",
              "      <th>nd_mean_2021-04-19</th>\n",
              "      <th>nd_mean_2021-04-22</th>\n",
              "      <th>nd_mean_2021-04-26</th>\n",
              "      <th>nd_mean_2021-04-28</th>\n",
              "      <th>nd_mean_2021-05-02</th>\n",
              "      <th>nd_mean_2021-05-04</th>\n",
              "      <th>nd_mean_2021-05-07</th>\n",
              "      <th>nd_mean_2021-05-16</th>\n",
              "      <th>...</th>\n",
              "      <th>nd_mean_2021-06-04</th>\n",
              "      <th>nd_mean_2021-06-05</th>\n",
              "      <th>nd_mean_2021-06-10</th>\n",
              "      <th>nd_mean_2021-07-05</th>\n",
              "      <th>nd_mean_2021-08-13</th>\n",
              "      <th>nd_mean_2021-08-27</th>\n",
              "      <th>nd_mean_2021-05-08</th>\n",
              "      <th>nd_mean_2021-05-24</th>\n",
              "      <th>X</th>\n",
              "      <th>Y</th>\n",
              "    </tr>\n",
              "  </thead>\n",
              "  <tbody>\n",
              "    <tr>\n",
              "      <th>0</th>\n",
              "      <td>20.0</td>\n",
              "      <td>0.072846</td>\n",
              "      <td>0.261778</td>\n",
              "      <td>0.062981</td>\n",
              "      <td>0.104442</td>\n",
              "      <td>0.021096</td>\n",
              "      <td>0.052202</td>\n",
              "      <td>0.158723</td>\n",
              "      <td>0.041219</td>\n",
              "      <td>0.484102</td>\n",
              "      <td>...</td>\n",
              "      <td>0.118854</td>\n",
              "      <td>0.124326</td>\n",
              "      <td>0.125313</td>\n",
              "      <td>0.026784</td>\n",
              "      <td>0.126832</td>\n",
              "      <td>0.614770</td>\n",
              "      <td>0.008857</td>\n",
              "      <td>0.081498</td>\n",
              "      <td>42.500303</td>\n",
              "      <td>51.412815</td>\n",
              "    </tr>\n",
              "    <tr>\n",
              "      <th>1</th>\n",
              "      <td>45.0</td>\n",
              "      <td>0.332928</td>\n",
              "      <td>0.287182</td>\n",
              "      <td>0.097138</td>\n",
              "      <td>0.152467</td>\n",
              "      <td>0.075484</td>\n",
              "      <td>0.177430</td>\n",
              "      <td>0.140326</td>\n",
              "      <td>0.163340</td>\n",
              "      <td>0.519456</td>\n",
              "      <td>...</td>\n",
              "      <td>0.208268</td>\n",
              "      <td>0.200065</td>\n",
              "      <td>0.287425</td>\n",
              "      <td>0.111148</td>\n",
              "      <td>0.174914</td>\n",
              "      <td>0.179612</td>\n",
              "      <td>0.113071</td>\n",
              "      <td>0.046997</td>\n",
              "      <td>50.265608</td>\n",
              "      <td>56.606045</td>\n",
              "    </tr>\n",
              "    <tr>\n",
              "      <th>2</th>\n",
              "      <td>28.0</td>\n",
              "      <td>0.013679</td>\n",
              "      <td>0.007055</td>\n",
              "      <td>0.120804</td>\n",
              "      <td>0.037839</td>\n",
              "      <td>0.259125</td>\n",
              "      <td>0.103707</td>\n",
              "      <td>0.037446</td>\n",
              "      <td>0.506516</td>\n",
              "      <td>0.353498</td>\n",
              "      <td>...</td>\n",
              "      <td>0.079094</td>\n",
              "      <td>0.210496</td>\n",
              "      <td>0.130467</td>\n",
              "      <td>0.155225</td>\n",
              "      <td>0.090607</td>\n",
              "      <td>0.054127</td>\n",
              "      <td>0.007437</td>\n",
              "      <td>0.219614</td>\n",
              "      <td>38.003231</td>\n",
              "      <td>53.837187</td>\n",
              "    </tr>\n",
              "    <tr>\n",
              "      <th>3</th>\n",
              "      <td>19.0</td>\n",
              "      <td>0.105976</td>\n",
              "      <td>0.052500</td>\n",
              "      <td>0.001917</td>\n",
              "      <td>0.011531</td>\n",
              "      <td>0.042316</td>\n",
              "      <td>0.122321</td>\n",
              "      <td>0.081126</td>\n",
              "      <td>0.043604</td>\n",
              "      <td>0.510271</td>\n",
              "      <td>...</td>\n",
              "      <td>0.642226</td>\n",
              "      <td>0.132886</td>\n",
              "      <td>0.086913</td>\n",
              "      <td>0.570928</td>\n",
              "      <td>0.073492</td>\n",
              "      <td>0.378900</td>\n",
              "      <td>0.327677</td>\n",
              "      <td>0.586523</td>\n",
              "      <td>44.727709</td>\n",
              "      <td>55.935536</td>\n",
              "    </tr>\n",
              "    <tr>\n",
              "      <th>4</th>\n",
              "      <td>33.0</td>\n",
              "      <td>0.130885</td>\n",
              "      <td>0.063492</td>\n",
              "      <td>0.024416</td>\n",
              "      <td>0.080858</td>\n",
              "      <td>0.150671</td>\n",
              "      <td>0.046717</td>\n",
              "      <td>0.254284</td>\n",
              "      <td>0.101479</td>\n",
              "      <td>0.439214</td>\n",
              "      <td>...</td>\n",
              "      <td>0.099058</td>\n",
              "      <td>0.152003</td>\n",
              "      <td>0.073357</td>\n",
              "      <td>0.147842</td>\n",
              "      <td>0.157676</td>\n",
              "      <td>0.012048</td>\n",
              "      <td>0.054223</td>\n",
              "      <td>0.017539</td>\n",
              "      <td>34.783534</td>\n",
              "      <td>52.907252</td>\n",
              "    </tr>\n",
              "    <tr>\n",
              "      <th>...</th>\n",
              "      <td>...</td>\n",
              "      <td>...</td>\n",
              "      <td>...</td>\n",
              "      <td>...</td>\n",
              "      <td>...</td>\n",
              "      <td>...</td>\n",
              "      <td>...</td>\n",
              "      <td>...</td>\n",
              "      <td>...</td>\n",
              "      <td>...</td>\n",
              "      <td>...</td>\n",
              "      <td>...</td>\n",
              "      <td>...</td>\n",
              "      <td>...</td>\n",
              "      <td>...</td>\n",
              "      <td>...</td>\n",
              "      <td>...</td>\n",
              "      <td>...</td>\n",
              "      <td>...</td>\n",
              "      <td>...</td>\n",
              "      <td>...</td>\n",
              "    </tr>\n",
              "    <tr>\n",
              "      <th>4825</th>\n",
              "      <td>74.0</td>\n",
              "      <td>0.028770</td>\n",
              "      <td>0.038282</td>\n",
              "      <td>0.255329</td>\n",
              "      <td>0.148166</td>\n",
              "      <td>0.225421</td>\n",
              "      <td>0.479483</td>\n",
              "      <td>0.071684</td>\n",
              "      <td>0.016856</td>\n",
              "      <td>0.407955</td>\n",
              "      <td>...</td>\n",
              "      <td>0.031995</td>\n",
              "      <td>0.066882</td>\n",
              "      <td>0.139222</td>\n",
              "      <td>0.009041</td>\n",
              "      <td>0.042483</td>\n",
              "      <td>0.022464</td>\n",
              "      <td>0.017705</td>\n",
              "      <td>0.148440</td>\n",
              "      <td>40.906039</td>\n",
              "      <td>50.899595</td>\n",
              "    </tr>\n",
              "    <tr>\n",
              "      <th>4826</th>\n",
              "      <td>109.0</td>\n",
              "      <td>0.035939</td>\n",
              "      <td>0.030722</td>\n",
              "      <td>0.033869</td>\n",
              "      <td>0.029646</td>\n",
              "      <td>0.318387</td>\n",
              "      <td>0.247905</td>\n",
              "      <td>0.265180</td>\n",
              "      <td>0.286298</td>\n",
              "      <td>0.578936</td>\n",
              "      <td>...</td>\n",
              "      <td>0.255964</td>\n",
              "      <td>0.131357</td>\n",
              "      <td>0.067455</td>\n",
              "      <td>0.187236</td>\n",
              "      <td>0.055721</td>\n",
              "      <td>0.044182</td>\n",
              "      <td>0.048316</td>\n",
              "      <td>0.041440</td>\n",
              "      <td>40.013739</td>\n",
              "      <td>51.804439</td>\n",
              "    </tr>\n",
              "    <tr>\n",
              "      <th>4827</th>\n",
              "      <td>58.0</td>\n",
              "      <td>0.191255</td>\n",
              "      <td>0.063581</td>\n",
              "      <td>0.140111</td>\n",
              "      <td>0.323984</td>\n",
              "      <td>0.096556</td>\n",
              "      <td>0.005056</td>\n",
              "      <td>0.092693</td>\n",
              "      <td>0.399439</td>\n",
              "      <td>0.006256</td>\n",
              "      <td>...</td>\n",
              "      <td>0.187352</td>\n",
              "      <td>0.142930</td>\n",
              "      <td>0.101047</td>\n",
              "      <td>0.047572</td>\n",
              "      <td>0.007225</td>\n",
              "      <td>0.145505</td>\n",
              "      <td>0.051215</td>\n",
              "      <td>0.079730</td>\n",
              "      <td>38.584332</td>\n",
              "      <td>53.193459</td>\n",
              "    </tr>\n",
              "    <tr>\n",
              "      <th>4828</th>\n",
              "      <td>14.0</td>\n",
              "      <td>0.291399</td>\n",
              "      <td>0.221428</td>\n",
              "      <td>0.007247</td>\n",
              "      <td>0.055074</td>\n",
              "      <td>0.057781</td>\n",
              "      <td>0.187749</td>\n",
              "      <td>0.112403</td>\n",
              "      <td>0.183555</td>\n",
              "      <td>0.504538</td>\n",
              "      <td>...</td>\n",
              "      <td>0.644357</td>\n",
              "      <td>0.085861</td>\n",
              "      <td>0.631304</td>\n",
              "      <td>0.694524</td>\n",
              "      <td>0.031836</td>\n",
              "      <td>0.453151</td>\n",
              "      <td>0.045079</td>\n",
              "      <td>0.006495</td>\n",
              "      <td>53.319120</td>\n",
              "      <td>55.183574</td>\n",
              "    </tr>\n",
              "    <tr>\n",
              "      <th>4829</th>\n",
              "      <td>75.0</td>\n",
              "      <td>0.226925</td>\n",
              "      <td>0.043076</td>\n",
              "      <td>0.058611</td>\n",
              "      <td>0.440539</td>\n",
              "      <td>0.120169</td>\n",
              "      <td>0.138846</td>\n",
              "      <td>0.020173</td>\n",
              "      <td>0.117669</td>\n",
              "      <td>0.266987</td>\n",
              "      <td>...</td>\n",
              "      <td>0.003272</td>\n",
              "      <td>0.136837</td>\n",
              "      <td>0.010312</td>\n",
              "      <td>0.227649</td>\n",
              "      <td>0.098439</td>\n",
              "      <td>0.096585</td>\n",
              "      <td>0.164260</td>\n",
              "      <td>0.011459</td>\n",
              "      <td>38.801397</td>\n",
              "      <td>52.727377</td>\n",
              "    </tr>\n",
              "  </tbody>\n",
              "</table>\n",
              "<p>4830 rows × 73 columns</p>\n",
              "</div>\n",
              "      <button class=\"colab-df-convert\" onclick=\"convertToInteractive('df-66e26fa0-6596-4434-8360-3e730ee7822b')\"\n",
              "              title=\"Convert this dataframe to an interactive table.\"\n",
              "              style=\"display:none;\">\n",
              "        \n",
              "  <svg xmlns=\"http://www.w3.org/2000/svg\" height=\"24px\"viewBox=\"0 0 24 24\"\n",
              "       width=\"24px\">\n",
              "    <path d=\"M0 0h24v24H0V0z\" fill=\"none\"/>\n",
              "    <path d=\"M18.56 5.44l.94 2.06.94-2.06 2.06-.94-2.06-.94-.94-2.06-.94 2.06-2.06.94zm-11 1L8.5 8.5l.94-2.06 2.06-.94-2.06-.94L8.5 2.5l-.94 2.06-2.06.94zm10 10l.94 2.06.94-2.06 2.06-.94-2.06-.94-.94-2.06-.94 2.06-2.06.94z\"/><path d=\"M17.41 7.96l-1.37-1.37c-.4-.4-.92-.59-1.43-.59-.52 0-1.04.2-1.43.59L10.3 9.45l-7.72 7.72c-.78.78-.78 2.05 0 2.83L4 21.41c.39.39.9.59 1.41.59.51 0 1.02-.2 1.41-.59l7.78-7.78 2.81-2.81c.8-.78.8-2.07 0-2.86zM5.41 20L4 18.59l7.72-7.72 1.47 1.35L5.41 20z\"/>\n",
              "  </svg>\n",
              "      </button>\n",
              "      \n",
              "  <style>\n",
              "    .colab-df-container {\n",
              "      display:flex;\n",
              "      flex-wrap:wrap;\n",
              "      gap: 12px;\n",
              "    }\n",
              "\n",
              "    .colab-df-convert {\n",
              "      background-color: #E8F0FE;\n",
              "      border: none;\n",
              "      border-radius: 50%;\n",
              "      cursor: pointer;\n",
              "      display: none;\n",
              "      fill: #1967D2;\n",
              "      height: 32px;\n",
              "      padding: 0 0 0 0;\n",
              "      width: 32px;\n",
              "    }\n",
              "\n",
              "    .colab-df-convert:hover {\n",
              "      background-color: #E2EBFA;\n",
              "      box-shadow: 0px 1px 2px rgba(60, 64, 67, 0.3), 0px 1px 3px 1px rgba(60, 64, 67, 0.15);\n",
              "      fill: #174EA6;\n",
              "    }\n",
              "\n",
              "    [theme=dark] .colab-df-convert {\n",
              "      background-color: #3B4455;\n",
              "      fill: #D2E3FC;\n",
              "    }\n",
              "\n",
              "    [theme=dark] .colab-df-convert:hover {\n",
              "      background-color: #434B5C;\n",
              "      box-shadow: 0px 1px 3px 1px rgba(0, 0, 0, 0.15);\n",
              "      filter: drop-shadow(0px 1px 2px rgba(0, 0, 0, 0.3));\n",
              "      fill: #FFFFFF;\n",
              "    }\n",
              "  </style>\n",
              "\n",
              "      <script>\n",
              "        const buttonEl =\n",
              "          document.querySelector('#df-66e26fa0-6596-4434-8360-3e730ee7822b button.colab-df-convert');\n",
              "        buttonEl.style.display =\n",
              "          google.colab.kernel.accessAllowed ? 'block' : 'none';\n",
              "\n",
              "        async function convertToInteractive(key) {\n",
              "          const element = document.querySelector('#df-66e26fa0-6596-4434-8360-3e730ee7822b');\n",
              "          const dataTable =\n",
              "            await google.colab.kernel.invokeFunction('convertToInteractive',\n",
              "                                                     [key], {});\n",
              "          if (!dataTable) return;\n",
              "\n",
              "          const docLinkHtml = 'Like what you see? Visit the ' +\n",
              "            '<a target=\"_blank\" href=https://colab.research.google.com/notebooks/data_table.ipynb>data table notebook</a>'\n",
              "            + ' to learn more about interactive tables.';\n",
              "          element.innerHTML = '';\n",
              "          dataTable['output_type'] = 'display_data';\n",
              "          await google.colab.output.renderOutput(dataTable, element);\n",
              "          const docLink = document.createElement('div');\n",
              "          docLink.innerHTML = docLinkHtml;\n",
              "          element.appendChild(docLink);\n",
              "        }\n",
              "      </script>\n",
              "    </div>\n",
              "  </div>\n",
              "  "
            ]
          },
          "metadata": {},
          "execution_count": 267
        }
      ]
    },
    {
      "cell_type": "code",
      "source": [
        "from sklearn.ensemble import RandomForestClassifier\n",
        "clf2 = RandomForestClassifier()\n",
        "clf2.fit(x_train, y_train)"
      ],
      "metadata": {
        "colab": {
          "base_uri": "https://localhost:8080/"
        },
        "id": "c2YGuDyyT41e",
        "outputId": "3ed05d67-ffea-4d83-a28c-0cf3c83e3893"
      },
      "execution_count": null,
      "outputs": [
        {
          "output_type": "execute_result",
          "data": {
            "text/plain": [
              "RandomForestClassifier()"
            ]
          },
          "metadata": {},
          "execution_count": 268
        }
      ]
    },
    {
      "cell_type": "code",
      "source": [
        "pre3 = clf2.predict(x_test)\n",
        "sub1 = pd.DataFrame({'id': y_test, 'crop': pre3})\n",
        "sub1['crop'] = sub1['crop'].astype(\"int\")\n",
        "sub1.to_csv('result3e_crop46.csv', index=False)\n",
        "sub1"
      ],
      "metadata": {
        "id": "MQlM8L7aT4yl",
        "colab": {
          "base_uri": "https://localhost:8080/",
          "height": 424
        },
        "outputId": "2f019ae4-a1a7-4080-ab55-9638e410d515"
      },
      "execution_count": null,
      "outputs": [
        {
          "output_type": "execute_result",
          "data": {
            "text/plain": [
              "        id  crop\n",
              "0      611     3\n",
              "1     6417     2\n",
              "2     3352     4\n",
              "3     4224     1\n",
              "4     3102     6\n",
              "...    ...   ...\n",
              "2066  1743     5\n",
              "2067  3968     3\n",
              "2068  3809     2\n",
              "2069  5485     6\n",
              "2070  5899     0\n",
              "\n",
              "[2071 rows x 2 columns]"
            ],
            "text/html": [
              "\n",
              "  <div id=\"df-43fefe04-0c6d-4502-a8de-257786601812\">\n",
              "    <div class=\"colab-df-container\">\n",
              "      <div>\n",
              "<style scoped>\n",
              "    .dataframe tbody tr th:only-of-type {\n",
              "        vertical-align: middle;\n",
              "    }\n",
              "\n",
              "    .dataframe tbody tr th {\n",
              "        vertical-align: top;\n",
              "    }\n",
              "\n",
              "    .dataframe thead th {\n",
              "        text-align: right;\n",
              "    }\n",
              "</style>\n",
              "<table border=\"1\" class=\"dataframe\">\n",
              "  <thead>\n",
              "    <tr style=\"text-align: right;\">\n",
              "      <th></th>\n",
              "      <th>id</th>\n",
              "      <th>crop</th>\n",
              "    </tr>\n",
              "  </thead>\n",
              "  <tbody>\n",
              "    <tr>\n",
              "      <th>0</th>\n",
              "      <td>611</td>\n",
              "      <td>3</td>\n",
              "    </tr>\n",
              "    <tr>\n",
              "      <th>1</th>\n",
              "      <td>6417</td>\n",
              "      <td>2</td>\n",
              "    </tr>\n",
              "    <tr>\n",
              "      <th>2</th>\n",
              "      <td>3352</td>\n",
              "      <td>4</td>\n",
              "    </tr>\n",
              "    <tr>\n",
              "      <th>3</th>\n",
              "      <td>4224</td>\n",
              "      <td>1</td>\n",
              "    </tr>\n",
              "    <tr>\n",
              "      <th>4</th>\n",
              "      <td>3102</td>\n",
              "      <td>6</td>\n",
              "    </tr>\n",
              "    <tr>\n",
              "      <th>...</th>\n",
              "      <td>...</td>\n",
              "      <td>...</td>\n",
              "    </tr>\n",
              "    <tr>\n",
              "      <th>2066</th>\n",
              "      <td>1743</td>\n",
              "      <td>5</td>\n",
              "    </tr>\n",
              "    <tr>\n",
              "      <th>2067</th>\n",
              "      <td>3968</td>\n",
              "      <td>3</td>\n",
              "    </tr>\n",
              "    <tr>\n",
              "      <th>2068</th>\n",
              "      <td>3809</td>\n",
              "      <td>2</td>\n",
              "    </tr>\n",
              "    <tr>\n",
              "      <th>2069</th>\n",
              "      <td>5485</td>\n",
              "      <td>6</td>\n",
              "    </tr>\n",
              "    <tr>\n",
              "      <th>2070</th>\n",
              "      <td>5899</td>\n",
              "      <td>0</td>\n",
              "    </tr>\n",
              "  </tbody>\n",
              "</table>\n",
              "<p>2071 rows × 2 columns</p>\n",
              "</div>\n",
              "      <button class=\"colab-df-convert\" onclick=\"convertToInteractive('df-43fefe04-0c6d-4502-a8de-257786601812')\"\n",
              "              title=\"Convert this dataframe to an interactive table.\"\n",
              "              style=\"display:none;\">\n",
              "        \n",
              "  <svg xmlns=\"http://www.w3.org/2000/svg\" height=\"24px\"viewBox=\"0 0 24 24\"\n",
              "       width=\"24px\">\n",
              "    <path d=\"M0 0h24v24H0V0z\" fill=\"none\"/>\n",
              "    <path d=\"M18.56 5.44l.94 2.06.94-2.06 2.06-.94-2.06-.94-.94-2.06-.94 2.06-2.06.94zm-11 1L8.5 8.5l.94-2.06 2.06-.94-2.06-.94L8.5 2.5l-.94 2.06-2.06.94zm10 10l.94 2.06.94-2.06 2.06-.94-2.06-.94-.94-2.06-.94 2.06-2.06.94z\"/><path d=\"M17.41 7.96l-1.37-1.37c-.4-.4-.92-.59-1.43-.59-.52 0-1.04.2-1.43.59L10.3 9.45l-7.72 7.72c-.78.78-.78 2.05 0 2.83L4 21.41c.39.39.9.59 1.41.59.51 0 1.02-.2 1.41-.59l7.78-7.78 2.81-2.81c.8-.78.8-2.07 0-2.86zM5.41 20L4 18.59l7.72-7.72 1.47 1.35L5.41 20z\"/>\n",
              "  </svg>\n",
              "      </button>\n",
              "      \n",
              "  <style>\n",
              "    .colab-df-container {\n",
              "      display:flex;\n",
              "      flex-wrap:wrap;\n",
              "      gap: 12px;\n",
              "    }\n",
              "\n",
              "    .colab-df-convert {\n",
              "      background-color: #E8F0FE;\n",
              "      border: none;\n",
              "      border-radius: 50%;\n",
              "      cursor: pointer;\n",
              "      display: none;\n",
              "      fill: #1967D2;\n",
              "      height: 32px;\n",
              "      padding: 0 0 0 0;\n",
              "      width: 32px;\n",
              "    }\n",
              "\n",
              "    .colab-df-convert:hover {\n",
              "      background-color: #E2EBFA;\n",
              "      box-shadow: 0px 1px 2px rgba(60, 64, 67, 0.3), 0px 1px 3px 1px rgba(60, 64, 67, 0.15);\n",
              "      fill: #174EA6;\n",
              "    }\n",
              "\n",
              "    [theme=dark] .colab-df-convert {\n",
              "      background-color: #3B4455;\n",
              "      fill: #D2E3FC;\n",
              "    }\n",
              "\n",
              "    [theme=dark] .colab-df-convert:hover {\n",
              "      background-color: #434B5C;\n",
              "      box-shadow: 0px 1px 3px 1px rgba(0, 0, 0, 0.15);\n",
              "      filter: drop-shadow(0px 1px 2px rgba(0, 0, 0, 0.3));\n",
              "      fill: #FFFFFF;\n",
              "    }\n",
              "  </style>\n",
              "\n",
              "      <script>\n",
              "        const buttonEl =\n",
              "          document.querySelector('#df-43fefe04-0c6d-4502-a8de-257786601812 button.colab-df-convert');\n",
              "        buttonEl.style.display =\n",
              "          google.colab.kernel.accessAllowed ? 'block' : 'none';\n",
              "\n",
              "        async function convertToInteractive(key) {\n",
              "          const element = document.querySelector('#df-43fefe04-0c6d-4502-a8de-257786601812');\n",
              "          const dataTable =\n",
              "            await google.colab.kernel.invokeFunction('convertToInteractive',\n",
              "                                                     [key], {});\n",
              "          if (!dataTable) return;\n",
              "\n",
              "          const docLinkHtml = 'Like what you see? Visit the ' +\n",
              "            '<a target=\"_blank\" href=https://colab.research.google.com/notebooks/data_table.ipynb>data table notebook</a>'\n",
              "            + ' to learn more about interactive tables.';\n",
              "          element.innerHTML = '';\n",
              "          dataTable['output_type'] = 'display_data';\n",
              "          await google.colab.output.renderOutput(dataTable, element);\n",
              "          const docLink = document.createElement('div');\n",
              "          docLink.innerHTML = docLinkHtml;\n",
              "          element.appendChild(docLink);\n",
              "        }\n",
              "      </script>\n",
              "    </div>\n",
              "  </div>\n",
              "  "
            ]
          },
          "metadata": {},
          "execution_count": 269
        }
      ]
    },
    {
      "cell_type": "code",
      "source": [],
      "metadata": {
        "id": "CanMXJoyT4vt"
      },
      "execution_count": null,
      "outputs": []
    },
    {
      "cell_type": "code",
      "source": [
        "pip install catboost"
      ],
      "metadata": {
        "colab": {
          "base_uri": "https://localhost:8080/"
        },
        "id": "x9TmECEmQHp0",
        "outputId": "2c08fd47-0baf-4569-b575-7bd455a99460"
      },
      "execution_count": null,
      "outputs": [
        {
          "output_type": "stream",
          "name": "stdout",
          "text": [
            "Looking in indexes: https://pypi.org/simple, https://us-python.pkg.dev/colab-wheels/public/simple/\n",
            "Collecting catboost\n",
            "  Downloading catboost-1.1.1-cp37-none-manylinux1_x86_64.whl (76.6 MB)\n",
            "\u001b[K     |████████████████████████████████| 76.6 MB 1.3 MB/s \n",
            "\u001b[?25hRequirement already satisfied: scipy in /usr/local/lib/python3.7/dist-packages (from catboost) (1.7.3)\n",
            "Requirement already satisfied: plotly in /usr/local/lib/python3.7/dist-packages (from catboost) (5.5.0)\n",
            "Requirement already satisfied: six in /usr/local/lib/python3.7/dist-packages (from catboost) (1.15.0)\n",
            "Requirement already satisfied: numpy>=1.16.0 in /usr/local/lib/python3.7/dist-packages (from catboost) (1.21.6)\n",
            "Requirement already satisfied: matplotlib in /usr/local/lib/python3.7/dist-packages (from catboost) (3.2.2)\n",
            "Requirement already satisfied: pandas>=0.24.0 in /usr/local/lib/python3.7/dist-packages (from catboost) (1.3.5)\n",
            "Requirement already satisfied: graphviz in /usr/local/lib/python3.7/dist-packages (from catboost) (0.10.1)\n",
            "Requirement already satisfied: python-dateutil>=2.7.3 in /usr/local/lib/python3.7/dist-packages (from pandas>=0.24.0->catboost) (2.8.2)\n",
            "Requirement already satisfied: pytz>=2017.3 in /usr/local/lib/python3.7/dist-packages (from pandas>=0.24.0->catboost) (2022.6)\n",
            "Requirement already satisfied: pyparsing!=2.0.4,!=2.1.2,!=2.1.6,>=2.0.1 in /usr/local/lib/python3.7/dist-packages (from matplotlib->catboost) (3.0.9)\n",
            "Requirement already satisfied: kiwisolver>=1.0.1 in /usr/local/lib/python3.7/dist-packages (from matplotlib->catboost) (1.4.4)\n",
            "Requirement already satisfied: cycler>=0.10 in /usr/local/lib/python3.7/dist-packages (from matplotlib->catboost) (0.11.0)\n",
            "Requirement already satisfied: typing-extensions in /usr/local/lib/python3.7/dist-packages (from kiwisolver>=1.0.1->matplotlib->catboost) (4.1.1)\n",
            "Requirement already satisfied: tenacity>=6.2.0 in /usr/local/lib/python3.7/dist-packages (from plotly->catboost) (8.1.0)\n",
            "Installing collected packages: catboost\n",
            "Successfully installed catboost-1.1.1\n"
          ]
        }
      ]
    },
    {
      "cell_type": "code",
      "source": [
        "df_train.columns #упорядочить столбцы"
      ],
      "metadata": {
        "colab": {
          "base_uri": "https://localhost:8080/"
        },
        "id": "iiQowiHYruB5",
        "outputId": "9cf3ab1a-c45e-4297-94b2-e76a0e806279"
      },
      "execution_count": null,
      "outputs": [
        {
          "output_type": "execute_result",
          "data": {
            "text/plain": [
              "Index(['id', 'area', 'nd_mean_2021-04-16', 'nd_mean_2021-04-19',\n",
              "       'nd_mean_2021-04-22', 'nd_mean_2021-04-26', 'nd_mean_2021-04-28',\n",
              "       'nd_mean_2021-05-02', 'nd_mean_2021-05-04', 'nd_mean_2021-05-07',\n",
              "       'nd_mean_2021-05-16', 'nd_mean_2021-05-17', 'nd_mean_2021-05-21',\n",
              "       'nd_mean_2021-05-26', 'nd_mean_2021-05-27', 'nd_mean_2021-05-29',\n",
              "       'nd_mean_2021-06-06', 'nd_mean_2021-06-09', 'nd_mean_2021-06-13',\n",
              "       'nd_mean_2021-06-16', 'nd_mean_2021-06-18', 'nd_mean_2021-06-19',\n",
              "       'nd_mean_2021-06-20', 'nd_mean_2021-06-22', 'nd_mean_2021-06-25',\n",
              "       'nd_mean_2021-06-27', 'nd_mean_2021-07-07', 'nd_mean_2021-07-08',\n",
              "       'nd_mean_2021-07-09', 'nd_mean_2021-07-13', 'nd_mean_2021-07-15',\n",
              "       'nd_mean_2021-07-17', 'nd_mean_2021-07-20', 'nd_mean_2021-07-26',\n",
              "       'nd_mean_2021-07-27', 'nd_mean_2021-07-29', 'nd_mean_2021-07-31',\n",
              "       'nd_mean_2021-08-07', 'nd_mean_2021-08-12', '.geo',\n",
              "       'nd_mean_2021-04-15', 'nd_mean_2021-04-18', 'nd_mean_2021-04-25',\n",
              "       'nd_mean_2021-04-27', 'nd_mean_2021-04-29', 'nd_mean_2021-04-30',\n",
              "       'nd_mean_2021-06-07', 'nd_mean_2021-06-12', 'nd_mean_2021-06-28',\n",
              "       'nd_mean_2021-08-01', 'nd_mean_2021-08-11', 'nd_mean_2021-05-01',\n",
              "       'nd_mean_2021-05-03', 'nd_mean_2021-05-10', 'nd_mean_2021-05-15',\n",
              "       'nd_mean_2021-06-02', 'nd_mean_2021-06-03', 'nd_mean_2021-07-04',\n",
              "       'nd_mean_2021-08-10', 'nd_mean_2021-08-23', 'nd_mean_2021-04-20',\n",
              "       'nd_mean_2021-04-23', 'nd_mean_2021-05-09', 'nd_mean_2021-05-19',\n",
              "       'nd_mean_2021-05-20', 'nd_mean_2021-06-04', 'nd_mean_2021-06-05',\n",
              "       'nd_mean_2021-06-10', 'nd_mean_2021-07-05', 'nd_mean_2021-08-13',\n",
              "       'nd_mean_2021-08-27', 'nd_mean_2021-05-08', 'nd_mean_2021-05-24',\n",
              "       'crop', 'temp', 'X', 'Y'],\n",
              "      dtype='object')"
            ]
          },
          "metadata": {},
          "execution_count": 26
        }
      ]
    },
    {
      "cell_type": "code",
      "source": [
        "from catboost import CatBoostClassifier"
      ],
      "metadata": {
        "id": "dFnlJxV_PumU"
      },
      "execution_count": null,
      "outputs": []
    },
    {
      "cell_type": "code",
      "source": [
        "cat = CatBoostClassifier()"
      ],
      "metadata": {
        "id": "2eDa6YvCRKn0"
      },
      "execution_count": null,
      "outputs": []
    },
    {
      "cell_type": "code",
      "source": [
        "x_train"
      ],
      "metadata": {
        "colab": {
          "base_uri": "https://localhost:8080/",
          "height": 505
        },
        "id": "ZRMXovrgxntX",
        "outputId": "415cd934-bffd-4820-d2c1-728722ce708b"
      },
      "execution_count": null,
      "outputs": [
        {
          "output_type": "execute_result",
          "data": {
            "text/plain": [
              "       area  nd_mean_2021-04-16  nd_mean_2021-04-19  nd_mean_2021-04-22  \\\n",
              "0      20.0            0.072846            0.261778            0.062981   \n",
              "1      45.0            0.332928            0.287182            0.097138   \n",
              "2      28.0            0.013679            0.007055            0.120804   \n",
              "3      19.0            0.105976            0.052500            0.001917   \n",
              "4      33.0            0.130885            0.063492            0.024416   \n",
              "...     ...                 ...                 ...                 ...   \n",
              "4825   74.0            0.028770            0.038282            0.255329   \n",
              "4826  109.0            0.035939            0.030722            0.033869   \n",
              "4827   58.0            0.191255            0.063581            0.140111   \n",
              "4828   14.0            0.291399            0.221428            0.007247   \n",
              "4829   75.0            0.226925            0.043076            0.058611   \n",
              "\n",
              "      nd_mean_2021-04-26  nd_mean_2021-04-28  nd_mean_2021-05-02  \\\n",
              "0               0.104442            0.021096            0.052202   \n",
              "1               0.152467            0.075484            0.177430   \n",
              "2               0.037839            0.259125            0.103707   \n",
              "3               0.011531            0.042316            0.122321   \n",
              "4               0.080858            0.150671            0.046717   \n",
              "...                  ...                 ...                 ...   \n",
              "4825            0.148166            0.225421            0.479483   \n",
              "4826            0.029646            0.318387            0.247905   \n",
              "4827            0.323984            0.096556            0.005056   \n",
              "4828            0.055074            0.057781            0.187749   \n",
              "4829            0.440539            0.120169            0.138846   \n",
              "\n",
              "      nd_mean_2021-05-04  nd_mean_2021-05-07  nd_mean_2021-05-16  ...  \\\n",
              "0               0.158723            0.041219            0.484102  ...   \n",
              "1               0.140326            0.163340            0.519456  ...   \n",
              "2               0.037446            0.506516            0.353498  ...   \n",
              "3               0.081126            0.043604            0.510271  ...   \n",
              "4               0.254284            0.101479            0.439214  ...   \n",
              "...                  ...                 ...                 ...  ...   \n",
              "4825            0.071684            0.016856            0.407955  ...   \n",
              "4826            0.265180            0.286298            0.578936  ...   \n",
              "4827            0.092693            0.399439            0.006256  ...   \n",
              "4828            0.112403            0.183555            0.504538  ...   \n",
              "4829            0.020173            0.117669            0.266987  ...   \n",
              "\n",
              "      nd_mean_2021-06-05  nd_mean_2021-06-10  nd_mean_2021-07-05  \\\n",
              "0               0.124326            0.125313            0.026784   \n",
              "1               0.200065            0.287425            0.111148   \n",
              "2               0.210496            0.130467            0.155225   \n",
              "3               0.132886            0.086913            0.570928   \n",
              "4               0.152003            0.073357            0.147842   \n",
              "...                  ...                 ...                 ...   \n",
              "4825            0.066882            0.139222            0.009041   \n",
              "4826            0.131357            0.067455            0.187236   \n",
              "4827            0.142930            0.101047            0.047572   \n",
              "4828            0.085861            0.631304            0.694524   \n",
              "4829            0.136837            0.010312            0.227649   \n",
              "\n",
              "      nd_mean_2021-08-13  nd_mean_2021-08-27  nd_mean_2021-05-08  \\\n",
              "0               0.126832            0.614770            0.008857   \n",
              "1               0.174914            0.179612            0.113071   \n",
              "2               0.090607            0.054127            0.007437   \n",
              "3               0.073492            0.378900            0.327677   \n",
              "4               0.157676            0.012048            0.054223   \n",
              "...                  ...                 ...                 ...   \n",
              "4825            0.042483            0.022464            0.017705   \n",
              "4826            0.055721            0.044182            0.048316   \n",
              "4827            0.007225            0.145505            0.051215   \n",
              "4828            0.031836            0.453151            0.045079   \n",
              "4829            0.098439            0.096585            0.164260   \n",
              "\n",
              "      nd_mean_2021-05-24     temp          X          Y  \n",
              "0               0.081498  0.01316  42.500303  51.412815  \n",
              "1               0.046997  0.04873  50.265608  56.606045  \n",
              "2               0.219614  0.00725  38.003231  53.837187  \n",
              "3               0.586523  0.00584  44.727709  55.935536  \n",
              "4               0.017539  0.01206  34.783534  52.907252  \n",
              "...                  ...      ...        ...        ...  \n",
              "4825            0.148440  0.01893  40.906039  50.899595  \n",
              "4826            0.041440  0.03354  40.013739  51.804439  \n",
              "4827            0.079730  0.01680  38.584332  53.193459  \n",
              "4828            0.006495  0.00477  53.319120  55.183574  \n",
              "4829            0.011459  0.02075  38.801397  52.727377  \n",
              "\n",
              "[4830 rows x 74 columns]"
            ],
            "text/html": [
              "\n",
              "  <div id=\"df-311b4356-9742-47ca-86e5-44778ae44186\">\n",
              "    <div class=\"colab-df-container\">\n",
              "      <div>\n",
              "<style scoped>\n",
              "    .dataframe tbody tr th:only-of-type {\n",
              "        vertical-align: middle;\n",
              "    }\n",
              "\n",
              "    .dataframe tbody tr th {\n",
              "        vertical-align: top;\n",
              "    }\n",
              "\n",
              "    .dataframe thead th {\n",
              "        text-align: right;\n",
              "    }\n",
              "</style>\n",
              "<table border=\"1\" class=\"dataframe\">\n",
              "  <thead>\n",
              "    <tr style=\"text-align: right;\">\n",
              "      <th></th>\n",
              "      <th>area</th>\n",
              "      <th>nd_mean_2021-04-16</th>\n",
              "      <th>nd_mean_2021-04-19</th>\n",
              "      <th>nd_mean_2021-04-22</th>\n",
              "      <th>nd_mean_2021-04-26</th>\n",
              "      <th>nd_mean_2021-04-28</th>\n",
              "      <th>nd_mean_2021-05-02</th>\n",
              "      <th>nd_mean_2021-05-04</th>\n",
              "      <th>nd_mean_2021-05-07</th>\n",
              "      <th>nd_mean_2021-05-16</th>\n",
              "      <th>...</th>\n",
              "      <th>nd_mean_2021-06-05</th>\n",
              "      <th>nd_mean_2021-06-10</th>\n",
              "      <th>nd_mean_2021-07-05</th>\n",
              "      <th>nd_mean_2021-08-13</th>\n",
              "      <th>nd_mean_2021-08-27</th>\n",
              "      <th>nd_mean_2021-05-08</th>\n",
              "      <th>nd_mean_2021-05-24</th>\n",
              "      <th>temp</th>\n",
              "      <th>X</th>\n",
              "      <th>Y</th>\n",
              "    </tr>\n",
              "  </thead>\n",
              "  <tbody>\n",
              "    <tr>\n",
              "      <th>0</th>\n",
              "      <td>20.0</td>\n",
              "      <td>0.072846</td>\n",
              "      <td>0.261778</td>\n",
              "      <td>0.062981</td>\n",
              "      <td>0.104442</td>\n",
              "      <td>0.021096</td>\n",
              "      <td>0.052202</td>\n",
              "      <td>0.158723</td>\n",
              "      <td>0.041219</td>\n",
              "      <td>0.484102</td>\n",
              "      <td>...</td>\n",
              "      <td>0.124326</td>\n",
              "      <td>0.125313</td>\n",
              "      <td>0.026784</td>\n",
              "      <td>0.126832</td>\n",
              "      <td>0.614770</td>\n",
              "      <td>0.008857</td>\n",
              "      <td>0.081498</td>\n",
              "      <td>0.01316</td>\n",
              "      <td>42.500303</td>\n",
              "      <td>51.412815</td>\n",
              "    </tr>\n",
              "    <tr>\n",
              "      <th>1</th>\n",
              "      <td>45.0</td>\n",
              "      <td>0.332928</td>\n",
              "      <td>0.287182</td>\n",
              "      <td>0.097138</td>\n",
              "      <td>0.152467</td>\n",
              "      <td>0.075484</td>\n",
              "      <td>0.177430</td>\n",
              "      <td>0.140326</td>\n",
              "      <td>0.163340</td>\n",
              "      <td>0.519456</td>\n",
              "      <td>...</td>\n",
              "      <td>0.200065</td>\n",
              "      <td>0.287425</td>\n",
              "      <td>0.111148</td>\n",
              "      <td>0.174914</td>\n",
              "      <td>0.179612</td>\n",
              "      <td>0.113071</td>\n",
              "      <td>0.046997</td>\n",
              "      <td>0.04873</td>\n",
              "      <td>50.265608</td>\n",
              "      <td>56.606045</td>\n",
              "    </tr>\n",
              "    <tr>\n",
              "      <th>2</th>\n",
              "      <td>28.0</td>\n",
              "      <td>0.013679</td>\n",
              "      <td>0.007055</td>\n",
              "      <td>0.120804</td>\n",
              "      <td>0.037839</td>\n",
              "      <td>0.259125</td>\n",
              "      <td>0.103707</td>\n",
              "      <td>0.037446</td>\n",
              "      <td>0.506516</td>\n",
              "      <td>0.353498</td>\n",
              "      <td>...</td>\n",
              "      <td>0.210496</td>\n",
              "      <td>0.130467</td>\n",
              "      <td>0.155225</td>\n",
              "      <td>0.090607</td>\n",
              "      <td>0.054127</td>\n",
              "      <td>0.007437</td>\n",
              "      <td>0.219614</td>\n",
              "      <td>0.00725</td>\n",
              "      <td>38.003231</td>\n",
              "      <td>53.837187</td>\n",
              "    </tr>\n",
              "    <tr>\n",
              "      <th>3</th>\n",
              "      <td>19.0</td>\n",
              "      <td>0.105976</td>\n",
              "      <td>0.052500</td>\n",
              "      <td>0.001917</td>\n",
              "      <td>0.011531</td>\n",
              "      <td>0.042316</td>\n",
              "      <td>0.122321</td>\n",
              "      <td>0.081126</td>\n",
              "      <td>0.043604</td>\n",
              "      <td>0.510271</td>\n",
              "      <td>...</td>\n",
              "      <td>0.132886</td>\n",
              "      <td>0.086913</td>\n",
              "      <td>0.570928</td>\n",
              "      <td>0.073492</td>\n",
              "      <td>0.378900</td>\n",
              "      <td>0.327677</td>\n",
              "      <td>0.586523</td>\n",
              "      <td>0.00584</td>\n",
              "      <td>44.727709</td>\n",
              "      <td>55.935536</td>\n",
              "    </tr>\n",
              "    <tr>\n",
              "      <th>4</th>\n",
              "      <td>33.0</td>\n",
              "      <td>0.130885</td>\n",
              "      <td>0.063492</td>\n",
              "      <td>0.024416</td>\n",
              "      <td>0.080858</td>\n",
              "      <td>0.150671</td>\n",
              "      <td>0.046717</td>\n",
              "      <td>0.254284</td>\n",
              "      <td>0.101479</td>\n",
              "      <td>0.439214</td>\n",
              "      <td>...</td>\n",
              "      <td>0.152003</td>\n",
              "      <td>0.073357</td>\n",
              "      <td>0.147842</td>\n",
              "      <td>0.157676</td>\n",
              "      <td>0.012048</td>\n",
              "      <td>0.054223</td>\n",
              "      <td>0.017539</td>\n",
              "      <td>0.01206</td>\n",
              "      <td>34.783534</td>\n",
              "      <td>52.907252</td>\n",
              "    </tr>\n",
              "    <tr>\n",
              "      <th>...</th>\n",
              "      <td>...</td>\n",
              "      <td>...</td>\n",
              "      <td>...</td>\n",
              "      <td>...</td>\n",
              "      <td>...</td>\n",
              "      <td>...</td>\n",
              "      <td>...</td>\n",
              "      <td>...</td>\n",
              "      <td>...</td>\n",
              "      <td>...</td>\n",
              "      <td>...</td>\n",
              "      <td>...</td>\n",
              "      <td>...</td>\n",
              "      <td>...</td>\n",
              "      <td>...</td>\n",
              "      <td>...</td>\n",
              "      <td>...</td>\n",
              "      <td>...</td>\n",
              "      <td>...</td>\n",
              "      <td>...</td>\n",
              "      <td>...</td>\n",
              "    </tr>\n",
              "    <tr>\n",
              "      <th>4825</th>\n",
              "      <td>74.0</td>\n",
              "      <td>0.028770</td>\n",
              "      <td>0.038282</td>\n",
              "      <td>0.255329</td>\n",
              "      <td>0.148166</td>\n",
              "      <td>0.225421</td>\n",
              "      <td>0.479483</td>\n",
              "      <td>0.071684</td>\n",
              "      <td>0.016856</td>\n",
              "      <td>0.407955</td>\n",
              "      <td>...</td>\n",
              "      <td>0.066882</td>\n",
              "      <td>0.139222</td>\n",
              "      <td>0.009041</td>\n",
              "      <td>0.042483</td>\n",
              "      <td>0.022464</td>\n",
              "      <td>0.017705</td>\n",
              "      <td>0.148440</td>\n",
              "      <td>0.01893</td>\n",
              "      <td>40.906039</td>\n",
              "      <td>50.899595</td>\n",
              "    </tr>\n",
              "    <tr>\n",
              "      <th>4826</th>\n",
              "      <td>109.0</td>\n",
              "      <td>0.035939</td>\n",
              "      <td>0.030722</td>\n",
              "      <td>0.033869</td>\n",
              "      <td>0.029646</td>\n",
              "      <td>0.318387</td>\n",
              "      <td>0.247905</td>\n",
              "      <td>0.265180</td>\n",
              "      <td>0.286298</td>\n",
              "      <td>0.578936</td>\n",
              "      <td>...</td>\n",
              "      <td>0.131357</td>\n",
              "      <td>0.067455</td>\n",
              "      <td>0.187236</td>\n",
              "      <td>0.055721</td>\n",
              "      <td>0.044182</td>\n",
              "      <td>0.048316</td>\n",
              "      <td>0.041440</td>\n",
              "      <td>0.03354</td>\n",
              "      <td>40.013739</td>\n",
              "      <td>51.804439</td>\n",
              "    </tr>\n",
              "    <tr>\n",
              "      <th>4827</th>\n",
              "      <td>58.0</td>\n",
              "      <td>0.191255</td>\n",
              "      <td>0.063581</td>\n",
              "      <td>0.140111</td>\n",
              "      <td>0.323984</td>\n",
              "      <td>0.096556</td>\n",
              "      <td>0.005056</td>\n",
              "      <td>0.092693</td>\n",
              "      <td>0.399439</td>\n",
              "      <td>0.006256</td>\n",
              "      <td>...</td>\n",
              "      <td>0.142930</td>\n",
              "      <td>0.101047</td>\n",
              "      <td>0.047572</td>\n",
              "      <td>0.007225</td>\n",
              "      <td>0.145505</td>\n",
              "      <td>0.051215</td>\n",
              "      <td>0.079730</td>\n",
              "      <td>0.01680</td>\n",
              "      <td>38.584332</td>\n",
              "      <td>53.193459</td>\n",
              "    </tr>\n",
              "    <tr>\n",
              "      <th>4828</th>\n",
              "      <td>14.0</td>\n",
              "      <td>0.291399</td>\n",
              "      <td>0.221428</td>\n",
              "      <td>0.007247</td>\n",
              "      <td>0.055074</td>\n",
              "      <td>0.057781</td>\n",
              "      <td>0.187749</td>\n",
              "      <td>0.112403</td>\n",
              "      <td>0.183555</td>\n",
              "      <td>0.504538</td>\n",
              "      <td>...</td>\n",
              "      <td>0.085861</td>\n",
              "      <td>0.631304</td>\n",
              "      <td>0.694524</td>\n",
              "      <td>0.031836</td>\n",
              "      <td>0.453151</td>\n",
              "      <td>0.045079</td>\n",
              "      <td>0.006495</td>\n",
              "      <td>0.00477</td>\n",
              "      <td>53.319120</td>\n",
              "      <td>55.183574</td>\n",
              "    </tr>\n",
              "    <tr>\n",
              "      <th>4829</th>\n",
              "      <td>75.0</td>\n",
              "      <td>0.226925</td>\n",
              "      <td>0.043076</td>\n",
              "      <td>0.058611</td>\n",
              "      <td>0.440539</td>\n",
              "      <td>0.120169</td>\n",
              "      <td>0.138846</td>\n",
              "      <td>0.020173</td>\n",
              "      <td>0.117669</td>\n",
              "      <td>0.266987</td>\n",
              "      <td>...</td>\n",
              "      <td>0.136837</td>\n",
              "      <td>0.010312</td>\n",
              "      <td>0.227649</td>\n",
              "      <td>0.098439</td>\n",
              "      <td>0.096585</td>\n",
              "      <td>0.164260</td>\n",
              "      <td>0.011459</td>\n",
              "      <td>0.02075</td>\n",
              "      <td>38.801397</td>\n",
              "      <td>52.727377</td>\n",
              "    </tr>\n",
              "  </tbody>\n",
              "</table>\n",
              "<p>4830 rows × 74 columns</p>\n",
              "</div>\n",
              "      <button class=\"colab-df-convert\" onclick=\"convertToInteractive('df-311b4356-9742-47ca-86e5-44778ae44186')\"\n",
              "              title=\"Convert this dataframe to an interactive table.\"\n",
              "              style=\"display:none;\">\n",
              "        \n",
              "  <svg xmlns=\"http://www.w3.org/2000/svg\" height=\"24px\"viewBox=\"0 0 24 24\"\n",
              "       width=\"24px\">\n",
              "    <path d=\"M0 0h24v24H0V0z\" fill=\"none\"/>\n",
              "    <path d=\"M18.56 5.44l.94 2.06.94-2.06 2.06-.94-2.06-.94-.94-2.06-.94 2.06-2.06.94zm-11 1L8.5 8.5l.94-2.06 2.06-.94-2.06-.94L8.5 2.5l-.94 2.06-2.06.94zm10 10l.94 2.06.94-2.06 2.06-.94-2.06-.94-.94-2.06-.94 2.06-2.06.94z\"/><path d=\"M17.41 7.96l-1.37-1.37c-.4-.4-.92-.59-1.43-.59-.52 0-1.04.2-1.43.59L10.3 9.45l-7.72 7.72c-.78.78-.78 2.05 0 2.83L4 21.41c.39.39.9.59 1.41.59.51 0 1.02-.2 1.41-.59l7.78-7.78 2.81-2.81c.8-.78.8-2.07 0-2.86zM5.41 20L4 18.59l7.72-7.72 1.47 1.35L5.41 20z\"/>\n",
              "  </svg>\n",
              "      </button>\n",
              "      \n",
              "  <style>\n",
              "    .colab-df-container {\n",
              "      display:flex;\n",
              "      flex-wrap:wrap;\n",
              "      gap: 12px;\n",
              "    }\n",
              "\n",
              "    .colab-df-convert {\n",
              "      background-color: #E8F0FE;\n",
              "      border: none;\n",
              "      border-radius: 50%;\n",
              "      cursor: pointer;\n",
              "      display: none;\n",
              "      fill: #1967D2;\n",
              "      height: 32px;\n",
              "      padding: 0 0 0 0;\n",
              "      width: 32px;\n",
              "    }\n",
              "\n",
              "    .colab-df-convert:hover {\n",
              "      background-color: #E2EBFA;\n",
              "      box-shadow: 0px 1px 2px rgba(60, 64, 67, 0.3), 0px 1px 3px 1px rgba(60, 64, 67, 0.15);\n",
              "      fill: #174EA6;\n",
              "    }\n",
              "\n",
              "    [theme=dark] .colab-df-convert {\n",
              "      background-color: #3B4455;\n",
              "      fill: #D2E3FC;\n",
              "    }\n",
              "\n",
              "    [theme=dark] .colab-df-convert:hover {\n",
              "      background-color: #434B5C;\n",
              "      box-shadow: 0px 1px 3px 1px rgba(0, 0, 0, 0.15);\n",
              "      filter: drop-shadow(0px 1px 2px rgba(0, 0, 0, 0.3));\n",
              "      fill: #FFFFFF;\n",
              "    }\n",
              "  </style>\n",
              "\n",
              "      <script>\n",
              "        const buttonEl =\n",
              "          document.querySelector('#df-311b4356-9742-47ca-86e5-44778ae44186 button.colab-df-convert');\n",
              "        buttonEl.style.display =\n",
              "          google.colab.kernel.accessAllowed ? 'block' : 'none';\n",
              "\n",
              "        async function convertToInteractive(key) {\n",
              "          const element = document.querySelector('#df-311b4356-9742-47ca-86e5-44778ae44186');\n",
              "          const dataTable =\n",
              "            await google.colab.kernel.invokeFunction('convertToInteractive',\n",
              "                                                     [key], {});\n",
              "          if (!dataTable) return;\n",
              "\n",
              "          const docLinkHtml = 'Like what you see? Visit the ' +\n",
              "            '<a target=\"_blank\" href=https://colab.research.google.com/notebooks/data_table.ipynb>data table notebook</a>'\n",
              "            + ' to learn more about interactive tables.';\n",
              "          element.innerHTML = '';\n",
              "          dataTable['output_type'] = 'display_data';\n",
              "          await google.colab.output.renderOutput(dataTable, element);\n",
              "          const docLink = document.createElement('div');\n",
              "          docLink.innerHTML = docLinkHtml;\n",
              "          element.appendChild(docLink);\n",
              "        }\n",
              "      </script>\n",
              "    </div>\n",
              "  </div>\n",
              "  "
            ]
          },
          "metadata": {},
          "execution_count": 85
        }
      ]
    },
    {
      "cell_type": "code",
      "source": [
        "y_train = df_train['crop']"
      ],
      "metadata": {
        "id": "63lZeqzPxuqv"
      },
      "execution_count": null,
      "outputs": []
    },
    {
      "cell_type": "code",
      "source": [
        "##############"
      ],
      "metadata": {
        "id": "Y5Kydx_hyRdv"
      },
      "execution_count": null,
      "outputs": []
    },
    {
      "cell_type": "code",
      "source": [
        "df_train_new = pd.read_csv(path1)"
      ],
      "metadata": {
        "id": "qTNx70LpyXRn"
      },
      "execution_count": null,
      "outputs": []
    },
    {
      "cell_type": "code",
      "source": [
        "y_train = df_train_new['crop']"
      ],
      "metadata": {
        "id": "GI6wWcpwyZR_"
      },
      "execution_count": null,
      "outputs": []
    },
    {
      "cell_type": "code",
      "source": [
        "y_train"
      ],
      "metadata": {
        "colab": {
          "base_uri": "https://localhost:8080/"
        },
        "id": "OUrlHTvQyLNI",
        "outputId": "fa03f562-baac-4b94-f3ec-afb6b72fbe5d"
      },
      "execution_count": null,
      "outputs": [
        {
          "output_type": "execute_result",
          "data": {
            "text/plain": [
              "0       3.0\n",
              "1       4.0\n",
              "2       2.0\n",
              "3       5.0\n",
              "4       4.0\n",
              "       ... \n",
              "4825    6.0\n",
              "4826    6.0\n",
              "4827    6.0\n",
              "4828    5.0\n",
              "4829    6.0\n",
              "Name: crop, Length: 4830, dtype: float64"
            ]
          },
          "metadata": {},
          "execution_count": 93
        }
      ]
    },
    {
      "cell_type": "code",
      "source": [
        "y_train.isna().sum()"
      ],
      "metadata": {
        "colab": {
          "base_uri": "https://localhost:8080/"
        },
        "id": "HXZzBQQOyF1Y",
        "outputId": "4db0d73e-d924-49ac-d12c-98102e33f1b7"
      },
      "execution_count": null,
      "outputs": [
        {
          "output_type": "execute_result",
          "data": {
            "text/plain": [
              "0"
            ]
          },
          "metadata": {},
          "execution_count": 96
        }
      ]
    },
    {
      "cell_type": "code",
      "source": [
        "cat.fit(x_train,y_train,verbose=False, plot=True)"
      ],
      "metadata": {
        "colab": {
          "base_uri": "https://localhost:8080/",
          "height": 34,
          "referenced_widgets": [
            "1494072425a54aa1938b0e7562e53f8c"
          ]
        },
        "id": "E4209UGGRH9k",
        "outputId": "192b5614-9a60-4977-abd5-51d7e317541c"
      },
      "execution_count": null,
      "outputs": [
        {
          "output_type": "display_data",
          "data": {
            "text/plain": [
              "MetricVisualizer(layout=Layout(align_self='stretch', height='500px'))"
            ],
            "application/vnd.jupyter.widget-view+json": {
              "version_major": 2,
              "version_minor": 0,
              "model_id": "1494072425a54aa1938b0e7562e53f8c"
            }
          },
          "metadata": {}
        },
        {
          "output_type": "execute_result",
          "data": {
            "text/plain": [
              "<catboost.core.CatBoostClassifier at 0x7f15830fd3d0>"
            ]
          },
          "metadata": {},
          "execution_count": 97
        }
      ]
    },
    {
      "cell_type": "code",
      "source": [
        "pre21 =  np.reshape(pre21, 2071)"
      ],
      "metadata": {
        "id": "B1zYxViAsh_o"
      },
      "execution_count": null,
      "outputs": []
    },
    {
      "cell_type": "code",
      "source": [
        "pre21 == pre2"
      ],
      "metadata": {
        "colab": {
          "base_uri": "https://localhost:8080/"
        },
        "id": "Go4fiaqCuHBx",
        "outputId": "831f6a97-b813-4b2b-9f54-358fa00228cc"
      },
      "execution_count": null,
      "outputs": [
        {
          "output_type": "execute_result",
          "data": {
            "text/plain": [
              "array([ True,  True,  True, ...,  True,  True,  True])"
            ]
          },
          "metadata": {},
          "execution_count": 117
        }
      ]
    },
    {
      "cell_type": "code",
      "source": [
        "pre3321 = cat.predict(x_test)\n",
        "sub1 = pd.DataFrame({'id': y_test, 'crop': pre21})\n",
        "sub1.to_csv('result3e_crop54.csv', index=False)\n",
        "sub1"
      ],
      "metadata": {
        "colab": {
          "base_uri": "https://localhost:8080/",
          "height": 424
        },
        "id": "saoaOAk7RXrE",
        "outputId": "dd12390f-8ef8-41fd-fb6a-deddfd9be3ed"
      },
      "execution_count": null,
      "outputs": [
        {
          "output_type": "execute_result",
          "data": {
            "text/plain": [
              "        id  crop\n",
              "0      611     3\n",
              "1     6417     2\n",
              "2     3352     3\n",
              "3     4224     1\n",
              "4     3102     6\n",
              "...    ...   ...\n",
              "2066  1743     5\n",
              "2067  3968     3\n",
              "2068  3809     2\n",
              "2069  5485     6\n",
              "2070  5899     0\n",
              "\n",
              "[2071 rows x 2 columns]"
            ],
            "text/html": [
              "\n",
              "  <div id=\"df-7c241f8a-01d9-4488-ad5c-b49f4b0f3559\">\n",
              "    <div class=\"colab-df-container\">\n",
              "      <div>\n",
              "<style scoped>\n",
              "    .dataframe tbody tr th:only-of-type {\n",
              "        vertical-align: middle;\n",
              "    }\n",
              "\n",
              "    .dataframe tbody tr th {\n",
              "        vertical-align: top;\n",
              "    }\n",
              "\n",
              "    .dataframe thead th {\n",
              "        text-align: right;\n",
              "    }\n",
              "</style>\n",
              "<table border=\"1\" class=\"dataframe\">\n",
              "  <thead>\n",
              "    <tr style=\"text-align: right;\">\n",
              "      <th></th>\n",
              "      <th>id</th>\n",
              "      <th>crop</th>\n",
              "    </tr>\n",
              "  </thead>\n",
              "  <tbody>\n",
              "    <tr>\n",
              "      <th>0</th>\n",
              "      <td>611</td>\n",
              "      <td>3</td>\n",
              "    </tr>\n",
              "    <tr>\n",
              "      <th>1</th>\n",
              "      <td>6417</td>\n",
              "      <td>2</td>\n",
              "    </tr>\n",
              "    <tr>\n",
              "      <th>2</th>\n",
              "      <td>3352</td>\n",
              "      <td>3</td>\n",
              "    </tr>\n",
              "    <tr>\n",
              "      <th>3</th>\n",
              "      <td>4224</td>\n",
              "      <td>1</td>\n",
              "    </tr>\n",
              "    <tr>\n",
              "      <th>4</th>\n",
              "      <td>3102</td>\n",
              "      <td>6</td>\n",
              "    </tr>\n",
              "    <tr>\n",
              "      <th>...</th>\n",
              "      <td>...</td>\n",
              "      <td>...</td>\n",
              "    </tr>\n",
              "    <tr>\n",
              "      <th>2066</th>\n",
              "      <td>1743</td>\n",
              "      <td>5</td>\n",
              "    </tr>\n",
              "    <tr>\n",
              "      <th>2067</th>\n",
              "      <td>3968</td>\n",
              "      <td>3</td>\n",
              "    </tr>\n",
              "    <tr>\n",
              "      <th>2068</th>\n",
              "      <td>3809</td>\n",
              "      <td>2</td>\n",
              "    </tr>\n",
              "    <tr>\n",
              "      <th>2069</th>\n",
              "      <td>5485</td>\n",
              "      <td>6</td>\n",
              "    </tr>\n",
              "    <tr>\n",
              "      <th>2070</th>\n",
              "      <td>5899</td>\n",
              "      <td>0</td>\n",
              "    </tr>\n",
              "  </tbody>\n",
              "</table>\n",
              "<p>2071 rows × 2 columns</p>\n",
              "</div>\n",
              "      <button class=\"colab-df-convert\" onclick=\"convertToInteractive('df-7c241f8a-01d9-4488-ad5c-b49f4b0f3559')\"\n",
              "              title=\"Convert this dataframe to an interactive table.\"\n",
              "              style=\"display:none;\">\n",
              "        \n",
              "  <svg xmlns=\"http://www.w3.org/2000/svg\" height=\"24px\"viewBox=\"0 0 24 24\"\n",
              "       width=\"24px\">\n",
              "    <path d=\"M0 0h24v24H0V0z\" fill=\"none\"/>\n",
              "    <path d=\"M18.56 5.44l.94 2.06.94-2.06 2.06-.94-2.06-.94-.94-2.06-.94 2.06-2.06.94zm-11 1L8.5 8.5l.94-2.06 2.06-.94-2.06-.94L8.5 2.5l-.94 2.06-2.06.94zm10 10l.94 2.06.94-2.06 2.06-.94-2.06-.94-.94-2.06-.94 2.06-2.06.94z\"/><path d=\"M17.41 7.96l-1.37-1.37c-.4-.4-.92-.59-1.43-.59-.52 0-1.04.2-1.43.59L10.3 9.45l-7.72 7.72c-.78.78-.78 2.05 0 2.83L4 21.41c.39.39.9.59 1.41.59.51 0 1.02-.2 1.41-.59l7.78-7.78 2.81-2.81c.8-.78.8-2.07 0-2.86zM5.41 20L4 18.59l7.72-7.72 1.47 1.35L5.41 20z\"/>\n",
              "  </svg>\n",
              "      </button>\n",
              "      \n",
              "  <style>\n",
              "    .colab-df-container {\n",
              "      display:flex;\n",
              "      flex-wrap:wrap;\n",
              "      gap: 12px;\n",
              "    }\n",
              "\n",
              "    .colab-df-convert {\n",
              "      background-color: #E8F0FE;\n",
              "      border: none;\n",
              "      border-radius: 50%;\n",
              "      cursor: pointer;\n",
              "      display: none;\n",
              "      fill: #1967D2;\n",
              "      height: 32px;\n",
              "      padding: 0 0 0 0;\n",
              "      width: 32px;\n",
              "    }\n",
              "\n",
              "    .colab-df-convert:hover {\n",
              "      background-color: #E2EBFA;\n",
              "      box-shadow: 0px 1px 2px rgba(60, 64, 67, 0.3), 0px 1px 3px 1px rgba(60, 64, 67, 0.15);\n",
              "      fill: #174EA6;\n",
              "    }\n",
              "\n",
              "    [theme=dark] .colab-df-convert {\n",
              "      background-color: #3B4455;\n",
              "      fill: #D2E3FC;\n",
              "    }\n",
              "\n",
              "    [theme=dark] .colab-df-convert:hover {\n",
              "      background-color: #434B5C;\n",
              "      box-shadow: 0px 1px 3px 1px rgba(0, 0, 0, 0.15);\n",
              "      filter: drop-shadow(0px 1px 2px rgba(0, 0, 0, 0.3));\n",
              "      fill: #FFFFFF;\n",
              "    }\n",
              "  </style>\n",
              "\n",
              "      <script>\n",
              "        const buttonEl =\n",
              "          document.querySelector('#df-7c241f8a-01d9-4488-ad5c-b49f4b0f3559 button.colab-df-convert');\n",
              "        buttonEl.style.display =\n",
              "          google.colab.kernel.accessAllowed ? 'block' : 'none';\n",
              "\n",
              "        async function convertToInteractive(key) {\n",
              "          const element = document.querySelector('#df-7c241f8a-01d9-4488-ad5c-b49f4b0f3559');\n",
              "          const dataTable =\n",
              "            await google.colab.kernel.invokeFunction('convertToInteractive',\n",
              "                                                     [key], {});\n",
              "          if (!dataTable) return;\n",
              "\n",
              "          const docLinkHtml = 'Like what you see? Visit the ' +\n",
              "            '<a target=\"_blank\" href=https://colab.research.google.com/notebooks/data_table.ipynb>data table notebook</a>'\n",
              "            + ' to learn more about interactive tables.';\n",
              "          element.innerHTML = '';\n",
              "          dataTable['output_type'] = 'display_data';\n",
              "          await google.colab.output.renderOutput(dataTable, element);\n",
              "          const docLink = document.createElement('div');\n",
              "          docLink.innerHTML = docLinkHtml;\n",
              "          element.appendChild(docLink);\n",
              "        }\n",
              "      </script>\n",
              "    </div>\n",
              "  </div>\n",
              "  "
            ]
          },
          "metadata": {},
          "execution_count": 119
        }
      ]
    }
  ]
}